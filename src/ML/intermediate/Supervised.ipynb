{
 "cells": [
  {
   "cell_type": "markdown",
   "metadata": {},
   "source": [
    "### 의사결정나무 정리\n",
    "장점\n",
    "- 쉽고 해석 용이\n",
    "- 다중분류 회귀에 모두 적용 가능\n",
    "- 이상치 견고해 데이터 스케일링 불필요\n",
    "단점\n",
    "- 성장 많이하면 과대적합 오류\n",
    "- 훈련 데이터에 민감하게 반응해 작은 변화,노이즈에 나무 구조 크게 달라짐\n",
    "의사결정 나무는 나무가 성장을 많이 하면 과대적합. > 보완하기 위한 방법 있다."
   ]
  },
  {
   "cell_type": "code",
   "execution_count": null,
   "metadata": {},
   "outputs": [],
   "source": [
    "import pandas as pd\n",
    "import matplotlib.pyplot as plt\n",
    "from sklearn.preprocessing import LabelEncoder\n",
    "from sklearn.tree import DecisionTreeClassifier\n",
    "\n",
    "titanic_df = pd.read_csv('')"
   ]
  }
 ],
 "metadata": {
  "kernelspec": {
   "display_name": "leo4study",
   "language": "python",
   "name": "python3"
  },
  "language_info": {
   "name": "python",
   "version": "3.11.9"
  }
 },
 "nbformat": 4,
 "nbformat_minor": 2
}
