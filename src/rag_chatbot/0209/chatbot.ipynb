{
 "cells": [
  {
   "cell_type": "code",
   "execution_count": 9,
   "metadata": {},
   "outputs": [
    {
     "name": "stdout",
     "output_type": "stream",
     "text": [
      "* Running on local URL:  http://127.0.0.1:7861\n",
      "\n",
      "To create a public link, set `share=True` in `launch()`.\n"
     ]
    },
    {
     "data": {
      "text/html": [
       "<div><iframe src=\"http://127.0.0.1:7861/\" width=\"100%\" height=\"500\" allow=\"autoplay; camera; microphone; clipboard-read; clipboard-write;\" frameborder=\"0\" allowfullscreen></iframe></div>"
      ],
      "text/plain": [
       "<IPython.core.display.HTML object>"
      ]
     },
     "metadata": {},
     "output_type": "display_data"
    },
    {
     "data": {
      "text/plain": []
     },
     "execution_count": 9,
     "metadata": {},
     "output_type": "execute_result"
    },
    {
     "name": "stdout",
     "output_type": "stream",
     "text": [
      "Using existing dataset file at: .gradio/flagged/dataset1.csv\n"
     ]
    }
   ],
   "source": [
    "import gradio as gr\n",
    "import subprocess\n",
    "\n",
    "import gradio as gr\n",
    "import subprocess\n",
    "from graphrag.query.llm.oai.embedding import OpenAIEmbedding\n",
    "\n",
    "\n",
    "OpenAIEmbedding()\n",
    "\n",
    "\n",
    "def query_graphrag(input_text):\n",
    "    root_dir = \"./openaitest_0206\"\n",
    "    config_path = \"/Users/jun/GitStudy/Data_4/Data/project5/model/openaitest_0206/settings.yaml\"\n",
    "    data_path = \"/Users/jun/GitStudy/Data_4/Data/project5/model/openaitest_0206/output/20250206-001434/artifacts\"\n",
    "    \n",
    "    result = subprocess.run([\n",
    "        \"python\", \"-m\", \"graphrag.query\",\n",
    "        \"--root\", root_dir,\n",
    "        \"--config\", config_path,\n",
    "        \"--data\", data_path,\n",
    "        \"--response_type\", \"single paragraph\",\n",
    "        \"--method\", \"local\",\n",
    "        \"--\", input_text  # ✅ \"--\"를 추가하여 문자열 전체를 하나의 인자로 전달\n",
    "    ], capture_output=True, text=True)\n",
    "    \n",
    "    if result.returncode == 0:\n",
    "        return result.stdout\n",
    "    else:\n",
    "        return result.stderr\n",
    "\n",
    "# Gradio 인터페이스 생성\n",
    "gr.Interface(fn=query_graphrag, inputs=\"text\", outputs=\"text\").launch()"
   ]
  },
  {
   "cell_type": "code",
   "execution_count": null,
   "metadata": {},
   "outputs": [],
   "source": [
    "import gradio as gr\n",
    "from graphrag.query.cli import run_local_search  # 직접 import\n",
    "\n",
    "# query_graphrag 함수 수정\n",
    "def query_graphrag(input_text):\n",
    "    root_dir = \"./openaitest_0206\"\n",
    "    config_path = \"/Users/jun/GitStudy/Data_4/Data/project5/model/openaitest_0206/settings.yaml\"\n",
    "    data_path = \"/Users/jun/GitStudy/Data_4/Data/project5/model/openaitest_0206/output/20250206-001434/artifacts\"\n",
    "\n",
    "    # 직접 함수 호출\n",
    "    try:\n",
    "        result = run_local_search(\n",
    "            config_path,\n",
    "            data_path,\n",
    "            root_dir,\n",
    "            community_level=2,  # 기본값\n",
    "            response_type=\"single paragraph\",\n",
    "            query=input_text\n",
    "        )\n",
    "        return result  # 결과 반환\n",
    "    except Exception as e:\n",
    "        return str(e)  # 에러 메시지 반환\n",
    "\n",
    "# Gradio 인터페이스 생성\n",
    "gr.Interface(fn=query_graphrag, inputs=\"text\", outputs=\"text\").launch()"
   ]
  },
  {
   "cell_type": "code",
   "execution_count": 3,
   "metadata": {},
   "outputs": [
    {
     "name": "stdout",
     "output_type": "stream",
     "text": [
      "['context_builder', 'llm', 'indexer_adapters.py', 'input', '__init__.py', 'factories.py', '__pycache__', 'api.py', 'structured_search', 'cli.py', 'progress.py', 'question_gen', '__main__.py']\n"
     ]
    }
   ],
   "source": [
    "import os\n",
    "import graphrag.query\n",
    "\n",
    "query_path = os.path.dirname(graphrag.query.__file__)  # query 폴더 경로\n",
    "print(os.listdir(query_path))"
   ]
  },
  {
   "cell_type": "code",
   "execution_count": 8,
   "metadata": {},
   "outputs": [
    {
     "name": "stdout",
     "output_type": "stream",
     "text": [
      "/opt/homebrew/Caskroom/miniconda/base/envs/leo4study/lib/python3.11/site-packages/graphrag/query/__init__.py\n"
     ]
    }
   ],
   "source": [
    "import graphrag.query\n",
    "print(graphrag.query.__file__)"
   ]
  },
  {
   "cell_type": "code",
   "execution_count": 1,
   "metadata": {},
   "outputs": [
    {
     "data": {
      "text/plain": [
       "['create_base_extracted_entities.parquet',\n",
       " 'create_final_text_units.parquet',\n",
       " 'join_text_units_to_entity_ids.parquet',\n",
       " 'join_text_units_to_relationship_ids.parquet',\n",
       " 'create_base_documents.parquet',\n",
       " 'create_summarized_entities.parquet',\n",
       " 'create_final_nodes.parquet',\n",
       " 'create_final_entities.parquet',\n",
       " 'create_final_relationships.parquet',\n",
       " 'create_base_entity_graph.parquet',\n",
       " 'create_final_documents.parquet',\n",
       " 'create_final_communities.parquet',\n",
       " 'stats.json',\n",
       " 'create_final_community_reports.parquet',\n",
       " 'create_base_text_units.parquet']"
      ]
     },
     "execution_count": 1,
     "metadata": {},
     "output_type": "execute_result"
    }
   ],
   "source": [
    "import os\n",
    "path = \"/Users/jun/GitStudy/Data_4/src/rag_chatbot/0209/openaitest_0206/output/20250205-161523/artifacts\"\n",
    "os.chdir(path)\n",
    "os.listdir()"
   ]
  },
  {
   "cell_type": "code",
   "execution_count": null,
   "metadata": {},
   "outputs": [],
   "source": []
  }
 ],
 "metadata": {
  "kernelspec": {
   "display_name": "leo4study",
   "language": "python",
   "name": "python3"
  },
  "language_info": {
   "codemirror_mode": {
    "name": "ipython",
    "version": 3
   },
   "file_extension": ".py",
   "mimetype": "text/x-python",
   "name": "python",
   "nbconvert_exporter": "python",
   "pygments_lexer": "ipython3",
   "version": "3.11.9"
  }
 },
 "nbformat": 4,
 "nbformat_minor": 2
}
