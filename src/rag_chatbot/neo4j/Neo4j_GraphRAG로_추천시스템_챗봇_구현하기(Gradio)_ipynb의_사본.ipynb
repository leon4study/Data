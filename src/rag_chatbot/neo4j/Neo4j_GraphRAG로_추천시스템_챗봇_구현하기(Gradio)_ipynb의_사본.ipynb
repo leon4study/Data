{
  "nbformat": 4,
  "nbformat_minor": 0,
  "metadata": {
    "colab": {
      "provenance": [],
      "collapsed_sections": [
        "9_0oQo-APS7f",
        "le_Pfi0pPVjj",
        "EG8yJzIFbQf3"
      ]
    },
    "kernelspec": {
      "name": "python3",
      "display_name": "Python 3"
    },
    "language_info": {
      "name": "python"
    }
  },
  "cells": [
    {
      "cell_type": "markdown",
      "source": [
        "## 0. 환경 설정"
      ],
      "metadata": {
        "id": "13RfDLhyPNkX"
      }
    },
    {
      "cell_type": "code",
      "source": [
        "!pip install neo4j-graphrag neo4j openai"
      ],
      "metadata": {
        "colab": {
          "base_uri": "https://localhost:8080/"
        },
        "collapsed": true,
        "id": "Db2sh3701xu-",
        "outputId": "a078519c-8d64-481a-b2b5-766766ae91fa"
      },
      "execution_count": null,
      "outputs": [
        {
          "output_type": "stream",
          "name": "stdout",
          "text": [
            "Collecting neo4j-genai\n",
            "  Downloading neo4j_genai-0.6.0-py3-none-any.whl.metadata (9.6 kB)\n",
            "Collecting neo4j\n",
            "  Downloading neo4j-5.25.0-py3-none-any.whl.metadata (5.7 kB)\n",
            "Collecting openai\n",
            "  Downloading openai-1.50.2-py3-none-any.whl.metadata (24 kB)\n",
            "Requirement already satisfied: eval-type-backport<0.3.0,>=0.2.0 in /usr/local/lib/python3.10/dist-packages (from neo4j-genai) (0.2.0)\n",
            "Requirement already satisfied: pydantic<3.0.0,>=2.6.3 in /usr/local/lib/python3.10/dist-packages (from neo4j-genai) (2.9.2)\n",
            "Collecting pypdf<5.0.0,>=4.3.1 (from neo4j-genai)\n",
            "  Downloading pypdf-4.3.1-py3-none-any.whl.metadata (7.4 kB)\n",
            "Collecting types-mock<6.0.0.0,>=5.1.0.20240425 (from neo4j-genai)\n",
            "  Downloading types_mock-5.1.0.20240425-py3-none-any.whl.metadata (1.5 kB)\n",
            "Collecting types-requests<3.0.0.0,>=2.31.0.20240218 (from neo4j-genai)\n",
            "  Downloading types_requests-2.32.0.20240914-py3-none-any.whl.metadata (1.9 kB)\n",
            "Requirement already satisfied: pytz in /usr/local/lib/python3.10/dist-packages (from neo4j) (2024.2)\n",
            "Requirement already satisfied: anyio<5,>=3.5.0 in /usr/local/lib/python3.10/dist-packages (from openai) (3.7.1)\n",
            "Requirement already satisfied: distro<2,>=1.7.0 in /usr/lib/python3/dist-packages (from openai) (1.7.0)\n",
            "Collecting httpx<1,>=0.23.0 (from openai)\n",
            "  Downloading httpx-0.27.2-py3-none-any.whl.metadata (7.1 kB)\n",
            "Collecting jiter<1,>=0.4.0 (from openai)\n",
            "  Downloading jiter-0.5.0-cp310-cp310-manylinux_2_17_x86_64.manylinux2014_x86_64.whl.metadata (3.6 kB)\n",
            "Requirement already satisfied: sniffio in /usr/local/lib/python3.10/dist-packages (from openai) (1.3.1)\n",
            "Requirement already satisfied: tqdm>4 in /usr/local/lib/python3.10/dist-packages (from openai) (4.66.5)\n",
            "Requirement already satisfied: typing-extensions<5,>=4.11 in /usr/local/lib/python3.10/dist-packages (from openai) (4.12.2)\n",
            "Requirement already satisfied: idna>=2.8 in /usr/local/lib/python3.10/dist-packages (from anyio<5,>=3.5.0->openai) (3.10)\n",
            "Requirement already satisfied: exceptiongroup in /usr/local/lib/python3.10/dist-packages (from anyio<5,>=3.5.0->openai) (1.2.2)\n",
            "Requirement already satisfied: certifi in /usr/local/lib/python3.10/dist-packages (from httpx<1,>=0.23.0->openai) (2024.8.30)\n",
            "Collecting httpcore==1.* (from httpx<1,>=0.23.0->openai)\n",
            "  Downloading httpcore-1.0.5-py3-none-any.whl.metadata (20 kB)\n",
            "Collecting h11<0.15,>=0.13 (from httpcore==1.*->httpx<1,>=0.23.0->openai)\n",
            "  Downloading h11-0.14.0-py3-none-any.whl.metadata (8.2 kB)\n",
            "Requirement already satisfied: annotated-types>=0.6.0 in /usr/local/lib/python3.10/dist-packages (from pydantic<3.0.0,>=2.6.3->neo4j-genai) (0.7.0)\n",
            "Requirement already satisfied: pydantic-core==2.23.4 in /usr/local/lib/python3.10/dist-packages (from pydantic<3.0.0,>=2.6.3->neo4j-genai) (2.23.4)\n",
            "Requirement already satisfied: urllib3>=2 in /usr/local/lib/python3.10/dist-packages (from types-requests<3.0.0.0,>=2.31.0.20240218->neo4j-genai) (2.2.3)\n",
            "Downloading neo4j_genai-0.6.0-py3-none-any.whl (92 kB)\n",
            "\u001b[2K   \u001b[90m━━━━━━━━━━━━━━━━━━━━━━━━━━━━━━━━━━━━━━━━\u001b[0m \u001b[32m92.3/92.3 kB\u001b[0m \u001b[31m3.3 MB/s\u001b[0m eta \u001b[36m0:00:00\u001b[0m\n",
            "\u001b[?25hDownloading neo4j-5.25.0-py3-none-any.whl (296 kB)\n",
            "\u001b[2K   \u001b[90m━━━━━━━━━━━━━━━━━━━━━━━━━━━━━━━━━━━━━━━━\u001b[0m \u001b[32m296.6/296.6 kB\u001b[0m \u001b[31m9.6 MB/s\u001b[0m eta \u001b[36m0:00:00\u001b[0m\n",
            "\u001b[?25hDownloading openai-1.50.2-py3-none-any.whl (382 kB)\n",
            "\u001b[2K   \u001b[90m━━━━━━━━━━━━━━━━━━━━━━━━━━━━━━━━━━━━━━━━\u001b[0m \u001b[32m383.0/383.0 kB\u001b[0m \u001b[31m15.2 MB/s\u001b[0m eta \u001b[36m0:00:00\u001b[0m\n",
            "\u001b[?25hDownloading httpx-0.27.2-py3-none-any.whl (76 kB)\n",
            "\u001b[2K   \u001b[90m━━━━━━━━━━━━━━━━━━━━━━━━━━━━━━━━━━━━━━━━\u001b[0m \u001b[32m76.4/76.4 kB\u001b[0m \u001b[31m3.8 MB/s\u001b[0m eta \u001b[36m0:00:00\u001b[0m\n",
            "\u001b[?25hDownloading httpcore-1.0.5-py3-none-any.whl (77 kB)\n",
            "\u001b[2K   \u001b[90m━━━━━━━━━━━━━━━━━━━━━━━━━━━━━━━━━━━━━━━━\u001b[0m \u001b[32m77.9/77.9 kB\u001b[0m \u001b[31m3.7 MB/s\u001b[0m eta \u001b[36m0:00:00\u001b[0m\n",
            "\u001b[?25hDownloading jiter-0.5.0-cp310-cp310-manylinux_2_17_x86_64.manylinux2014_x86_64.whl (318 kB)\n",
            "\u001b[2K   \u001b[90m━━━━━━━━━━━━━━━━━━━━━━━━━━━━━━━━━━━━━━━━\u001b[0m \u001b[32m318.9/318.9 kB\u001b[0m \u001b[31m16.2 MB/s\u001b[0m eta \u001b[36m0:00:00\u001b[0m\n",
            "\u001b[?25hDownloading pypdf-4.3.1-py3-none-any.whl (295 kB)\n",
            "\u001b[2K   \u001b[90m━━━━━━━━━━━━━━━━━━━━━━━━━━━━━━━━━━━━━━━━\u001b[0m \u001b[32m295.8/295.8 kB\u001b[0m \u001b[31m14.5 MB/s\u001b[0m eta \u001b[36m0:00:00\u001b[0m\n",
            "\u001b[?25hDownloading types_mock-5.1.0.20240425-py3-none-any.whl (5.7 kB)\n",
            "Downloading types_requests-2.32.0.20240914-py3-none-any.whl (15 kB)\n",
            "Downloading h11-0.14.0-py3-none-any.whl (58 kB)\n",
            "\u001b[2K   \u001b[90m━━━━━━━━━━━━━━━━━━━━━━━━━━━━━━━━━━━━━━━━\u001b[0m \u001b[32m58.3/58.3 kB\u001b[0m \u001b[31m3.0 MB/s\u001b[0m eta \u001b[36m0:00:00\u001b[0m\n",
            "\u001b[?25hInstalling collected packages: types-requests, types-mock, pypdf, neo4j, jiter, h11, httpcore, neo4j-genai, httpx, openai\n",
            "Successfully installed h11-0.14.0 httpcore-1.0.5 httpx-0.27.2 jiter-0.5.0 neo4j-5.25.0 neo4j-genai-0.6.0 openai-1.50.2 pypdf-4.3.1 types-mock-5.1.0.20240425 types-requests-2.32.0.20240914\n"
          ]
        }
      ]
    },
    {
      "cell_type": "markdown",
      "source": [
        "API 로그인 > API Key 생성 : https://openai.com/chatgpt/"
      ],
      "metadata": {
        "id": "MKW-bdgH18WC"
      }
    },
    {
      "cell_type": "code",
      "source": [
        "import os\n",
        "os.environ[\"OPENAI_API_KEY\"] = \"sk-...\""
      ],
      "metadata": {
        "id": "mxVWhyMb2A1s"
      },
      "execution_count": null,
      "outputs": []
    },
    {
      "cell_type": "markdown",
      "source": [
        "## 1. GraphDB 불러오기"
      ],
      "metadata": {
        "id": "9_0oQo-APS7f"
      }
    },
    {
      "cell_type": "markdown",
      "source": [
        "Neo4j Sandbox : https://sandbox.neo4j.com/"
      ],
      "metadata": {
        "id": "T2MzCTpQ2Ihk"
      }
    },
    {
      "cell_type": "markdown",
      "source": [
        "### 1-1. Neo4j 드라이버 설정"
      ],
      "metadata": {
        "id": "le_Pfi0pPVjj"
      }
    },
    {
      "cell_type": "code",
      "source": [
        "from neo4j import GraphDatabase, basic_auth\n",
        "import openai\n",
        "\n",
        "driver = GraphDatabase.driver(\n",
        "  \"neo4j://54.224.232.177:7687\",\n",
        "  auth=basic_auth(\"neo4j\", \"breast-commanders-abrasion\"))"
      ],
      "metadata": {
        "id": "5CDkAq8YPY-e"
      },
      "execution_count": null,
      "outputs": []
    },
    {
      "cell_type": "markdown",
      "source": [
        "```cypher\n",
        "MATCH (m:Movie {title:$movie})<-[:RATED]-(u:User)-[:RATED]->(rec:Movie)\n",
        "RETURN distinct rec.title AS recommendation LIMIT 20\n",
        "```\n",
        "\n",
        "- `(m:Movie {title:$movie})` : title이 $movie 인 노드\n",
        "- `(rec:Movie)` : 이 노드는 rec이라는 변수로 지정\n",
        "- `RETURN distinct rec.title` : rec 변수에 있는 노드의 title을 RETURN\n",
        "\n"
      ],
      "metadata": {
        "id": "-eQDxOSx2XSh"
      }
    },
    {
      "cell_type": "code",
      "source": [
        "cypher_query = '''\n",
        "MATCH (m:Movie {title:$movie})<-[:RATED]-(u:User)-[:RATED]->(rec:Movie)\n",
        "RETURN distinct rec.title AS recommendation LIMIT 20\n",
        "'''\n",
        "\n",
        "with driver.session(database=\"neo4j\") as session:\n",
        "  results = session.read_transaction(\n",
        "    lambda tx: tx.run(cypher_query,\n",
        "                      movie=\"Crimson Tide\").data())\n",
        "  for record in results:\n",
        "    print(record['recommendation'])\n",
        "\n",
        "#driver.close()"
      ],
      "metadata": {
        "colab": {
          "base_uri": "https://localhost:8080/"
        },
        "id": "mTI3Q6qe00rw",
        "outputId": "52dd18b0-6cde-4fe6-b05e-b7ecfc9c1b86"
      },
      "execution_count": null,
      "outputs": [
        {
          "output_type": "stream",
          "name": "stderr",
          "text": [
            "<ipython-input-4-18901dc9fb7f>:7: DeprecationWarning: read_transaction has been renamed to execute_read\n",
            "  results = session.read_transaction(\n"
          ]
        },
        {
          "output_type": "stream",
          "name": "stdout",
          "text": [
            "Mr. Holland's Opus\n",
            "Apollo 13\n",
            "Dead Man Walking\n",
            "Seven (a.k.a. Se7en)\n",
            "Heat\n",
            "Get Shorty\n",
            "Fugitive, The\n",
            "Dave\n",
            "Addams Family Values\n",
            "True Lies\n",
            "Speed\n",
            "Lion King, The\n",
            "Four Weddings and a Funeral\n",
            "Forrest Gump\n",
            "Star Trek: Generations\n",
            "Shawshank Redemption, The\n",
            "Stargate\n",
            "Pulp Fiction\n",
            "Outbreak\n",
            "Miracle on 34th Street\n"
          ]
        }
      ]
    },
    {
      "cell_type": "markdown",
      "source": [
        "## 2. GRAPH RAG 구현하기"
      ],
      "metadata": {
        "id": "VyJZDdoOkSOB"
      }
    },
    {
      "cell_type": "markdown",
      "source": [
        "### Text2Cypher Retriever로 만든 그래프 쿼리 결과 기반 RAG 방식"
      ],
      "metadata": {
        "id": "rum-Lhg1iDCC"
      }
    },
    {
      "cell_type": "code",
      "source": [
        "from neo4j_graphrag.retrievers import Text2CypherRetriever\n",
        "from neo4j_graphrag.llm import OpenAILLM\n",
        "\n",
        "# 쿼리텍스트를 기반으로 Cypher 쿼리문을 생성하고, Retrieval 후 답변을 생성할 때 사용할 LLM\n",
        "llm = OpenAILLM(model_name=\"gpt-4o\", model_params={\"temperature\": 0})"
      ],
      "metadata": {
        "id": "pQhJOnzmaHl4"
      },
      "execution_count": null,
      "outputs": []
    },
    {
      "cell_type": "markdown",
      "source": [
        "### 1) Text2Cypher Retriever"
      ],
      "metadata": {
        "id": "3atYFUn5aiSN"
      }
    },
    {
      "cell_type": "markdown",
      "source": [
        "Cypher 자동생성을 위해 필요한 정보 제공\n",
        "- Neo4j DB Schema\n",
        "- Input / Output(Query) 예시"
      ],
      "metadata": {
        "id": "Lo9sTGD8aW8k"
      }
    },
    {
      "cell_type": "markdown",
      "source": [
        "#### Neo4j DB Schema\n",
        "\n",
        "```\n",
        "Node properties:\n",
        "Person {name: STRING, born: INTEGER}\n",
        "Movie {tagline: STRING, title: STRING, released: INTEGER}\n",
        "Relationship properties:\n",
        "ACTED_IN {roles: LIST}\n",
        "REVIEWED {summary: STRING, rating: INTEGER}\n",
        "The relationships:\n",
        "(:Person)-[:ACTED_IN]->(:Movie)\n",
        "(:Person)-[:DIRECTED]->(:Movie)\n",
        "(:Person)-[:PRODUCED]->(:Movie)\n",
        "(:Person)-[:WROTE]->(:Movie)\n",
        "(:Person)-[:FOLLOWS]->(:Person)\n",
        "(:Person)-[:REVIEWED]->(:Movie)\n",
        "```"
      ],
      "metadata": {
        "id": "EG8yJzIFbQf3"
      }
    },
    {
      "cell_type": "code",
      "source": [
        "from neo4j import GraphDatabase\n",
        "from neo4j.time import Date\n",
        "\n",
        "def get_node_datatype(value):\n",
        "    \"\"\"\n",
        "        입력된 노드 Value의 데이터 타입을 반환하는 함수\n",
        "    \"\"\"\n",
        "    if isinstance(value, str):\n",
        "        return \"STRING\"\n",
        "    elif isinstance(value, int):\n",
        "        return \"INTEGER\"\n",
        "    elif isinstance(value, float):\n",
        "        return \"FLOAT\"\n",
        "    elif isinstance(value, bool):\n",
        "        return \"BOOLEAN\"\n",
        "    elif isinstance(value, list):\n",
        "        return f\"LIST[{get_node_datatype(value[0])}]\" if value else \"LIST\"\n",
        "    elif isinstance(value, Date):\n",
        "        return \"DATE\"\n",
        "    else:\n",
        "        return \"UNKNOWN\"\n",
        "\n",
        "def get_schema(uri, user, password):\n",
        "    \"\"\"\n",
        "        Graph DB의 정보를 받아 노드 및 관계의 프로퍼티를 추출하고 스키마 딕셔너리를 반환하는 함수\n",
        "    \"\"\"\n",
        "    driver = GraphDatabase.driver(\n",
        "        uri,\n",
        "        auth=basic_auth(user, password))\n",
        "\n",
        "    with driver.session() as session:\n",
        "        # 노드 프로퍼티 및 타입 추출\n",
        "        node_query = \"\"\"\n",
        "        MATCH (n)\n",
        "        WITH DISTINCT labels(n) AS node_labels, keys(n) AS property_keys, n\n",
        "        UNWIND node_labels AS label\n",
        "        UNWIND property_keys AS key\n",
        "        RETURN label, key, n[key] AS sample_value\n",
        "        \"\"\"\n",
        "        nodes = session.run(node_query)\n",
        "\n",
        "        # 관계 프로퍼티 및 타입 추출\n",
        "        rel_query = \"\"\"\n",
        "        MATCH ()-[r]->()\n",
        "        WITH DISTINCT type(r) AS rel_type, keys(r) AS property_keys, r\n",
        "        UNWIND property_keys AS key\n",
        "        RETURN rel_type, key, r[key] AS sample_value\n",
        "        \"\"\"\n",
        "        relationships = session.run(rel_query)\n",
        "\n",
        "        # 관계 유형 및 방향 추출\n",
        "        rel_direction_query = \"\"\"\n",
        "        MATCH (a)-[r]->(b)\n",
        "        RETURN DISTINCT labels(a) AS start_label, type(r) AS rel_type, labels(b) AS end_label\n",
        "        ORDER BY start_label, rel_type, end_label\n",
        "        \"\"\"\n",
        "        rel_directions = session.run(rel_direction_query)\n",
        "\n",
        "        # 스키마 딕셔너리 생성\n",
        "        schema = {\"nodes\": {}, \"relationships\": {}, \"relations\": []}\n",
        "\n",
        "        for record in nodes:\n",
        "            label = record[\"label\"]\n",
        "            key = record[\"key\"]\n",
        "            sample_value = record[\"sample_value\"] # 데이터 타입을 추론하기 위한 샘플 데이터\n",
        "            inferred_type = get_node_datatype(sample_value)\n",
        "            if label not in schema[\"nodes\"]:\n",
        "                schema[\"nodes\"][label] = {}\n",
        "            schema[\"nodes\"][label][key] = inferred_type\n",
        "\n",
        "        for record in relationships:\n",
        "            rel_type = record[\"rel_type\"]\n",
        "            key = record[\"key\"]\n",
        "            sample_value = record[\"sample_value\"] # 데이터 타입을 추론하기 위한 샘플 데이터\n",
        "            inferred_type = get_node_datatype(sample_value)\n",
        "            if rel_type not in schema[\"relationships\"]:\n",
        "                schema[\"relationships\"][rel_type] = {}\n",
        "            schema[\"relationships\"][rel_type][key] = inferred_type\n",
        "\n",
        "        for record in rel_directions:\n",
        "            start_label = record[\"start_label\"][0]\n",
        "            rel_type = record[\"rel_type\"]\n",
        "            end_label = record[\"end_label\"][0]\n",
        "            schema[\"relations\"].append(f\"(:{start_label})-[:{rel_type}]->(:{end_label})\")\n",
        "\n",
        "        return schema\n",
        "\n",
        "def format_schema(schema):\n",
        "    \"\"\"\n",
        "        스키마 딕셔너리를 LLM에 제공하기 위해 원하는 형태로 formatting 하는 함수\n",
        "    \"\"\"\n",
        "    result = []\n",
        "\n",
        "    # 노드 프로퍼티 출력\n",
        "    result.append(\"Node properties:\")\n",
        "    for label, properties in schema[\"nodes\"].items():\n",
        "        props = \", \".join(f\"{k}: {v}\" for k, v in properties.items())\n",
        "        result.append(f\"{label} {{{props}}}\")\n",
        "\n",
        "    # 관계 프로퍼티 출력\n",
        "    result.append(\"Relationship properties:\")\n",
        "    for rel_type, properties in schema[\"relationships\"].items():\n",
        "        props = \", \".join(f\"{k}: {v}\" for k, v in properties.items())\n",
        "        result.append(f\"{rel_type} {{{props}}}\")\n",
        "\n",
        "    # 관계 프로퍼티 출력\n",
        "    result.append(\"The relationships:\")\n",
        "    for relation in schema[\"relations\"]:\n",
        "        result.append(relation)\n",
        "\n",
        "    return \"\\n\".join(result)"
      ],
      "metadata": {
        "id": "7K4dX-ZjglEJ"
      },
      "execution_count": null,
      "outputs": []
    },
    {
      "cell_type": "code",
      "source": [
        "# Neo4j DB Schema 제공\n",
        "schema = get_schema(\"neo4j://54.224.232.177:7687\",\"neo4j\", \"breast-commanders-abrasion\")\n",
        "neo4j_schema = format_schema(schema)\n",
        "print(neo4j_schema)"
      ],
      "metadata": {
        "colab": {
          "base_uri": "https://localhost:8080/"
        },
        "id": "bR0vMbi5m_KE",
        "outputId": "4a6535d8-6f95-4cfc-eb96-ea3c9cc9a7ed"
      },
      "execution_count": null,
      "outputs": [
        {
          "output_type": "stream",
          "name": "stdout",
          "text": [
            "Node properties:\n",
            "Movie {url: STRING, runtime: INTEGER, revenue: INTEGER, budget: INTEGER, imdbRating: FLOAT, released: STRING, countries: LIST[STRING], languages: LIST[STRING], plot: STRING, imdbVotes: INTEGER, imdbId: STRING, year: INTEGER, poster: STRING, movieId: STRING, tmdbId: STRING, title: STRING}\n",
            "Genre {name: STRING}\n",
            "User {userId: STRING, name: STRING}\n",
            "Actor {bornIn: STRING, born: DATE, died: DATE, tmdbId: STRING, imdbId: STRING, name: STRING, url: STRING, bio: STRING, poster: STRING}\n",
            "Person {bornIn: STRING, born: DATE, died: DATE, tmdbId: STRING, imdbId: STRING, name: STRING, url: STRING, bio: STRING, poster: STRING}\n",
            "Director {url: STRING, bornIn: STRING, bio: STRING, died: DATE, born: DATE, imdbId: STRING, name: STRING, poster: STRING, tmdbId: STRING}\n",
            "Relationship properties:\n",
            "RATED {rating: FLOAT, timestamp: INTEGER}\n",
            "ACTED_IN {role: STRING}\n",
            "DIRECTED {role: STRING}\n",
            "The relationships:\n",
            "(:Actor)-[:ACTED_IN]->(:Movie)\n",
            "(:Actor)-[:DIRECTED]->(:Movie)\n",
            "(:Actor)-[:ACTED_IN]->(:Movie)\n",
            "(:Director)-[:DIRECTED]->(:Movie)\n",
            "(:Movie)-[:IN_GENRE]->(:Genre)\n",
            "(:User)-[:RATED]->(:Movie)\n"
          ]
        }
      ]
    },
    {
      "cell_type": "markdown",
      "source": [
        "#### Retriever 예시 작성"
      ],
      "metadata": {
        "id": "HnuWxzesFR-r"
      }
    },
    {
      "cell_type": "markdown",
      "source": [
        "- 사용자 입력 : Which actors starred in the Toy Story? (Toy Story 영화에 어떤 배우들이 출연하였나요?)\n",
        "\n",
        "- 자동 생성 Cypher 예시 : `MATCH (a:Actor)-[:ACTED_IN]->(m:Movie) WHERE m.title = 'Toy Story' RETURN a.name`"
      ],
      "metadata": {
        "id": "06C3lVZrthfd"
      }
    },
    {
      "cell_type": "markdown",
      "source": [
        "※ 추천시스템을 위한 예시 추가\n",
        "\n",
        "※ 사용자의 한국어 질문에 맞춰 예시 수정\n",
        "\n"
      ],
      "metadata": {
        "id": "1FP4BiFAFhJh"
      }
    },
    {
      "cell_type": "code",
      "source": [
        "# LLM INPUT / QUERY 예시 제공\n",
        "examples = [\n",
        "    \"USER INPUT: 'Toy Story에 어떤 배우들이 출연하나요?' QUERY: MATCH (a:Actor)-[:ACTED_IN]->(m:Movie) WHERE m.title = 'Toy Story' RETURN a.name\",\n",
        "    \"USER INPUT: 'Toy Story의 평균 평점은 몇점인가요?' QUERY: MATCH (u:User)-[r:RATED]->(m:Movie) WHERE m.title = 'Toy Story' RETURN AVG(r.rating)\",\n",
        "\n",
        "    \"\"\"USER INPUT: '저는 Toy Story 영화를 좋아합니다. Toy Story를 재밌게 본 사람은 또 어떤 영화를 재밌게 봤나요?'\n",
        "    QUERY: MATCH (m:Movie)<-[r:RATED]-(u:User)-[recr:RATED]->(userBasedRec:Movie)\n",
        "    WHERE m.title = 'Toy Story' AND r.rating >= 4 AND recr.rating >= 4\n",
        "    WITH userBasedRec, COUNT(recr) AS recCount, AVG(recr.rating) AS avgRating\n",
        "    ORDER BY avgRating DESC, recCount DESC\n",
        "    RETURN DISTINCT userBasedRec.title, avgRating, recCount\n",
        "    LIMIT 10\n",
        "    \"\"\",\n",
        "\n",
        "    \"\"\"USER INPUT: '저는 'Wizard of Oz, The' 와 같은 영화를 좋아합니다. 이 영화와 비슷한 영화 추천해줄 수 있나요?',\n",
        "    QUERY: MATCH (m:Movie) WHERE m.title = 'Wizard of Oz, The'\n",
        "    MATCH (m)-[:IN_GENRE]->(g:Genre)<-[:IN_GENRE]-(rec:Movie)\n",
        "    WITH m, rec, count(*) AS gs\n",
        "\n",
        "    OPTIONAL MATCH (m)<-[:ACTED_IN]-(a)-[:ACTED_IN]->(rec)\n",
        "    WITH m, rec, gs, count(a) AS as\n",
        "\n",
        "    OPTIONAL MATCH (m)<-[:DIRECTED]-(d)-[:DIRECTED]->(rec)\n",
        "    WITH m, rec, gs, as, count(d) AS ds\n",
        "\n",
        "    RETURN rec.title AS recommendation,\n",
        "            rec.poster AS rec_poster,\n",
        "            gs AS genre_similarity,\n",
        "            as AS actor_similarity,\n",
        "            ds AS director_similarity,\n",
        "           (5*gs)+(3*as)+(4*ds) AS score\n",
        "    ORDER BY score DESC LIMIT 10\n",
        "    \"\"\",\n",
        "\n",
        "    \"\"\"USER INPUT: '영화 'Inception'과 비슷한 장르 혹은 비슷한 분위기의 영화를 추천해주세요.'\n",
        "    QUERY: MATCH (m:Movie)-[:IN_GENRE]->(g:Genre)<-[:IN_GENRE]-(rec:Movie)\n",
        "    WHERE m.title = 'Inception' WITH rec, collect(g.name) AS genres, count(*) AS commonGenres\n",
        "    RETURN rec.title, genres, commonGenres ORDER BY commonGenres DESC LIMIT 10;\"\"\"\n",
        "]"
      ],
      "metadata": {
        "id": "e_iS83oBLi-z"
      },
      "execution_count": null,
      "outputs": []
    },
    {
      "cell_type": "code",
      "source": [
        "# Text2CypherRetriever\n",
        "retriever = Text2CypherRetriever(\n",
        "    driver=driver,\n",
        "    llm=llm,  # type: ignore\n",
        "    neo4j_schema=neo4j_schema,\n",
        "    examples=examples,\n",
        ")\n",
        "\n",
        "# LLM을 통해 Cypher 쿼리를 생성하여 Neo4j DB에 보내고, 그 결과를 반환 => 이 결과는 RAG에 활용됨\n",
        "query_text = \"Tom Hanks 가 어떤 영화에 출연했나요?\"\n",
        "search_result = retriever.search(query_text=query_text)"
      ],
      "metadata": {
        "id": "kfYUemK4ag8i"
      },
      "execution_count": null,
      "outputs": []
    },
    {
      "cell_type": "code",
      "source": [
        "search_result.items"
      ],
      "metadata": {
        "colab": {
          "base_uri": "https://localhost:8080/"
        },
        "id": "WqDmIWU7xKKY",
        "outputId": "3780cf9a-767d-4c63-ceff-bc9e948083c8"
      },
      "execution_count": null,
      "outputs": [
        {
          "output_type": "execute_result",
          "data": {
            "text/plain": [
              "[RetrieverResultItem(content=\"<Record m.title='Punchline'>\", metadata=None),\n",
              " RetrieverResultItem(content=\"<Record m.title='Catch Me If You Can'>\", metadata=None),\n",
              " RetrieverResultItem(content=\"<Record m.title='Dragnet'>\", metadata=None),\n",
              " RetrieverResultItem(content=\"<Record m.title='Saving Mr. Banks'>\", metadata=None),\n",
              " RetrieverResultItem(content=\"<Record m.title='Bachelor Party'>\", metadata=None),\n",
              " RetrieverResultItem(content=\"<Record m.title='Volunteers'>\", metadata=None),\n",
              " RetrieverResultItem(content=\"<Record m.title='Man with One Red Shoe, The'>\", metadata=None),\n",
              " RetrieverResultItem(content=\"<Record m.title='Splash'>\", metadata=None),\n",
              " RetrieverResultItem(content=\"<Record m.title='Big'>\", metadata=None),\n",
              " RetrieverResultItem(content=\"<Record m.title='Nothing in Common'>\", metadata=None),\n",
              " RetrieverResultItem(content=\"<Record m.title='Money Pit, The'>\", metadata=None),\n",
              " RetrieverResultItem(content=\"<Record m.title='Toy Story of Terror'>\", metadata=None),\n",
              " RetrieverResultItem(content=\"<Record m.title='Captain Phillips'>\", metadata=None),\n",
              " RetrieverResultItem(content=\"<Record m.title='Larry Crowne'>\", metadata=None),\n",
              " RetrieverResultItem(content=\"<Record m.title='Cloud Atlas'>\", metadata=None),\n",
              " RetrieverResultItem(content=\"<Record m.title='Angels & Demons'>\", metadata=None),\n",
              " RetrieverResultItem(content=\"<Record m.title='Extremely Loud and Incredibly Close'>\", metadata=None),\n",
              " RetrieverResultItem(content='<Record m.title=\"Charlie Wilson\\'s War\">', metadata=None),\n",
              " RetrieverResultItem(content=\"<Record m.title='Toy Story 3'>\", metadata=None),\n",
              " RetrieverResultItem(content=\"<Record m.title='From the Earth to the Moon'>\", metadata=None),\n",
              " RetrieverResultItem(content=\"<Record m.title='Green Mile, The'>\", metadata=None),\n",
              " RetrieverResultItem(content=\"<Record m.title='Saving Private Ryan'>\", metadata=None),\n",
              " RetrieverResultItem(content=\"<Record m.title='Toy Story 2'>\", metadata=None),\n",
              " RetrieverResultItem(content=\"<Record m.title='Apollo 13'>\", metadata=None),\n",
              " RetrieverResultItem(content=\"<Record m.title='Toy Story'>\", metadata=None),\n",
              " RetrieverResultItem(content=\"<Record m.title='League of Their Own, A'>\", metadata=None),\n",
              " RetrieverResultItem(content=\"<Record m.title='Forrest Gump'>\", metadata=None),\n",
              " RetrieverResultItem(content=\"<Record m.title='Philadelphia'>\", metadata=None),\n",
              " RetrieverResultItem(content=\"<Record m.title='Sleepless in Seattle'>\", metadata=None),\n",
              " RetrieverResultItem(content=\"<Record m.title='Turner & Hooch'>\", metadata=None),\n",
              " RetrieverResultItem(content='<Record m.title=\"\\'burbs, The\">', metadata=None),\n",
              " RetrieverResultItem(content=\"<Record m.title='Joe Versus the Volcano'>\", metadata=None),\n",
              " RetrieverResultItem(content=\"<Record m.title='Bonfire of the Vanities'>\", metadata=None),\n",
              " RetrieverResultItem(content=\"<Record m.title='Terminal, The'>\", metadata=None),\n",
              " RetrieverResultItem(content=\"<Record m.title='Da Vinci Code, The'>\", metadata=None),\n",
              " RetrieverResultItem(content=\"<Record m.title='Polar Express, The'>\", metadata=None),\n",
              " RetrieverResultItem(content=\"<Record m.title='Ladykillers, The'>\", metadata=None),\n",
              " RetrieverResultItem(content='<Record m.title=\"You\\'ve Got Mail\">', metadata=None)]"
            ]
          },
          "metadata": {},
          "execution_count": 10
        }
      ]
    },
    {
      "cell_type": "code",
      "source": [
        "query_text = \"저는 Titanic을 좋아합니다. 비슷한 영화를 추천해줄 수 있나요?\"\n",
        "search_result = retriever.search(query_text=query_text)"
      ],
      "metadata": {
        "id": "hL1ynoUPgd7m"
      },
      "execution_count": null,
      "outputs": []
    },
    {
      "cell_type": "code",
      "source": [
        "search_result.metadata['cypher']"
      ],
      "metadata": {
        "colab": {
          "base_uri": "https://localhost:8080/",
          "height": 92
        },
        "id": "Bnl3Pbxqw5lH",
        "outputId": "438131c5-074d-47bc-e9f2-5e7eef216526"
      },
      "execution_count": null,
      "outputs": [
        {
          "output_type": "execute_result",
          "data": {
            "text/plain": [
              "\"MATCH (m:Movie) WHERE m.title = 'Titanic'\\nMATCH (m)-[:IN_GENRE]->(g:Genre)<-[:IN_GENRE]-(rec:Movie)\\nWITH m, rec, count(*) AS gs\\n\\nOPTIONAL MATCH (m)<-[:ACTED_IN]-(a)-[:ACTED_IN]->(rec)\\nWITH m, rec, gs, count(a) AS as\\n\\nOPTIONAL MATCH (m)<-[:DIRECTED]-(d)-[:DIRECTED]->(rec)\\nWITH m, rec, gs, as, count(d) AS ds\\n\\nRETURN rec.title AS recommendation,\\n       rec.poster AS rec_poster,\\n       gs AS genre_similarity,\\n       as AS actor_similarity,\\n       ds AS director_similarity,\\n       (5*gs)+(3*as)+(4*ds) AS score\\nORDER BY score DESC LIMIT 10\""
            ],
            "application/vnd.google.colaboratory.intrinsic+json": {
              "type": "string"
            }
          },
          "metadata": {},
          "execution_count": 12
        }
      ]
    },
    {
      "cell_type": "code",
      "source": [
        "print(search_result.metadata['cypher'])"
      ],
      "metadata": {
        "colab": {
          "base_uri": "https://localhost:8080/"
        },
        "id": "HdzKF9EHdYVI",
        "outputId": "9185e23d-ed11-406f-aeaf-4899dce8a18d"
      },
      "execution_count": null,
      "outputs": [
        {
          "output_type": "stream",
          "name": "stdout",
          "text": [
            "MATCH (m:Movie) WHERE m.title = 'Titanic'\n",
            "MATCH (m)-[:IN_GENRE]->(g:Genre)<-[:IN_GENRE]-(rec:Movie)\n",
            "WITH m, rec, count(*) AS gs\n",
            "\n",
            "OPTIONAL MATCH (m)<-[:ACTED_IN]-(a)-[:ACTED_IN]->(rec)\n",
            "WITH m, rec, gs, count(a) AS as\n",
            "\n",
            "OPTIONAL MATCH (m)<-[:DIRECTED]-(d)-[:DIRECTED]->(rec)\n",
            "WITH m, rec, gs, as, count(d) AS ds\n",
            "\n",
            "RETURN rec.title AS recommendation,\n",
            "       rec.poster AS rec_poster,\n",
            "       gs AS genre_similarity,\n",
            "       as AS actor_similarity,\n",
            "       ds AS director_similarity,\n",
            "       (5*gs)+(3*as)+(4*ds) AS score\n",
            "ORDER BY score DESC LIMIT 10\n"
          ]
        }
      ]
    },
    {
      "cell_type": "markdown",
      "source": [
        "### 2) Retriever 기반 RAG 생성"
      ],
      "metadata": {
        "id": "R-7ysjaRanj2"
      }
    },
    {
      "cell_type": "code",
      "source": [
        "from neo4j_graphrag.generation import GraphRAG\n",
        "# RAG 파이프라인 초기화\n",
        "rag = GraphRAG(retriever=retriever, llm=llm)"
      ],
      "metadata": {
        "id": "bTNvnFnXbKLS"
      },
      "execution_count": null,
      "outputs": []
    },
    {
      "cell_type": "markdown",
      "source": [
        "답변에 사용한 Context 정보를 함께 확인 :\n",
        "https://github.com/neo4j/neo4j-graphrag-python/blob/89411ca2c9ae7fdce63ee9678fe658b2e2ec30dd/src/neo4j_graphrag/generation/graphrag.py#L101"
      ],
      "metadata": {
        "id": "G5nKfQJpyRMk"
      }
    },
    {
      "cell_type": "code",
      "source": [
        "# 질문하기\n",
        "query_text = \"Titanic과 비슷한 장르의 영화 추천해주세용.\"\n",
        "\n",
        "response = rag.search(query_text=query_text, return_context = True)\n",
        "print(\"==== [Text2Cypher 를 통해 자동생성한 Cypher] ====\")\n",
        "print(response.retriever_result.metadata['cypher'])\n",
        "print(\"\\n==== [생성된 Cypher를 기반으로 최종답변생성] ====\")\n",
        "print(response.answer)"
      ],
      "metadata": {
        "id": "lG4yrSYoLqt6",
        "collapsed": true,
        "colab": {
          "base_uri": "https://localhost:8080/"
        },
        "outputId": "6a676e9f-3853-4345-90d9-8423daae7bbf"
      },
      "execution_count": null,
      "outputs": [
        {
          "output_type": "stream",
          "name": "stdout",
          "text": [
            "==== [Text2Cypher 를 통해 자동생성한 Cypher] ====\n",
            "MATCH (m:Movie)-[:IN_GENRE]->(g:Genre)<-[:IN_GENRE]-(rec:Movie)\n",
            "WHERE m.title = 'Titanic'\n",
            "WITH rec, collect(g.name) AS genres, count(*) AS commonGenres\n",
            "RETURN rec.title, genres, commonGenres\n",
            "ORDER BY commonGenres DESC\n",
            "LIMIT 10;\n",
            "\n",
            "==== [생성된 Cypher를 기반으로 최종답변생성] ====\n",
            "Titanic과 비슷한 장르의 영화로는 다음과 같은 영화들을 추천드립니다:\n",
            "\n",
            "1. Dirty Mary Crazy Larry\n",
            "2. Shiri (Swiri)\n",
            "3. Absolute Giganten\n",
            "4. Eight Below\n",
            "5. Kingdom of Heaven\n",
            "6. Helen of Troy\n",
            "7. Robin Hood\n",
            "8. Legend of the Red Dragon (a.k.a. New Legend of Shaolin, The) (Hong Xi Guan: Zhi Shao Lin wu zu)\n",
            "9. Casanova\n",
            "10. House of Flying Daggers (Shi mian mai fu)\n",
            "\n",
            "이 영화들은 모두 드라마, 로맨스, 액션 장르를 포함하고 있습니다.\n"
          ]
        }
      ]
    },
    {
      "cell_type": "code",
      "source": [
        "# 질문하기\n",
        "query_text = \"Toy Story와 The Godfather 영화를 좋아하는 사람은 또 어떤 영화를 좋아하나요?\"\n",
        "\n",
        "response = rag.search(query_text=query_text, return_context = True)\n",
        "print(\"==== [Text2Cypher 를 통해 자동생성한 Cypher] ====\")\n",
        "print(response.retriever_result.metadata['cypher'])\n",
        "print(\"\\n==== [생성된 Cypher를 기반으로 최종답변생성] ====\")\n",
        "print(response.answer)"
      ],
      "metadata": {
        "id": "WZU21VJjxWjT",
        "colab": {
          "base_uri": "https://localhost:8080/"
        },
        "outputId": "bcac776a-f590-47f6-f6f2-69a2f9098a5e"
      },
      "execution_count": null,
      "outputs": [
        {
          "output_type": "stream",
          "name": "stdout",
          "text": [
            "==== [Text2Cypher 를 통해 자동생성한 Cypher] ====\n",
            "MATCH (m1:Movie)<-[r1:RATED]-(u:User)-[r2:RATED]->(m2:Movie)\n",
            "WHERE m1.title IN ['Toy Story', 'The Godfather'] AND r1.rating >= 4 AND r2.rating >= 4\n",
            "WITH m2, COUNT(r2) AS recCount, AVG(r2.rating) AS avgRating\n",
            "ORDER BY avgRating DESC, recCount DESC\n",
            "RETURN DISTINCT m2.title, avgRating, recCount\n",
            "LIMIT 10\n",
            "\n",
            "==== [생성된 Cypher를 기반으로 최종답변생성] ====\n",
            "Toy Story와 The Godfather 영화를 좋아하는 사람들은 다음과 같은 영화를 좋아할 수 있습니다:\n",
            "\n",
            "1. Killing Fields, The\n",
            "2. Rosencrantz and Guildenstern Are Dead\n",
            "3. Sherlock Holmes: A Game of Shadows\n",
            "4. Paris Is Burning\n",
            "5. Stardust\n",
            "6. Anne Frank Remembered\n",
            "7. Down by Law\n",
            "8. I Shot Andy Warhol\n",
            "9. You Can't Take It with You\n",
            "10. Blink\n",
            "\n",
            "이 영화들은 모두 평균 평점이 5.0으로 높은 평가를 받은 영화들입니다.\n"
          ]
        }
      ]
    },
    {
      "cell_type": "markdown",
      "source": [
        "## 3. Gradio 로 챗봇 배포하기"
      ],
      "metadata": {
        "id": "Id_rgPh8Nwhp"
      }
    },
    {
      "cell_type": "code",
      "source": [
        "!pip install gradio"
      ],
      "metadata": {
        "colab": {
          "base_uri": "https://localhost:8080/"
        },
        "collapsed": true,
        "id": "DKzKkI37JyQW",
        "outputId": "8155ec62-d388-4632-b02c-7a735906a967"
      },
      "execution_count": null,
      "outputs": [
        {
          "output_type": "stream",
          "name": "stdout",
          "text": [
            "Collecting gradio\n",
            "  Downloading gradio-4.44.1-py3-none-any.whl.metadata (15 kB)\n",
            "Collecting aiofiles<24.0,>=22.0 (from gradio)\n",
            "  Downloading aiofiles-23.2.1-py3-none-any.whl.metadata (9.7 kB)\n",
            "Requirement already satisfied: anyio<5.0,>=3.0 in /usr/local/lib/python3.10/dist-packages (from gradio) (3.7.1)\n",
            "Collecting fastapi<1.0 (from gradio)\n",
            "  Downloading fastapi-0.115.0-py3-none-any.whl.metadata (27 kB)\n",
            "Collecting ffmpy (from gradio)\n",
            "  Downloading ffmpy-0.4.0-py3-none-any.whl.metadata (2.9 kB)\n",
            "Collecting gradio-client==1.3.0 (from gradio)\n",
            "  Downloading gradio_client-1.3.0-py3-none-any.whl.metadata (7.1 kB)\n",
            "Requirement already satisfied: httpx>=0.24.1 in /usr/local/lib/python3.10/dist-packages (from gradio) (0.27.2)\n",
            "Requirement already satisfied: huggingface-hub>=0.19.3 in /usr/local/lib/python3.10/dist-packages (from gradio) (0.24.7)\n",
            "Requirement already satisfied: importlib-resources<7.0,>=1.3 in /usr/local/lib/python3.10/dist-packages (from gradio) (6.4.5)\n",
            "Requirement already satisfied: jinja2<4.0 in /usr/local/lib/python3.10/dist-packages (from gradio) (3.1.4)\n",
            "Requirement already satisfied: markupsafe~=2.0 in /usr/local/lib/python3.10/dist-packages (from gradio) (2.1.5)\n",
            "Requirement already satisfied: matplotlib~=3.0 in /usr/local/lib/python3.10/dist-packages (from gradio) (3.7.1)\n",
            "Requirement already satisfied: numpy<3.0,>=1.0 in /usr/local/lib/python3.10/dist-packages (from gradio) (1.26.4)\n",
            "Collecting orjson~=3.0 (from gradio)\n",
            "  Downloading orjson-3.10.7-cp310-cp310-manylinux_2_17_x86_64.manylinux2014_x86_64.whl.metadata (50 kB)\n",
            "\u001b[2K     \u001b[90m━━━━━━━━━━━━━━━━━━━━━━━━━━━━━━━━━━━━━━━━\u001b[0m \u001b[32m50.4/50.4 kB\u001b[0m \u001b[31m3.1 MB/s\u001b[0m eta \u001b[36m0:00:00\u001b[0m\n",
            "\u001b[?25hRequirement already satisfied: packaging in /usr/local/lib/python3.10/dist-packages (from gradio) (24.1)\n",
            "Requirement already satisfied: pandas<3.0,>=1.0 in /usr/local/lib/python3.10/dist-packages (from gradio) (2.1.4)\n",
            "Requirement already satisfied: pillow<11.0,>=8.0 in /usr/local/lib/python3.10/dist-packages (from gradio) (10.4.0)\n",
            "Requirement already satisfied: pydantic>=2.0 in /usr/local/lib/python3.10/dist-packages (from gradio) (2.9.2)\n",
            "Collecting pydub (from gradio)\n",
            "  Downloading pydub-0.25.1-py2.py3-none-any.whl.metadata (1.4 kB)\n",
            "Collecting python-multipart>=0.0.9 (from gradio)\n",
            "  Downloading python_multipart-0.0.12-py3-none-any.whl.metadata (1.9 kB)\n",
            "Requirement already satisfied: pyyaml<7.0,>=5.0 in /usr/local/lib/python3.10/dist-packages (from gradio) (6.0.2)\n",
            "Collecting ruff>=0.2.2 (from gradio)\n",
            "  Downloading ruff-0.6.8-py3-none-manylinux_2_17_x86_64.manylinux2014_x86_64.whl.metadata (25 kB)\n",
            "Collecting semantic-version~=2.0 (from gradio)\n",
            "  Downloading semantic_version-2.10.0-py2.py3-none-any.whl.metadata (9.7 kB)\n",
            "Collecting tomlkit==0.12.0 (from gradio)\n",
            "  Downloading tomlkit-0.12.0-py3-none-any.whl.metadata (2.7 kB)\n",
            "Requirement already satisfied: typer<1.0,>=0.12 in /usr/local/lib/python3.10/dist-packages (from gradio) (0.12.5)\n",
            "Requirement already satisfied: typing-extensions~=4.0 in /usr/local/lib/python3.10/dist-packages (from gradio) (4.12.2)\n",
            "Requirement already satisfied: urllib3~=2.0 in /usr/local/lib/python3.10/dist-packages (from gradio) (2.2.3)\n",
            "Collecting uvicorn>=0.14.0 (from gradio)\n",
            "  Downloading uvicorn-0.31.0-py3-none-any.whl.metadata (6.6 kB)\n",
            "Requirement already satisfied: fsspec in /usr/local/lib/python3.10/dist-packages (from gradio-client==1.3.0->gradio) (2024.6.1)\n",
            "Collecting websockets<13.0,>=10.0 (from gradio-client==1.3.0->gradio)\n",
            "  Downloading websockets-12.0-cp310-cp310-manylinux_2_5_x86_64.manylinux1_x86_64.manylinux_2_17_x86_64.manylinux2014_x86_64.whl.metadata (6.6 kB)\n",
            "Requirement already satisfied: idna>=2.8 in /usr/local/lib/python3.10/dist-packages (from anyio<5.0,>=3.0->gradio) (3.10)\n",
            "Requirement already satisfied: sniffio>=1.1 in /usr/local/lib/python3.10/dist-packages (from anyio<5.0,>=3.0->gradio) (1.3.1)\n",
            "Requirement already satisfied: exceptiongroup in /usr/local/lib/python3.10/dist-packages (from anyio<5.0,>=3.0->gradio) (1.2.2)\n",
            "Collecting starlette<0.39.0,>=0.37.2 (from fastapi<1.0->gradio)\n",
            "  Downloading starlette-0.38.6-py3-none-any.whl.metadata (6.0 kB)\n",
            "Requirement already satisfied: certifi in /usr/local/lib/python3.10/dist-packages (from httpx>=0.24.1->gradio) (2024.8.30)\n",
            "Requirement already satisfied: httpcore==1.* in /usr/local/lib/python3.10/dist-packages (from httpx>=0.24.1->gradio) (1.0.5)\n",
            "Requirement already satisfied: h11<0.15,>=0.13 in /usr/local/lib/python3.10/dist-packages (from httpcore==1.*->httpx>=0.24.1->gradio) (0.14.0)\n",
            "Requirement already satisfied: filelock in /usr/local/lib/python3.10/dist-packages (from huggingface-hub>=0.19.3->gradio) (3.16.1)\n",
            "Requirement already satisfied: requests in /usr/local/lib/python3.10/dist-packages (from huggingface-hub>=0.19.3->gradio) (2.32.3)\n",
            "Requirement already satisfied: tqdm>=4.42.1 in /usr/local/lib/python3.10/dist-packages (from huggingface-hub>=0.19.3->gradio) (4.66.5)\n",
            "Requirement already satisfied: contourpy>=1.0.1 in /usr/local/lib/python3.10/dist-packages (from matplotlib~=3.0->gradio) (1.3.0)\n",
            "Requirement already satisfied: cycler>=0.10 in /usr/local/lib/python3.10/dist-packages (from matplotlib~=3.0->gradio) (0.12.1)\n",
            "Requirement already satisfied: fonttools>=4.22.0 in /usr/local/lib/python3.10/dist-packages (from matplotlib~=3.0->gradio) (4.53.1)\n",
            "Requirement already satisfied: kiwisolver>=1.0.1 in /usr/local/lib/python3.10/dist-packages (from matplotlib~=3.0->gradio) (1.4.7)\n",
            "Requirement already satisfied: pyparsing>=2.3.1 in /usr/local/lib/python3.10/dist-packages (from matplotlib~=3.0->gradio) (3.1.4)\n",
            "Requirement already satisfied: python-dateutil>=2.7 in /usr/local/lib/python3.10/dist-packages (from matplotlib~=3.0->gradio) (2.8.2)\n",
            "Requirement already satisfied: pytz>=2020.1 in /usr/local/lib/python3.10/dist-packages (from pandas<3.0,>=1.0->gradio) (2024.2)\n",
            "Requirement already satisfied: tzdata>=2022.1 in /usr/local/lib/python3.10/dist-packages (from pandas<3.0,>=1.0->gradio) (2024.1)\n",
            "Requirement already satisfied: annotated-types>=0.6.0 in /usr/local/lib/python3.10/dist-packages (from pydantic>=2.0->gradio) (0.7.0)\n",
            "Requirement already satisfied: pydantic-core==2.23.4 in /usr/local/lib/python3.10/dist-packages (from pydantic>=2.0->gradio) (2.23.4)\n",
            "Requirement already satisfied: click>=8.0.0 in /usr/local/lib/python3.10/dist-packages (from typer<1.0,>=0.12->gradio) (8.1.7)\n",
            "Requirement already satisfied: shellingham>=1.3.0 in /usr/local/lib/python3.10/dist-packages (from typer<1.0,>=0.12->gradio) (1.5.4)\n",
            "Requirement already satisfied: rich>=10.11.0 in /usr/local/lib/python3.10/dist-packages (from typer<1.0,>=0.12->gradio) (13.8.1)\n",
            "Requirement already satisfied: six>=1.5 in /usr/local/lib/python3.10/dist-packages (from python-dateutil>=2.7->matplotlib~=3.0->gradio) (1.16.0)\n",
            "Requirement already satisfied: markdown-it-py>=2.2.0 in /usr/local/lib/python3.10/dist-packages (from rich>=10.11.0->typer<1.0,>=0.12->gradio) (3.0.0)\n",
            "Requirement already satisfied: pygments<3.0.0,>=2.13.0 in /usr/local/lib/python3.10/dist-packages (from rich>=10.11.0->typer<1.0,>=0.12->gradio) (2.18.0)\n",
            "Requirement already satisfied: charset-normalizer<4,>=2 in /usr/local/lib/python3.10/dist-packages (from requests->huggingface-hub>=0.19.3->gradio) (3.3.2)\n",
            "Requirement already satisfied: mdurl~=0.1 in /usr/local/lib/python3.10/dist-packages (from markdown-it-py>=2.2.0->rich>=10.11.0->typer<1.0,>=0.12->gradio) (0.1.2)\n",
            "Downloading gradio-4.44.1-py3-none-any.whl (18.1 MB)\n",
            "\u001b[2K   \u001b[90m━━━━━━━━━━━━━━━━━━━━━━━━━━━━━━━━━━━━━━━━\u001b[0m \u001b[32m18.1/18.1 MB\u001b[0m \u001b[31m53.5 MB/s\u001b[0m eta \u001b[36m0:00:00\u001b[0m\n",
            "\u001b[?25hDownloading gradio_client-1.3.0-py3-none-any.whl (318 kB)\n",
            "\u001b[2K   \u001b[90m━━━━━━━━━━━━━━━━━━━━━━━━━━━━━━━━━━━━━━━━\u001b[0m \u001b[32m318.7/318.7 kB\u001b[0m \u001b[31m17.3 MB/s\u001b[0m eta \u001b[36m0:00:00\u001b[0m\n",
            "\u001b[?25hDownloading tomlkit-0.12.0-py3-none-any.whl (37 kB)\n",
            "Downloading aiofiles-23.2.1-py3-none-any.whl (15 kB)\n",
            "Downloading fastapi-0.115.0-py3-none-any.whl (94 kB)\n",
            "\u001b[2K   \u001b[90m━━━━━━━━━━━━━━━━━━━━━━━━━━━━━━━━━━━━━━━━\u001b[0m \u001b[32m94.6/94.6 kB\u001b[0m \u001b[31m6.0 MB/s\u001b[0m eta \u001b[36m0:00:00\u001b[0m\n",
            "\u001b[?25hDownloading orjson-3.10.7-cp310-cp310-manylinux_2_17_x86_64.manylinux2014_x86_64.whl (141 kB)\n",
            "\u001b[2K   \u001b[90m━━━━━━━━━━━━━━━━━━━━━━━━━━━━━━━━━━━━━━━━\u001b[0m \u001b[32m141.9/141.9 kB\u001b[0m \u001b[31m6.8 MB/s\u001b[0m eta \u001b[36m0:00:00\u001b[0m\n",
            "\u001b[?25hDownloading python_multipart-0.0.12-py3-none-any.whl (23 kB)\n",
            "Downloading ruff-0.6.8-py3-none-manylinux_2_17_x86_64.manylinux2014_x86_64.whl (10.9 MB)\n",
            "\u001b[2K   \u001b[90m━━━━━━━━━━━━━━━━━━━━━━━━━━━━━━━━━━━━━━━━\u001b[0m \u001b[32m10.9/10.9 MB\u001b[0m \u001b[31m57.0 MB/s\u001b[0m eta \u001b[36m0:00:00\u001b[0m\n",
            "\u001b[?25hDownloading semantic_version-2.10.0-py2.py3-none-any.whl (15 kB)\n",
            "Downloading uvicorn-0.31.0-py3-none-any.whl (63 kB)\n",
            "\u001b[2K   \u001b[90m━━━━━━━━━━━━━━━━━━━━━━━━━━━━━━━━━━━━━━━━\u001b[0m \u001b[32m63.7/63.7 kB\u001b[0m \u001b[31m3.5 MB/s\u001b[0m eta \u001b[36m0:00:00\u001b[0m\n",
            "\u001b[?25hDownloading ffmpy-0.4.0-py3-none-any.whl (5.8 kB)\n",
            "Downloading pydub-0.25.1-py2.py3-none-any.whl (32 kB)\n",
            "Downloading starlette-0.38.6-py3-none-any.whl (71 kB)\n",
            "\u001b[2K   \u001b[90m━━━━━━━━━━━━━━━━━━━━━━━━━━━━━━━━━━━━━━━━\u001b[0m \u001b[32m71.5/71.5 kB\u001b[0m \u001b[31m2.5 MB/s\u001b[0m eta \u001b[36m0:00:00\u001b[0m\n",
            "\u001b[?25hDownloading websockets-12.0-cp310-cp310-manylinux_2_5_x86_64.manylinux1_x86_64.manylinux_2_17_x86_64.manylinux2014_x86_64.whl (130 kB)\n",
            "\u001b[2K   \u001b[90m━━━━━━━━━━━━━━━━━━━━━━━━━━━━━━━━━━━━━━━━\u001b[0m \u001b[32m130.2/130.2 kB\u001b[0m \u001b[31m7.6 MB/s\u001b[0m eta \u001b[36m0:00:00\u001b[0m\n",
            "\u001b[?25hInstalling collected packages: pydub, websockets, uvicorn, tomlkit, semantic-version, ruff, python-multipart, orjson, ffmpy, aiofiles, starlette, gradio-client, fastapi, gradio\n",
            "Successfully installed aiofiles-23.2.1 fastapi-0.115.0 ffmpy-0.4.0 gradio-4.44.1 gradio-client-1.3.0 orjson-3.10.7 pydub-0.25.1 python-multipart-0.0.12 ruff-0.6.8 semantic-version-2.10.0 starlette-0.38.6 tomlkit-0.12.0 uvicorn-0.31.0 websockets-12.0\n"
          ]
        }
      ]
    },
    {
      "cell_type": "code",
      "source": [
        "import gradio as gr\n",
        "from gradio.themes.base import Base\n",
        "\n",
        "class Seafoam(Base):\n",
        "    pass\n",
        "seafoam = Seafoam()\n",
        "\n",
        "with gr.Blocks(theme=seafoam) as demo: #'JohnSmith9982/small_and_pretty'\n",
        "    def default_llm(message):\n",
        "        prompt_text = f\"\"\"\n",
        "        당신은 영화 추천 시스템을 탑재한 챗봇입니다. user_input 에 대답하되, 사용자에게 좋아하는 영화나 장르 등을 말해보라고 권고해보세요.\n",
        "        user_input : {message}\n",
        "        \"\"\"\n",
        "        return llm.invoke(prompt_text).content\n",
        "\n",
        "    def intent_detection(message):\n",
        "        prompt_text = f\"\"\"\n",
        "        주어진 query_text 가 영화 추천을 받기 위한 본격적인 질문으로 보이면 True를 반환하고, 그렇지 않으면 False를 반환해주세요.\n",
        "        예시 : [(\"query_text\": \"안녕 반가워\", \"answer\": \"False\"), (\"query_text\": \"네가 영화추천을 그렇게 잘한다며?\", \"answer\": \"False\"), (\"query_text\": \"Titanic 영화와 비슷한 장르의 영화를 추천해줄래?\", \"answer\": \"True\")]\n",
        "        query_text : {message}\n",
        "        \"\"\"\n",
        "        return llm.invoke(prompt_text).content == 'True'\n",
        "\n",
        "    def response(message, chat_history):\n",
        "        #### INTENT DETECTION ####\n",
        "        if(intent_detection(message)):\n",
        "            #### ANSWER ####\n",
        "            rag_result = rag.search(query_text=message\n",
        "                                    + \"(Please also provide evidence for how you used context in your answer. YOU MUST ANSWER in KOREAN PLEASE.)\"\n",
        "                                    , return_context = True)\n",
        "            chat_history.append((message, rag_result.answer))\n",
        "            return chat_history, rag_result.retriever_result.metadata['cypher'], rag_result.retriever_result.items\n",
        "        else:\n",
        "            llm_result = default_llm(message)\n",
        "            chat_history.append((message, llm_result))\n",
        "            return chat_history, \"영화 관련 질문이 아니었어요.\", \"영화 관련 질문이 아니었어요.\"\n",
        "\n",
        "    with gr.Row():\n",
        "        with gr.Column(scale=4):\n",
        "            gr.HTML(\"\"\"<div style=\"text-align: center; max-width: 1000px; margin: 10px auto;\">\n",
        "                <div>\n",
        "                    <h1>Graph RAG 챗봇 !</h1>\n",
        "                </div>\n",
        "                <p style=\"margin-bottom: 10px; font-size: 95%\">\n",
        "                    💭 Graph DB의 영화 리뷰 데이터셋을 기반으로 답변합니다. 답변에 사용한 DB 조회 결과를 함께 확인해보세요. </a>\n",
        "                </p>\n",
        "            </div>\"\"\")\n",
        "\n",
        "\n",
        "    with gr.Row():\n",
        "        with gr.Column(scale = 1):\n",
        "            generated_query = gr.Textbox(label=\"생성된 Cypher 쿼리\")\n",
        "            query_result = gr.Textbox(label=\"쿼리 조회 결과\")\n",
        "        with gr.Column(scale = 3):\n",
        "            chatbot = gr.Chatbot()\n",
        "            msg = gr.Textbox(placeholder=\"어떤 영화를 추천받고 싶으신가요? (원하는 장르나 재밌게 봤던 영화를 함께 말하면 도움이 됩니다.)\", label=\"입력\")\n",
        "            examples = gr.Examples(\n",
        "                examples=[\n",
        "                    \"저는 'Net, The' 와 같은 영화를 좋아합니다. 이 영화와 비슷한 영화 추천해줄 수 있나요?\",\n",
        "                    \"영화 'Inception'과 비슷한 장르 혹은 비슷한 분위기의 영화를 추천해주세요.\"\n",
        "                ],\n",
        "                inputs=[msg],\n",
        "            )\n",
        "            with gr.Row():\n",
        "                gr.HTML(\"\"\"<div style=\"text-align: center; max-width: 500px; margin: 0px auto;\">\n",
        "                    <div>\n",
        "                        <h1>  </h1>\n",
        "                    </p>\n",
        "                </div>\"\"\")\n",
        "                gr.HTML(\"\"\"<div style=\"text-align: center; max-width: 500px; margin: 0px auto;\">\n",
        "                    <div>\n",
        "                        <h1>  </h1>\n",
        "                    </p>\n",
        "                </div>\"\"\")\n",
        "                btn = gr.Button(\"Submit\", variant=\"primary\")\n",
        "                clear = gr.Button(\"Clear\")\n",
        "\n",
        "    btn.click(fn=response, inputs=[msg, chatbot], outputs=[chatbot, generated_query, query_result])\n",
        "    msg.submit(response, [msg, chatbot], [chatbot, generated_query, query_result])\n",
        "\n",
        "    clear.click(lambda: None, None, msg, queue=False)\n",
        "\n",
        "demo.launch(debug=True, share=True)#debug=True, share=True"
      ],
      "metadata": {
        "colab": {
          "base_uri": "https://localhost:8080/",
          "height": 651
        },
        "id": "chGxy2Bvjcpb",
        "outputId": "39cdb19d-b6ec-4bf5-835e-d4a9c561f204"
      },
      "execution_count": null,
      "outputs": [
        {
          "output_type": "stream",
          "name": "stdout",
          "text": [
            "Colab notebook detected. This cell will run indefinitely so that you can see errors and logs. To turn off, set debug=False in launch().\n",
            "Running on public URL: https://7c169af5eec5323445.gradio.live\n",
            "\n",
            "This share link expires in 72 hours. For free permanent hosting and GPU upgrades, run `gradio deploy` from Terminal to deploy to Spaces (https://huggingface.co/spaces)\n"
          ]
        },
        {
          "output_type": "display_data",
          "data": {
            "text/plain": [
              "<IPython.core.display.HTML object>"
            ],
            "text/html": [
              "<div><iframe src=\"https://7c169af5eec5323445.gradio.live\" width=\"100%\" height=\"500\" allow=\"autoplay; camera; microphone; clipboard-read; clipboard-write;\" frameborder=\"0\" allowfullscreen></iframe></div>"
            ]
          },
          "metadata": {}
        },
        {
          "output_type": "stream",
          "name": "stdout",
          "text": [
            "Keyboard interruption in main thread... closing server.\n",
            "Killing tunnel 127.0.0.1:7860 <> https://7c169af5eec5323445.gradio.live\n"
          ]
        },
        {
          "output_type": "execute_result",
          "data": {
            "text/plain": []
          },
          "metadata": {},
          "execution_count": 19
        }
      ]
    },
    {
      "cell_type": "code",
      "source": [],
      "metadata": {
        "id": "SZ_L9HWxT4tZ"
      },
      "execution_count": null,
      "outputs": []
    }
  ]
}