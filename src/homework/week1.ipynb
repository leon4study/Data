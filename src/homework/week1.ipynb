{
 "cells": [
  {
   "cell_type": "code",
   "execution_count": 2,
   "metadata": {},
   "outputs": [
    {
     "name": "stdout",
     "output_type": "stream",
     "text": [
      "숫자들의 평균: 30.0\n"
     ]
    }
   ],
   "source": [
    "numbers = [10, 20, 30, 40, 50]\n",
    "\n",
    "def calculate_avg(numbers):\n",
    "    return sum(numbers)/len(numbers)\n",
    "\n",
    "total_avg = calculate_avg(numbers)\n",
    "print(\"숫자들의 평균:\", total_avg)"
   ]
  },
  {
   "cell_type": "code",
   "execution_count": 3,
   "metadata": {},
   "outputs": [
    {
     "name": "stdout",
     "output_type": "stream",
     "text": [
      "일교차: 40\n"
     ]
    }
   ],
   "source": [
    "# 예시 데이터\n",
    "numbers = [10, 20, 30, 40, 50]\n",
    "\n",
    "def calculate_diff_temperature(numbers):\n",
    "    return max(numbers)-min(numbers)\n",
    "\n",
    "diff_temp= calculate_diff_temperature(numbers)\n",
    "print(\"일교차:\", diff_temp)"
   ]
  },
  {
   "cell_type": "code",
   "execution_count": 4,
   "metadata": {},
   "outputs": [
    {
     "name": "stdout",
     "output_type": "stream",
     "text": [
      "apple\n"
     ]
    }
   ],
   "source": [
    "def find_top_seller(sales_data):\n",
    "    return [ i for i,j in sales_data.items() if j == max(sales_data.values())][0]\n",
    "# 테스트\n",
    "sales_data = {\"apple\": 50, \"orange\": 2, \"banana\" : 30}\n",
    "print(find_top_seller(sales_data))  # 출력: 'apple'\n"
   ]
  },
  {
   "cell_type": "code",
   "execution_count": 5,
   "metadata": {},
   "outputs": [],
   "source": [
    "sales_data = {\"apple\": 50, \"orange\": 2, \"banana\" : 30}"
   ]
  },
  {
   "cell_type": "code",
   "execution_count": 6,
   "metadata": {},
   "outputs": [
    {
     "name": "stdout",
     "output_type": "stream",
     "text": [
      "apple\n"
     ]
    }
   ],
   "source": [
    "max = 0\n",
    "for i in sales_data.items():\n",
    "    name, number = i\n",
    "    if(number > max):\n",
    "        max = number\n",
    "\n",
    "for i in sales_data.items():\n",
    "    name, number = i\n",
    "    if (number == max):\n",
    "        print(name)"
   ]
  },
  {
   "cell_type": "code",
   "execution_count": 34,
   "metadata": {},
   "outputs": [
    {
     "name": "stdout",
     "output_type": "stream",
     "text": [
      "15\n",
      "5\n",
      "50\n",
      "Cannot divide by zero\n"
     ]
    }
   ],
   "source": [
    "def simple_calculator(num1, num2, operator):\n",
    "    experssion = str(num1) + operator + str(num2)\n",
    "    try:\n",
    "        result = eval(experssion)\n",
    "    except ZeroDivisionError:\n",
    "        result = \"Cannot divide by zero\"\n",
    "    return result\n",
    "\n",
    "\n",
    "# 테스트\n",
    "print(simple_calculator(10, 5, '+'))  # 출력: 15\n",
    "print(simple_calculator(10, 5, '-'))  # 출력: 5\n",
    "print(simple_calculator(10, 5, '*'))  # 출력: 50\n",
    "print(simple_calculator(10, 0, '/'))  # 출력: 'Cannot divide by zero'"
   ]
  },
  {
   "cell_type": "code",
   "execution_count": 2,
   "metadata": {},
   "outputs": [
    {
     "name": "stdout",
     "output_type": "stream",
     "text": [
      "example@example.com 유효한 이메일 주소입니다\n",
      "wrongemail@com 유효하지 않은 이메일 주소입니다.\n",
      "anotherexample.com 유효하지 않은 이메일 주소입니다.\n",
      "correct@email.co.uk 유효한 이메일 주소입니다\n"
     ]
    }
   ],
   "source": [
    "import re\n",
    "\n",
    "def validate_emails(email_list):\n",
    "    for e in email_list:\n",
    "        if re.match(r'[a-zA-Z0-9]+@[a-zA-Z0-9]+\\.[a-zA-Z0-9]', e ) :\n",
    "            print(e, \"유효한 이메일 주소입니다\")\n",
    "        else:\n",
    "            print(e, \"유효하지 않은 이메일 주소입니다.\")\n",
    "\n",
    "\n",
    "# 이메일 목록\n",
    "email_list = [\n",
    "    \"example@example.com\",\n",
    "    \"wrongemail@com\",\n",
    "    \"anotherexample.com\",\n",
    "    \"correct@email.co.uk\"\n",
    "]\n",
    "\n",
    "# 이메일 유효성 검사 실행\n",
    "validate_emails(email_list)"
   ]
  },
  {
   "cell_type": "code",
   "execution_count": 43,
   "metadata": {},
   "outputs": [
    {
     "name": "stdout",
     "output_type": "stream",
     "text": [
      "[('a', 5), ('b', 2), ('r', 2), ('c', 1), ('d', 1), ('1', 2), ('2', 2), ('3', 2)]\n"
     ]
    }
   ],
   "source": [
    "def remove_duplicates_and_count(s):\n",
    "    dict1 = dict()\n",
    "    for i in s:\n",
    "        if i in dict1:\n",
    "            dict1[i] +=1\n",
    "        else :\n",
    "            dict1[i] = 1\n",
    "    return [(i,j) for i,j  in dict1.items()]\n",
    "\n",
    "input_string = \"abracadabra123321\"\n",
    "result = remove_duplicates_and_count(input_string)\n",
    "print(result)\n"
   ]
  },
  {
   "cell_type": "code",
   "execution_count": 40,
   "metadata": {},
   "outputs": [
    {
     "name": "stdout",
     "output_type": "stream",
     "text": [
      "John Doe의 이동 거리: 7.07 미터\n",
      "Jane Smith의 이동 거리: 9.08 미터\n",
      "Mike Brown의 이동 거리: 10.0 미터\n"
     ]
    }
   ],
   "source": [
    "def calculate_total_distances(player_positions):\n",
    "    for n,loc in player_positions.items():\n",
    "        distance = 0\n",
    "        for i in range(len(loc)-1):\n",
    "            a1,b1 = loc[i]\n",
    "            a2,b2= loc[i+1]\n",
    "            distance += ((a1-a2)**2+(b1-b2)**2)**(1/2)\n",
    "        print(n+\"의 이동 거리:\", round(distance,2), \"미터\")\n",
    "\n",
    "\n",
    "\n",
    "# 선수별 위치 데이터\n",
    "player_positions = {\n",
    "    \"John Doe\": [(0, 0), (1, 1), (2, 2), (5, 5)],\n",
    "    \"Jane Smith\": [(2, 2), (3, 8), (6, 8)],\n",
    "    \"Mike Brown\": [(0, 0), (3, 4), (6, 8)]\n",
    "}\n",
    "\n",
    "# 총 누적 이동 거리 계산 실행\n",
    "calculate_total_distances(player_positions)"
   ]
  },
  {
   "cell_type": "code",
   "execution_count": 44,
   "metadata": {},
   "outputs": [
    {
     "name": "stdout",
     "output_type": "stream",
     "text": [
      "[삼five이사] 에 대한 암호는 [3524]로, 한글은 [3]개, 영어는 [1]개 입력되었습니다.\n",
      "[zero오six칠] 에 대한 암호는 [0567]로, 한글은 [2]개, 영어는 [2]개 입력되었습니다.\n",
      "[foureight삼구] 에 대한 암호는 [4839]로, 한글은 [2]개, 영어는 [2]개 입력되었습니다.\n",
      "[이sevenfour팔] 에 대한 암호는 [2748]로, 한글은 [2]개, 영어는 [2]개 입력되었습니다.\n",
      "[nine일이삼] 에 대한 암호는 [9123]로, 한글은 [3]개, 영어는 [1]개 입력되었습니다.\n",
      "[ninenineninenine] 에 대한 암호는 [9999]로, 한글은 [0]개, 영어는 [4]개 입력되었습니다.\n"
     ]
    }
   ],
   "source": [
    "def password_decryptor(password_list):\n",
    "    kor = ['영','일','이','삼','사','오','육','칠','팔','구']\n",
    "    eng = ['zero','one','two','three','four','five','six','seven','eight','nine']\n",
    "    num = ['0','1','2','3','4','5','6','7','8','9']\n",
    "    \n",
    "    for p in password_list:\n",
    "        p_copy = p\n",
    "        kCount = 0\n",
    "        eCount = 0\n",
    "        for _ in range(4):\n",
    "            for k in kor:\n",
    "                if k in p_copy:\n",
    "                    p_copy = p_copy.replace(k,num[kor.index(k)],1)\n",
    "                    kCount += 1\n",
    "            for e in eng:\n",
    "                if e in p_copy:\n",
    "                    p_copy = p_copy.replace(e,num[eng.index(e)],1)\n",
    "                    eCount +=1\n",
    "        print(\"[{}] 에 대한 암호는 [{}]로, 한글은 [{}]개, 영어는 [{}]개 입력되었습니다.\"\n",
    "            .format(p, p_copy,kCount, eCount))\n",
    "\n",
    "\n",
    "\n",
    "# 암호 목록\n",
    "password_list = [\n",
    "    \"삼five이사\",\n",
    "    \"zero오six칠\",\n",
    "    \"foureight삼구\",\n",
    "    \"이sevenfour팔\",\n",
    "    \"nine일이삼\",\n",
    "    \"ninenineninenine\"\n",
    "]\n",
    "\n",
    "password_decryptor(password_list)"
   ]
  }
 ],
 "metadata": {
  "kernelspec": {
   "display_name": "leo4study",
   "language": "python",
   "name": "python3"
  },
  "language_info": {
   "codemirror_mode": {
    "name": "ipython",
    "version": 3
   },
   "file_extension": ".py",
   "mimetype": "text/x-python",
   "name": "python",
   "nbconvert_exporter": "python",
   "pygments_lexer": "ipython3",
   "version": "3.11.9"
  }
 },
 "nbformat": 4,
 "nbformat_minor": 2
}
