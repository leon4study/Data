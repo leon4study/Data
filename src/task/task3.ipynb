{
 "cells": [
  {
   "cell_type": "markdown",
   "metadata": {},
   "source": [
    "라이브러리 import"
   ]
  },
  {
   "cell_type": "code",
   "execution_count": 90,
   "metadata": {},
   "outputs": [],
   "source": [
    "import pandas as pd\n",
    "import numpy as np \n",
    "import os\n",
    "import scipy.stats as stats\n",
    "import matplotlib.pyplot as plt\n",
    "import seaborn as sns\n",
    "from sklearn.linear_model import LinearRegression"
   ]
  },
  {
   "cell_type": "code",
   "execution_count": 91,
   "metadata": {},
   "outputs": [
    {
     "data": {
      "text/plain": [
       "['statistics.csv']"
      ]
     },
     "execution_count": 91,
     "metadata": {},
     "output_type": "execute_result"
    }
   ],
   "source": [
    "data_path = '/Users/jun/GitStudy/Data_4/Data/statistic/'\n",
    "os.chdir(data_path)\n",
    "os.listdir()"
   ]
  },
  {
   "cell_type": "markdown",
   "metadata": {},
   "source": [
    "# 1. 기초통계"
   ]
  },
  {
   "cell_type": "markdown",
   "metadata": {},
   "source": [
    "## statistics csv 파일을 읽고, 성별 Review Rating 에 대한 평균과 중앙값을 구해주세요.\n",
    "(결과는 소수점 둘째자리까지 표현해주세요.)"
   ]
  },
  {
   "cell_type": "code",
   "execution_count": 92,
   "metadata": {},
   "outputs": [
    {
     "data": {
      "text/html": [
       "<div>\n",
       "<style scoped>\n",
       "    .dataframe tbody tr th:only-of-type {\n",
       "        vertical-align: middle;\n",
       "    }\n",
       "\n",
       "    .dataframe tbody tr th {\n",
       "        vertical-align: top;\n",
       "    }\n",
       "\n",
       "    .dataframe thead th {\n",
       "        text-align: right;\n",
       "    }\n",
       "</style>\n",
       "<table border=\"1\" class=\"dataframe\">\n",
       "  <thead>\n",
       "    <tr style=\"text-align: right;\">\n",
       "      <th></th>\n",
       "      <th>Customer ID</th>\n",
       "      <th>Age</th>\n",
       "      <th>Gender</th>\n",
       "      <th>Item Purchased</th>\n",
       "      <th>Category</th>\n",
       "      <th>Purchase Amount (USD)</th>\n",
       "      <th>Location</th>\n",
       "      <th>Size</th>\n",
       "      <th>Color</th>\n",
       "      <th>Season</th>\n",
       "      <th>Review Rating</th>\n",
       "      <th>Subscription Status</th>\n",
       "      <th>Shipping Type</th>\n",
       "      <th>Discount Applied</th>\n",
       "      <th>Promo Code Used</th>\n",
       "      <th>Previous Purchases</th>\n",
       "      <th>Payment Method</th>\n",
       "      <th>Frequency of Purchases</th>\n",
       "    </tr>\n",
       "  </thead>\n",
       "  <tbody>\n",
       "    <tr>\n",
       "      <th>0</th>\n",
       "      <td>1</td>\n",
       "      <td>55</td>\n",
       "      <td>Male</td>\n",
       "      <td>Blouse</td>\n",
       "      <td>Clothing</td>\n",
       "      <td>53</td>\n",
       "      <td>Kentucky</td>\n",
       "      <td>L</td>\n",
       "      <td>Gray</td>\n",
       "      <td>Winter</td>\n",
       "      <td>3.1</td>\n",
       "      <td>Yes</td>\n",
       "      <td>Express</td>\n",
       "      <td>Yes</td>\n",
       "      <td>Yes</td>\n",
       "      <td>14</td>\n",
       "      <td>Venmo</td>\n",
       "      <td>Fortnightly</td>\n",
       "    </tr>\n",
       "    <tr>\n",
       "      <th>1</th>\n",
       "      <td>2</td>\n",
       "      <td>19</td>\n",
       "      <td>Male</td>\n",
       "      <td>Sweater</td>\n",
       "      <td>Clothing</td>\n",
       "      <td>64</td>\n",
       "      <td>Maine</td>\n",
       "      <td>L</td>\n",
       "      <td>Maroon</td>\n",
       "      <td>Winter</td>\n",
       "      <td>3.1</td>\n",
       "      <td>Yes</td>\n",
       "      <td>Express</td>\n",
       "      <td>Yes</td>\n",
       "      <td>Yes</td>\n",
       "      <td>2</td>\n",
       "      <td>Cash</td>\n",
       "      <td>Fortnightly</td>\n",
       "    </tr>\n",
       "    <tr>\n",
       "      <th>2</th>\n",
       "      <td>3</td>\n",
       "      <td>50</td>\n",
       "      <td>Male</td>\n",
       "      <td>Jeans</td>\n",
       "      <td>Clothing</td>\n",
       "      <td>73</td>\n",
       "      <td>Massachusetts</td>\n",
       "      <td>S</td>\n",
       "      <td>Maroon</td>\n",
       "      <td>Spring</td>\n",
       "      <td>3.1</td>\n",
       "      <td>Yes</td>\n",
       "      <td>Free Shipping</td>\n",
       "      <td>Yes</td>\n",
       "      <td>Yes</td>\n",
       "      <td>23</td>\n",
       "      <td>Credit Card</td>\n",
       "      <td>Weekly</td>\n",
       "    </tr>\n",
       "    <tr>\n",
       "      <th>3</th>\n",
       "      <td>4</td>\n",
       "      <td>21</td>\n",
       "      <td>Male</td>\n",
       "      <td>Sandals</td>\n",
       "      <td>Footwear</td>\n",
       "      <td>90</td>\n",
       "      <td>Rhode Island</td>\n",
       "      <td>M</td>\n",
       "      <td>Maroon</td>\n",
       "      <td>Spring</td>\n",
       "      <td>3.5</td>\n",
       "      <td>Yes</td>\n",
       "      <td>Next Day Air</td>\n",
       "      <td>Yes</td>\n",
       "      <td>Yes</td>\n",
       "      <td>49</td>\n",
       "      <td>PayPal</td>\n",
       "      <td>Weekly</td>\n",
       "    </tr>\n",
       "    <tr>\n",
       "      <th>4</th>\n",
       "      <td>5</td>\n",
       "      <td>45</td>\n",
       "      <td>Male</td>\n",
       "      <td>Blouse</td>\n",
       "      <td>Clothing</td>\n",
       "      <td>49</td>\n",
       "      <td>Oregon</td>\n",
       "      <td>M</td>\n",
       "      <td>Turquoise</td>\n",
       "      <td>Spring</td>\n",
       "      <td>2.7</td>\n",
       "      <td>Yes</td>\n",
       "      <td>Free Shipping</td>\n",
       "      <td>Yes</td>\n",
       "      <td>Yes</td>\n",
       "      <td>31</td>\n",
       "      <td>PayPal</td>\n",
       "      <td>Annually</td>\n",
       "    </tr>\n",
       "  </tbody>\n",
       "</table>\n",
       "</div>"
      ],
      "text/plain": [
       "   Customer ID  Age Gender Item Purchased  Category  Purchase Amount (USD)  \\\n",
       "0            1   55   Male         Blouse  Clothing                     53   \n",
       "1            2   19   Male        Sweater  Clothing                     64   \n",
       "2            3   50   Male          Jeans  Clothing                     73   \n",
       "3            4   21   Male        Sandals  Footwear                     90   \n",
       "4            5   45   Male         Blouse  Clothing                     49   \n",
       "\n",
       "        Location Size      Color  Season  Review Rating Subscription Status  \\\n",
       "0       Kentucky    L       Gray  Winter            3.1                 Yes   \n",
       "1          Maine    L     Maroon  Winter            3.1                 Yes   \n",
       "2  Massachusetts    S     Maroon  Spring            3.1                 Yes   \n",
       "3   Rhode Island    M     Maroon  Spring            3.5                 Yes   \n",
       "4         Oregon    M  Turquoise  Spring            2.7                 Yes   \n",
       "\n",
       "   Shipping Type Discount Applied Promo Code Used  Previous Purchases  \\\n",
       "0        Express              Yes             Yes                  14   \n",
       "1        Express              Yes             Yes                   2   \n",
       "2  Free Shipping              Yes             Yes                  23   \n",
       "3   Next Day Air              Yes             Yes                  49   \n",
       "4  Free Shipping              Yes             Yes                  31   \n",
       "\n",
       "  Payment Method Frequency of Purchases  \n",
       "0          Venmo            Fortnightly  \n",
       "1           Cash            Fortnightly  \n",
       "2    Credit Card                 Weekly  \n",
       "3         PayPal                 Weekly  \n",
       "4         PayPal               Annually  "
      ]
     },
     "execution_count": 92,
     "metadata": {},
     "output_type": "execute_result"
    }
   ],
   "source": [
    "statistics_df = pd.read_csv('statistics.csv')\n",
    "statistics_df.head()"
   ]
  },
  {
   "cell_type": "markdown",
   "metadata": {},
   "source": [
    "### 1. groupby().agg() 사용"
   ]
  },
  {
   "cell_type": "code",
   "execution_count": 93,
   "metadata": {},
   "outputs": [
    {
     "data": {
      "text/html": [
       "<div>\n",
       "<style scoped>\n",
       "    .dataframe tbody tr th:only-of-type {\n",
       "        vertical-align: middle;\n",
       "    }\n",
       "\n",
       "    .dataframe tbody tr th {\n",
       "        vertical-align: top;\n",
       "    }\n",
       "\n",
       "    .dataframe thead th {\n",
       "        text-align: right;\n",
       "    }\n",
       "</style>\n",
       "<table border=\"1\" class=\"dataframe\">\n",
       "  <thead>\n",
       "    <tr style=\"text-align: right;\">\n",
       "      <th></th>\n",
       "      <th>mean</th>\n",
       "      <th>median</th>\n",
       "    </tr>\n",
       "    <tr>\n",
       "      <th>Gender</th>\n",
       "      <th></th>\n",
       "      <th></th>\n",
       "    </tr>\n",
       "  </thead>\n",
       "  <tbody>\n",
       "    <tr>\n",
       "      <th>Female</th>\n",
       "      <td>3.74</td>\n",
       "      <td>3.7</td>\n",
       "    </tr>\n",
       "    <tr>\n",
       "      <th>Male</th>\n",
       "      <td>3.75</td>\n",
       "      <td>3.8</td>\n",
       "    </tr>\n",
       "  </tbody>\n",
       "</table>\n",
       "</div>"
      ],
      "text/plain": [
       "        mean  median\n",
       "Gender              \n",
       "Female  3.74     3.7\n",
       "Male    3.75     3.8"
      ]
     },
     "execution_count": 93,
     "metadata": {},
     "output_type": "execute_result"
    }
   ],
   "source": [
    "statistics_df.groupby('Gender')['Review Rating'].agg(['mean','median']).round(2)"
   ]
  },
  {
   "cell_type": "markdown",
   "metadata": {},
   "source": [
    "### 2. pandas 조건문 describe() 사용"
   ]
  },
  {
   "cell_type": "code",
   "execution_count": 94,
   "metadata": {},
   "outputs": [
    {
     "data": {
      "text/plain": [
       "count    2652.00\n",
       "mean        3.75\n",
       "std         0.71\n",
       "min         2.50\n",
       "25%         3.10\n",
       "50%         3.80\n",
       "75%         4.40\n",
       "max         5.00\n",
       "Name: Review Rating, dtype: float64"
      ]
     },
     "execution_count": 94,
     "metadata": {},
     "output_type": "execute_result"
    }
   ],
   "source": [
    "statistics_df[statistics_df['Gender'] == 'Male']['Review Rating'].describe().round(2)"
   ]
  },
  {
   "cell_type": "code",
   "execution_count": 95,
   "metadata": {},
   "outputs": [
    {
     "data": {
      "text/plain": [
       "count    1248.00\n",
       "mean        3.74\n",
       "std         0.72\n",
       "min         2.50\n",
       "25%         3.10\n",
       "50%         3.70\n",
       "75%         4.30\n",
       "max         5.00\n",
       "Name: Review Rating, dtype: float64"
      ]
     },
     "execution_count": 95,
     "metadata": {},
     "output_type": "execute_result"
    }
   ],
   "source": [
    "statistics_df[statistics_df['Gender'] == 'Female']['Review Rating'].describe().round(2)"
   ]
  },
  {
   "cell_type": "markdown",
   "metadata": {},
   "source": [
    "### 해석\n",
    "statistics.csv 에서 성별 평균값과 중앙값을 확인해보면\n",
    "\n",
    "\n",
    ">남성의 평균값 : 3.75 , 중앙값 : 3.7</br>\n",
    "여성의 평균값 : 3.74 , 중앙값 : 3.8\n",
    "\n",
    "\n",
    "- 남성과 여성 모두 평균 평점(3.75/3.74)과 표준편차(표준편차 약 0.71/0.72)가 거의 동일하고 중앙값(3.7/3.8) 또한 비슷하다.\n",
    "- 남성의 리뷰 수가 약 2배 이상 많음."
   ]
  },
  {
   "cell_type": "markdown",
   "metadata": {},
   "source": [
    "</br>\n",
    "\n",
    "# 2. 통계적 가설검정"
   ]
  },
  {
   "cell_type": "markdown",
   "metadata": {},
   "source": [
    "성별, Review Rating 컬럼에 대한 T-TEST 를 진행해주세요."
   ]
  },
  {
   "cell_type": "markdown",
   "metadata": {},
   "source": [
    "### 1) 귀무가설과 대립가설을 작성"
   ]
  },
  {
   "cell_type": "markdown",
   "metadata": {},
   "source": [
    "귀무가설 : 성별, Review Rating의 값의 차이가 없을 것이다.\n",
    "\n",
    "대립가설 : 성별, Review Rating의 값이 차이가 있을 것이다."
   ]
  },
  {
   "cell_type": "markdown",
   "metadata": {},
   "source": [
    "### 2) t-score, P-value 구하기"
   ]
  },
  {
   "cell_type": "code",
   "execution_count": 20,
   "metadata": {},
   "outputs": [
    {
     "name": "stdout",
     "output_type": "stream",
     "text": [
      "남성 평균 점수: 3.75\n",
      "여성 평균 점수: 3.74\n",
      "t-score: 0.5097147504896427\n",
      "P-value: 0.6102801734916257\n"
     ]
    }
   ],
   "source": [
    "# 남성, 여성의 Review Rating 값 가져오기\n",
    "male = statistics_df[statistics_df['Gender']=='Male']['Review Rating']\n",
    "female = statistics_df[statistics_df['Gender']=='Female']['Review Rating']\n",
    "\n",
    "# 평균 점수 계산\n",
    "mean_male = np.mean(male)\n",
    "mean_female = np.mean(female)\n",
    "\n",
    "# t-검정 수행\n",
    "t_stat, p_value = stats.ttest_ind(male, female)\n",
    "\n",
    "# 평균 점수\n",
    "print(\"남성 평균 점수: {:0.2f}\".format(mean_male))\n",
    "print(\"여성 평균 점수: {:0.2f}\".format(mean_female))\n",
    "print(f\"t-score: {t_stat}\")\n",
    "print(f\"P-value: {p_value}\")"
   ]
  },
  {
   "cell_type": "markdown",
   "metadata": {},
   "source": [
    "### 3) 귀무가설 채택/기각 여부"
   ]
  },
  {
   "cell_type": "markdown",
   "metadata": {},
   "source": [
    "#### 귀무가설이 채택되었다.\n",
    "\n",
    "근거\n",
    "- p-value는 귀무가설이 참일 때, 관찰된 결과 이상으로 극단적인 결과가 나올 확률을 의미함. 일반적으로 p-value가 유의수준(α)보다 작으면 귀무가설을 기각하게 된다. \n",
    "\n",
    "- 유의수준으로 많이 사용하는 값은 0.05\n",
    "\n",
    "- 해당 t-test 에서의 p-value를 확인해 보았을 때, `p_value` 의 값은 `0.61` 로 `유의수준(α)`인 `0.05` 보다 크고, 결과가 유의미하지 않다고 판단되어 귀무가설이 채택되었다."
   ]
  },
  {
   "cell_type": "markdown",
   "metadata": {},
   "source": [
    "</br>\n",
    "\n",
    "# 3. 통계적 가설검정2\n",
    "Color, Season 컬럼에 대한 카이제곱 검정을 진행해주세요."
   ]
  },
  {
   "cell_type": "markdown",
   "metadata": {},
   "source": [
    "### 1)귀무가설과 대립가설을 작성해주세요."
   ]
  },
  {
   "cell_type": "markdown",
   "metadata": {},
   "source": [
    "귀무가설 : 색상과 계절은 연관이 없을 것이다.\n",
    "\n",
    "대립가설 : 색상과 계절은 연관이 있을 것이다."
   ]
  },
  {
   "cell_type": "markdown",
   "metadata": {},
   "source": [
    "### 2)두 범주형 자료의 빈도표를 만들어주세요. 이를 코드로 작성하여 기재해주세요."
   ]
  },
  {
   "cell_type": "code",
   "execution_count": 21,
   "metadata": {},
   "outputs": [
    {
     "data": {
      "text/html": [
       "<div>\n",
       "<style scoped>\n",
       "    .dataframe tbody tr th:only-of-type {\n",
       "        vertical-align: middle;\n",
       "    }\n",
       "\n",
       "    .dataframe tbody tr th {\n",
       "        vertical-align: top;\n",
       "    }\n",
       "\n",
       "    .dataframe thead th {\n",
       "        text-align: right;\n",
       "    }\n",
       "</style>\n",
       "<table border=\"1\" class=\"dataframe\">\n",
       "  <thead>\n",
       "    <tr style=\"text-align: right;\">\n",
       "      <th></th>\n",
       "      <th>Season</th>\n",
       "      <th>Color</th>\n",
       "      <th>Customer ID</th>\n",
       "    </tr>\n",
       "  </thead>\n",
       "  <tbody>\n",
       "    <tr>\n",
       "      <th>0</th>\n",
       "      <td>Fall</td>\n",
       "      <td>Beige</td>\n",
       "      <td>34</td>\n",
       "    </tr>\n",
       "    <tr>\n",
       "      <th>1</th>\n",
       "      <td>Fall</td>\n",
       "      <td>Black</td>\n",
       "      <td>42</td>\n",
       "    </tr>\n",
       "    <tr>\n",
       "      <th>2</th>\n",
       "      <td>Fall</td>\n",
       "      <td>Blue</td>\n",
       "      <td>32</td>\n",
       "    </tr>\n",
       "    <tr>\n",
       "      <th>3</th>\n",
       "      <td>Fall</td>\n",
       "      <td>Brown</td>\n",
       "      <td>35</td>\n",
       "    </tr>\n",
       "    <tr>\n",
       "      <th>4</th>\n",
       "      <td>Fall</td>\n",
       "      <td>Charcoal</td>\n",
       "      <td>32</td>\n",
       "    </tr>\n",
       "    <tr>\n",
       "      <th>...</th>\n",
       "      <td>...</td>\n",
       "      <td>...</td>\n",
       "      <td>...</td>\n",
       "    </tr>\n",
       "    <tr>\n",
       "      <th>95</th>\n",
       "      <td>Winter</td>\n",
       "      <td>Teal</td>\n",
       "      <td>37</td>\n",
       "    </tr>\n",
       "    <tr>\n",
       "      <th>96</th>\n",
       "      <td>Winter</td>\n",
       "      <td>Turquoise</td>\n",
       "      <td>41</td>\n",
       "    </tr>\n",
       "    <tr>\n",
       "      <th>97</th>\n",
       "      <td>Winter</td>\n",
       "      <td>Violet</td>\n",
       "      <td>37</td>\n",
       "    </tr>\n",
       "    <tr>\n",
       "      <th>98</th>\n",
       "      <td>Winter</td>\n",
       "      <td>White</td>\n",
       "      <td>36</td>\n",
       "    </tr>\n",
       "    <tr>\n",
       "      <th>99</th>\n",
       "      <td>Winter</td>\n",
       "      <td>Yellow</td>\n",
       "      <td>46</td>\n",
       "    </tr>\n",
       "  </tbody>\n",
       "</table>\n",
       "<p>100 rows × 3 columns</p>\n",
       "</div>"
      ],
      "text/plain": [
       "    Season      Color  Customer ID\n",
       "0     Fall      Beige           34\n",
       "1     Fall      Black           42\n",
       "2     Fall       Blue           32\n",
       "3     Fall      Brown           35\n",
       "4     Fall   Charcoal           32\n",
       "..     ...        ...          ...\n",
       "95  Winter       Teal           37\n",
       "96  Winter  Turquoise           41\n",
       "97  Winter     Violet           37\n",
       "98  Winter      White           36\n",
       "99  Winter     Yellow           46\n",
       "\n",
       "[100 rows x 3 columns]"
      ]
     },
     "execution_count": 21,
     "metadata": {},
     "output_type": "execute_result"
    }
   ],
   "source": [
    "# groupby로도 빈도표와 비슷하게 확인 가능\n",
    "statistics_df.groupby(['Season','Color'])['Customer ID'].count().reset_index()"
   ]
  },
  {
   "cell_type": "code",
   "execution_count": 22,
   "metadata": {},
   "outputs": [
    {
     "data": {
      "text/html": [
       "<div>\n",
       "<style scoped>\n",
       "    .dataframe tbody tr th:only-of-type {\n",
       "        vertical-align: middle;\n",
       "    }\n",
       "\n",
       "    .dataframe tbody tr th {\n",
       "        vertical-align: top;\n",
       "    }\n",
       "\n",
       "    .dataframe thead th {\n",
       "        text-align: right;\n",
       "    }\n",
       "</style>\n",
       "<table border=\"1\" class=\"dataframe\">\n",
       "  <thead>\n",
       "    <tr style=\"text-align: right;\">\n",
       "      <th>Color</th>\n",
       "      <th>Beige</th>\n",
       "      <th>Black</th>\n",
       "      <th>Blue</th>\n",
       "      <th>Brown</th>\n",
       "      <th>Charcoal</th>\n",
       "      <th>Cyan</th>\n",
       "      <th>Gold</th>\n",
       "      <th>Gray</th>\n",
       "      <th>Green</th>\n",
       "      <th>Indigo</th>\n",
       "      <th>...</th>\n",
       "      <th>Pink</th>\n",
       "      <th>Purple</th>\n",
       "      <th>Red</th>\n",
       "      <th>Silver</th>\n",
       "      <th>Teal</th>\n",
       "      <th>Turquoise</th>\n",
       "      <th>Violet</th>\n",
       "      <th>White</th>\n",
       "      <th>Yellow</th>\n",
       "      <th>All</th>\n",
       "    </tr>\n",
       "    <tr>\n",
       "      <th>Season</th>\n",
       "      <th></th>\n",
       "      <th></th>\n",
       "      <th></th>\n",
       "      <th></th>\n",
       "      <th></th>\n",
       "      <th></th>\n",
       "      <th></th>\n",
       "      <th></th>\n",
       "      <th></th>\n",
       "      <th></th>\n",
       "      <th></th>\n",
       "      <th></th>\n",
       "      <th></th>\n",
       "      <th></th>\n",
       "      <th></th>\n",
       "      <th></th>\n",
       "      <th></th>\n",
       "      <th></th>\n",
       "      <th></th>\n",
       "      <th></th>\n",
       "      <th></th>\n",
       "    </tr>\n",
       "  </thead>\n",
       "  <tbody>\n",
       "    <tr>\n",
       "      <th>Fall</th>\n",
       "      <td>34</td>\n",
       "      <td>42</td>\n",
       "      <td>32</td>\n",
       "      <td>35</td>\n",
       "      <td>32</td>\n",
       "      <td>43</td>\n",
       "      <td>36</td>\n",
       "      <td>44</td>\n",
       "      <td>37</td>\n",
       "      <td>37</td>\n",
       "      <td>...</td>\n",
       "      <td>35</td>\n",
       "      <td>37</td>\n",
       "      <td>42</td>\n",
       "      <td>39</td>\n",
       "      <td>40</td>\n",
       "      <td>27</td>\n",
       "      <td>44</td>\n",
       "      <td>27</td>\n",
       "      <td>50</td>\n",
       "      <td>975</td>\n",
       "    </tr>\n",
       "    <tr>\n",
       "      <th>Spring</th>\n",
       "      <td>39</td>\n",
       "      <td>43</td>\n",
       "      <td>39</td>\n",
       "      <td>33</td>\n",
       "      <td>42</td>\n",
       "      <td>42</td>\n",
       "      <td>38</td>\n",
       "      <td>48</td>\n",
       "      <td>38</td>\n",
       "      <td>37</td>\n",
       "      <td>...</td>\n",
       "      <td>44</td>\n",
       "      <td>43</td>\n",
       "      <td>31</td>\n",
       "      <td>37</td>\n",
       "      <td>46</td>\n",
       "      <td>41</td>\n",
       "      <td>45</td>\n",
       "      <td>36</td>\n",
       "      <td>40</td>\n",
       "      <td>999</td>\n",
       "    </tr>\n",
       "    <tr>\n",
       "      <th>Summer</th>\n",
       "      <td>37</td>\n",
       "      <td>42</td>\n",
       "      <td>46</td>\n",
       "      <td>33</td>\n",
       "      <td>36</td>\n",
       "      <td>42</td>\n",
       "      <td>30</td>\n",
       "      <td>40</td>\n",
       "      <td>44</td>\n",
       "      <td>32</td>\n",
       "      <td>...</td>\n",
       "      <td>29</td>\n",
       "      <td>38</td>\n",
       "      <td>36</td>\n",
       "      <td>59</td>\n",
       "      <td>49</td>\n",
       "      <td>36</td>\n",
       "      <td>40</td>\n",
       "      <td>43</td>\n",
       "      <td>38</td>\n",
       "      <td>955</td>\n",
       "    </tr>\n",
       "    <tr>\n",
       "      <th>Winter</th>\n",
       "      <td>37</td>\n",
       "      <td>40</td>\n",
       "      <td>35</td>\n",
       "      <td>40</td>\n",
       "      <td>43</td>\n",
       "      <td>39</td>\n",
       "      <td>34</td>\n",
       "      <td>27</td>\n",
       "      <td>50</td>\n",
       "      <td>41</td>\n",
       "      <td>...</td>\n",
       "      <td>45</td>\n",
       "      <td>33</td>\n",
       "      <td>39</td>\n",
       "      <td>38</td>\n",
       "      <td>37</td>\n",
       "      <td>41</td>\n",
       "      <td>37</td>\n",
       "      <td>36</td>\n",
       "      <td>46</td>\n",
       "      <td>971</td>\n",
       "    </tr>\n",
       "    <tr>\n",
       "      <th>All</th>\n",
       "      <td>147</td>\n",
       "      <td>167</td>\n",
       "      <td>152</td>\n",
       "      <td>141</td>\n",
       "      <td>153</td>\n",
       "      <td>166</td>\n",
       "      <td>138</td>\n",
       "      <td>159</td>\n",
       "      <td>169</td>\n",
       "      <td>147</td>\n",
       "      <td>...</td>\n",
       "      <td>153</td>\n",
       "      <td>151</td>\n",
       "      <td>148</td>\n",
       "      <td>173</td>\n",
       "      <td>172</td>\n",
       "      <td>145</td>\n",
       "      <td>166</td>\n",
       "      <td>142</td>\n",
       "      <td>174</td>\n",
       "      <td>3900</td>\n",
       "    </tr>\n",
       "  </tbody>\n",
       "</table>\n",
       "<p>5 rows × 26 columns</p>\n",
       "</div>"
      ],
      "text/plain": [
       "Color   Beige  Black  Blue  Brown  Charcoal  Cyan  Gold  Gray  Green  Indigo  \\\n",
       "Season                                                                         \n",
       "Fall       34     42    32     35        32    43    36    44     37      37   \n",
       "Spring     39     43    39     33        42    42    38    48     38      37   \n",
       "Summer     37     42    46     33        36    42    30    40     44      32   \n",
       "Winter     37     40    35     40        43    39    34    27     50      41   \n",
       "All       147    167   152    141       153   166   138   159    169     147   \n",
       "\n",
       "Color   ...  Pink  Purple  Red  Silver  Teal  Turquoise  Violet  White  \\\n",
       "Season  ...                                                              \n",
       "Fall    ...    35      37   42      39    40         27      44     27   \n",
       "Spring  ...    44      43   31      37    46         41      45     36   \n",
       "Summer  ...    29      38   36      59    49         36      40     43   \n",
       "Winter  ...    45      33   39      38    37         41      37     36   \n",
       "All     ...   153     151  148     173   172        145     166    142   \n",
       "\n",
       "Color   Yellow   All  \n",
       "Season                \n",
       "Fall        50   975  \n",
       "Spring      40   999  \n",
       "Summer      38   955  \n",
       "Winter      46   971  \n",
       "All        174  3900  \n",
       "\n",
       "[5 rows x 26 columns]"
      ]
     },
     "execution_count": 22,
     "metadata": {},
     "output_type": "execute_result"
    }
   ],
   "source": [
    "# 자료의 빈도표\n",
    "result = pd.crosstab(statistics_df['Season'],statistics_df['Color'], margins=True)\n",
    "result"
   ]
  },
  {
   "cell_type": "markdown",
   "metadata": {},
   "source": [
    "### 3)카이제곱통계량, P-value 를 구해주세요."
   ]
  },
  {
   "cell_type": "markdown",
   "metadata": {},
   "source": [
    "카이제곱 검정은 두 범주형 변수에 대한 분석 방법으로, 세가지 검증 방법이 있다.\n",
    "\n",
    "1. 적합도 검정 : 한 범주형 변수의 각 그룹 별 비율과 특정 상수비가 같은지 검증\n",
    "   >단일 변수의 분포가 기대값과 일치하는지 확인할 때 사용\n",
    "\n",
    "2. 독립성 검정 : 두 범주형 변수가 서로 독립인지 검정하는 것\n",
    "   >두 변수 간의 관계를 검증할 때 사용\n",
    "\n",
    "3. 동질성 검정 : 각 집단이 서로 유사한 성향을 갖는지 분석하는 것\n",
    "   >여러 집단이 동일한 분포를 보이는지 비교할 때 사용"
   ]
  },
  {
   "cell_type": "markdown",
   "metadata": {},
   "source": [
    "\"Season\"과 \"Color\" 두 범주형 변수가 서로 독립인지, 즉 `관련성이 없는지를 검증`해야 하므로 `독립성 검정을 진행`함."
   ]
  },
  {
   "cell_type": "code",
   "execution_count": 23,
   "metadata": {},
   "outputs": [
    {
     "name": "stdout",
     "output_type": "stream",
     "text": [
      "64.6506366841786 0.9976481762382112\n"
     ]
    }
   ],
   "source": [
    "# 카이제곱 검정 진행\n",
    "chi2_stat, p_value, dof, expected = stats.chi2_contingency(observed=result)\n",
    "print(chi2_stat,p_value)"
   ]
  },
  {
   "cell_type": "code",
   "execution_count": 24,
   "metadata": {},
   "outputs": [
    {
     "name": "stdout",
     "output_type": "stream",
     "text": [
      "카이제곱 통계량 : 64.6506366841786\n"
     ]
    }
   ],
   "source": [
    "# 카이제곱통계량\n",
    "# 값이 클수록 두 변수 간의 관계가 강하다는 의미일 수 있습니다.\n",
    "print(\"카이제곱 통계량 : {}\".format(chi2_stat))"
   ]
  },
  {
   "cell_type": "code",
   "execution_count": 13,
   "metadata": {},
   "outputs": [
    {
     "name": "stdout",
     "output_type": "stream",
     "text": [
      "p-value : 0.9976481762382112\n"
     ]
    }
   ],
   "source": [
    "# pvalue 확인\n",
    "print(\"p-value : {}\".format(p_value))"
   ]
  },
  {
   "cell_type": "markdown",
   "metadata": {},
   "source": [
    "### 4)그리고 이에 대한 귀무가설 채택/기각 여부와 그렇게 생각한 이유를 간략하게 설명해주세요."
   ]
  },
  {
   "cell_type": "markdown",
   "metadata": {},
   "source": [
    "#### 귀무가설이 채택되었다.\n",
    "\n",
    "근거\n",
    "- p-value는 귀무가설이 참일 때, 관찰된 결과 이상으로 극단적인 결과가 나올 확률을 의미함. 일반적으로 p-value가 유의수준(α)보다 작으면 귀무가설을 기각하게 된다. \n",
    "\n",
    "- 유의수준으로 많이 사용하는 값은 0.05\n",
    "\n",
    "- 해당 t-test 에서의 p-value를 확인해 보았을 때, `p_value` 의 값은 `0.99` 로 `유의수준(α)`인 `0.05` 보다 크고, 결과가 유의미하지 않다고 판단되어 귀무가설이 채택되었다.\n",
    "\n",
    "</br>"
   ]
  },
  {
   "cell_type": "markdown",
   "metadata": {},
   "source": [
    "# 4. 머신러닝1\n",
    "### 1) 아래와 같은 데이터가 있다고 가정하겠습니다.데이터를 바탕으로 선형 회귀 모델을 훈련시키고, 회귀식을 작성해주세요.\n",
    "\n",
    "- 독립 변수(X): 광고예산 (단위: 만원)\n",
    "- 종속 변수(Y): 일일 매출 (단위: 만원)\n",
    "- X=[10, 20, 30, 40, 60, 100]\n",
    "- Y=[50, 60, 70, 80, 90, 120]"
   ]
  },
  {
   "cell_type": "code",
   "execution_count": null,
   "metadata": {},
   "outputs": [
    {
     "data": {
      "text/html": [
       "<div>\n",
       "<style scoped>\n",
       "    .dataframe tbody tr th:only-of-type {\n",
       "        vertical-align: middle;\n",
       "    }\n",
       "\n",
       "    .dataframe tbody tr th {\n",
       "        vertical-align: top;\n",
       "    }\n",
       "\n",
       "    .dataframe thead th {\n",
       "        text-align: right;\n",
       "    }\n",
       "</style>\n",
       "<table border=\"1\" class=\"dataframe\">\n",
       "  <thead>\n",
       "    <tr style=\"text-align: right;\">\n",
       "      <th></th>\n",
       "      <th>budget</th>\n",
       "      <th>sales</th>\n",
       "    </tr>\n",
       "  </thead>\n",
       "  <tbody>\n",
       "    <tr>\n",
       "      <th>0</th>\n",
       "      <td>10</td>\n",
       "      <td>50</td>\n",
       "    </tr>\n",
       "    <tr>\n",
       "      <th>1</th>\n",
       "      <td>20</td>\n",
       "      <td>60</td>\n",
       "    </tr>\n",
       "    <tr>\n",
       "      <th>2</th>\n",
       "      <td>30</td>\n",
       "      <td>70</td>\n",
       "    </tr>\n",
       "    <tr>\n",
       "      <th>3</th>\n",
       "      <td>40</td>\n",
       "      <td>80</td>\n",
       "    </tr>\n",
       "    <tr>\n",
       "      <th>4</th>\n",
       "      <td>60</td>\n",
       "      <td>90</td>\n",
       "    </tr>\n",
       "    <tr>\n",
       "      <th>5</th>\n",
       "      <td>100</td>\n",
       "      <td>120</td>\n",
       "    </tr>\n",
       "  </tbody>\n",
       "</table>\n",
       "</div>"
      ],
      "text/plain": [
       "   budget  sales\n",
       "0      10     50\n",
       "1      20     60\n",
       "2      30     70\n",
       "3      40     80\n",
       "4      60     90\n",
       "5     100    120"
      ]
     },
     "execution_count": 14,
     "metadata": {},
     "output_type": "execute_result"
    }
   ],
   "source": [
    "X=[10, 20, 30, 40, 60, 100]\n",
    "Y=[50, 60, 70, 80, 90, 120]\n",
    "\n",
    "#X = np.array([10, 20, 30, 40, 60, 100]).reshape(-1,1)\n",
    "\n",
    "budget_sales_df = pd.DataFrame({\"budget\": X, \"sales\":Y})\n",
    "budget_sales_df"
   ]
  },
  {
   "cell_type": "code",
   "execution_count": 15,
   "metadata": {},
   "outputs": [
    {
     "data": {
      "image/png": "[encoded data removed]",
      "text/plain": [
       "<Figure size 640x480 with 1 Axes>"
      ]
     },
     "metadata": {},
     "output_type": "display_data"
    }
   ],
   "source": [
    "#두 변수 간 산점도 확인해보기!\n",
    "sns.scatterplot(data = budget_sales_df, x = 'budget', y = 'sales')\n",
    "plt.title('budget vs sales')\n",
    "plt.xlabel('budget')\n",
    "plt.ylabel('sales')\n",
    "plt.show()"
   ]
  },
  {
   "cell_type": "code",
   "execution_count": null,
   "metadata": {},
   "outputs": [],
   "source": [
    "# 모델 학습을 위한 transform\n",
    "X = budget_sales_df[['budget']]\n",
    "Y = budget_sales_df[['sales']]"
   ]
  },
  {
   "cell_type": "code",
   "execution_count": null,
   "metadata": {},
   "outputs": [
    {
     "data": {
      "text/html": [
       "<style>#sk-container-id-1 {\n",
       "  /* Definition of color scheme common for light and dark mode */\n",
       "  --sklearn-color-text: black;\n",
       "  --sklearn-color-line: gray;\n",
       "  /* Definition of color scheme for unfitted estimators */\n",
       "  --sklearn-color-unfitted-level-0: #fff5e6;\n",
       "  --sklearn-color-unfitted-level-1: #f6e4d2;\n",
       "  --sklearn-color-unfitted-level-2: #ffe0b3;\n",
       "  --sklearn-color-unfitted-level-3: chocolate;\n",
       "  /* Definition of color scheme for fitted estimators */\n",
       "  --sklearn-color-fitted-level-0: #f0f8ff;\n",
       "  --sklearn-color-fitted-level-1: #d4ebff;\n",
       "  --sklearn-color-fitted-level-2: #b3dbfd;\n",
       "  --sklearn-color-fitted-level-3: cornflowerblue;\n",
       "\n",
       "  /* Specific color for light theme */\n",
       "  --sklearn-color-text-on-default-background: var(--sg-text-color, var(--theme-code-foreground, var(--jp-content-font-color1, black)));\n",
       "  --sklearn-color-background: var(--sg-background-color, var(--theme-background, var(--jp-layout-color0, white)));\n",
       "  --sklearn-color-border-box: var(--sg-text-color, var(--theme-code-foreground, var(--jp-content-font-color1, black)));\n",
       "  --sklearn-color-icon: #696969;\n",
       "\n",
       "  @media (prefers-color-scheme: dark) {\n",
       "    /* Redefinition of color scheme for dark theme */\n",
       "    --sklearn-color-text-on-default-background: var(--sg-text-color, var(--theme-code-foreground, var(--jp-content-font-color1, white)));\n",
       "    --sklearn-color-background: var(--sg-background-color, var(--theme-background, var(--jp-layout-color0, #111)));\n",
       "    --sklearn-color-border-box: var(--sg-text-color, var(--theme-code-foreground, var(--jp-content-font-color1, white)));\n",
       "    --sklearn-color-icon: #878787;\n",
       "  }\n",
       "}\n",
       "\n",
       "#sk-container-id-1 {\n",
       "  color: var(--sklearn-color-text);\n",
       "}\n",
       "\n",
       "#sk-container-id-1 pre {\n",
       "  padding: 0;\n",
       "}\n",
       "\n",
       "#sk-container-id-1 input.sk-hidden--visually {\n",
       "  border: 0;\n",
       "  clip: rect(1px 1px 1px 1px);\n",
       "  clip: rect(1px, 1px, 1px, 1px);\n",
       "  height: 1px;\n",
       "  margin: -1px;\n",
       "  overflow: hidden;\n",
       "  padding: 0;\n",
       "  position: absolute;\n",
       "  width: 1px;\n",
       "}\n",
       "\n",
       "#sk-container-id-1 div.sk-dashed-wrapped {\n",
       "  border: 1px dashed var(--sklearn-color-line);\n",
       "  margin: 0 0.4em 0.5em 0.4em;\n",
       "  box-sizing: border-box;\n",
       "  padding-bottom: 0.4em;\n",
       "  background-color: var(--sklearn-color-background);\n",
       "}\n",
       "\n",
       "#sk-container-id-1 div.sk-container {\n",
       "  /* jupyter's `normalize.less` sets `[hidden] { display: none; }`\n",
       "     but bootstrap.min.css set `[hidden] { display: none !important; }`\n",
       "     so we also need the `!important` here to be able to override the\n",
       "     default hidden behavior on the sphinx rendered scikit-learn.org.\n",
       "     See: https://github.com/scikit-learn/scikit-learn/issues/21755 */\n",
       "  display: inline-block !important;\n",
       "  position: relative;\n",
       "}\n",
       "\n",
       "#sk-container-id-1 div.sk-text-repr-fallback {\n",
       "  display: none;\n",
       "}\n",
       "\n",
       "div.sk-parallel-item,\n",
       "div.sk-serial,\n",
       "div.sk-item {\n",
       "  /* draw centered vertical line to link estimators */\n",
       "  background-image: linear-gradient(var(--sklearn-color-text-on-default-background), var(--sklearn-color-text-on-default-background));\n",
       "  background-size: 2px 100%;\n",
       "  background-repeat: no-repeat;\n",
       "  background-position: center center;\n",
       "}\n",
       "\n",
       "/* Parallel-specific style estimator block */\n",
       "\n",
       "#sk-container-id-1 div.sk-parallel-item::after {\n",
       "  content: \"\";\n",
       "  width: 100%;\n",
       "  border-bottom: 2px solid var(--sklearn-color-text-on-default-background);\n",
       "  flex-grow: 1;\n",
       "}\n",
       "\n",
       "#sk-container-id-1 div.sk-parallel {\n",
       "  display: flex;\n",
       "  align-items: stretch;\n",
       "  justify-content: center;\n",
       "  background-color: var(--sklearn-color-background);\n",
       "  position: relative;\n",
       "}\n",
       "\n",
       "#sk-container-id-1 div.sk-parallel-item {\n",
       "  display: flex;\n",
       "  flex-direction: column;\n",
       "}\n",
       "\n",
       "#sk-container-id-1 div.sk-parallel-item:first-child::after {\n",
       "  align-self: flex-end;\n",
       "  width: 50%;\n",
       "}\n",
       "\n",
       "#sk-container-id-1 div.sk-parallel-item:last-child::after {\n",
       "  align-self: flex-start;\n",
       "  width: 50%;\n",
       "}\n",
       "\n",
       "#sk-container-id-1 div.sk-parallel-item:only-child::after {\n",
       "  width: 0;\n",
       "}\n",
       "\n",
       "/* Serial-specific style estimator block */\n",
       "\n",
       "#sk-container-id-1 div.sk-serial {\n",
       "  display: flex;\n",
       "  flex-direction: column;\n",
       "  align-items: center;\n",
       "  background-color: var(--sklearn-color-background);\n",
       "  padding-right: 1em;\n",
       "  padding-left: 1em;\n",
       "}\n",
       "\n",
       "\n",
       "/* Toggleable style: style used for estimator/Pipeline/ColumnTransformer box that is\n",
       "clickable and can be expanded/collapsed.\n",
       "- Pipeline and ColumnTransformer use this feature and define the default style\n",
       "- Estimators will overwrite some part of the style using the `sk-estimator` class\n",
       "*/\n",
       "\n",
       "/* Pipeline and ColumnTransformer style (default) */\n",
       "\n",
       "#sk-container-id-1 div.sk-toggleable {\n",
       "  /* Default theme specific background. It is overwritten whether we have a\n",
       "  specific estimator or a Pipeline/ColumnTransformer */\n",
       "  background-color: var(--sklearn-color-background);\n",
       "}\n",
       "\n",
       "/* Toggleable label */\n",
       "#sk-container-id-1 label.sk-toggleable__label {\n",
       "  cursor: pointer;\n",
       "  display: block;\n",
       "  width: 100%;\n",
       "  margin-bottom: 0;\n",
       "  padding: 0.5em;\n",
       "  box-sizing: border-box;\n",
       "  text-align: center;\n",
       "}\n",
       "\n",
       "#sk-container-id-1 label.sk-toggleable__label-arrow:before {\n",
       "  /* Arrow on the left of the label */\n",
       "  content: \"▸\";\n",
       "  float: left;\n",
       "  margin-right: 0.25em;\n",
       "  color: var(--sklearn-color-icon);\n",
       "}\n",
       "\n",
       "#sk-container-id-1 label.sk-toggleable__label-arrow:hover:before {\n",
       "  color: var(--sklearn-color-text);\n",
       "}\n",
       "\n",
       "/* Toggleable content - dropdown */\n",
       "\n",
       "#sk-container-id-1 div.sk-toggleable__content {\n",
       "  max-height: 0;\n",
       "  max-width: 0;\n",
       "  overflow: hidden;\n",
       "  text-align: left;\n",
       "  /* unfitted */\n",
       "  background-color: var(--sklearn-color-unfitted-level-0);\n",
       "}\n",
       "\n",
       "#sk-container-id-1 div.sk-toggleable__content.fitted {\n",
       "  /* fitted */\n",
       "  background-color: var(--sklearn-color-fitted-level-0);\n",
       "}\n",
       "\n",
       "#sk-container-id-1 div.sk-toggleable__content pre {\n",
       "  margin: 0.2em;\n",
       "  border-radius: 0.25em;\n",
       "  color: var(--sklearn-color-text);\n",
       "  /* unfitted */\n",
       "  background-color: var(--sklearn-color-unfitted-level-0);\n",
       "}\n",
       "\n",
       "#sk-container-id-1 div.sk-toggleable__content.fitted pre {\n",
       "  /* unfitted */\n",
       "  background-color: var(--sklearn-color-fitted-level-0);\n",
       "}\n",
       "\n",
       "#sk-container-id-1 input.sk-toggleable__control:checked~div.sk-toggleable__content {\n",
       "  /* Expand drop-down */\n",
       "  max-height: 200px;\n",
       "  max-width: 100%;\n",
       "  overflow: auto;\n",
       "}\n",
       "\n",
       "#sk-container-id-1 input.sk-toggleable__control:checked~label.sk-toggleable__label-arrow:before {\n",
       "  content: \"▾\";\n",
       "}\n",
       "\n",
       "/* Pipeline/ColumnTransformer-specific style */\n",
       "\n",
       "#sk-container-id-1 div.sk-label input.sk-toggleable__control:checked~label.sk-toggleable__label {\n",
       "  color: var(--sklearn-color-text);\n",
       "  background-color: var(--sklearn-color-unfitted-level-2);\n",
       "}\n",
       "\n",
       "#sk-container-id-1 div.sk-label.fitted input.sk-toggleable__control:checked~label.sk-toggleable__label {\n",
       "  background-color: var(--sklearn-color-fitted-level-2);\n",
       "}\n",
       "\n",
       "/* Estimator-specific style */\n",
       "\n",
       "/* Colorize estimator box */\n",
       "#sk-container-id-1 div.sk-estimator input.sk-toggleable__control:checked~label.sk-toggleable__label {\n",
       "  /* unfitted */\n",
       "  background-color: var(--sklearn-color-unfitted-level-2);\n",
       "}\n",
       "\n",
       "#sk-container-id-1 div.sk-estimator.fitted input.sk-toggleable__control:checked~label.sk-toggleable__label {\n",
       "  /* fitted */\n",
       "  background-color: var(--sklearn-color-fitted-level-2);\n",
       "}\n",
       "\n",
       "#sk-container-id-1 div.sk-label label.sk-toggleable__label,\n",
       "#sk-container-id-1 div.sk-label label {\n",
       "  /* The background is the default theme color */\n",
       "  color: var(--sklearn-color-text-on-default-background);\n",
       "}\n",
       "\n",
       "/* On hover, darken the color of the background */\n",
       "#sk-container-id-1 div.sk-label:hover label.sk-toggleable__label {\n",
       "  color: var(--sklearn-color-text);\n",
       "  background-color: var(--sklearn-color-unfitted-level-2);\n",
       "}\n",
       "\n",
       "/* Label box, darken color on hover, fitted */\n",
       "#sk-container-id-1 div.sk-label.fitted:hover label.sk-toggleable__label.fitted {\n",
       "  color: var(--sklearn-color-text);\n",
       "  background-color: var(--sklearn-color-fitted-level-2);\n",
       "}\n",
       "\n",
       "/* Estimator label */\n",
       "\n",
       "#sk-container-id-1 div.sk-label label {\n",
       "  font-family: monospace;\n",
       "  font-weight: bold;\n",
       "  display: inline-block;\n",
       "  line-height: 1.2em;\n",
       "}\n",
       "\n",
       "#sk-container-id-1 div.sk-label-container {\n",
       "  text-align: center;\n",
       "}\n",
       "\n",
       "/* Estimator-specific */\n",
       "#sk-container-id-1 div.sk-estimator {\n",
       "  font-family: monospace;\n",
       "  border: 1px dotted var(--sklearn-color-border-box);\n",
       "  border-radius: 0.25em;\n",
       "  box-sizing: border-box;\n",
       "  margin-bottom: 0.5em;\n",
       "  /* unfitted */\n",
       "  background-color: var(--sklearn-color-unfitted-level-0);\n",
       "}\n",
       "\n",
       "#sk-container-id-1 div.sk-estimator.fitted {\n",
       "  /* fitted */\n",
       "  background-color: var(--sklearn-color-fitted-level-0);\n",
       "}\n",
       "\n",
       "/* on hover */\n",
       "#sk-container-id-1 div.sk-estimator:hover {\n",
       "  /* unfitted */\n",
       "  background-color: var(--sklearn-color-unfitted-level-2);\n",
       "}\n",
       "\n",
       "#sk-container-id-1 div.sk-estimator.fitted:hover {\n",
       "  /* fitted */\n",
       "  background-color: var(--sklearn-color-fitted-level-2);\n",
       "}\n",
       "\n",
       "/* Specification for estimator info (e.g. \"i\" and \"?\") */\n",
       "\n",
       "/* Common style for \"i\" and \"?\" */\n",
       "\n",
       ".sk-estimator-doc-link,\n",
       "a:link.sk-estimator-doc-link,\n",
       "a:visited.sk-estimator-doc-link {\n",
       "  float: right;\n",
       "  font-size: smaller;\n",
       "  line-height: 1em;\n",
       "  font-family: monospace;\n",
       "  background-color: var(--sklearn-color-background);\n",
       "  border-radius: 1em;\n",
       "  height: 1em;\n",
       "  width: 1em;\n",
       "  text-decoration: none !important;\n",
       "  margin-left: 1ex;\n",
       "  /* unfitted */\n",
       "  border: var(--sklearn-color-unfitted-level-1) 1pt solid;\n",
       "  color: var(--sklearn-color-unfitted-level-1);\n",
       "}\n",
       "\n",
       ".sk-estimator-doc-link.fitted,\n",
       "a:link.sk-estimator-doc-link.fitted,\n",
       "a:visited.sk-estimator-doc-link.fitted {\n",
       "  /* fitted */\n",
       "  border: var(--sklearn-color-fitted-level-1) 1pt solid;\n",
       "  color: var(--sklearn-color-fitted-level-1);\n",
       "}\n",
       "\n",
       "/* On hover */\n",
       "div.sk-estimator:hover .sk-estimator-doc-link:hover,\n",
       ".sk-estimator-doc-link:hover,\n",
       "div.sk-label-container:hover .sk-estimator-doc-link:hover,\n",
       ".sk-estimator-doc-link:hover {\n",
       "  /* unfitted */\n",
       "  background-color: var(--sklearn-color-unfitted-level-3);\n",
       "  color: var(--sklearn-color-background);\n",
       "  text-decoration: none;\n",
       "}\n",
       "\n",
       "div.sk-estimator.fitted:hover .sk-estimator-doc-link.fitted:hover,\n",
       ".sk-estimator-doc-link.fitted:hover,\n",
       "div.sk-label-container:hover .sk-estimator-doc-link.fitted:hover,\n",
       ".sk-estimator-doc-link.fitted:hover {\n",
       "  /* fitted */\n",
       "  background-color: var(--sklearn-color-fitted-level-3);\n",
       "  color: var(--sklearn-color-background);\n",
       "  text-decoration: none;\n",
       "}\n",
       "\n",
       "/* Span, style for the box shown on hovering the info icon */\n",
       ".sk-estimator-doc-link span {\n",
       "  display: none;\n",
       "  z-index: 9999;\n",
       "  position: relative;\n",
       "  font-weight: normal;\n",
       "  right: .2ex;\n",
       "  padding: .5ex;\n",
       "  margin: .5ex;\n",
       "  width: min-content;\n",
       "  min-width: 20ex;\n",
       "  max-width: 50ex;\n",
       "  color: var(--sklearn-color-text);\n",
       "  box-shadow: 2pt 2pt 4pt #999;\n",
       "  /* unfitted */\n",
       "  background: var(--sklearn-color-unfitted-level-0);\n",
       "  border: .5pt solid var(--sklearn-color-unfitted-level-3);\n",
       "}\n",
       "\n",
       ".sk-estimator-doc-link.fitted span {\n",
       "  /* fitted */\n",
       "  background: var(--sklearn-color-fitted-level-0);\n",
       "  border: var(--sklearn-color-fitted-level-3);\n",
       "}\n",
       "\n",
       ".sk-estimator-doc-link:hover span {\n",
       "  display: block;\n",
       "}\n",
       "\n",
       "/* \"?\"-specific style due to the `<a>` HTML tag */\n",
       "\n",
       "#sk-container-id-1 a.estimator_doc_link {\n",
       "  float: right;\n",
       "  font-size: 1rem;\n",
       "  line-height: 1em;\n",
       "  font-family: monospace;\n",
       "  background-color: var(--sklearn-color-background);\n",
       "  border-radius: 1rem;\n",
       "  height: 1rem;\n",
       "  width: 1rem;\n",
       "  text-decoration: none;\n",
       "  /* unfitted */\n",
       "  color: var(--sklearn-color-unfitted-level-1);\n",
       "  border: var(--sklearn-color-unfitted-level-1) 1pt solid;\n",
       "}\n",
       "\n",
       "#sk-container-id-1 a.estimator_doc_link.fitted {\n",
       "  /* fitted */\n",
       "  border: var(--sklearn-color-fitted-level-1) 1pt solid;\n",
       "  color: var(--sklearn-color-fitted-level-1);\n",
       "}\n",
       "\n",
       "/* On hover */\n",
       "#sk-container-id-1 a.estimator_doc_link:hover {\n",
       "  /* unfitted */\n",
       "  background-color: var(--sklearn-color-unfitted-level-3);\n",
       "  color: var(--sklearn-color-background);\n",
       "  text-decoration: none;\n",
       "}\n",
       "\n",
       "#sk-container-id-1 a.estimator_doc_link.fitted:hover {\n",
       "  /* fitted */\n",
       "  background-color: var(--sklearn-color-fitted-level-3);\n",
       "}\n",
       "</style><div id=\"sk-container-id-1\" class=\"sk-top-container\"><div class=\"sk-text-repr-fallback\"><pre>LinearRegression()</pre><b>In a Jupyter environment, please rerun this cell to show the HTML representation or trust the notebook. <br />On GitHub, the HTML representation is unable to render, please try loading this page with nbviewer.org.</b></div><div class=\"sk-container\" hidden><div class=\"sk-item\"><div class=\"sk-estimator fitted sk-toggleable\"><input class=\"sk-toggleable__control sk-hidden--visually\" id=\"sk-estimator-id-1\" type=\"checkbox\" checked><label for=\"sk-estimator-id-1\" class=\"sk-toggleable__label fitted sk-toggleable__label-arrow fitted\">&nbsp;&nbsp;LinearRegression<a class=\"sk-estimator-doc-link fitted\" rel=\"noreferrer\" target=\"_blank\" href=\"https://scikit-learn.org/1.5/modules/generated/sklearn.linear_model.LinearRegression.html\">?<span>Documentation for LinearRegression</span></a><span class=\"sk-estimator-doc-link fitted\">i<span>Fitted</span></span></label><div class=\"sk-toggleable__content fitted\"><pre>LinearRegression()</pre></div> </div></div></div></div>"
      ],
      "text/plain": [
       "LinearRegression()"
      ]
     },
     "execution_count": 17,
     "metadata": {},
     "output_type": "execute_result"
    }
   ],
   "source": [
    "# 모델 학습\n",
    "model_lr = LinearRegression()\n",
    "model_lr.fit(X,Y)"
   ]
  },
  {
   "cell_type": "code",
   "execution_count": 18,
   "metadata": {},
   "outputs": [
    {
     "name": "stdout",
     "output_type": "stream",
     "text": [
      "y = 0.76x + 45.56\n"
     ]
    }
   ],
   "source": [
    "# 회귀식 작성\n",
    "w1 = model_lr.coef_[0][0] #가중치 (w1)\n",
    "w0 = model_lr.intercept_[0] #편향(bias ,wo)\n",
    "\n",
    "print('y = {}x + {}'.format(w1.round(2),w0.round(2)))"
   ]
  },
  {
   "cell_type": "markdown",
   "metadata": {},
   "source": [
    "### 2) 회귀식을통해, 새로운 광고예산이 1,000만원일 경우의 매출을 예측(계산)해주세요."
   ]
  },
  {
   "cell_type": "code",
   "execution_count": 19,
   "metadata": {},
   "outputs": [
    {
     "data": {
      "text/plain": [
       "801.8124999999999"
      ]
     },
     "execution_count": 19,
     "metadata": {},
     "output_type": "execute_result"
    }
   ],
   "source": [
    "# 예측을 위한 광고 예산\n",
    "ad_budget = 1000\n",
    "\n",
    "# 예측\n",
    "ad_budget_df = pd.DataFrame({'budget': [ad_budget]})  # DataFrame으로 변환\n",
    "predicted_sales = model_lr.predict(ad_budget_df)[0][0]  # 매출 예측\n",
    "predicted_sales"
   ]
  },
  {
   "cell_type": "code",
   "execution_count": 20,
   "metadata": {},
   "outputs": [
    {
     "name": "stdout",
     "output_type": "stream",
     "text": [
      "광고 예산이 1,000만원일 경우 예상 매출 : 801.81\n"
     ]
    }
   ],
   "source": [
    "print(\"광고 예산이 1,000만원일 경우 예상 매출 : {:.2f}\".format(predicted_sales))"
   ]
  },
  {
   "cell_type": "markdown",
   "metadata": {},
   "source": [
    "</br>\n",
    "\n",
    "# 도전 1. 머신러닝2\n",
    "Review Rating, Age, Previous Purchases 컬럼을 활용하여, 고객이 할인(Discount Applied)을 받을지 예측하는 RandomForest모델을 학습시켜 주세요. 그리고 모델 정확도를 계산해주세요.\n",
    "\n",
    "- y(종속변수)는 Yes/No 로 기재된 이진형 데이터입니다. 따라서, 인코딩 작업이 필요합니다. 구현을 위해 LabelEncoder를 사용해주세요.  \n",
    "\n",
    "- 머신러닝시, 전체 데이터셋을 Train set과 Test set 으로 나눠주세요. 해당 문제에서는Test set비중을 30%로 설정해주세요. random_state는 42로 설정해주세요.\n",
    "  - Train Set: 모델을 학습하는데 사용하는 데이터셋\n",
    "  - Test Set: 적합된 모델의 성능을 평가하는데 사용하는 데이터셋\n",
    "  - RandomForestClassifier 를 활용하여 모델 학습을 진행해주세요. random_state는 42로 설정해주세요."
   ]
  },
  {
   "cell_type": "code",
   "execution_count": 88,
   "metadata": {},
   "outputs": [
    {
     "data": {
      "text/html": [
       "<div>\n",
       "<style scoped>\n",
       "    .dataframe tbody tr th:only-of-type {\n",
       "        vertical-align: middle;\n",
       "    }\n",
       "\n",
       "    .dataframe tbody tr th {\n",
       "        vertical-align: top;\n",
       "    }\n",
       "\n",
       "    .dataframe thead th {\n",
       "        text-align: right;\n",
       "    }\n",
       "</style>\n",
       "<table border=\"1\" class=\"dataframe\">\n",
       "  <thead>\n",
       "    <tr style=\"text-align: right;\">\n",
       "      <th></th>\n",
       "      <th>Review Rating</th>\n",
       "      <th>Age</th>\n",
       "      <th>Previous Purchases</th>\n",
       "      <th>Discount Applied</th>\n",
       "    </tr>\n",
       "  </thead>\n",
       "  <tbody>\n",
       "    <tr>\n",
       "      <th>0</th>\n",
       "      <td>3.1</td>\n",
       "      <td>55</td>\n",
       "      <td>14</td>\n",
       "      <td>Yes</td>\n",
       "    </tr>\n",
       "    <tr>\n",
       "      <th>1</th>\n",
       "      <td>3.1</td>\n",
       "      <td>19</td>\n",
       "      <td>2</td>\n",
       "      <td>Yes</td>\n",
       "    </tr>\n",
       "    <tr>\n",
       "      <th>2</th>\n",
       "      <td>3.1</td>\n",
       "      <td>50</td>\n",
       "      <td>23</td>\n",
       "      <td>Yes</td>\n",
       "    </tr>\n",
       "    <tr>\n",
       "      <th>3</th>\n",
       "      <td>3.5</td>\n",
       "      <td>21</td>\n",
       "      <td>49</td>\n",
       "      <td>Yes</td>\n",
       "    </tr>\n",
       "    <tr>\n",
       "      <th>4</th>\n",
       "      <td>2.7</td>\n",
       "      <td>45</td>\n",
       "      <td>31</td>\n",
       "      <td>Yes</td>\n",
       "    </tr>\n",
       "    <tr>\n",
       "      <th>...</th>\n",
       "      <td>...</td>\n",
       "      <td>...</td>\n",
       "      <td>...</td>\n",
       "      <td>...</td>\n",
       "    </tr>\n",
       "    <tr>\n",
       "      <th>3895</th>\n",
       "      <td>4.2</td>\n",
       "      <td>40</td>\n",
       "      <td>32</td>\n",
       "      <td>No</td>\n",
       "    </tr>\n",
       "    <tr>\n",
       "      <th>3896</th>\n",
       "      <td>4.5</td>\n",
       "      <td>52</td>\n",
       "      <td>41</td>\n",
       "      <td>No</td>\n",
       "    </tr>\n",
       "    <tr>\n",
       "      <th>3897</th>\n",
       "      <td>2.9</td>\n",
       "      <td>46</td>\n",
       "      <td>24</td>\n",
       "      <td>No</td>\n",
       "    </tr>\n",
       "    <tr>\n",
       "      <th>3898</th>\n",
       "      <td>3.8</td>\n",
       "      <td>44</td>\n",
       "      <td>24</td>\n",
       "      <td>No</td>\n",
       "    </tr>\n",
       "    <tr>\n",
       "      <th>3899</th>\n",
       "      <td>3.1</td>\n",
       "      <td>52</td>\n",
       "      <td>33</td>\n",
       "      <td>No</td>\n",
       "    </tr>\n",
       "  </tbody>\n",
       "</table>\n",
       "<p>3900 rows × 4 columns</p>\n",
       "</div>"
      ],
      "text/plain": [
       "      Review Rating  Age  Previous Purchases Discount Applied\n",
       "0               3.1   55                  14              Yes\n",
       "1               3.1   19                   2              Yes\n",
       "2               3.1   50                  23              Yes\n",
       "3               3.5   21                  49              Yes\n",
       "4               2.7   45                  31              Yes\n",
       "...             ...  ...                 ...              ...\n",
       "3895            4.2   40                  32               No\n",
       "3896            4.5   52                  41               No\n",
       "3897            2.9   46                  24               No\n",
       "3898            3.8   44                  24               No\n",
       "3899            3.1   52                  33               No\n",
       "\n",
       "[3900 rows x 4 columns]"
      ]
     },
     "execution_count": 88,
     "metadata": {},
     "output_type": "execute_result"
    }
   ],
   "source": [
    "statistics_df[['Review Rating', 'Age', 'Previous Purchases','Discount Applied']]"
   ]
  },
  {
   "cell_type": "code",
   "execution_count": 26,
   "metadata": {},
   "outputs": [
    {
     "name": "stdout",
     "output_type": "stream",
     "text": [
      "              precision    recall  f1-score   support\n",
      "\n",
      "           0       0.54      0.66      0.60       635\n",
      "           1       0.46      0.35      0.40       535\n",
      "\n",
      "    accuracy                           0.52      1170\n",
      "   macro avg       0.50      0.50      0.50      1170\n",
      "weighted avg       0.51      0.52      0.50      1170\n",
      "\n"
     ]
    }
   ],
   "source": [
    "from sklearn.ensemble import RandomForestClassifier\n",
    "from sklearn.preprocessing import LabelEncoder\n",
    "from sklearn.model_selection import train_test_split\n",
    "from sklearn.metrics import classification_report\n",
    "\n",
    "X = statistics_df[['Review Rating', 'Age', 'Previous Purchases']]\n",
    "y = statistics_df['Discount Applied']\n",
    "\n",
    "# encoder를 사용하지 않는 방법\n",
    "#y = statistics_df['Discount Applied'].map({'Yes': 1, 'No': 0})\n",
    "\n",
    "# 종속변수 y 인코딩\n",
    "label_encoder = LabelEncoder()\n",
    "y = label_encoder.fit_transform(y)\n",
    "\n",
    "X_train, X_test, y_train, y_test = train_test_split(X ,y, test_size=0.3, random_state=42)\n",
    "\n",
    "# 랜덤 포레스트 모델 생성 및 학습\n",
    "lr_model = RandomForestClassifier(random_state=42) # default n_estimators = 100\n",
    "lr_model.fit(X_train, y_train)\n",
    "\n",
    "# 모델 성능 확인\n",
    "y_pred_log = lr_model.predict(X_test)\n",
    "print(classification_report(y_test, y_pred_log))"
   ]
  },
  {
   "cell_type": "code",
   "execution_count": 27,
   "metadata": {},
   "outputs": [
    {
     "name": "stdout",
     "output_type": "stream",
     "text": [
      "class 0 : No\n",
      "class 1 : Yes\n"
     ]
    }
   ],
   "source": [
    "# 클래스 변환 정보 확인. 아래 보여지는 리스트의 index로 encoding 진행 된 것임.\n",
    "for c,l in enumerate(label_encoder.classes_):\n",
    "    print(\"class {} :\".format(c),l)\n"
   ]
  },
  {
   "cell_type": "code",
   "execution_count": 28,
   "metadata": {},
   "outputs": [
    {
     "data": {
      "text/plain": [
       "0.5162393162393163"
      ]
     },
     "execution_count": 28,
     "metadata": {},
     "output_type": "execute_result"
    }
   ],
   "source": [
    "# 모델 정확도 확인\n",
    "accuracy = lr_model.score(X_test, y_test)\n",
    "accuracy"
   ]
  },
  {
   "cell_type": "code",
   "execution_count": 29,
   "metadata": {},
   "outputs": [
    {
     "name": "stdout",
     "output_type": "stream",
     "text": [
      " RandomForest 모델의 정확도 : 0.5162\n"
     ]
    }
   ],
   "source": [
    "print(\" RandomForest 모델의 정확도 : {:.4f}\".format(accuracy))"
   ]
  },
  {
   "cell_type": "markdown",
   "metadata": {},
   "source": [
    "</br>\n",
    "\n",
    "# 도전 2. 머신러닝3\n",
    "Subscription Status 컬럼을 종속변수로 사용하여 고객의 이탈 여부를 예측하는 로지스틱 회귀 모델 학습을 진행해주세요. Age, Purchase Amount, Review Rating을 활용하여 모델을 훈련한 후, 연령 30세, 구매 금액 50 USD, 리뷰 평점 4.0인 고객의 이탈 확률을 계산해주세요. \n",
    "- y(종속변수)는 Yes/No 로 기재된 이진형 데이터입니다. 따라서, 인코딩 작업이 필요합니다. 구현을 위해 LabelEncoder를 사용해주세요.\n",
    "\n",
    "- 머신러닝시, 전체 데이터셋을 Train set과 Test set 으로 나눠주세요. 해당 문제에서는Test set비중을 30%로 설정해주세요. random_state는 42로 설정해주세요.\n",
    "  - Train Set: 모델을 학습하는데 사용하는 데이터셋\n",
    "  \n",
    "  - Test Set: 적합된 모델의 성능을 평가하는데 사용하는 데이터셋\n",
    "\n",
    "- 연령 30세, 구매 금액 50 USD, 리뷰 평점 4.0 인 고객을 new_customer 라는 변수에 지정해주세요. 1차원이 아닌 이중 대괄호`[[...]]`로 지정해주세요. (모델 입력 형식은 2차원 배열이어야 하므로)\n",
    "\n",
    "- model.predict_proba 를 사용하여 이탈 확률을 구해주세요.\n",
    "  - predict_proba의 반환값**:** 모델이 각 클래스에 속할 확률을 계산합니다. 결과는 다음과 같은 배열로 반환됩니다.\n",
    "  \n",
    "  - [[P(클래스 0), P(클래스 1)]]\n",
    "  \n",
    "  - P(클래스 0): 이 고객이 이탈하지 않을 확률.\n",
    "  \n",
    "  - P(클래스 1): 이 고객이 이탈할 확률."
   ]
  },
  {
   "cell_type": "code",
   "execution_count": 30,
   "metadata": {},
   "outputs": [
    {
     "data": {
      "text/html": [
       "<div>\n",
       "<style scoped>\n",
       "    .dataframe tbody tr th:only-of-type {\n",
       "        vertical-align: middle;\n",
       "    }\n",
       "\n",
       "    .dataframe tbody tr th {\n",
       "        vertical-align: top;\n",
       "    }\n",
       "\n",
       "    .dataframe thead th {\n",
       "        text-align: right;\n",
       "    }\n",
       "</style>\n",
       "<table border=\"1\" class=\"dataframe\">\n",
       "  <thead>\n",
       "    <tr style=\"text-align: right;\">\n",
       "      <th></th>\n",
       "      <th>Age</th>\n",
       "      <th>Purchase Amount (USD)</th>\n",
       "      <th>Review Rating</th>\n",
       "      <th>Subscription Status</th>\n",
       "    </tr>\n",
       "  </thead>\n",
       "  <tbody>\n",
       "    <tr>\n",
       "      <th>0</th>\n",
       "      <td>55</td>\n",
       "      <td>53</td>\n",
       "      <td>3.1</td>\n",
       "      <td>Yes</td>\n",
       "    </tr>\n",
       "    <tr>\n",
       "      <th>1</th>\n",
       "      <td>19</td>\n",
       "      <td>64</td>\n",
       "      <td>3.1</td>\n",
       "      <td>Yes</td>\n",
       "    </tr>\n",
       "    <tr>\n",
       "      <th>2</th>\n",
       "      <td>50</td>\n",
       "      <td>73</td>\n",
       "      <td>3.1</td>\n",
       "      <td>Yes</td>\n",
       "    </tr>\n",
       "    <tr>\n",
       "      <th>3</th>\n",
       "      <td>21</td>\n",
       "      <td>90</td>\n",
       "      <td>3.5</td>\n",
       "      <td>Yes</td>\n",
       "    </tr>\n",
       "    <tr>\n",
       "      <th>4</th>\n",
       "      <td>45</td>\n",
       "      <td>49</td>\n",
       "      <td>2.7</td>\n",
       "      <td>Yes</td>\n",
       "    </tr>\n",
       "    <tr>\n",
       "      <th>...</th>\n",
       "      <td>...</td>\n",
       "      <td>...</td>\n",
       "      <td>...</td>\n",
       "      <td>...</td>\n",
       "    </tr>\n",
       "    <tr>\n",
       "      <th>3895</th>\n",
       "      <td>40</td>\n",
       "      <td>28</td>\n",
       "      <td>4.2</td>\n",
       "      <td>No</td>\n",
       "    </tr>\n",
       "    <tr>\n",
       "      <th>3896</th>\n",
       "      <td>52</td>\n",
       "      <td>49</td>\n",
       "      <td>4.5</td>\n",
       "      <td>No</td>\n",
       "    </tr>\n",
       "    <tr>\n",
       "      <th>3897</th>\n",
       "      <td>46</td>\n",
       "      <td>33</td>\n",
       "      <td>2.9</td>\n",
       "      <td>No</td>\n",
       "    </tr>\n",
       "    <tr>\n",
       "      <th>3898</th>\n",
       "      <td>44</td>\n",
       "      <td>77</td>\n",
       "      <td>3.8</td>\n",
       "      <td>No</td>\n",
       "    </tr>\n",
       "    <tr>\n",
       "      <th>3899</th>\n",
       "      <td>52</td>\n",
       "      <td>81</td>\n",
       "      <td>3.1</td>\n",
       "      <td>No</td>\n",
       "    </tr>\n",
       "  </tbody>\n",
       "</table>\n",
       "<p>3900 rows × 4 columns</p>\n",
       "</div>"
      ],
      "text/plain": [
       "      Age  Purchase Amount (USD)  Review Rating Subscription Status\n",
       "0      55                     53            3.1                 Yes\n",
       "1      19                     64            3.1                 Yes\n",
       "2      50                     73            3.1                 Yes\n",
       "3      21                     90            3.5                 Yes\n",
       "4      45                     49            2.7                 Yes\n",
       "...   ...                    ...            ...                 ...\n",
       "3895   40                     28            4.2                  No\n",
       "3896   52                     49            4.5                  No\n",
       "3897   46                     33            2.9                  No\n",
       "3898   44                     77            3.8                  No\n",
       "3899   52                     81            3.1                  No\n",
       "\n",
       "[3900 rows x 4 columns]"
      ]
     },
     "execution_count": 30,
     "metadata": {},
     "output_type": "execute_result"
    }
   ],
   "source": [
    "#데이터 확인\n",
    "statistics_df[['Age', 'Purchase Amount (USD)','Review Rating','Subscription Status']]"
   ]
  },
  {
   "cell_type": "markdown",
   "metadata": {},
   "source": [
    "### 로지스틱 회귀 모델 학습"
   ]
  },
  {
   "cell_type": "code",
   "execution_count": 31,
   "metadata": {},
   "outputs": [
    {
     "name": "stdout",
     "output_type": "stream",
     "text": [
      "              precision    recall  f1-score   support\n",
      "\n",
      "           0       0.71      1.00      0.83       834\n",
      "           1       0.00      0.00      0.00       336\n",
      "\n",
      "    accuracy                           0.71      1170\n",
      "   macro avg       0.36      0.50      0.42      1170\n",
      "weighted avg       0.51      0.71      0.59      1170\n",
      "\n"
     ]
    },
    {
     "name": "stderr",
     "output_type": "stream",
     "text": [
      "/opt/homebrew/Caskroom/miniconda/base/envs/leo4study/lib/python3.11/site-packages/sklearn/metrics/_classification.py:1531: UndefinedMetricWarning: Precision is ill-defined and being set to 0.0 in labels with no predicted samples. Use `zero_division` parameter to control this behavior.\n",
      "  _warn_prf(average, modifier, f\"{metric.capitalize()} is\", len(result))\n",
      "/opt/homebrew/Caskroom/miniconda/base/envs/leo4study/lib/python3.11/site-packages/sklearn/metrics/_classification.py:1531: UndefinedMetricWarning: Precision is ill-defined and being set to 0.0 in labels with no predicted samples. Use `zero_division` parameter to control this behavior.\n",
      "  _warn_prf(average, modifier, f\"{metric.capitalize()} is\", len(result))\n",
      "/opt/homebrew/Caskroom/miniconda/base/envs/leo4study/lib/python3.11/site-packages/sklearn/metrics/_classification.py:1531: UndefinedMetricWarning: Precision is ill-defined and being set to 0.0 in labels with no predicted samples. Use `zero_division` parameter to control this behavior.\n",
      "  _warn_prf(average, modifier, f\"{metric.capitalize()} is\", len(result))\n"
     ]
    }
   ],
   "source": [
    "from sklearn.linear_model import LogisticRegression\n",
    "from sklearn.preprocessing import LabelEncoder\n",
    "from sklearn.model_selection import train_test_split\n",
    "from sklearn.metrics import classification_report\n",
    "\n",
    "X = statistics_df[['Age', 'Purchase Amount (USD)','Review Rating']]\n",
    "y = statistics_df['Subscription Status']\n",
    "\n",
    "# 종속변수 y 인코딩\n",
    "label_encoder = LabelEncoder()\n",
    "y = label_encoder.fit_transform(y)\n",
    "\n",
    "X_train, X_test, y_train, y_test = train_test_split(X ,y, test_size=0.3, random_state=42)\n",
    "\n",
    "# 로지스틱회귀 모델 생성 및 학습\n",
    "lr_model = LogisticRegression(random_state=42) \n",
    "lr_model.fit(X_train, y_train)\n",
    "\n",
    "# 모델 성능 확인\n",
    "y_pred_log = lr_model.predict(X_test)\n",
    "print(classification_report(y_test, y_pred_log))"
   ]
  },
  {
   "cell_type": "markdown",
   "metadata": {},
   "source": [
    "`error message` : UndefinedMetricWarning: Precision is ill-defined and being set to 0.0 in labels with no predicted samples. Use `zero_division` parameter to control this behavior.\n",
    "\n",
    "\n",
    "https://brainly.com/question/35611070\n",
    "\n",
    "Explanation:\n",
    "\n",
    "To fix the 'UndefinedMetricWarning' in python Logistic Regression, you can follow these steps:\n",
    "\n",
    "1. Import the LogisticRegression class from the scikit-learn library.\n",
    "2. Create an instance of the LogisticRegression class.\n",
    "3. Set the 'zero_division' parameter to control the behavior of precision and F-score calculation for labels with no predicted samples.\n",
    "4. Fit the logistic regression model on your training data.\n",
    "5. Predict the labels for your test data.\n",
    "6. Evaluate the performance of the model using metrics such as precision and F-score.\n",
    "7. By setting 'zero_division=1', the precision and F-score will be set to 0.0 for labels with no predicted samples. You can adjust the value of 'zero_division' based on your specific requirements."
   ]
  },
  {
   "cell_type": "markdown",
   "metadata": {},
   "source": [
    "> ### zero_division 사용하라는 메세지."
   ]
  },
  {
   "cell_type": "markdown",
   "metadata": {},
   "source": [
    "classification_report(y_test, y_pred, zero_division=0)\n",
    "\n",
    "|zero_division_값|\t결과|\t해석|\n",
    "|-|-|-|\n",
    "|1\t|성능 점수가 1로 설정됨 |\t낙관적인 설정으로, 예측값이 없는 경우에도 해당 클래스의 점수를 최대화함.|\n",
    "|0\t|성능 점수가 0로 설정됨\t|보수적인 설정으로, 예측값이 없는 경우 성능 평가에서 불이익을 줌.|"
   ]
  },
  {
   "cell_type": "markdown",
   "metadata": {},
   "source": [
    "### zero_division=0 파라미터 추가"
   ]
  },
  {
   "cell_type": "code",
   "execution_count": 75,
   "metadata": {},
   "outputs": [
    {
     "name": "stdout",
     "output_type": "stream",
     "text": [
      "              precision    recall  f1-score   support\n",
      "\n",
      "           0       0.54      1.00      0.70       635\n",
      "           1       0.00      0.00      0.00       535\n",
      "\n",
      "    accuracy                           0.54      1170\n",
      "   macro avg       0.27      0.50      0.35      1170\n",
      "weighted avg       0.29      0.54      0.38      1170\n",
      "\n"
     ]
    }
   ],
   "source": [
    "# 데이터 준비\n",
    "X = statistics_df[['Age', 'Purchase Amount (USD)', 'Review Rating']]\n",
    "y = statistics_df['Discount Applied']\n",
    "\n",
    "# 종속 변수 y 인코딩\n",
    "label_encoder = LabelEncoder()\n",
    "y = label_encoder.fit_transform(y)\n",
    "\n",
    "# 데이터 분리\n",
    "X_train, X_test, y_train, y_test = train_test_split(X, y, test_size=0.3, random_state=42)\n",
    "\n",
    "# 로지스틱 회귀 모델 생성 및 학습\n",
    "lr_model = LogisticRegression(random_state=42)\n",
    "lr_model.fit(X_train, y_train)\n",
    "\n",
    "# 모델 예측\n",
    "y_pred_log = lr_model.predict(X_test)\n",
    "\n",
    "# 모델 성능 평가\n",
    "print(classification_report(y_test, y_pred_log, zero_division=0))\n"
   ]
  },
  {
   "cell_type": "code",
   "execution_count": 76,
   "metadata": {},
   "outputs": [
    {
     "name": "stdout",
     "output_type": "stream",
     "text": [
      "['No' 'Yes']\n"
     ]
    }
   ],
   "source": [
    "#레이블 클래스 확인\n",
    "print(label_encoder.classes_)"
   ]
  },
  {
   "cell_type": "markdown",
   "metadata": {},
   "source": [
    "### 연령 30세, 구매 금액 50 USD, 리뷰 평점 4.0인 고객의 이탈 확률 구하기"
   ]
  },
  {
   "cell_type": "code",
   "execution_count": 79,
   "metadata": {},
   "outputs": [
    {
     "data": {
      "text/plain": [
       "array([[0.58414347, 0.41585653]])"
      ]
     },
     "execution_count": 79,
     "metadata": {},
     "output_type": "execute_result"
    }
   ],
   "source": [
    "new_customer = pd.DataFrame([[30, 50, 4.0]], columns=['Age', 'Purchase Amount (USD)', 'Review Rating'])\n",
    "# 0번 클래스 = 'No' , 1번 클래스 = 'Yes'\n",
    "lr_model.predict_proba(new_customer)"
   ]
  },
  {
   "cell_type": "code",
   "execution_count": 80,
   "metadata": {},
   "outputs": [
    {
     "name": "stdout",
     "output_type": "stream",
     "text": [
      "연령 30세, 구매 금액 50 USD, 리뷰 평점 4.0인 고객의 이탈 확률 : 0.58\n"
     ]
    }
   ],
   "source": [
    "# 이탈율 0번 클래스\n",
    "attrition_probability = lr_model.predict_proba(new_customer)[0][0]\n",
    "print(\"연령 30세, 구매 금액 50 USD, 리뷰 평점 4.0인 고객의 이탈 확률 : {:.2f}\".format(attrition_probability))"
   ]
  },
  {
   "cell_type": "markdown",
   "metadata": {},
   "source": [
    "## Class 1 의 `precision` ,`recall` ,`f1-score`\n",
    "모델의 정확도도 중요하지만 다른 성능 지표도 살펴봐야 함.\n",
    "</br>모델의 정밀도, 재현율, f1-score가 매우 낮은 것은 불균형 데이터 문제가 원인일 가능성이 높다."
   ]
  },
  {
   "cell_type": "code",
   "execution_count": 81,
   "metadata": {},
   "outputs": [
    {
     "data": {
      "text/plain": [
       "No     2223\n",
       "Yes    1677\n",
       "Name: Discount Applied, dtype: int64"
      ]
     },
     "execution_count": 81,
     "metadata": {},
     "output_type": "execute_result"
    }
   ],
   "source": [
    "# 데이터의 분포 확인\n",
    "statistics_df['Discount Applied'].value_counts()"
   ]
  },
  {
   "cell_type": "markdown",
   "metadata": {},
   "source": [
    "정확도 외의 성능 지표에 집중해보면\n",
    "\n",
    "precision, recall, f1-score와 같은 성능 지표를 참고할 수 있다.\n",
    "\n",
    "특히, 클래스 1의 recall이 매우 낮은 상황에서는, 모델이 클래스 1에 대한 예측을 잘못하고 있음을 의미"
   ]
  },
  {
   "cell_type": "markdown",
   "metadata": {},
   "source": [
    "LogisticRegression(random_state=42,class_weight='balanced')\n",
    "\n",
    "|파라미터\t|설명|\n",
    "|-|-|\n",
    "|class_weight=None|\t기본값. 클래스 가중치를 설정하지 않음. 모든 클래스에 대해 동일한 가중치를 적용.|\n",
    "|class_weight='balanced'|\t클래스 불균형을 자동으로 보정. 각 클래스의 가중치를 데이터에서의 반비례 빈도에 따라 설정.|\n",
    "|class_weight=dict|\t사용자가 직접 특정 클래스에 대한 가중치를 지정할 수 있음.|"
   ]
  },
  {
   "cell_type": "code",
   "execution_count": 82,
   "metadata": {},
   "outputs": [
    {
     "name": "stdout",
     "output_type": "stream",
     "text": [
      "              precision    recall  f1-score   support\n",
      "\n",
      "           0       0.56      0.52      0.54       635\n",
      "           1       0.47      0.51      0.49       535\n",
      "\n",
      "    accuracy                           0.51      1170\n",
      "   macro avg       0.51      0.51      0.51      1170\n",
      "weighted avg       0.52      0.51      0.51      1170\n",
      "\n"
     ]
    }
   ],
   "source": [
    "# 로지스틱 회귀 모델 학습 (클래스 가중치 추가)\n",
    "lr_model = LogisticRegression(random_state=42,class_weight='balanced')\n",
    "lr_model.fit(X_train, y_train)\n",
    "\n",
    "# 모델 평가\n",
    "y_pred_log = lr_model.predict(X_test)\n",
    "print(classification_report(y_test, y_pred_log, zero_division=0))"
   ]
  },
  {
   "cell_type": "markdown",
   "metadata": {},
   "source": [
    "불균형이 너무 심하면 SMOTE 같은 샘플링 기법과 함께 사용하면 효과적이다."
   ]
  },
  {
   "cell_type": "markdown",
   "metadata": {},
   "source": [
    "### 1. SMOTE ?\n",
    "\n",
    "SMOTE(Synthetic Minority Over-sampling Technique)는 새로운 데이터를 생성하는 오버샘플링 방식으로 원래 데이터 분포에 없던 데이터 포인트를 추가하므로, 모델이 과적합되거나 잘못된 분류 경향을 보일 수 있다.\n",
    "\n",
    "특히, 로지스틱 회귀는 선형 모델로, 데이터가 선형적으로 구분 가능해야 성능이 좋다. SMOTE로 인해 생성된 데이터가 원래 데이터와 다른 패턴을 형성하면, 모델의 일반화 성능이 떨어질 수 있으니 주의."
   ]
  },
  {
   "cell_type": "markdown",
   "metadata": {},
   "source": [
    "> 오버샘플링은 소수 클래스의 데이터를 인위적으로 늘리는 기법</br>\n",
    "> 언더샘플링은 다수 클래스의 데이터를 일부 제거하여 데이터 불균형을 해결하는 기법"
   ]
  },
  {
   "cell_type": "markdown",
   "metadata": {},
   "source": [
    "### 2. 클래스 가중치와 SMOTE의 중복 주의\n",
    "class_weight='balanced' 옵션은 학습 시 가중치를 적용해 데이터 불균형을 보정한다.\n",
    "그런데 이미 SMOTE로 데이터 불균형을 완화한 상태에서 클래스 가중치를 추가로 적용하면, 소수 클래스가 과하게 강조될 수 있어서 모델이 데이터 균형을 잘못 학습하고 성능이 저하될 수 있다."
   ]
  },
  {
   "cell_type": "code",
   "execution_count": 96,
   "metadata": {},
   "outputs": [
    {
     "name": "stdout",
     "output_type": "stream",
     "text": [
      "              precision    recall  f1-score   support\n",
      "\n",
      "           0       0.70      0.49      0.58       834\n",
      "           1       0.28      0.49      0.35       336\n",
      "\n",
      "    accuracy                           0.49      1170\n",
      "   macro avg       0.49      0.49      0.47      1170\n",
      "weighted avg       0.58      0.49      0.51      1170\n",
      "\n"
     ]
    }
   ],
   "source": [
    "from imblearn.over_sampling import SMOTE\n",
    "\n",
    "# 데이터 설정\n",
    "X = statistics_df[['Age', 'Purchase Amount (USD)', 'Review Rating']]\n",
    "y = statistics_df['Subscription Status']\n",
    "\n",
    "# 종속 변수 y 인코딩\n",
    "label_encoder = LabelEncoder()\n",
    "y = label_encoder.fit_transform(y)\n",
    "\n",
    "# 데이터 분리\n",
    "X_train, X_test, y_train, y_test = train_test_split(X, y, test_size=0.3, random_state=42)\n",
    "\n",
    "# SMOTE 적용 (소수 클래스 데이터 오버샘플링)\n",
    "smote = SMOTE(random_state=42)\n",
    "X_res, y_res = smote.fit_resample(X_train, y_train)\n",
    "\n",
    "# 로지스틱 회귀 모델 학습\n",
    "lr_model = LogisticRegression(random_state=42)\n",
    "lr_model.fit(X_res, y_res)\n",
    "\n",
    "# 예측\n",
    "y_pred = lr_model.predict(X_test)\n",
    "\n",
    "# 성능 평가\n",
    "print(classification_report(y_test, y_pred, zero_division=0))"
   ]
  },
  {
   "cell_type": "code",
   "execution_count": 84,
   "metadata": {},
   "outputs": [
    {
     "name": "stdout",
     "output_type": "stream",
     "text": [
      "['No' 'Yes']\n"
     ]
    }
   ],
   "source": [
    "#레이블 클래스 확인\n",
    "print(label_encoder.classes_)"
   ]
  },
  {
   "cell_type": "markdown",
   "metadata": {},
   "source": [
    "### `class_weight='balanced'` vs `SMOTE` 모델 비교"
   ]
  },
  {
   "cell_type": "markdown",
   "metadata": {},
   "source": [
    "첫 번째 모델 (class_weight='balanced')\n",
    "- 정확도: 51%\n",
    "- 정밀도: 클래스(1)의 정밀도는 낮고, 클래스(0)의 정밀도 높음\n",
    "- 재현율: 클래스(1)의 재현율이 상대적으로 낮고, 클래스(0)의 재현율 높음\n",
    "- F1-score: 클래스(1)의 F1-score가 낮고, 클래스(0)의 F1-score가 상대적으로 더 높다.\n",
    "\n",
    "\n",
    "두 번째 모델 (SMOTE 적용)\n",
    "- 정확도: 49% (첫 번째 모델보다 조금 낮음)\n",
    "- 정밀도:  클래스(1)의 정밀도는 여전히 낮고,  클래스(0)의 정밀도가 조금 낮아짐\n",
    "- 재현율:  클래스(1)의 재현율이 두 번째 모델에서 높아짐 (0.46 → 0.49)\n",
    "- F1-score: 두 모델 모두  클래스(1)의 F1-score가 낮고,  클래스(0)는 비슷하거나 조금 더 높다.\n",
    "\n",
    "</br>\n",
    "\n",
    "정리\n",
    "\n",
    "SMOTE 적용 모델이 Subscription Status ('Yes')를 더 잘 잡아 낸다.\n",
    "\n",
    "하지만 지금은 이탈확률을 구하는 것이기 때문에 `0번 클래스('No')의 정밀도와 재현율이 높은`\n",
    "첫 번째 모델 (`class_weight='balanced'`)을 사용."
   ]
  },
  {
   "cell_type": "markdown",
   "metadata": {},
   "source": [
    "### `class_weight='balanced'` 모델 사용해 연령 30세, 구매 금액 50 USD, 리뷰 평점 4.0인 고객의 이탈 확률 구하기"
   ]
  },
  {
   "cell_type": "code",
   "execution_count": 85,
   "metadata": {},
   "outputs": [
    {
     "name": "stdout",
     "output_type": "stream",
     "text": [
      "              precision    recall  f1-score   support\n",
      "\n",
      "           0       0.56      0.52      0.54       635\n",
      "           1       0.47      0.51      0.49       535\n",
      "\n",
      "    accuracy                           0.51      1170\n",
      "   macro avg       0.51      0.51      0.51      1170\n",
      "weighted avg       0.52      0.51      0.51      1170\n",
      "\n"
     ]
    }
   ],
   "source": [
    "# 로지스틱 회귀 모델 학습 (클래스 가중치 추가)\n",
    "lr_model = LogisticRegression(random_state=42,class_weight='balanced')\n",
    "lr_model.fit(X_train, y_train)\n",
    "\n",
    "# 모델 평가\n",
    "y_pred_log = lr_model.predict(X_test)\n",
    "print(classification_report(y_test, y_pred_log, zero_division=1))"
   ]
  },
  {
   "cell_type": "code",
   "execution_count": 86,
   "metadata": {},
   "outputs": [
    {
     "data": {
      "text/plain": [
       "array([[0.50251927, 0.49748073]])"
      ]
     },
     "execution_count": 86,
     "metadata": {},
     "output_type": "execute_result"
    }
   ],
   "source": [
    "new_customer = pd.DataFrame([[30, 50, 4.0]], columns=['Age', 'Purchase Amount (USD)', 'Review Rating'])\n",
    "\n",
    "lr_model.predict_proba(new_customer)"
   ]
  },
  {
   "cell_type": "code",
   "execution_count": 87,
   "metadata": {},
   "outputs": [
    {
     "data": {
      "text/plain": [
       "0.5025192735140899"
      ]
     },
     "execution_count": 87,
     "metadata": {},
     "output_type": "execute_result"
    }
   ],
   "source": [
    "lr_model.predict_proba(new_customer)[0][0]"
   ]
  },
  {
   "cell_type": "code",
   "execution_count": 88,
   "metadata": {},
   "outputs": [
    {
     "data": {
      "text/plain": [
       "array([[0.50251927, 0.49748073]])"
      ]
     },
     "execution_count": 88,
     "metadata": {},
     "output_type": "execute_result"
    }
   ],
   "source": [
    "# 0번 클래스 = 'No' , 1번 클래스 = 'Yes'\n",
    "lr_model.predict_proba(new_customer)"
   ]
  },
  {
   "cell_type": "code",
   "execution_count": 89,
   "metadata": {},
   "outputs": [
    {
     "name": "stdout",
     "output_type": "stream",
     "text": [
      "연령 30세, 구매 금액 50 USD, 리뷰 평점 4.0인 고객의 이탈 확률 : 0.50\n"
     ]
    }
   ],
   "source": [
    "# 이탈율 0번 클래스\n",
    "attrition_probability = lr_model.predict_proba(new_customer)[0][0]\n",
    "print(\"연령 30세, 구매 금액 50 USD, 리뷰 평점 4.0인 고객의 이탈 확률 : {:.2f}\".format(attrition_probability))"
   ]
  },
  {
   "cell_type": "markdown",
   "metadata": {},
   "source": [
    "기본 로지스틱 회귀 모델:\n",
    "Class 0 ('No', 이탈):\n",
    "높은 재현율(1.00)과 정밀도(0.71) → 이탈자를 거의 완벽히 예측.\n",
    "Class 1 ('Yes', 구독):\n",
    "정밀도, 재현율, F1-score 모두 0 → 구독자를 전혀 예측하지 못함.\n",
    "새로운 고객(30세, 50 USD, 평점 4.0)에 대해 이탈 확률은 0.74로 계산됨 → 이탈 가능성이 높음.\n",
    "class_weight='balanced' 적용 모델:\n",
    "Class 0 ('No', 이탈):\n",
    "재현율 0.52, 정밀도 0.56 → 이탈 예측 성능이 다소 감소.\n",
    "Class 1 ('Yes', 구독):\n",
    "정밀도 0.48, 재현율 0.52, F1-score 0.50 → 구독자를 어느 정도 예측 가능.\n",
    "새로운 고객(30세, 50 USD, 평점 4.0)에 대해 이탈 확률은 0.51로 계산됨 → 이탈 가능성이 중간 정도.\n",
    "결론:\n",
    "기본 모델은 이탈(‘No’)을 매우 잘 예측하지만, 구독(‘Yes’)은 예측하지 못함.\n",
    "class_weight='balanced' 모델은 이탈 예측 성능이 약간 낮아졌지만, 구독자를 예측하는 데는 더 유용.\n",
    "구독 확률 대신 이탈 확률로 해석한 결과에 따르면, 기본 모델이 이탈 가능성이 더 높은 고객을 잘 탐지함."
   ]
  }
 ],
 "metadata": {
  "kernelspec": {
   "display_name": "leo4study",
   "language": "python",
   "name": "python3"
  },
  "language_info": {
   "codemirror_mode": {
    "name": "ipython",
    "version": 3
   },
   "file_extension": ".py",
   "mimetype": "text/x-python",
   "name": "python",
   "nbconvert_exporter": "python",
   "pygments_lexer": "ipython3",
   "version": "3.11.9"
  }
 },
 "nbformat": 4,
 "nbformat_minor": 2
}
