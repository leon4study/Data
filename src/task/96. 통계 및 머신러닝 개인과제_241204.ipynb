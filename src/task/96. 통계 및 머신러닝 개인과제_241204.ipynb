{
 "cells": [
  {
   "cell_type": "markdown",
   "id": "d982b91f",
   "metadata": {},
   "source": [
    "### <span style=\"color:darkgreen\"> 📗 필수 1. 기초통계"
   ]
  },
  {
   "cell_type": "code",
   "execution_count": 13,
   "id": "0a1048c6",
   "metadata": {},
   "outputs": [],
   "source": [
    "# 라이브러리 호출 \n",
    "import pandas as pd\n",
    "import numpy as np \n",
    "# 과학 계산용 파이썬 라이브러리 \n",
    "import scipy.stats as stats\n",
    "import warnings \n",
    "warnings.filterwarnings('ignore')"
   ]
  },
  {
   "cell_type": "code",
   "execution_count": 14,
   "id": "37e696cd",
   "metadata": {},
   "outputs": [],
   "source": [
    "df = pd.read_csv(\"statistics.csv\")"
   ]
  },
  {
   "cell_type": "code",
   "execution_count": 15,
   "id": "f8dd0ec9",
   "metadata": {},
   "outputs": [
    {
     "data": {
      "text/html": [
       "<div>\n",
       "<style scoped>\n",
       "    .dataframe tbody tr th:only-of-type {\n",
       "        vertical-align: middle;\n",
       "    }\n",
       "\n",
       "    .dataframe tbody tr th {\n",
       "        vertical-align: top;\n",
       "    }\n",
       "\n",
       "    .dataframe thead th {\n",
       "        text-align: right;\n",
       "    }\n",
       "</style>\n",
       "<table border=\"1\" class=\"dataframe\">\n",
       "  <thead>\n",
       "    <tr style=\"text-align: right;\">\n",
       "      <th></th>\n",
       "      <th>Gender</th>\n",
       "      <th>mean</th>\n",
       "      <th>median</th>\n",
       "    </tr>\n",
       "  </thead>\n",
       "  <tbody>\n",
       "    <tr>\n",
       "      <th>0</th>\n",
       "      <td>Female</td>\n",
       "      <td>3.74</td>\n",
       "      <td>3.7</td>\n",
       "    </tr>\n",
       "    <tr>\n",
       "      <th>1</th>\n",
       "      <td>Male</td>\n",
       "      <td>3.75</td>\n",
       "      <td>3.8</td>\n",
       "    </tr>\n",
       "  </tbody>\n",
       "</table>\n",
       "</div>"
      ],
      "text/plain": [
       "   Gender  mean  median\n",
       "0  Female  3.74     3.7\n",
       "1    Male  3.75     3.8"
      ]
     },
     "execution_count": 15,
     "metadata": {},
     "output_type": "execute_result"
    }
   ],
   "source": [
    "df.groupby(['Gender'])['Review Rating'].agg(['mean','median']).round(2).reset_index()"
   ]
  },
  {
   "cell_type": "markdown",
   "id": "0dcd7dd6",
   "metadata": {},
   "source": [
    "### <span style=\"color:darkgreen\"> 📗 필수 2. 통계적 가설검정"
   ]
  },
  {
   "cell_type": "code",
   "execution_count": 16,
   "id": "ee888569",
   "metadata": {},
   "outputs": [],
   "source": [
    "mask=(df['Gender']=='Male')\n",
    "mask1 = (df['Gender']=='Female')\n",
    "m_df = df[mask]\n",
    "f_df = df[mask1]"
   ]
  },
  {
   "cell_type": "code",
   "execution_count": 17,
   "id": "4c5f00e9",
   "metadata": {},
   "outputs": [],
   "source": [
    "# 결제금액 컬럼만 가져오기 \n",
    "m_df=m_df[['Review Rating']]\n",
    "f_df=f_df[['Review Rating']]"
   ]
  },
  {
   "cell_type": "code",
   "execution_count": 18,
   "id": "f87f7b91",
   "metadata": {},
   "outputs": [],
   "source": [
    "t, pvalue=stats.ttest_ind(f_df, m_df)"
   ]
  },
  {
   "cell_type": "code",
   "execution_count": 19,
   "id": "2bdf300c",
   "metadata": {},
   "outputs": [
    {
     "data": {
      "text/plain": [
       "(array([-0.50971475]), array([0.61028017]))"
      ]
     },
     "execution_count": 19,
     "metadata": {},
     "output_type": "execute_result"
    }
   ],
   "source": [
    "t, pvalue"
   ]
  },
  {
   "cell_type": "markdown",
   "id": "ebe38611",
   "metadata": {},
   "source": [
    "### <span style=\"color:darkgreen\"> 📗 필수 3. 통계적 가설검정2"
   ]
  },
  {
   "cell_type": "code",
   "execution_count": 25,
   "id": "9c49344f",
   "metadata": {},
   "outputs": [],
   "source": [
    "result = pd.crosstab(df['Color'], df['Season'])"
   ]
  },
  {
   "cell_type": "code",
   "execution_count": 26,
   "id": "a2bcdeea",
   "metadata": {},
   "outputs": [
    {
     "data": {
      "text/html": [
       "<div>\n",
       "<style scoped>\n",
       "    .dataframe tbody tr th:only-of-type {\n",
       "        vertical-align: middle;\n",
       "    }\n",
       "\n",
       "    .dataframe tbody tr th {\n",
       "        vertical-align: top;\n",
       "    }\n",
       "\n",
       "    .dataframe thead th {\n",
       "        text-align: right;\n",
       "    }\n",
       "</style>\n",
       "<table border=\"1\" class=\"dataframe\">\n",
       "  <thead>\n",
       "    <tr style=\"text-align: right;\">\n",
       "      <th>Season</th>\n",
       "      <th>Fall</th>\n",
       "      <th>Spring</th>\n",
       "      <th>Summer</th>\n",
       "      <th>Winter</th>\n",
       "    </tr>\n",
       "    <tr>\n",
       "      <th>Color</th>\n",
       "      <th></th>\n",
       "      <th></th>\n",
       "      <th></th>\n",
       "      <th></th>\n",
       "    </tr>\n",
       "  </thead>\n",
       "  <tbody>\n",
       "    <tr>\n",
       "      <th>Beige</th>\n",
       "      <td>34</td>\n",
       "      <td>39</td>\n",
       "      <td>37</td>\n",
       "      <td>37</td>\n",
       "    </tr>\n",
       "    <tr>\n",
       "      <th>Black</th>\n",
       "      <td>42</td>\n",
       "      <td>43</td>\n",
       "      <td>42</td>\n",
       "      <td>40</td>\n",
       "    </tr>\n",
       "    <tr>\n",
       "      <th>Blue</th>\n",
       "      <td>32</td>\n",
       "      <td>39</td>\n",
       "      <td>46</td>\n",
       "      <td>35</td>\n",
       "    </tr>\n",
       "    <tr>\n",
       "      <th>Brown</th>\n",
       "      <td>35</td>\n",
       "      <td>33</td>\n",
       "      <td>33</td>\n",
       "      <td>40</td>\n",
       "    </tr>\n",
       "    <tr>\n",
       "      <th>Charcoal</th>\n",
       "      <td>32</td>\n",
       "      <td>42</td>\n",
       "      <td>36</td>\n",
       "      <td>43</td>\n",
       "    </tr>\n",
       "    <tr>\n",
       "      <th>Cyan</th>\n",
       "      <td>43</td>\n",
       "      <td>42</td>\n",
       "      <td>42</td>\n",
       "      <td>39</td>\n",
       "    </tr>\n",
       "    <tr>\n",
       "      <th>Gold</th>\n",
       "      <td>36</td>\n",
       "      <td>38</td>\n",
       "      <td>30</td>\n",
       "      <td>34</td>\n",
       "    </tr>\n",
       "    <tr>\n",
       "      <th>Gray</th>\n",
       "      <td>44</td>\n",
       "      <td>48</td>\n",
       "      <td>40</td>\n",
       "      <td>27</td>\n",
       "    </tr>\n",
       "    <tr>\n",
       "      <th>Green</th>\n",
       "      <td>37</td>\n",
       "      <td>38</td>\n",
       "      <td>44</td>\n",
       "      <td>50</td>\n",
       "    </tr>\n",
       "    <tr>\n",
       "      <th>Indigo</th>\n",
       "      <td>37</td>\n",
       "      <td>37</td>\n",
       "      <td>32</td>\n",
       "      <td>41</td>\n",
       "    </tr>\n",
       "    <tr>\n",
       "      <th>Lavender</th>\n",
       "      <td>38</td>\n",
       "      <td>32</td>\n",
       "      <td>39</td>\n",
       "      <td>38</td>\n",
       "    </tr>\n",
       "    <tr>\n",
       "      <th>Magenta</th>\n",
       "      <td>50</td>\n",
       "      <td>37</td>\n",
       "      <td>35</td>\n",
       "      <td>30</td>\n",
       "    </tr>\n",
       "    <tr>\n",
       "      <th>Maroon</th>\n",
       "      <td>40</td>\n",
       "      <td>39</td>\n",
       "      <td>35</td>\n",
       "      <td>44</td>\n",
       "    </tr>\n",
       "    <tr>\n",
       "      <th>Olive</th>\n",
       "      <td>47</td>\n",
       "      <td>52</td>\n",
       "      <td>35</td>\n",
       "      <td>43</td>\n",
       "    </tr>\n",
       "    <tr>\n",
       "      <th>Orange</th>\n",
       "      <td>45</td>\n",
       "      <td>39</td>\n",
       "      <td>37</td>\n",
       "      <td>33</td>\n",
       "    </tr>\n",
       "    <tr>\n",
       "      <th>Peach</th>\n",
       "      <td>42</td>\n",
       "      <td>38</td>\n",
       "      <td>24</td>\n",
       "      <td>45</td>\n",
       "    </tr>\n",
       "    <tr>\n",
       "      <th>Pink</th>\n",
       "      <td>35</td>\n",
       "      <td>44</td>\n",
       "      <td>29</td>\n",
       "      <td>45</td>\n",
       "    </tr>\n",
       "    <tr>\n",
       "      <th>Purple</th>\n",
       "      <td>37</td>\n",
       "      <td>43</td>\n",
       "      <td>38</td>\n",
       "      <td>33</td>\n",
       "    </tr>\n",
       "    <tr>\n",
       "      <th>Red</th>\n",
       "      <td>42</td>\n",
       "      <td>31</td>\n",
       "      <td>36</td>\n",
       "      <td>39</td>\n",
       "    </tr>\n",
       "    <tr>\n",
       "      <th>Silver</th>\n",
       "      <td>39</td>\n",
       "      <td>37</td>\n",
       "      <td>59</td>\n",
       "      <td>38</td>\n",
       "    </tr>\n",
       "    <tr>\n",
       "      <th>Teal</th>\n",
       "      <td>40</td>\n",
       "      <td>46</td>\n",
       "      <td>49</td>\n",
       "      <td>37</td>\n",
       "    </tr>\n",
       "    <tr>\n",
       "      <th>Turquoise</th>\n",
       "      <td>27</td>\n",
       "      <td>41</td>\n",
       "      <td>36</td>\n",
       "      <td>41</td>\n",
       "    </tr>\n",
       "    <tr>\n",
       "      <th>Violet</th>\n",
       "      <td>44</td>\n",
       "      <td>45</td>\n",
       "      <td>40</td>\n",
       "      <td>37</td>\n",
       "    </tr>\n",
       "    <tr>\n",
       "      <th>White</th>\n",
       "      <td>27</td>\n",
       "      <td>36</td>\n",
       "      <td>43</td>\n",
       "      <td>36</td>\n",
       "    </tr>\n",
       "    <tr>\n",
       "      <th>Yellow</th>\n",
       "      <td>50</td>\n",
       "      <td>40</td>\n",
       "      <td>38</td>\n",
       "      <td>46</td>\n",
       "    </tr>\n",
       "  </tbody>\n",
       "</table>\n",
       "</div>"
      ],
      "text/plain": [
       "Season     Fall  Spring  Summer  Winter\n",
       "Color                                  \n",
       "Beige        34      39      37      37\n",
       "Black        42      43      42      40\n",
       "Blue         32      39      46      35\n",
       "Brown        35      33      33      40\n",
       "Charcoal     32      42      36      43\n",
       "Cyan         43      42      42      39\n",
       "Gold         36      38      30      34\n",
       "Gray         44      48      40      27\n",
       "Green        37      38      44      50\n",
       "Indigo       37      37      32      41\n",
       "Lavender     38      32      39      38\n",
       "Magenta      50      37      35      30\n",
       "Maroon       40      39      35      44\n",
       "Olive        47      52      35      43\n",
       "Orange       45      39      37      33\n",
       "Peach        42      38      24      45\n",
       "Pink         35      44      29      45\n",
       "Purple       37      43      38      33\n",
       "Red          42      31      36      39\n",
       "Silver       39      37      59      38\n",
       "Teal         40      46      49      37\n",
       "Turquoise    27      41      36      41\n",
       "Violet       44      45      40      37\n",
       "White        27      36      43      36\n",
       "Yellow       50      40      38      46"
      ]
     },
     "execution_count": 26,
     "metadata": {},
     "output_type": "execute_result"
    }
   ],
   "source": [
    "result"
   ]
  },
  {
   "cell_type": "code",
   "execution_count": 21,
   "id": "b3474602",
   "metadata": {
    "scrolled": false
   },
   "outputs": [
    {
     "data": {
      "text/plain": [
       "Chi2ContingencyResult(statistic=64.6506366841786, pvalue=0.718551112120402, dof=72, expected_freq=array([[36.75      , 37.65461538, 35.99615385, 36.59923077],\n",
       "       [41.75      , 42.77769231, 40.89358974, 41.57871795],\n",
       "       [38.        , 38.93538462, 37.22051282, 37.84410256],\n",
       "       [35.25      , 36.11769231, 34.52692308, 35.10538462],\n",
       "       [38.25      , 39.19153846, 37.46538462, 38.09307692],\n",
       "       [41.5       , 42.52153846, 40.64871795, 41.32974359],\n",
       "       [34.5       , 35.34923077, 33.79230769, 34.35846154],\n",
       "       [39.75      , 40.72846154, 38.93461538, 39.58692308],\n",
       "       [42.25      , 43.29      , 41.38333333, 42.07666667],\n",
       "       [36.75      , 37.65461538, 35.99615385, 36.59923077],\n",
       "       [36.75      , 37.65461538, 35.99615385, 36.59923077],\n",
       "       [38.        , 38.93538462, 37.22051282, 37.84410256],\n",
       "       [39.5       , 40.47230769, 38.68974359, 39.33794872],\n",
       "       [44.25      , 45.33923077, 43.34230769, 44.06846154],\n",
       "       [38.5       , 39.44769231, 37.71025641, 38.34205128],\n",
       "       [37.25      , 38.16692308, 36.48589744, 37.09717949],\n",
       "       [38.25      , 39.19153846, 37.46538462, 38.09307692],\n",
       "       [37.75      , 38.67923077, 36.97564103, 37.59512821],\n",
       "       [37.        , 37.91076923, 36.24102564, 36.84820513],\n",
       "       [43.25      , 44.31461538, 42.36282051, 43.0725641 ],\n",
       "       [43.        , 44.05846154, 42.11794872, 42.82358974],\n",
       "       [36.25      , 37.14230769, 35.50641026, 36.10128205],\n",
       "       [41.5       , 42.52153846, 40.64871795, 41.32974359],\n",
       "       [35.5       , 36.37384615, 34.77179487, 35.35435897],\n",
       "       [43.5       , 44.57076923, 42.60769231, 43.32153846]]))"
      ]
     },
     "execution_count": 21,
     "metadata": {},
     "output_type": "execute_result"
    }
   ],
   "source": [
    "stats.chi2_contingency(observed=result)"
   ]
  },
  {
   "cell_type": "markdown",
   "id": "ae83dfd4",
   "metadata": {},
   "source": [
    "### <span style=\"color:darkgreen\"> 📗 필수 4. 머신러닝1"
   ]
  },
  {
   "cell_type": "code",
   "execution_count": 27,
   "id": "d92b3408",
   "metadata": {},
   "outputs": [
    {
     "name": "stdout",
     "output_type": "stream",
     "text": [
      "회귀식: Y = 0.76X + 45.56\n",
      "1000만원 광고비일 때 예상 매출: 801.81만원\n"
     ]
    }
   ],
   "source": [
    "from sklearn.linear_model import LinearRegression\n",
    "\n",
    "# 데이터\n",
    "X = np.array([10, 20, 30, 40, 60, 100]).reshape(-1, 1)\n",
    "Y = np.array([50, 60, 70, 80, 90, 120])\n",
    "\n",
    "# 모델 훈련\n",
    "model = LinearRegression()\n",
    "model.fit(X, Y)\n",
    "# 회귀식\n",
    "coef, intercept = model.coef_[0], model.intercept_\n",
    "print(f\"회귀식: Y = {coef:.2f}X + {intercept:.2f}\")\n",
    "\n",
    "# 예측\n",
    "predicted_sales = model.predict(np.array([[1000]]))\n",
    "print(f\"1000만원 광고비일 때 예상 매출: {predicted_sales[0]:.2f}만원\")"
   ]
  },
  {
   "cell_type": "markdown",
   "id": "f5b11800",
   "metadata": {},
   "source": [
    "### <span style=\"color:orange\"> 📙 도전 1. 머신러닝2"
   ]
  },
  {
   "cell_type": "code",
   "execution_count": 23,
   "id": "bdd0d36d",
   "metadata": {},
   "outputs": [
    {
     "name": "stdout",
     "output_type": "stream",
     "text": [
      "모델 정확도: 0.52\n"
     ]
    }
   ],
   "source": [
    "from sklearn.ensemble import RandomForestClassifier\n",
    "from sklearn.model_selection import train_test_split\n",
    "from sklearn.preprocessing import LabelEncoder\n",
    "\n",
    "# 데이터 준비\n",
    "X = df[['Review Rating', 'Age', 'Previous Purchases']]\n",
    "y = LabelEncoder().fit_transform(df['Discount Applied'])\n",
    "\n",
    "# 데이터 분할\n",
    "X_train, X_test, y_train, y_test = train_test_split(X, y, test_size=0.3, random_state=42)\n",
    "\n",
    "# 모델 학습\n",
    "rf_model = RandomForestClassifier(random_state=42)\n",
    "rf_model.fit(X_train, y_train)\n",
    "\n",
    "# 예측\n",
    "accuracy = rf_model.score(X_test, y_test)\n",
    "print(f\"모델 정확도: {accuracy:.2f}\")"
   ]
  },
  {
   "cell_type": "code",
   "execution_count": 24,
   "id": "aaab99cd",
   "metadata": {},
   "outputs": [
    {
     "name": "stdout",
     "output_type": "stream",
     "text": [
      "연령 30세, 구매 금액 50, 리뷰 평점 4.0인 고객의 이탈 확률: 0.2577\n"
     ]
    }
   ],
   "source": [
    "from sklearn.model_selection import train_test_split\n",
    "from sklearn.linear_model import LogisticRegression\n",
    "from sklearn.preprocessing import LabelEncoder\n",
    "\n",
    "# 데이터 준비\n",
    "X = df[['Age', 'Purchase Amount (USD)', 'Review Rating']]\n",
    "y = LabelEncoder().fit_transform(df['Subscription Status'])\n",
    "\n",
    "# 데이터 분할\n",
    "X_train, X_test, y_train, y_test = train_test_split(X, y, test_size=0.3, random_state=42)\n",
    "\n",
    "# 모델 학습\n",
    "model = LogisticRegression()\n",
    "model.fit(X_train, y_train)\n",
    "\n",
    "# 새로운 데이터 예측\n",
    "new_customer = [[30, 50, 4.0]]\n",
    "predicted_prob = model.predict_proba(new_customer)[0, 1]\n",
    "\n",
    "print(f\"연령 30세, 구매 금액 50, 리뷰 평점 4.0인 고객의 이탈 확률: {predicted_prob:.4f}\")"
   ]
  }
 ],
 "metadata": {
  "kernelspec": {
   "display_name": "Python 3 (ipykernel)",
   "language": "python",
   "name": "python3"
  },
  "language_info": {
   "codemirror_mode": {
    "name": "ipython",
    "version": 3
   },
   "file_extension": ".py",
   "mimetype": "text/x-python",
   "name": "python",
   "nbconvert_exporter": "python",
   "pygments_lexer": "ipython3",
   "version": "3.10.9"
  }
 },
 "nbformat": 4,
 "nbformat_minor": 5
}
