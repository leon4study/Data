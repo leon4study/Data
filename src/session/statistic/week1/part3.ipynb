{
 "cells": [
  {
   "cell_type": "markdown",
   "metadata": {},
   "source": [
    "# 유의성 검정\n",
    "\n",
    "**[수업 목표]**\n",
    "\n",
    "- 각각의 유의성 검정 방법들에 이해하고 특징을 파악한다\n",
    "- 신뢰구간과 가설검정의 관계에 대해 설명할 수 있다\n",
    "- 제 1종 오류와 2종 오류에 대해 이해하고 구분할 수 있다\n"
   ]
  },
  {
   "cell_type": "markdown",
   "metadata": {
    "vscode": {
     "languageId": "plaintext"
    }
   },
   "source": [
    "## 3.1. A/B 검정\n",
    "두 그룹 (A, B)과 비교하는게 포인트!\n",
    "### 두 개를 비교하여 구매 전환율이 큰 것을 선택\n",
    "온라인 쇼핑몰에서 두 가지 디자인(A와 B)에 대한 랜딩 페이지를 테스트하여 어떤 디자인이 더 높은 구매 전환율을 가져오는지 평가."
   ]
  },
  {
   "cell_type": "code",
   "execution_count": 1,
   "metadata": {},
   "outputs": [
    {
     "name": "stdout",
     "output_type": "stream",
     "text": [
      "T-Statistic: -0.2861570479289373, P-value: 0.7750570149584516\n"
     ]
    }
   ],
   "source": [
    "import numpy as np\n",
    "import scipy.stats as stats\n",
    "\n",
    "# 가정된 전환율 데이터\n",
    "group_a = np.random.binomial(1, 0.30, 100)  # 30% 전환율\n",
    "group_b = np.random.binomial(1, 0.45, 100)  # 45% 전환율\n",
    "\n",
    "#전환 했으면 1, 안 했으면 0\n",
    "\n",
    "# t-test를 이용한 비교\n",
    "t_stat, p_val = stats.ttest_ind(group_a, group_b)\n",
    "print(f\"T-Statistic: {t_stat}, P-value: {p_val}\")"
   ]
  },
  {
   "cell_type": "markdown",
   "metadata": {},
   "source": [
    "#### stats.ttest_ind가 뭔가요?\n",
    "- `scipy.stats.ttest_ind` 함수는 독립표본 t-검정(Independent Samples t-test)을 수행하여 두 개의 독립된 집단 간 평균의 차이가 유의미한지 평가합니다.\n",
    "- 이 함수는 두 집단의 데이터 배열을 입력으로 받아서 t-통계량과 p-값을 반환합니다.\n",
    "  - **t-통계량 (statistic)**\n",
    "    - t-검정 통계량입니다. 두 집단 간 평균 차이의 크기와 방향을 나타냅니다.\n",
    "  - **p-값 (pvalue)**\n",
    "    - p-값은 귀무 가설이 참일 때, 현재 데이터보다 극단적인 결과가 나올 확률입니다.\n",
    "    - 이 값이 유의수준(α) 보다 작으면 귀무 가설을 기각하고 이 값이 유의수준(α) 보다 크면 귀무 가설을 기각하지 않습니다.\n",
    "\n",
    "#### 실전 예시 !!!\n",
    "- 딜라이트룸 A/B 테스트 사례\n",
    "    - https://medium.com/delightroom/알라미의-a-b-테스팅-일지-1-eb811fe72a17\n",
    "- 당근마켓 A/B 테스트 사례\n",
    "    - https://medium.com/daangn/거래-후기-실험을-통해-따뜻한-거래-경험-만들기-3d7ac18d8e3\n"
   ]
  },
  {
   "cell_type": "markdown",
   "metadata": {},
   "source": [
    "## 3.2. 가설검정\n",
    "데이터가 특정 가설을 지지하는지 검정하는게 포인트!\n",
    "### 가설을 설정하여 검증\n",
    "- 새로운 약물이 기존 약물보다 효과가 있는지 검정\n",
    "- 이 때 새로운 약물은 기존 약물과 큰 차이가 없다는 것이 귀무가설!\n",
    "- 대립가설은 새로운 약물이 기존 약물과 대비해 교과가 있다는 것!"
   ]
  },
  {
   "cell_type": "code",
   "execution_count": 3,
   "metadata": {},
   "outputs": [
    {
     "name": "stdout",
     "output_type": "stream",
     "text": [
      "A 평균 효과: 49.545815209831574\n",
      "B 평균 효과: 54.88667575992312\n",
      "t-검정 통계량: -3.896815371940078\n",
      "p-값: 0.00013331300810777007\n",
      "p-값: 0.00013331300810777007\n",
      "귀무가설을 기각합니다. 통계적으로 유의미한 차이가 있습니다.\n"
     ]
    }
   ],
   "source": [
    "# 기존 약물(A)와 새로운 약물(B) 효과 데이터 생성\n",
    "A = np.random.normal(50, 10, 100)\n",
    "B = np.random.normal(55, 10, 100)\n",
    "\n",
    "# 평균 효과 계산\n",
    "mean_A = np.mean(A)\n",
    "mean_B = np.mean(B)\n",
    "\n",
    "# t-검정 수행\n",
    "t_stat, p_value = stats.ttest_ind(A, B)\n",
    "\n",
    "print(f\"A 평균 효과: {mean_A}\")\n",
    "print(f\"B 평균 효과: {mean_B}\")\n",
    "print(f\"t-검정 통계량: {t_stat}\")\n",
    "print(f\"p-값: {p_value}\")\n",
    "\n",
    "# t-검정의 p-값 확인 (위 예시에서 계산된 p-값 사용)\n",
    "print(f\"p-값: {p_value}\")\n",
    "if p_value < 0.05:\n",
    "    print(\"귀무가설을 기각합니다. 통계적으로 유의미한 차이가 있습니다.\")\n",
    "else:\n",
    "    print(\"귀무가설을 기각하지 않습니다. 통계적으로 유의미한 차이가 없습니다.\")"
   ]
  },
  {
   "cell_type": "markdown",
   "metadata": {},
   "source": [
    "## 3.3. t검정\n",
    "t검정은 두 집단 간의 평균 차이가 통계적으로 유의미한지 확인하는 검정 방법\n",
    "\n",
    "### p-값을 통한 유의성 확인\n",
    "- 두 클래스의 시험 성적 비교(독립표본 t검정)\n",
    "- 다이어트 전후 체중 비교(대응표본 t검정)"
   ]
  },
  {
   "cell_type": "code",
   "execution_count": 4,
   "metadata": {},
   "outputs": [
    {
     "name": "stdout",
     "output_type": "stream",
     "text": [
      "T-Statistic: -3.2574787687139963, P-value: 0.0018809326547391777\n"
     ]
    }
   ],
   "source": [
    "# 학생 점수 데이터\n",
    "scores_method1 = np.random.normal(70, 10, 30)\n",
    "scores_method2 = np.random.normal(75, 10, 30)\n",
    "\n",
    "# 독립표본 t검정\n",
    "t_stat, p_val = stats.ttest_ind(scores_method1, scores_method2)\n",
    "print(f\"T-Statistic: {t_stat}, P-value: {p_val}\")"
   ]
  },
  {
   "cell_type": "markdown",
   "metadata": {},
   "source": [
    "## 3.4. 다중검정\n",
    "여러 가설을 동시에 검정! 하지만 오류가 발생할 수 있음!\n",
    "\n",
    "### 여러 약물의 효과를 동시에 검정\n",
    "이 때 본페로니 보정을 사용해볼 수 있음"
   ]
  },
  {
   "cell_type": "code",
   "execution_count": 5,
   "metadata": {},
   "outputs": [
    {
     "name": "stdout",
     "output_type": "stream",
     "text": [
      "본페로니 보정된 유의 수준: 0.0167\n",
      "검정 1: 유의미한 차이 발견 (p = 0.0000)\n",
      "검정 2: 유의미한 차이 발견 (p = 0.0058)\n",
      "검정 3: 유의미한 차이 없음 (p = 0.1461)\n"
     ]
    }
   ],
   "source": [
    "import numpy as np\n",
    "import scipy.stats as stats\n",
    "\n",
    "# 세 그룹의 데이터 생성\n",
    "np.random.seed(42)\n",
    "group_A = np.random.normal(10, 2, 30)\n",
    "group_B = np.random.normal(12, 2, 30)\n",
    "group_C = np.random.normal(11, 2, 30)\n",
    "\n",
    "# 세 그룹 간 평균 차이에 대한 t검정 수행\n",
    "p_values = []\n",
    "p_values.append(stats.ttest_ind(group_A, group_B).pvalue)\n",
    "p_values.append(stats.ttest_ind(group_A, group_C).pvalue)\n",
    "p_values.append(stats.ttest_ind(group_B, group_C).pvalue)\n",
    "\n",
    "# 본페로니 보정 적용\n",
    "alpha = 0.05\n",
    "adjusted_alpha = alpha / len(p_values)\n",
    "\n",
    "# 결과 출력\n",
    "print(f\"본페로니 보정된 유의 수준: {adjusted_alpha:.4f}\")\n",
    "for i, p in enumerate(p_values):\n",
    "    if p < adjusted_alpha:\n",
    "        print(f\"검정 {i+1}: 유의미한 차이 발견 (p = {p:.4f})\")\n",
    "    else:\n",
    "        print(f\"검정 {i+1}: 유의미한 차이 없음 (p = {p:.4f})\")"
   ]
  },
  {
   "cell_type": "markdown",
   "metadata": {},
   "source": [
    "## 3.5. 카이제곱검정\n",
    "범주형 데이터의 분석에 사용한다는 것이 포인트!\n",
    "### 카이제곱검정\n",
    "- 범주형 데이터의 표본 분포가 모집단 분포와 일치하는지 검정(적합도 검정)하거나\n",
    "- 두 범주형 변수 간의 독립성을 검정(독립성 검정)\n",
    "### 범주형 데이터의 분포 확인 및 독립성 확인을 위해 사용\n",
    "- 주사위의 각 면이 동일한 확률로 나오는지 검정(적합도 검정)\n",
    "- 성별과 직업 만족도 간의 독립성 검정(독립성 검정)"
   ]
  },
  {
   "cell_type": "code",
   "execution_count": 6,
   "metadata": {},
   "outputs": [
    {
     "name": "stdout",
     "output_type": "stream",
     "text": [
      "적합도 검정 카이제곱 통계량: 2.0, p-값: 0.5724067044708798\n",
      "독립성 검정 카이제곱 통계량: 0.0, p-값: 1.0\n",
      "독립성 검정 카이제곱 통계량: 15.041666666666666, p-값: 0.00010516355403363106\n"
     ]
    }
   ],
   "source": [
    "# 적합도 검정\n",
    "observed = [20, 30, 25, 25]\n",
    "expected = [25, 25, 25, 25]\n",
    "chi2_stat, p_value = stats.chisquare(observed, f_exp=expected)\n",
    "print(f\"적합도 검정 카이제곱 통계량: {chi2_stat}, p-값: {p_value}\")\n",
    "\n",
    "# 독립성 검정\n",
    "observed = np.array([[10, 10, 20], [20, 20, 40]])\n",
    "chi2_stat, p_value, dof, expected = stats.chi2_contingency(observed)\n",
    "print(f\"독립성 검정 카이제곱 통계량: {chi2_stat}, p-값: {p_value}\")\n",
    "\n",
    "# 성별과 흡연 여부 독립성 검정\n",
    "observed = np.array([[30, 10], [20, 40]])\n",
    "chi2_stat, p_value, dof, expected = stats.chi2_contingency(observed)\n",
    "print(f\"독립성 검정 카이제곱 통계량: {chi2_stat}, p-값: {p_value}\")"
   ]
  },
  {
   "cell_type": "markdown",
   "metadata": {},
   "source": [
    "#### stats.chisquare 함수가 뭔가요?\n",
    "- `scipy.stats.chisquare` 함수는 카이제곱 적합도 검정을 수행하여 관찰된 빈도 분포가 기대된 빈도 분포와 일치하는지 평가합니다. 이 검정은 주로 단일 표본에 대해 관찰된 빈도가 특정 이론적 분포(예: 균등 분포)와 일치하는지 확인하는 데 사용됩니다.\n",
    "- 반환 값\n",
    "    - **chi2**: 카이제곱 통계량입니다.\n",
    "    - **p**: p-값입니다. 이는 관찰된 데이터가 귀무 가설 하에서 발생할 확률입니다.\n",
    "\n",
    "\n",
    "#### stats.chi2_contingency 함수가 뭔가요?\n",
    "\n",
    "- `scipy.stats.chi2_contingency` 함수는 카이제곱 검정을 수행하여 두 개 이상의 범주형 변수 간의 독립성을 검정합니다. 이 함수는 관측 빈도를 담고 있는 교차표(contingency table)를 입력으로 받아 카이제곱 통계량, p-값, 자유도, 그리고 기대 빈도(expected frequencies)를 반환합니다.\n",
    "- 반환 값\n",
    "    - **chi2 :** 카이제곱 통계량입니다.\n",
    "    - **p** : p-값입니다. 이는 관측된 데이터가 귀무 가설 하에서 발생할 확률입니다.\n",
    "    - **dof** : 자유도입니다. 이는 (행의 수 - 1) * (열의 수 - 1)로 계산됩니다.\n",
    "    - **expected** : 기대 빈도입니다. 이는 행 합계와 열 합계를 사용하여 계산된 이론적 빈도입니다."
   ]
  },
  {
   "cell_type": "markdown",
   "metadata": {},
   "source": [
    "## 3.6. 제 1종 오류와 제 2종 오류\n",
    "두가지의 오류를 구분하는 것이 포인트!"
   ]
  }
 ],
 "metadata": {
  "kernelspec": {
   "display_name": "leo4study",
   "language": "python",
   "name": "python3"
  },
  "language_info": {
   "codemirror_mode": {
    "name": "ipython",
    "version": 3
   },
   "file_extension": ".py",
   "mimetype": "text/x-python",
   "name": "python",
   "nbconvert_exporter": "python",
   "pygments_lexer": "ipython3",
   "version": "3.11.9"
  }
 },
 "nbformat": 4,
 "nbformat_minor": 2
}
