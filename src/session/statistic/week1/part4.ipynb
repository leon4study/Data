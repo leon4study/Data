{
 "cells": [
  {
   "cell_type": "markdown",
   "metadata": {},
   "source": [
    "# 회귀(Regression)\n",
    "**[수업 목표]**\n",
    "- 회귀가 무엇인지에 대해 이해한다\n",
    "- 다양한 회귀의 종류에 대해서 설명할 수 있고 특징을 이해한다"
   ]
  },
  {
   "cell_type": "markdown",
   "metadata": {},
   "source": [
    "## 4.1 단순선형회귀\n",
    "하나의 독립 변수(X)와 하나의 종속 변수(Y) 간의 관계를 직선으로 모델링하는 방법.\n",
    "### 하나의 독립변수와 종속변수와의 관계를 분석 및 예측\n",
    "- 광고비(X)와 매출(Y) 간의 관계 분석.\n",
    "- 현재의 광고비를 바탕으로 예상되는 매출을 예측 가능."
   ]
  },
  {
   "cell_type": "code",
   "execution_count": null,
   "metadata": {},
   "outputs": [
    {
     "name": "stdout",
     "output_type": "stream",
     "text": [
      "회귀 계수: [[2.9902591]]\n",
      "절편: [4.20634019]\n",
      "평균 제곱 오차(MSE): 0.9177532469714293\n",
      "결정 계수(R2): 0.6521157503858555\n"
     ]
    },
    {
     "data": {
      "image/png": "[encoded data removed]",
      "text/plain": [
       "<Figure size 640x480 with 1 Axes>"
      ]
     },
     "metadata": {},
     "output_type": "display_data"
    }
   ],
   "source": [
    "import numpy as np\n",
    "import pandas as pd\n",
    "import matplotlib.pyplot as plt\n",
    "from sklearn.linear_model import LinearRegression\n",
    "from sklearn.model_selection import train_test_split\n",
    "from sklearn.metrics import mean_squared_error, r2_score\n",
    "\n",
    "# 예시 데이터 생성\n",
    "np.random.seed(0)\n",
    "X = 2 * np.random.rand(100, 1)\n",
    "y = 4 + 3 * X + np.random.randn(100, 1)\n",
    "\n",
    "# 데이터 분할\n",
    "X_train, X_test, y_train, y_test = train_test_split(X, y,\n",
    "test_size=0.2, random_state=42)\n",
    "\n",
    "# 단순선형회귀 모델 생성 및 훈련\n",
    "model = LinearRegression()\n",
    "model.fit(X_train, y_train)\n",
    "\n",
    "# 예측\n",
    "y_pred = model.predict(X_test)\n",
    "\n",
    "# 회귀 계수 및 절편 출력\n",
    "print(\"회귀 계수:\", model.coef_)\n",
    "print(\"절편:\", model.intercept_)\n",
    "\n",
    "# 모델 평가\n",
    "mse = mean_squared_error(y_test, y_pred) #test용 먼저, 예측 나중에\n",
    "r2 = r2_score(y_test, y_pred)\n",
    "print(\"평균 제곱 오차(MSE):\", mse)\n",
    "print(\"결정 계수(R2):\", r2)\n",
    "\n",
    "# 시각화\n",
    "plt.scatter(X, y, color='blue')\n",
    "plt.plot(X_test, y_pred, color='red', linewidth=2)\n",
    "plt.title('linear regeression')\n",
    "plt.xlabel('X : cost')\n",
    "plt.ylabel('Y : sales')\n",
    "plt.show()"
   ]
  },
  {
   "cell_type": "markdown",
   "metadata": {},
   "source": [
    "LinearRegression() 클래스에서 `coef_`와 `intercept_`는 \n",
    "**학습된 선형 회귀 모델의 계수(가중치)와 절편(편향)**을 나타냅니다\n",
    "\n",
    "- coef_: 모델의 계수 또는 `기울기`입니다. 이 값은 𝑋의 변화에 따라 𝑦가 얼마나 변하는지를 나타냅니다. 다중 회귀에서는 각 특성에 대한 가중치가 포함되어 있으며, 여러 특성이 있으면 coef_는 배열이 됩니다.\n",
    "- intercept_: 모델의 `절편` 또는 편향입니다. 이 값은 𝑋 = 0일 때 𝑦 의 예측값으로, 직선이 \n",
    "𝑦-축과 만나는 지점을 의미합니다."
   ]
  },
  {
   "cell_type": "markdown",
   "metadata": {},
   "source": [
    "## 4.2 다중선형회귀\n",
    "두 개 이상의 독립 변수(X1, X2, ..., Xn)와 하나의 종속 변수(Y) 간의 관계를 모델링.\n",
    "### 두 개 이상의 독립 변수와 종속변수와의 관계를 분석 및 예측\n",
    "- 다양한 광고비(TV, Radio, Newspaper)과 매출 간의 관계 분석.\n",
    "- 현재의 광고비(TV, Radio, Newspaper)를 바탕으로 예상되는 매출을 예측 가능"
   ]
  },
  {
   "cell_type": "code",
   "execution_count": null,
   "metadata": {},
   "outputs": [
    {
     "name": "stdout",
     "output_type": "stream",
     "text": [
      "회귀 계수: [-0.02208636 -0.04524956  0.36955755]\n",
      "절편: 47.47458066489462\n",
      "평균 제곱 오차(MSE): 953.8458662397385\n",
      "결정 계수(R2): -0.1404412078044821\n"
     ]
    }
   ],
   "source": [
    "# 예시 데이터 생성\n",
    "data = {'TV': np.random.rand(100) * 100,\n",
    "        'Radio': np.random.rand(100) * 50,\n",
    "        'Newspaper': np.random.rand(100) * 30,\n",
    "        'Sales': np.random.rand(100) * 100}\n",
    "df = pd.DataFrame(data)\n",
    "\n",
    "# 독립 변수(X)와 종속 변수(Y) 설정\n",
    "X = df[['TV', 'Radio', 'Newspaper']]\n",
    "y = df['Sales']\n",
    "\n",
    "# 데이터 분할\n",
    "X_train, X_test, y_train, y_test = train_test_split(X, y, \n",
    "                        test_size=0.2, random_state=42)\n",
    "\n",
    "# 다중선형회귀 모델 생성 및 훈련\n",
    "model = LinearRegression()\n",
    "model.fit(X_train, y_train)\n",
    "\n",
    "# 예측\n",
    "y_pred = model.predict(X_test)\n",
    "\n",
    "# 회귀 계수 및 절편 출력\n",
    "print(\"회귀 계수:\", model.coef_)\n",
    "print(\"절편:\", model.intercept_)\n",
    "\n",
    "# 모델 평가\n",
    "mse = mean_squared_error(y_test, y_pred)\n",
    "r2 = r2_score(y_test, y_pred)\n",
    "print(\"평균 제곱 오차(MSE):\", mse)\n",
    "print(\"결정 계수(R2):\", r2)"
   ]
  },
  {
   "cell_type": "markdown",
   "metadata": {},
   "source": [
    "## 4.3 범주형 변수\n",
    "수치형 데이터가 아닌 주로 문자형 데이터로 이루어져 있는 변수가 범주형 변수\n",
    "### 범주형 변수를 찾고 더미 변수로 변환한 후 회귀 분석 수행\n",
    "- 성별, 근무 경력과 연봉 간의 관계.\n",
    "- 성별과 근무 경력이라는 요인변수 중 성별이 범주형 요인변수에 해당\n",
    "- 해당 변수를 더미 변수로 변환\n",
    "- 회귀 수행"
   ]
  },
  {
   "cell_type": "code",
   "execution_count": 8,
   "metadata": {},
   "outputs": [
    {
     "name": "stdout",
     "output_type": "stream",
     "text": [
      "회귀 계수: [ 2.57281553 -6.01941748]\n",
      "절편: 40.63106796116506\n",
      "평균 제곱 오차(MSE): 3.1067961165048588\n",
      "결정 계수(R2): 0.9580162686958803\n"
     ]
    }
   ],
   "source": [
    "# 예시 데이터 생성\n",
    "data = {'Gender': ['Male', 'Female', 'Female', 'Male', 'Male'],\n",
    "        'Experience': [5, 7, 10, 3, 8],\n",
    "        'Salary': [50, 60, 65, 40, 55]}\n",
    "df = pd.DataFrame(data)\n",
    "\n",
    "# 범주형 변수 더미 변수로 변환# 범주형 변수 더미 변수로 변환\n",
    "# 범주형 변수 더미 변수로 변환# 범주형 변수 더미 변수로 변환\n",
    "# 범주형 변수 더미 변수로 변환# 범주형 변수 더미 변수로 변환\n",
    "# drop_first = Gender_Male T/F , Gender_Female T/F 중복 제거\n",
    "df = pd.get_dummies(df, drop_first=True) \n",
    "\n",
    "# 독립 변수(X)와 종속 변수(Y) 설정\n",
    "X = df[['Experience', 'Gender_Male']]\n",
    "y = df['Salary']\n",
    "\n",
    "# 단순선형회귀 모델 생성 및 훈련\n",
    "model = LinearRegression()\n",
    "model.fit(X, y)\n",
    "\n",
    "# 예측\n",
    "y_pred = model.predict(X)\n",
    "\n",
    "# 회귀 계수 및 절편 출력\n",
    "print(\"회귀 계수:\", model.coef_)\n",
    "print(\"절편:\", model.intercept_)\n",
    "\n",
    "# 모델 평가\n",
    "mse = mean_squared_error(y, y_pred)\n",
    "r2 = r2_score(y, y_pred)\n",
    "print(\"평균 제곱 오차(MSE):\", mse)\n",
    "print(\"결정 계수(R2):\", r2)"
   ]
  },
  {
   "cell_type": "markdown",
   "metadata": {},
   "source": [
    "## 4.4 다항회귀, 스플라인 회귀\n",
    "### 다항회귀\n",
    "독립 변수와 종속 변수 간의 관계가 `선형이 아닐 때` 사용. 독립 변수의 다항식을 사용하여 종속 변수를 예측.\n",
    "### 스플라인 회귀\n",
    "독립 변수의 구간별로 다른 회귀식을 적용하여 복잡한 관계를 모델링\n",
    "\n",
    "\n",
    "### 독립변수와 종속변수의 관계가 비선형 관계일 때 사용\n",
    "- 주택 가격 예측(면적과 가격 간의 비선형 관계)\n",
    "\n"
   ]
  },
  {
   "cell_type": "code",
   "execution_count": 15,
   "metadata": {},
   "outputs": [
    {
     "name": "stdout",
     "output_type": "stream",
     "text": [
      "평균 제곱 오차(MSE): 9.447441952450275\n",
      "결정 계수(R2): 0.9898873384220381\n"
     ]
    },
    {
     "data": {
      "image/png": "[encoded data removed]",
      "text/plain": [
       "<Figure size 640x480 with 1 Axes>"
      ]
     },
     "metadata": {},
     "output_type": "display_data"
    }
   ],
   "source": [
    "from sklearn.preprocessing import PolynomialFeatures\n",
    "\n",
    "# 예시 데이터 생성\n",
    "np.random.seed(0)\n",
    "X = 2 - 3 * np.random.normal(0, 1, 100)\n",
    "y = X - 2 * (X ** 2) + np.random.normal(-3, 3, 100)\n",
    "X = X[:, np.newaxis]\n",
    "\n",
    "# 다항 회귀 (2차)\n",
    "polynomial_features = PolynomialFeatures(degree=2)\n",
    "X_poly = polynomial_features.fit_transform(X)\n",
    "\n",
    "model = LinearRegression()\n",
    "model.fit(X_poly, y)\n",
    "y_poly_pred = model.predict(X_poly)\n",
    "\n",
    "# 모델 평가\n",
    "mse = mean_squared_error(y, y_poly_pred)\n",
    "r2 = r2_score(y, y_poly_pred)\n",
    "print(\"평균 제곱 오차(MSE):\", mse)\n",
    "print(\"결정 계수(R2):\", r2)\n",
    "\n",
    "# 시각화\n",
    "plt.scatter(X, y, s=10)\n",
    "# 정렬된 X 값에 따른 y 값 예측\n",
    "sorted_zip = sorted(zip(X, y_poly_pred))\n",
    "X, y_poly_pred = zip(*sorted_zip)\n",
    "plt.plot(X, y_poly_pred, color='m')\n",
    "plt.title('polynomial regerssion')\n",
    "plt.xlabel('area')\n",
    "plt.ylabel('price')\n",
    "plt.show()"
   ]
  },
  {
   "cell_type": "markdown",
   "metadata": {},
   "source": [
    "`np.newaxis`는 NumPy에서 배열의 차원을 늘릴 때 사용하는 특별한 인덱싱 객체입니다. 기존 배열에 새로운 차원을 추가해 배열의 형태(shape)를 변경할 수 있습니다.\n",
    "\n",
    "np.newaxis를 사용하면 1차원 배열을 2차원이나 3차원으로 변경하는 등, 배열의 차원을 자유롭게 늘릴 수 있습니다. 이를 통해 벡터와 행렬 연산을 더 쉽게 수행할 수 있습니다."
   ]
  },
  {
   "cell_type": "markdown",
   "metadata": {},
   "source": [
    "1. 1차원 배열을 2차원 배열로 변경하기\n",
    "- 1차원 배열을 행 벡터(1행, N열) 또는 열 벡터(N행, 1열)로 변환할 수 있습니다."
   ]
  },
  {
   "cell_type": "code",
   "execution_count": 16,
   "metadata": {},
   "outputs": [
    {
     "name": "stdout",
     "output_type": "stream",
     "text": [
      "행 벡터:\n",
      " [[1 2 3]]\n",
      "행 벡터의 형태: (1, 3)\n",
      "열 벡터:\n",
      " [[1]\n",
      " [2]\n",
      " [3]]\n",
      "열 벡터의 형태: (3, 1)\n"
     ]
    }
   ],
   "source": [
    "import numpy as np\n",
    "\n",
    "# 1차원 배열 생성\n",
    "arr = np.array([1, 2, 3])\n",
    "\n",
    "# 행 벡터로 변환 (1행, 3열)\n",
    "row_vector = arr[np.newaxis, :]\n",
    "print(\"행 벡터:\\n\", row_vector)\n",
    "print(\"행 벡터의 형태:\", row_vector.shape)  # (1, 3)\n",
    "\n",
    "# 열 벡터로 변환 (3행, 1열)\n",
    "col_vector = arr[:, np.newaxis]\n",
    "print(\"열 벡터:\\n\", col_vector)\n",
    "print(\"열 벡터의 형태:\", col_vector.shape)  # (3, 1)\n"
   ]
  },
  {
   "cell_type": "markdown",
   "metadata": {},
   "source": [
    "2. 다차원 배열에서 차원 추가하기\n",
    "- 다차원 배열에서 특정 위치에 차원을 추가할 수도 있습니다."
   ]
  },
  {
   "cell_type": "code",
   "execution_count": 17,
   "metadata": {},
   "outputs": [
    {
     "name": "stdout",
     "output_type": "stream",
     "text": [
      "새로운 차원이 추가된 배열:\n",
      " [[[1]\n",
      "  [2]\n",
      "  [3]]\n",
      "\n",
      " [[4]\n",
      "  [5]\n",
      "  [6]]]\n",
      "배열의 형태: (2, 3, 1)\n"
     ]
    }
   ],
   "source": [
    "# 2차원 배열 생성\n",
    "arr_2d = np.array([[1, 2, 3], [4, 5, 6]])\n",
    "\n",
    "# 세 번째 차원 추가 (2, 3) -> (2, 3, 1)\n",
    "expanded_arr = arr_2d[:, :, np.newaxis]\n",
    "print(\"새로운 차원이 추가된 배열:\\n\", expanded_arr)\n",
    "print(\"배열의 형태:\", expanded_arr.shape)  # (2, 3, 1)"
   ]
  }
 ],
 "metadata": {
  "kernelspec": {
   "display_name": "leo4study",
   "language": "python",
   "name": "python3"
  },
  "language_info": {
   "codemirror_mode": {
    "name": "ipython",
    "version": 3
   },
   "file_extension": ".py",
   "mimetype": "text/x-python",
   "name": "python",
   "nbconvert_exporter": "python",
   "pygments_lexer": "ipython3",
   "version": "3.11.9"
  }
 },
 "nbformat": 4,
 "nbformat_minor": 2
}
