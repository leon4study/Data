{
 "cells": [
  {
   "cell_type": "markdown",
   "id": "60bc507b",
   "metadata": {},
   "source": [
    "----------------------------------\n",
    "\n",
    "# <span style=\"color:blueviolet\"> 👩‍💻 DATA EDA <span style =\"font-family:Papyrus;\"> with python </span>\n",
    "----------------------------------\n",
    "\n",
    "<span style=\"background-color:#F5F5F5\"> **🚩 강의 개요** <br> </span> \n",
    "- python 이 어떠한 언어인지 이해합니다. \n",
    "- python 의 library 의 개념을 이해하고 실습합니다. \n",
    "- kaggle dataset 을 활용한 전반적인 EDA 를 진행합니다.\n",
    "- 모든 회차에서 실습 코드를 제공합니다.\n",
    "- 이론 비중 30%, 코드실습 비중 70%\n",
    "\n",
    "<span style=\"background-color:#F5F5F5\"> **🚩 실습 커리큘럼** <br> </span> \n",
    "- python, 라이브러리 개념학습 및 실습환경 준비 \n",
    "- python 활용 테이블 결합\n",
    "- python 활용 데이터 이상치, 결측치 처리 \n",
    "- python 활용 데이터 시각화 ✅\n",
    "</span> \n",
    "  \n",
    "  \n",
    "\n",
    "-----------------------------------"
   ]
  },
  {
   "cell_type": "markdown",
   "id": "d982b91f",
   "metadata": {},
   "source": [
    "## <span style=\"color:red\"> 📌 chapter 1. 데이터시각화 - matplotlib"
   ]
  },
  {
   "cell_type": "markdown",
   "id": "2274c5e5",
   "metadata": {},
   "source": [
    "#### <span style=\"color:blue\"> **📘 1-1. 라이브러리 import** </span>"
   ]
  },
  {
   "cell_type": "code",
   "execution_count": 1,
   "id": "6d82fd37",
   "metadata": {},
   "outputs": [],
   "source": [
    "import pandas as pd \n",
    "import numpy as np\n",
    "import time\n",
    "from PIL import Image\n",
    "import altair as alt\n",
    "import seaborn as sns\n",
    "import matplotlib.pyplot as plt \n",
    "import datapane as dp\n",
    "import os\n",
    "# seaborn 팔레트 설정\n",
    "palette = sns.color_palette(\"pastel\")\n",
    "\n",
    "import warnings\n",
    "# 오류 경고 무시하기\n",
    "warnings.filterwarnings(action='ignore')"
   ]
  },
  {
   "cell_type": "markdown",
   "id": "0d5d760d",
   "metadata": {},
   "source": [
    "#### <span style=\"color:blue\"> **📘 1-2. CSV 파일을 통한 테이블 LOAD** </span>"
   ]
  },
  {
   "cell_type": "code",
   "execution_count": 2,
   "id": "0349cfd2",
   "metadata": {},
   "outputs": [],
   "source": [
    "os.chdir('/Users/jun/GitStudy/Data_4/Data/eCommerce2')"
   ]
  },
  {
   "cell_type": "code",
   "execution_count": 3,
   "id": "33bddcf0",
   "metadata": {},
   "outputs": [],
   "source": [
    "# pandas 라이브러리를 활용한 csv 파일 읽기 \n",
    "df = pd.read_csv(\"product_details.csv\") # product_details.csv\n",
    "df2 = pd.read_csv(\"customer_details.csv\") # customer_details.csv\n",
    "df3 = pd.read_csv(\"E-commerece sales data 2024.csv\") # E-commerece sales data 2024.csv"
   ]
  },
  {
   "cell_type": "markdown",
   "id": "939178de",
   "metadata": {},
   "source": [
    "#### <span style=\"color:blue\"> **📘 1-3. 기본 그래프 그리기** </span>"
   ]
  },
  {
   "cell_type": "code",
   "execution_count": 4,
   "id": "2d9fb798",
   "metadata": {},
   "outputs": [],
   "source": [
    "# 결측치 제거하기\n",
    "df2 = df2.dropna()"
   ]
  },
  {
   "cell_type": "code",
   "execution_count": 5,
   "id": "2dd0f926",
   "metadata": {},
   "outputs": [
    {
     "data": {
      "text/html": [
       "<div>\n",
       "<style scoped>\n",
       "    .dataframe tbody tr th:only-of-type {\n",
       "        vertical-align: middle;\n",
       "    }\n",
       "\n",
       "    .dataframe tbody tr th {\n",
       "        vertical-align: top;\n",
       "    }\n",
       "\n",
       "    .dataframe thead th {\n",
       "        text-align: right;\n",
       "    }\n",
       "</style>\n",
       "<table border=\"1\" class=\"dataframe\">\n",
       "  <thead>\n",
       "    <tr style=\"text-align: right;\">\n",
       "      <th></th>\n",
       "      <th>Customer ID</th>\n",
       "      <th>Age</th>\n",
       "      <th>Gender</th>\n",
       "      <th>Item Purchased</th>\n",
       "      <th>Category</th>\n",
       "      <th>Purchase Amount (USD)</th>\n",
       "      <th>Location</th>\n",
       "      <th>Size</th>\n",
       "      <th>Color</th>\n",
       "      <th>Season</th>\n",
       "      <th>Review Rating</th>\n",
       "      <th>Subscription Status</th>\n",
       "      <th>Shipping Type</th>\n",
       "      <th>Discount Applied</th>\n",
       "      <th>Promo Code Used</th>\n",
       "      <th>Previous Purchases</th>\n",
       "      <th>Payment Method</th>\n",
       "      <th>Frequency of Purchases</th>\n",
       "    </tr>\n",
       "  </thead>\n",
       "  <tbody>\n",
       "    <tr>\n",
       "      <th>0</th>\n",
       "      <td>1</td>\n",
       "      <td>55</td>\n",
       "      <td>Male</td>\n",
       "      <td>Blouse</td>\n",
       "      <td>Clothing</td>\n",
       "      <td>53</td>\n",
       "      <td>Kentucky</td>\n",
       "      <td>L</td>\n",
       "      <td>Gray</td>\n",
       "      <td>Winter</td>\n",
       "      <td>3.1</td>\n",
       "      <td>Yes</td>\n",
       "      <td>Express</td>\n",
       "      <td>Yes</td>\n",
       "      <td>Yes</td>\n",
       "      <td>14</td>\n",
       "      <td>Venmo</td>\n",
       "      <td>Fortnightly</td>\n",
       "    </tr>\n",
       "    <tr>\n",
       "      <th>1</th>\n",
       "      <td>2</td>\n",
       "      <td>19</td>\n",
       "      <td>Male</td>\n",
       "      <td>Sweater</td>\n",
       "      <td>Clothing</td>\n",
       "      <td>64</td>\n",
       "      <td>Maine</td>\n",
       "      <td>L</td>\n",
       "      <td>Maroon</td>\n",
       "      <td>Winter</td>\n",
       "      <td>3.1</td>\n",
       "      <td>Yes</td>\n",
       "      <td>Express</td>\n",
       "      <td>Yes</td>\n",
       "      <td>Yes</td>\n",
       "      <td>2</td>\n",
       "      <td>Cash</td>\n",
       "      <td>Fortnightly</td>\n",
       "    </tr>\n",
       "    <tr>\n",
       "      <th>2</th>\n",
       "      <td>3</td>\n",
       "      <td>50</td>\n",
       "      <td>Male</td>\n",
       "      <td>Jeans</td>\n",
       "      <td>Clothing</td>\n",
       "      <td>73</td>\n",
       "      <td>Massachusetts</td>\n",
       "      <td>S</td>\n",
       "      <td>Maroon</td>\n",
       "      <td>Spring</td>\n",
       "      <td>3.1</td>\n",
       "      <td>Yes</td>\n",
       "      <td>Free Shipping</td>\n",
       "      <td>Yes</td>\n",
       "      <td>Yes</td>\n",
       "      <td>23</td>\n",
       "      <td>Credit Card</td>\n",
       "      <td>Weekly</td>\n",
       "    </tr>\n",
       "    <tr>\n",
       "      <th>3</th>\n",
       "      <td>4</td>\n",
       "      <td>21</td>\n",
       "      <td>Male</td>\n",
       "      <td>Sandals</td>\n",
       "      <td>Footwear</td>\n",
       "      <td>90</td>\n",
       "      <td>Rhode Island</td>\n",
       "      <td>M</td>\n",
       "      <td>Maroon</td>\n",
       "      <td>Spring</td>\n",
       "      <td>3.5</td>\n",
       "      <td>Yes</td>\n",
       "      <td>Next Day Air</td>\n",
       "      <td>Yes</td>\n",
       "      <td>Yes</td>\n",
       "      <td>49</td>\n",
       "      <td>PayPal</td>\n",
       "      <td>Weekly</td>\n",
       "    </tr>\n",
       "    <tr>\n",
       "      <th>4</th>\n",
       "      <td>5</td>\n",
       "      <td>45</td>\n",
       "      <td>Male</td>\n",
       "      <td>Blouse</td>\n",
       "      <td>Clothing</td>\n",
       "      <td>49</td>\n",
       "      <td>Oregon</td>\n",
       "      <td>M</td>\n",
       "      <td>Turquoise</td>\n",
       "      <td>Spring</td>\n",
       "      <td>2.7</td>\n",
       "      <td>Yes</td>\n",
       "      <td>Free Shipping</td>\n",
       "      <td>Yes</td>\n",
       "      <td>Yes</td>\n",
       "      <td>31</td>\n",
       "      <td>PayPal</td>\n",
       "      <td>Annually</td>\n",
       "    </tr>\n",
       "    <tr>\n",
       "      <th>...</th>\n",
       "      <td>...</td>\n",
       "      <td>...</td>\n",
       "      <td>...</td>\n",
       "      <td>...</td>\n",
       "      <td>...</td>\n",
       "      <td>...</td>\n",
       "      <td>...</td>\n",
       "      <td>...</td>\n",
       "      <td>...</td>\n",
       "      <td>...</td>\n",
       "      <td>...</td>\n",
       "      <td>...</td>\n",
       "      <td>...</td>\n",
       "      <td>...</td>\n",
       "      <td>...</td>\n",
       "      <td>...</td>\n",
       "      <td>...</td>\n",
       "      <td>...</td>\n",
       "    </tr>\n",
       "    <tr>\n",
       "      <th>3895</th>\n",
       "      <td>3896</td>\n",
       "      <td>40</td>\n",
       "      <td>Female</td>\n",
       "      <td>Hoodie</td>\n",
       "      <td>Clothing</td>\n",
       "      <td>28</td>\n",
       "      <td>Virginia</td>\n",
       "      <td>L</td>\n",
       "      <td>Turquoise</td>\n",
       "      <td>Summer</td>\n",
       "      <td>4.2</td>\n",
       "      <td>No</td>\n",
       "      <td>2-Day Shipping</td>\n",
       "      <td>No</td>\n",
       "      <td>No</td>\n",
       "      <td>32</td>\n",
       "      <td>Venmo</td>\n",
       "      <td>Weekly</td>\n",
       "    </tr>\n",
       "    <tr>\n",
       "      <th>3896</th>\n",
       "      <td>3897</td>\n",
       "      <td>52</td>\n",
       "      <td>Female</td>\n",
       "      <td>Backpack</td>\n",
       "      <td>Accessories</td>\n",
       "      <td>49</td>\n",
       "      <td>Iowa</td>\n",
       "      <td>L</td>\n",
       "      <td>White</td>\n",
       "      <td>Spring</td>\n",
       "      <td>4.5</td>\n",
       "      <td>No</td>\n",
       "      <td>Store Pickup</td>\n",
       "      <td>No</td>\n",
       "      <td>No</td>\n",
       "      <td>41</td>\n",
       "      <td>Bank Transfer</td>\n",
       "      <td>Bi-Weekly</td>\n",
       "    </tr>\n",
       "    <tr>\n",
       "      <th>3897</th>\n",
       "      <td>3898</td>\n",
       "      <td>46</td>\n",
       "      <td>Female</td>\n",
       "      <td>Belt</td>\n",
       "      <td>Accessories</td>\n",
       "      <td>33</td>\n",
       "      <td>New Jersey</td>\n",
       "      <td>L</td>\n",
       "      <td>Green</td>\n",
       "      <td>Spring</td>\n",
       "      <td>2.9</td>\n",
       "      <td>No</td>\n",
       "      <td>Standard</td>\n",
       "      <td>No</td>\n",
       "      <td>No</td>\n",
       "      <td>24</td>\n",
       "      <td>Venmo</td>\n",
       "      <td>Quarterly</td>\n",
       "    </tr>\n",
       "    <tr>\n",
       "      <th>3898</th>\n",
       "      <td>3899</td>\n",
       "      <td>44</td>\n",
       "      <td>Female</td>\n",
       "      <td>Shoes</td>\n",
       "      <td>Footwear</td>\n",
       "      <td>77</td>\n",
       "      <td>Minnesota</td>\n",
       "      <td>S</td>\n",
       "      <td>Brown</td>\n",
       "      <td>Summer</td>\n",
       "      <td>3.8</td>\n",
       "      <td>No</td>\n",
       "      <td>Express</td>\n",
       "      <td>No</td>\n",
       "      <td>No</td>\n",
       "      <td>24</td>\n",
       "      <td>Venmo</td>\n",
       "      <td>Weekly</td>\n",
       "    </tr>\n",
       "    <tr>\n",
       "      <th>3899</th>\n",
       "      <td>3900</td>\n",
       "      <td>52</td>\n",
       "      <td>Female</td>\n",
       "      <td>Handbag</td>\n",
       "      <td>Accessories</td>\n",
       "      <td>81</td>\n",
       "      <td>California</td>\n",
       "      <td>M</td>\n",
       "      <td>Beige</td>\n",
       "      <td>Spring</td>\n",
       "      <td>3.1</td>\n",
       "      <td>No</td>\n",
       "      <td>Store Pickup</td>\n",
       "      <td>No</td>\n",
       "      <td>No</td>\n",
       "      <td>33</td>\n",
       "      <td>Venmo</td>\n",
       "      <td>Quarterly</td>\n",
       "    </tr>\n",
       "  </tbody>\n",
       "</table>\n",
       "<p>3900 rows × 18 columns</p>\n",
       "</div>"
      ],
      "text/plain": [
       "      Customer ID  Age  Gender Item Purchased     Category  \\\n",
       "0               1   55    Male         Blouse     Clothing   \n",
       "1               2   19    Male        Sweater     Clothing   \n",
       "2               3   50    Male          Jeans     Clothing   \n",
       "3               4   21    Male        Sandals     Footwear   \n",
       "4               5   45    Male         Blouse     Clothing   \n",
       "...           ...  ...     ...            ...          ...   \n",
       "3895         3896   40  Female         Hoodie     Clothing   \n",
       "3896         3897   52  Female       Backpack  Accessories   \n",
       "3897         3898   46  Female           Belt  Accessories   \n",
       "3898         3899   44  Female          Shoes     Footwear   \n",
       "3899         3900   52  Female        Handbag  Accessories   \n",
       "\n",
       "      Purchase Amount (USD)       Location Size      Color  Season  \\\n",
       "0                        53       Kentucky    L       Gray  Winter   \n",
       "1                        64          Maine    L     Maroon  Winter   \n",
       "2                        73  Massachusetts    S     Maroon  Spring   \n",
       "3                        90   Rhode Island    M     Maroon  Spring   \n",
       "4                        49         Oregon    M  Turquoise  Spring   \n",
       "...                     ...            ...  ...        ...     ...   \n",
       "3895                     28       Virginia    L  Turquoise  Summer   \n",
       "3896                     49           Iowa    L      White  Spring   \n",
       "3897                     33     New Jersey    L      Green  Spring   \n",
       "3898                     77      Minnesota    S      Brown  Summer   \n",
       "3899                     81     California    M      Beige  Spring   \n",
       "\n",
       "      Review Rating Subscription Status   Shipping Type Discount Applied  \\\n",
       "0               3.1                 Yes         Express              Yes   \n",
       "1               3.1                 Yes         Express              Yes   \n",
       "2               3.1                 Yes   Free Shipping              Yes   \n",
       "3               3.5                 Yes    Next Day Air              Yes   \n",
       "4               2.7                 Yes   Free Shipping              Yes   \n",
       "...             ...                 ...             ...              ...   \n",
       "3895            4.2                  No  2-Day Shipping               No   \n",
       "3896            4.5                  No    Store Pickup               No   \n",
       "3897            2.9                  No        Standard               No   \n",
       "3898            3.8                  No         Express               No   \n",
       "3899            3.1                  No    Store Pickup               No   \n",
       "\n",
       "     Promo Code Used  Previous Purchases Payment Method Frequency of Purchases  \n",
       "0                Yes                  14          Venmo            Fortnightly  \n",
       "1                Yes                   2           Cash            Fortnightly  \n",
       "2                Yes                  23    Credit Card                 Weekly  \n",
       "3                Yes                  49         PayPal                 Weekly  \n",
       "4                Yes                  31         PayPal               Annually  \n",
       "...              ...                 ...            ...                    ...  \n",
       "3895              No                  32          Venmo                 Weekly  \n",
       "3896              No                  41  Bank Transfer              Bi-Weekly  \n",
       "3897              No                  24          Venmo              Quarterly  \n",
       "3898              No                  24          Venmo                 Weekly  \n",
       "3899              No                  33          Venmo              Quarterly  \n",
       "\n",
       "[3900 rows x 18 columns]"
      ]
     },
     "execution_count": 5,
     "metadata": {},
     "output_type": "execute_result"
    }
   ],
   "source": [
    "df2"
   ]
  },
  {
   "cell_type": "code",
   "execution_count": 6,
   "id": "b82a6416",
   "metadata": {
    "scrolled": false
   },
   "outputs": [
    {
     "data": {
      "image/png": "[encoded data removed]",
      "text/plain": [
       "<Figure size 640x480 with 1 Axes>"
      ]
     },
     "metadata": {},
     "output_type": "display_data"
    }
   ],
   "source": [
    "# python 내장함수 plot 사용하기\n",
    "# 성별 유저수 막대그래프\n",
    "# 막대그래프\n",
    "\n",
    "\n",
    "import matplotlib.pyplot as plt\n",
    "df2.groupby('Gender')['Customer ID'].count().plot.bar(color=['yellow','green'])\n",
    "plt.title('Number of Customers by Gender')\n",
    "plt.xlabel('Gender')\n",
    "plt.ylabel('Count')\n",
    "plt.show()"
   ]
  },
  {
   "cell_type": "markdown",
   "id": "6564a1f3",
   "metadata": {},
   "source": [
    "#### <span style=\"color:blue\"> **📘 1-4. 라인그래프 그리기** </span>"
   ]
  },
  {
   "cell_type": "code",
   "execution_count": 7,
   "id": "a472091a",
   "metadata": {},
   "outputs": [
    {
     "data": {
      "text/plain": [
       "Index(['Customer ID', 'Age', 'Gender', 'Item Purchased', 'Category',\n",
       "       'Purchase Amount (USD)', 'Location', 'Size', 'Color', 'Season',\n",
       "       'Review Rating', 'Subscription Status', 'Shipping Type',\n",
       "       'Discount Applied', 'Promo Code Used', 'Previous Purchases',\n",
       "       'Payment Method', 'Frequency of Purchases'],\n",
       "      dtype='object')"
      ]
     },
     "execution_count": 7,
     "metadata": {},
     "output_type": "execute_result"
    }
   ],
   "source": [
    "# dataframe 컬럼 확인하기 \n",
    "df2.columns"
   ]
  },
  {
   "cell_type": "code",
   "execution_count": 8,
   "id": "c2ec47f0",
   "metadata": {},
   "outputs": [],
   "source": [
    "# 카테고리별 유저수 구하기 \n",
    "# 인덱스 가리기: .style.hide_index() : 사용하면 그래프를 그릴 수 없습니다. 참고해주세요\n",
    "d1 = df2.groupby('Category')['Customer ID'].count().reset_index()"
   ]
  },
  {
   "cell_type": "code",
   "execution_count": 9,
   "id": "d1d3cf3a",
   "metadata": {},
   "outputs": [
    {
     "data": {
      "text/html": [
       "<div>\n",
       "<style scoped>\n",
       "    .dataframe tbody tr th:only-of-type {\n",
       "        vertical-align: middle;\n",
       "    }\n",
       "\n",
       "    .dataframe tbody tr th {\n",
       "        vertical-align: top;\n",
       "    }\n",
       "\n",
       "    .dataframe thead th {\n",
       "        text-align: right;\n",
       "    }\n",
       "</style>\n",
       "<table border=\"1\" class=\"dataframe\">\n",
       "  <thead>\n",
       "    <tr style=\"text-align: right;\">\n",
       "      <th></th>\n",
       "      <th>Category</th>\n",
       "      <th>Customer ID</th>\n",
       "    </tr>\n",
       "  </thead>\n",
       "  <tbody>\n",
       "    <tr>\n",
       "      <th>0</th>\n",
       "      <td>Accessories</td>\n",
       "      <td>1240</td>\n",
       "    </tr>\n",
       "    <tr>\n",
       "      <th>1</th>\n",
       "      <td>Clothing</td>\n",
       "      <td>1737</td>\n",
       "    </tr>\n",
       "    <tr>\n",
       "      <th>2</th>\n",
       "      <td>Footwear</td>\n",
       "      <td>599</td>\n",
       "    </tr>\n",
       "    <tr>\n",
       "      <th>3</th>\n",
       "      <td>Outerwear</td>\n",
       "      <td>324</td>\n",
       "    </tr>\n",
       "  </tbody>\n",
       "</table>\n",
       "</div>"
      ],
      "text/plain": [
       "      Category  Customer ID\n",
       "0  Accessories         1240\n",
       "1     Clothing         1737\n",
       "2     Footwear          599\n",
       "3    Outerwear          324"
      ]
     },
     "execution_count": 9,
     "metadata": {},
     "output_type": "execute_result"
    }
   ],
   "source": [
    "d1"
   ]
  },
  {
   "cell_type": "code",
   "execution_count": 10,
   "id": "7dfcfafa",
   "metadata": {
    "scrolled": false
   },
   "outputs": [
    {
     "data": {
      "text/plain": [
       "Text(0, 0.5, 'usercnt')"
      ]
     },
     "execution_count": 10,
     "metadata": {},
     "output_type": "execute_result"
    },
    {
     "data": {
      "image/png": "[encoded data removed]",
      "text/plain": [
       "<Figure size 400x300 with 1 Axes>"
      ]
     },
     "metadata": {},
     "output_type": "display_data"
    }
   ],
   "source": [
    "# matplotlib 라이브러리를 통한 그래프 그리기\n",
    "# figure 함수를 이용하여, 전체 그래프 사이즈 조정 \n",
    "dplot1 = plt.figure(figsize = (4 , 3))\n",
    "\n",
    "# x축, y축 설정\n",
    "x=d1['Category']\n",
    "y=d1['Customer ID']\n",
    "\n",
    "# 그래프 그리기 \n",
    "# 보라색, * 으로 데이터포인트 표시, 투명도=50%, 라인 굵기 5\n",
    "plt.plot(x, y, color='purple', marker='*', alpha=0.5, linewidth=5)\n",
    "\n",
    "plt.title(\"group by category - user cnt\")\n",
    "plt.xlabel(\"category\")\n",
    "plt.ylabel(\"usercnt\")"
   ]
  },
  {
   "cell_type": "markdown",
   "id": "291e96c2",
   "metadata": {},
   "source": [
    "#### <span style=\"color:blue\"> **📘 1-5. 막대그래프 그리기** </span>"
   ]
  },
  {
   "cell_type": "code",
   "execution_count": 11,
   "id": "fdd0e07e",
   "metadata": {},
   "outputs": [],
   "source": [
    "# 카테고리, 성별 유저수 구하기 \n",
    "# stack 은 pivot 테이블과 비슷하게, 데이터프레임을 핸들링하는 데 주로 사용됩니다. \n",
    "# 반대로 인덱스를 컬럼으로 풀어주는 unstack 이 있습니다. \n",
    "d2 = df2.groupby(['Category','Gender'])['Customer ID'].count().unstack(1)# 성별이 컬럼으로"
   ]
  },
  {
   "cell_type": "code",
   "execution_count": 12,
   "id": "3616bff0",
   "metadata": {},
   "outputs": [
    {
     "data": {
      "text/html": [
       "<div>\n",
       "<style scoped>\n",
       "    .dataframe tbody tr th:only-of-type {\n",
       "        vertical-align: middle;\n",
       "    }\n",
       "\n",
       "    .dataframe tbody tr th {\n",
       "        vertical-align: top;\n",
       "    }\n",
       "\n",
       "    .dataframe thead th {\n",
       "        text-align: right;\n",
       "    }\n",
       "</style>\n",
       "<table border=\"1\" class=\"dataframe\">\n",
       "  <thead>\n",
       "    <tr style=\"text-align: right;\">\n",
       "      <th>Gender</th>\n",
       "      <th>Female</th>\n",
       "      <th>Male</th>\n",
       "    </tr>\n",
       "    <tr>\n",
       "      <th>Category</th>\n",
       "      <th></th>\n",
       "      <th></th>\n",
       "    </tr>\n",
       "  </thead>\n",
       "  <tbody>\n",
       "    <tr>\n",
       "      <th>Accessories</th>\n",
       "      <td>392</td>\n",
       "      <td>848</td>\n",
       "    </tr>\n",
       "    <tr>\n",
       "      <th>Clothing</th>\n",
       "      <td>556</td>\n",
       "      <td>1181</td>\n",
       "    </tr>\n",
       "    <tr>\n",
       "      <th>Footwear</th>\n",
       "      <td>199</td>\n",
       "      <td>400</td>\n",
       "    </tr>\n",
       "    <tr>\n",
       "      <th>Outerwear</th>\n",
       "      <td>101</td>\n",
       "      <td>223</td>\n",
       "    </tr>\n",
       "  </tbody>\n",
       "</table>\n",
       "</div>"
      ],
      "text/plain": [
       "Gender       Female  Male\n",
       "Category                 \n",
       "Accessories     392   848\n",
       "Clothing        556  1181\n",
       "Footwear        199   400\n",
       "Outerwear       101   223"
      ]
     },
     "execution_count": 12,
     "metadata": {},
     "output_type": "execute_result"
    }
   ],
   "source": [
    "d2"
   ]
  },
  {
   "cell_type": "code",
   "execution_count": 13,
   "id": "e84cd07a",
   "metadata": {
    "scrolled": false
   },
   "outputs": [
    {
     "data": {
      "text/plain": [
       "Text(0, 0.5, 'usercnt')"
      ]
     },
     "execution_count": 13,
     "metadata": {},
     "output_type": "execute_result"
    },
    {
     "data": {
      "image/png": "[encoded data removed]",
      "text/plain": [
       "<Figure size 640x480 with 1 Axes>"
      ]
     },
     "metadata": {},
     "output_type": "display_data"
    }
   ],
   "source": [
    "# python 내장함수 plot 사용하기\n",
    "# 막대 그래프, 컬러는 hex code 를 사용하여 지정할 수 있습니다. \n",
    "# hex code 찾기: https://html-color-codes.info/\n",
    "dplot8 = d2.plot(kind='bar',color=['#F4D13B','#9b59b6'])\n",
    "plt.title(\"bar plot1\")\n",
    "plt.xlabel(\"category\")\n",
    "plt.ylabel(\"usercnt\")"
   ]
  },
  {
   "cell_type": "markdown",
   "id": "4e9b57cc",
   "metadata": {},
   "source": [
    "#### <span style=\"color:blue\"> **📘 1-6. 누적 막대그래프 그리기** </span>"
   ]
  },
  {
   "cell_type": "code",
   "execution_count": 14,
   "id": "bccf0f65",
   "metadata": {
    "scrolled": false
   },
   "outputs": [
    {
     "data": {
      "text/plain": [
       "Text(0, 0.5, 'usercnt')"
      ]
     },
     "execution_count": 14,
     "metadata": {},
     "output_type": "execute_result"
    },
    {
     "data": {
      "image/png": "[encoded data removed]",
      "text/plain": [
       "<Figure size 640x480 with 1 Axes>"
      ]
     },
     "metadata": {},
     "output_type": "display_data"
    }
   ],
   "source": [
    "# python 내장함수 plot 사용하기\n",
    "# 카테고리, 성별 유저수 구하기 \n",
    "# stacked=True 로 설정하면 누적그래프를 그릴 수 있습니다. \n",
    "dplot9 = d2.plot(kind='bar', stacked=True, color=['#F4D13B','#9b59b6'])\n",
    "plt.title(\"bar plot2\")\n",
    "plt.xlabel(\"category\")\n",
    "plt.ylabel(\"usercnt\")"
   ]
  },
  {
   "cell_type": "markdown",
   "id": "8e96dc1f",
   "metadata": {},
   "source": [
    "#### <span style=\"color:blue\"> **📘 1-7. 파이차트 그리기** </span>"
   ]
  },
  {
   "cell_type": "code",
   "execution_count": 15,
   "id": "8539e7db",
   "metadata": {},
   "outputs": [],
   "source": [
    "# 성별 비중 구하기\n",
    "piedf = df2.groupby('Gender')['Customer ID'].count().reset_index()"
   ]
  },
  {
   "cell_type": "code",
   "execution_count": 16,
   "id": "00fb3085",
   "metadata": {},
   "outputs": [
    {
     "data": {
      "text/html": [
       "<div>\n",
       "<style scoped>\n",
       "    .dataframe tbody tr th:only-of-type {\n",
       "        vertical-align: middle;\n",
       "    }\n",
       "\n",
       "    .dataframe tbody tr th {\n",
       "        vertical-align: top;\n",
       "    }\n",
       "\n",
       "    .dataframe thead th {\n",
       "        text-align: right;\n",
       "    }\n",
       "</style>\n",
       "<table border=\"1\" class=\"dataframe\">\n",
       "  <thead>\n",
       "    <tr style=\"text-align: right;\">\n",
       "      <th></th>\n",
       "      <th>Gender</th>\n",
       "      <th>Customer ID</th>\n",
       "    </tr>\n",
       "  </thead>\n",
       "  <tbody>\n",
       "    <tr>\n",
       "      <th>0</th>\n",
       "      <td>Female</td>\n",
       "      <td>1248</td>\n",
       "    </tr>\n",
       "    <tr>\n",
       "      <th>1</th>\n",
       "      <td>Male</td>\n",
       "      <td>2652</td>\n",
       "    </tr>\n",
       "  </tbody>\n",
       "</table>\n",
       "</div>"
      ],
      "text/plain": [
       "   Gender  Customer ID\n",
       "0  Female         1248\n",
       "1    Male         2652"
      ]
     },
     "execution_count": 16,
     "metadata": {},
     "output_type": "execute_result"
    }
   ],
   "source": [
    "piedf"
   ]
  },
  {
   "cell_type": "code",
   "execution_count": 17,
   "id": "ce755dd7",
   "metadata": {},
   "outputs": [
    {
     "data": {
      "image/png": "[encoded data removed]",
      "text/plain": [
       "<Figure size 300x300 with 1 Axes>"
      ]
     },
     "metadata": {},
     "output_type": "display_data"
    }
   ],
   "source": [
    "# matplotlib 라이브러리를 통한 그래프 그리기\n",
    "# 파이차트 그리기 \n",
    "# labels 옵션을 통해 그룹값을 표현해줄 수 있습니다. \n",
    "dplot7= plt.figure(figsize=(3,3))\n",
    "plt.pie(\n",
    "    x=piedf['Customer ID'], \n",
    "    labels=piedf['Gender'],\n",
    "    # 소수점 첫째자리까지 표시\n",
    "    autopct='%1.1f',\n",
    "    colors=['#F4D13B','#9b59b6'],\n",
    "    startangle=90\n",
    ")\n",
    "# 범례 표시하기 \n",
    "plt.legend(piedf['Gender'])\n",
    "# 타이틀명, 타이틀 위치 왼쪽, 타이틀 여백 50, 글자크기, 굵게 설정 \n",
    "plt.title(\"pie plot\", loc=\"left\", pad=50, fontsize=8, fontweight=\"bold\")\n",
    "plt.show()"
   ]
  },
  {
   "cell_type": "markdown",
   "id": "d7196124",
   "metadata": {},
   "source": [
    "#### <span style=\"color:blue\"> **📘 1-8. 산점도 그리기** </span>"
   ]
  },
  {
   "cell_type": "code",
   "execution_count": 18,
   "id": "caee8420",
   "metadata": {},
   "outputs": [],
   "source": [
    "# 나이와 평균 결제금액 분포 나타내기 \n",
    "d3 = df2.groupby('Age')['Purchase Amount (USD)'].mean().reset_index()"
   ]
  },
  {
   "cell_type": "code",
   "execution_count": 19,
   "id": "cb1b077f",
   "metadata": {
    "scrolled": true
   },
   "outputs": [
    {
     "data": {
      "text/plain": [
       "<matplotlib.collections.PathCollection at 0x168454e50>"
      ]
     },
     "execution_count": 19,
     "metadata": {},
     "output_type": "execute_result"
    },
    {
     "data": {
      "image/png": "[encoded data removed]",
      "text/plain": [
       "<Figure size 640x480 with 1 Axes>"
      ]
     },
     "metadata": {},
     "output_type": "display_data"
    }
   ],
   "source": [
    "# matplotlib 라이브러리를 통한 그래프 그리기\n",
    "# x축: 나이 / y축: 구매금액, 데이터 포인트 색상: red \n",
    "plt.scatter(d3['Age'],d3['Purchase Amount (USD)'], c=\"red\")"
   ]
  },
  {
   "cell_type": "markdown",
   "id": "8557af88",
   "metadata": {},
   "source": [
    "#### <span style=\"color:blue\"> **📘 1-9. 이중축 그래프 그리기** </span>"
   ]
  },
  {
   "cell_type": "code",
   "execution_count": 20,
   "id": "50002387",
   "metadata": {},
   "outputs": [
    {
     "data": {
      "image/png": "[encoded data removed]",
      "text/plain": [
       "<Figure size 400x300 with 2 Axes>"
      ]
     },
     "metadata": {},
     "output_type": "display_data"
    }
   ],
   "source": [
    "# matplotlib 라이브러리와 내장함수를 통한 그래프 그리기\n",
    "# 1. 기본 스타일 설정\n",
    "plt.style.use('default')\n",
    "plt.rcParams['figure.figsize'] = (4, 3)\n",
    "plt.rcParams['font.size'] = 12\n",
    "\n",
    "# 2. 데이터 준비\n",
    "x = np.arange(2020, 2027)\n",
    "y1 = np.array([1, 3, 7, 5, 9, 7, 14])\n",
    "y2 = np.array([1, 3, 5, 7, 9, 11, 13])\n",
    "\n",
    "# 3. 그래프 그리기- line 그래프 \n",
    "# subplot 모듈을 사용하면 여러 개의 그래프를 동시에 시각화할 수 있습니다.\n",
    "# 전체 도화지를 그려주고(figure) 위치에 각 그래프들을 배치한다고 이해해주세요.\n",
    "fig, ax1 = plt.subplots()\n",
    "\n",
    "# 라인 그래프\n",
    "# 선 색상 초록, 굵기 5, 투명도 70%, 축 이름: Price\n",
    "ax1.plot(x, y1, color='green', linewidth=5, alpha=0.7, label='Price')\n",
    "# y 축 범뮈 설정\n",
    "ax1.set_ylim(0, 20)\n",
    "# y 축 이름 설정\n",
    "ax1.set_ylabel('Price ($)')\n",
    "# x 축 이름 설정\n",
    "ax1.set_xlabel('Year')\n",
    "\n",
    "\n",
    "# 3. 그래프 그리기- bar 그래프 \n",
    "# x축 공유(즉, 이중축 사용 의미)\n",
    "ax2 = ax1.twinx()\n",
    "# 막대 보라색, 투명도 70%, 막대 넓이 0.7 \n",
    "ax2.bar(x, y2, color='purple', label='Demand', alpha=0.7, width=0.7)\n",
    "# y 축 범뮈 설정\n",
    "ax2.set_ylim(0, 18)\n",
    "# y 축 이름 설정\n",
    "ax2.set_ylabel(r'Demand ($\\times10^6$)')\n",
    "\n",
    "# 레이블 위치 \n",
    "# 클수록 가장 위쪽에 보여진다고 생각하면 됨. \n",
    "# ax2.set_zorder(ax1.get_zorder() + 10) 와 비교해보세요! \n",
    "ax1.set_zorder(ax2.get_zorder() + 20)\n",
    "ax1.patch.set_visible(False)\n",
    "\n",
    "# 범례 지정, 위치까지 함께 \n",
    "ax1.legend(loc='upper left')\n",
    "ax2.legend(loc='upper right')\n",
    "\n",
    "plt.show()"
   ]
  },
  {
   "cell_type": "markdown",
   "id": "861f3101",
   "metadata": {},
   "source": [
    "#### <span style=\"color:blue\"> **📘 1-10. 피라미드 그래프 그리기** </span>"
   ]
  },
  {
   "cell_type": "code",
   "execution_count": 21,
   "id": "1a0ff129",
   "metadata": {},
   "outputs": [],
   "source": [
    "# matplotlib 라이브러리를 통한 그래프 그리기\n",
    "# 나이대별 성별 유저수 구하기 \n",
    "# 피라미드 차트 그리기 \n",
    "# 나이 구간 설정\n",
    "bins2 = [10, 15, 20, 25, 30, 35, 40, 45, 50, 55, 60, 65, 70, 75, 80]\n",
    "\n",
    "# cut 활용 절대구간 나누기 \n",
    "# bins 파라미터는 데이터를 나눌 구간의 경계를 정의 \n",
    "# [0, 4, 8, 12, 24]는 0~4, 4~8, 8~12, 12~24의 네 구간으로 데이터를 나누겠다는 의미\n",
    "\n",
    "df2[\"bin\"] = pd.cut(df2[\"Age\"], bins = bins2)\n",
    "\n",
    "# apply 와 lambda 를 활용한 전체 컬럼에 대한 나이 구간 컬럼 추가하기 \n",
    "#15는 15-20 으로 반환됨 \n",
    "df2[\"age\"] = df2[\"bin\"].apply(lambda x: str(x.left) + \" - \" + str(x.right))\n"
   ]
  },
  {
   "cell_type": "code",
   "execution_count": 22,
   "id": "04307942",
   "metadata": {},
   "outputs": [
    {
     "data": {
      "text/html": [
       "<div>\n",
       "<style scoped>\n",
       "    .dataframe tbody tr th:only-of-type {\n",
       "        vertical-align: middle;\n",
       "    }\n",
       "\n",
       "    .dataframe tbody tr th {\n",
       "        vertical-align: top;\n",
       "    }\n",
       "\n",
       "    .dataframe thead th {\n",
       "        text-align: right;\n",
       "    }\n",
       "</style>\n",
       "<table border=\"1\" class=\"dataframe\">\n",
       "  <thead>\n",
       "    <tr style=\"text-align: right;\">\n",
       "      <th></th>\n",
       "      <th>Customer ID</th>\n",
       "      <th>Age</th>\n",
       "      <th>Gender</th>\n",
       "      <th>Item Purchased</th>\n",
       "      <th>Category</th>\n",
       "      <th>Purchase Amount (USD)</th>\n",
       "      <th>Location</th>\n",
       "      <th>Size</th>\n",
       "      <th>Color</th>\n",
       "      <th>Season</th>\n",
       "      <th>Review Rating</th>\n",
       "      <th>Subscription Status</th>\n",
       "      <th>Shipping Type</th>\n",
       "      <th>Discount Applied</th>\n",
       "      <th>Promo Code Used</th>\n",
       "      <th>Previous Purchases</th>\n",
       "      <th>Payment Method</th>\n",
       "      <th>Frequency of Purchases</th>\n",
       "      <th>bin</th>\n",
       "      <th>age</th>\n",
       "    </tr>\n",
       "  </thead>\n",
       "  <tbody>\n",
       "    <tr>\n",
       "      <th>0</th>\n",
       "      <td>1</td>\n",
       "      <td>55</td>\n",
       "      <td>Male</td>\n",
       "      <td>Blouse</td>\n",
       "      <td>Clothing</td>\n",
       "      <td>53</td>\n",
       "      <td>Kentucky</td>\n",
       "      <td>L</td>\n",
       "      <td>Gray</td>\n",
       "      <td>Winter</td>\n",
       "      <td>3.1</td>\n",
       "      <td>Yes</td>\n",
       "      <td>Express</td>\n",
       "      <td>Yes</td>\n",
       "      <td>Yes</td>\n",
       "      <td>14</td>\n",
       "      <td>Venmo</td>\n",
       "      <td>Fortnightly</td>\n",
       "      <td>(50, 55]</td>\n",
       "      <td>50 - 55</td>\n",
       "    </tr>\n",
       "    <tr>\n",
       "      <th>1</th>\n",
       "      <td>2</td>\n",
       "      <td>19</td>\n",
       "      <td>Male</td>\n",
       "      <td>Sweater</td>\n",
       "      <td>Clothing</td>\n",
       "      <td>64</td>\n",
       "      <td>Maine</td>\n",
       "      <td>L</td>\n",
       "      <td>Maroon</td>\n",
       "      <td>Winter</td>\n",
       "      <td>3.1</td>\n",
       "      <td>Yes</td>\n",
       "      <td>Express</td>\n",
       "      <td>Yes</td>\n",
       "      <td>Yes</td>\n",
       "      <td>2</td>\n",
       "      <td>Cash</td>\n",
       "      <td>Fortnightly</td>\n",
       "      <td>(15, 20]</td>\n",
       "      <td>15 - 20</td>\n",
       "    </tr>\n",
       "    <tr>\n",
       "      <th>2</th>\n",
       "      <td>3</td>\n",
       "      <td>50</td>\n",
       "      <td>Male</td>\n",
       "      <td>Jeans</td>\n",
       "      <td>Clothing</td>\n",
       "      <td>73</td>\n",
       "      <td>Massachusetts</td>\n",
       "      <td>S</td>\n",
       "      <td>Maroon</td>\n",
       "      <td>Spring</td>\n",
       "      <td>3.1</td>\n",
       "      <td>Yes</td>\n",
       "      <td>Free Shipping</td>\n",
       "      <td>Yes</td>\n",
       "      <td>Yes</td>\n",
       "      <td>23</td>\n",
       "      <td>Credit Card</td>\n",
       "      <td>Weekly</td>\n",
       "      <td>(45, 50]</td>\n",
       "      <td>45 - 50</td>\n",
       "    </tr>\n",
       "    <tr>\n",
       "      <th>3</th>\n",
       "      <td>4</td>\n",
       "      <td>21</td>\n",
       "      <td>Male</td>\n",
       "      <td>Sandals</td>\n",
       "      <td>Footwear</td>\n",
       "      <td>90</td>\n",
       "      <td>Rhode Island</td>\n",
       "      <td>M</td>\n",
       "      <td>Maroon</td>\n",
       "      <td>Spring</td>\n",
       "      <td>3.5</td>\n",
       "      <td>Yes</td>\n",
       "      <td>Next Day Air</td>\n",
       "      <td>Yes</td>\n",
       "      <td>Yes</td>\n",
       "      <td>49</td>\n",
       "      <td>PayPal</td>\n",
       "      <td>Weekly</td>\n",
       "      <td>(20, 25]</td>\n",
       "      <td>20 - 25</td>\n",
       "    </tr>\n",
       "    <tr>\n",
       "      <th>4</th>\n",
       "      <td>5</td>\n",
       "      <td>45</td>\n",
       "      <td>Male</td>\n",
       "      <td>Blouse</td>\n",
       "      <td>Clothing</td>\n",
       "      <td>49</td>\n",
       "      <td>Oregon</td>\n",
       "      <td>M</td>\n",
       "      <td>Turquoise</td>\n",
       "      <td>Spring</td>\n",
       "      <td>2.7</td>\n",
       "      <td>Yes</td>\n",
       "      <td>Free Shipping</td>\n",
       "      <td>Yes</td>\n",
       "      <td>Yes</td>\n",
       "      <td>31</td>\n",
       "      <td>PayPal</td>\n",
       "      <td>Annually</td>\n",
       "      <td>(40, 45]</td>\n",
       "      <td>40 - 45</td>\n",
       "    </tr>\n",
       "    <tr>\n",
       "      <th>...</th>\n",
       "      <td>...</td>\n",
       "      <td>...</td>\n",
       "      <td>...</td>\n",
       "      <td>...</td>\n",
       "      <td>...</td>\n",
       "      <td>...</td>\n",
       "      <td>...</td>\n",
       "      <td>...</td>\n",
       "      <td>...</td>\n",
       "      <td>...</td>\n",
       "      <td>...</td>\n",
       "      <td>...</td>\n",
       "      <td>...</td>\n",
       "      <td>...</td>\n",
       "      <td>...</td>\n",
       "      <td>...</td>\n",
       "      <td>...</td>\n",
       "      <td>...</td>\n",
       "      <td>...</td>\n",
       "      <td>...</td>\n",
       "    </tr>\n",
       "    <tr>\n",
       "      <th>3895</th>\n",
       "      <td>3896</td>\n",
       "      <td>40</td>\n",
       "      <td>Female</td>\n",
       "      <td>Hoodie</td>\n",
       "      <td>Clothing</td>\n",
       "      <td>28</td>\n",
       "      <td>Virginia</td>\n",
       "      <td>L</td>\n",
       "      <td>Turquoise</td>\n",
       "      <td>Summer</td>\n",
       "      <td>4.2</td>\n",
       "      <td>No</td>\n",
       "      <td>2-Day Shipping</td>\n",
       "      <td>No</td>\n",
       "      <td>No</td>\n",
       "      <td>32</td>\n",
       "      <td>Venmo</td>\n",
       "      <td>Weekly</td>\n",
       "      <td>(35, 40]</td>\n",
       "      <td>35 - 40</td>\n",
       "    </tr>\n",
       "    <tr>\n",
       "      <th>3896</th>\n",
       "      <td>3897</td>\n",
       "      <td>52</td>\n",
       "      <td>Female</td>\n",
       "      <td>Backpack</td>\n",
       "      <td>Accessories</td>\n",
       "      <td>49</td>\n",
       "      <td>Iowa</td>\n",
       "      <td>L</td>\n",
       "      <td>White</td>\n",
       "      <td>Spring</td>\n",
       "      <td>4.5</td>\n",
       "      <td>No</td>\n",
       "      <td>Store Pickup</td>\n",
       "      <td>No</td>\n",
       "      <td>No</td>\n",
       "      <td>41</td>\n",
       "      <td>Bank Transfer</td>\n",
       "      <td>Bi-Weekly</td>\n",
       "      <td>(50, 55]</td>\n",
       "      <td>50 - 55</td>\n",
       "    </tr>\n",
       "    <tr>\n",
       "      <th>3897</th>\n",
       "      <td>3898</td>\n",
       "      <td>46</td>\n",
       "      <td>Female</td>\n",
       "      <td>Belt</td>\n",
       "      <td>Accessories</td>\n",
       "      <td>33</td>\n",
       "      <td>New Jersey</td>\n",
       "      <td>L</td>\n",
       "      <td>Green</td>\n",
       "      <td>Spring</td>\n",
       "      <td>2.9</td>\n",
       "      <td>No</td>\n",
       "      <td>Standard</td>\n",
       "      <td>No</td>\n",
       "      <td>No</td>\n",
       "      <td>24</td>\n",
       "      <td>Venmo</td>\n",
       "      <td>Quarterly</td>\n",
       "      <td>(45, 50]</td>\n",
       "      <td>45 - 50</td>\n",
       "    </tr>\n",
       "    <tr>\n",
       "      <th>3898</th>\n",
       "      <td>3899</td>\n",
       "      <td>44</td>\n",
       "      <td>Female</td>\n",
       "      <td>Shoes</td>\n",
       "      <td>Footwear</td>\n",
       "      <td>77</td>\n",
       "      <td>Minnesota</td>\n",
       "      <td>S</td>\n",
       "      <td>Brown</td>\n",
       "      <td>Summer</td>\n",
       "      <td>3.8</td>\n",
       "      <td>No</td>\n",
       "      <td>Express</td>\n",
       "      <td>No</td>\n",
       "      <td>No</td>\n",
       "      <td>24</td>\n",
       "      <td>Venmo</td>\n",
       "      <td>Weekly</td>\n",
       "      <td>(40, 45]</td>\n",
       "      <td>40 - 45</td>\n",
       "    </tr>\n",
       "    <tr>\n",
       "      <th>3899</th>\n",
       "      <td>3900</td>\n",
       "      <td>52</td>\n",
       "      <td>Female</td>\n",
       "      <td>Handbag</td>\n",
       "      <td>Accessories</td>\n",
       "      <td>81</td>\n",
       "      <td>California</td>\n",
       "      <td>M</td>\n",
       "      <td>Beige</td>\n",
       "      <td>Spring</td>\n",
       "      <td>3.1</td>\n",
       "      <td>No</td>\n",
       "      <td>Store Pickup</td>\n",
       "      <td>No</td>\n",
       "      <td>No</td>\n",
       "      <td>33</td>\n",
       "      <td>Venmo</td>\n",
       "      <td>Quarterly</td>\n",
       "      <td>(50, 55]</td>\n",
       "      <td>50 - 55</td>\n",
       "    </tr>\n",
       "  </tbody>\n",
       "</table>\n",
       "<p>3900 rows × 20 columns</p>\n",
       "</div>"
      ],
      "text/plain": [
       "      Customer ID  Age  Gender Item Purchased     Category  \\\n",
       "0               1   55    Male         Blouse     Clothing   \n",
       "1               2   19    Male        Sweater     Clothing   \n",
       "2               3   50    Male          Jeans     Clothing   \n",
       "3               4   21    Male        Sandals     Footwear   \n",
       "4               5   45    Male         Blouse     Clothing   \n",
       "...           ...  ...     ...            ...          ...   \n",
       "3895         3896   40  Female         Hoodie     Clothing   \n",
       "3896         3897   52  Female       Backpack  Accessories   \n",
       "3897         3898   46  Female           Belt  Accessories   \n",
       "3898         3899   44  Female          Shoes     Footwear   \n",
       "3899         3900   52  Female        Handbag  Accessories   \n",
       "\n",
       "      Purchase Amount (USD)       Location Size      Color  Season  \\\n",
       "0                        53       Kentucky    L       Gray  Winter   \n",
       "1                        64          Maine    L     Maroon  Winter   \n",
       "2                        73  Massachusetts    S     Maroon  Spring   \n",
       "3                        90   Rhode Island    M     Maroon  Spring   \n",
       "4                        49         Oregon    M  Turquoise  Spring   \n",
       "...                     ...            ...  ...        ...     ...   \n",
       "3895                     28       Virginia    L  Turquoise  Summer   \n",
       "3896                     49           Iowa    L      White  Spring   \n",
       "3897                     33     New Jersey    L      Green  Spring   \n",
       "3898                     77      Minnesota    S      Brown  Summer   \n",
       "3899                     81     California    M      Beige  Spring   \n",
       "\n",
       "      Review Rating Subscription Status   Shipping Type Discount Applied  \\\n",
       "0               3.1                 Yes         Express              Yes   \n",
       "1               3.1                 Yes         Express              Yes   \n",
       "2               3.1                 Yes   Free Shipping              Yes   \n",
       "3               3.5                 Yes    Next Day Air              Yes   \n",
       "4               2.7                 Yes   Free Shipping              Yes   \n",
       "...             ...                 ...             ...              ...   \n",
       "3895            4.2                  No  2-Day Shipping               No   \n",
       "3896            4.5                  No    Store Pickup               No   \n",
       "3897            2.9                  No        Standard               No   \n",
       "3898            3.8                  No         Express               No   \n",
       "3899            3.1                  No    Store Pickup               No   \n",
       "\n",
       "     Promo Code Used  Previous Purchases Payment Method  \\\n",
       "0                Yes                  14          Venmo   \n",
       "1                Yes                   2           Cash   \n",
       "2                Yes                  23    Credit Card   \n",
       "3                Yes                  49         PayPal   \n",
       "4                Yes                  31         PayPal   \n",
       "...              ...                 ...            ...   \n",
       "3895              No                  32          Venmo   \n",
       "3896              No                  41  Bank Transfer   \n",
       "3897              No                  24          Venmo   \n",
       "3898              No                  24          Venmo   \n",
       "3899              No                  33          Venmo   \n",
       "\n",
       "     Frequency of Purchases       bin      age  \n",
       "0               Fortnightly  (50, 55]  50 - 55  \n",
       "1               Fortnightly  (15, 20]  15 - 20  \n",
       "2                    Weekly  (45, 50]  45 - 50  \n",
       "3                    Weekly  (20, 25]  20 - 25  \n",
       "4                  Annually  (40, 45]  40 - 45  \n",
       "...                     ...       ...      ...  \n",
       "3895                 Weekly  (35, 40]  35 - 40  \n",
       "3896              Bi-Weekly  (50, 55]  50 - 55  \n",
       "3897              Quarterly  (45, 50]  45 - 50  \n",
       "3898                 Weekly  (40, 45]  40 - 45  \n",
       "3899              Quarterly  (50, 55]  50 - 55  \n",
       "\n",
       "[3900 rows x 20 columns]"
      ]
     },
     "execution_count": 22,
     "metadata": {},
     "output_type": "execute_result"
    }
   ],
   "source": [
    "df2"
   ]
  },
  {
   "cell_type": "code",
   "execution_count": 23,
   "id": "a4ab831b",
   "metadata": {},
   "outputs": [],
   "source": [
    "# 나이와 성별 두 컬럼을 기준으로 유저id 를 count 하고 인덱스 재정렬\n",
    "df7 = df2.groupby(['age','Gender'])['Customer ID'].count().reset_index()\n",
    "\n",
    "# 계산한 결과를 바탕으로 피벗테이블 구현 \n",
    "df7 = pd.pivot_table(df7, index='age', columns='Gender', values='Customer ID').reset_index()\n"
   ]
  },
  {
   "cell_type": "code",
   "execution_count": 24,
   "id": "c6f49450",
   "metadata": {},
   "outputs": [],
   "source": [
    "# 피라미드 차트 구현을 위한 대칭 형태 만들어주기 \n",
    "df7[\"Female_Left\"] = 0\n",
    "df7[\"Female_Width\"] = df7[\"Female\"]\n",
    "df7[\"Male_Left\"] = -df7[\"Male\"]\n",
    "df7[\"Male_Width\"] = df7[\"Male\"]"
   ]
  },
  {
   "cell_type": "code",
   "execution_count": 25,
   "id": "6196c697",
   "metadata": {},
   "outputs": [
    {
     "data": {
      "text/html": [
       "<div>\n",
       "<style scoped>\n",
       "    .dataframe tbody tr th:only-of-type {\n",
       "        vertical-align: middle;\n",
       "    }\n",
       "\n",
       "    .dataframe tbody tr th {\n",
       "        vertical-align: top;\n",
       "    }\n",
       "\n",
       "    .dataframe thead th {\n",
       "        text-align: right;\n",
       "    }\n",
       "</style>\n",
       "<table border=\"1\" class=\"dataframe\">\n",
       "  <thead>\n",
       "    <tr style=\"text-align: right;\">\n",
       "      <th>Gender</th>\n",
       "      <th>age</th>\n",
       "      <th>Female</th>\n",
       "      <th>Male</th>\n",
       "      <th>Female_Left</th>\n",
       "      <th>Female_Width</th>\n",
       "      <th>Male_Left</th>\n",
       "      <th>Male_Width</th>\n",
       "    </tr>\n",
       "  </thead>\n",
       "  <tbody>\n",
       "    <tr>\n",
       "      <th>0</th>\n",
       "      <td>10 - 15</td>\n",
       "      <td>0</td>\n",
       "      <td>0</td>\n",
       "      <td>0</td>\n",
       "      <td>0</td>\n",
       "      <td>0</td>\n",
       "      <td>0</td>\n",
       "    </tr>\n",
       "    <tr>\n",
       "      <th>1</th>\n",
       "      <td>15 - 20</td>\n",
       "      <td>59</td>\n",
       "      <td>153</td>\n",
       "      <td>0</td>\n",
       "      <td>59</td>\n",
       "      <td>-153</td>\n",
       "      <td>153</td>\n",
       "    </tr>\n",
       "    <tr>\n",
       "      <th>2</th>\n",
       "      <td>20 - 25</td>\n",
       "      <td>114</td>\n",
       "      <td>245</td>\n",
       "      <td>0</td>\n",
       "      <td>114</td>\n",
       "      <td>-245</td>\n",
       "      <td>245</td>\n",
       "    </tr>\n",
       "    <tr>\n",
       "      <th>3</th>\n",
       "      <td>25 - 30</td>\n",
       "      <td>122</td>\n",
       "      <td>256</td>\n",
       "      <td>0</td>\n",
       "      <td>122</td>\n",
       "      <td>-256</td>\n",
       "      <td>256</td>\n",
       "    </tr>\n",
       "    <tr>\n",
       "      <th>4</th>\n",
       "      <td>30 - 35</td>\n",
       "      <td>120</td>\n",
       "      <td>244</td>\n",
       "      <td>0</td>\n",
       "      <td>120</td>\n",
       "      <td>-244</td>\n",
       "      <td>244</td>\n",
       "    </tr>\n",
       "    <tr>\n",
       "      <th>5</th>\n",
       "      <td>35 - 40</td>\n",
       "      <td>117</td>\n",
       "      <td>244</td>\n",
       "      <td>0</td>\n",
       "      <td>117</td>\n",
       "      <td>-244</td>\n",
       "      <td>244</td>\n",
       "    </tr>\n",
       "    <tr>\n",
       "      <th>6</th>\n",
       "      <td>40 - 45</td>\n",
       "      <td>126</td>\n",
       "      <td>242</td>\n",
       "      <td>0</td>\n",
       "      <td>126</td>\n",
       "      <td>-242</td>\n",
       "      <td>242</td>\n",
       "    </tr>\n",
       "    <tr>\n",
       "      <th>7</th>\n",
       "      <td>45 - 50</td>\n",
       "      <td>132</td>\n",
       "      <td>250</td>\n",
       "      <td>0</td>\n",
       "      <td>132</td>\n",
       "      <td>-250</td>\n",
       "      <td>250</td>\n",
       "    </tr>\n",
       "    <tr>\n",
       "      <th>8</th>\n",
       "      <td>50 - 55</td>\n",
       "      <td>114</td>\n",
       "      <td>257</td>\n",
       "      <td>0</td>\n",
       "      <td>114</td>\n",
       "      <td>-257</td>\n",
       "      <td>257</td>\n",
       "    </tr>\n",
       "    <tr>\n",
       "      <th>9</th>\n",
       "      <td>55 - 60</td>\n",
       "      <td>116</td>\n",
       "      <td>266</td>\n",
       "      <td>0</td>\n",
       "      <td>116</td>\n",
       "      <td>-266</td>\n",
       "      <td>266</td>\n",
       "    </tr>\n",
       "    <tr>\n",
       "      <th>10</th>\n",
       "      <td>60 - 65</td>\n",
       "      <td>124</td>\n",
       "      <td>244</td>\n",
       "      <td>0</td>\n",
       "      <td>124</td>\n",
       "      <td>-244</td>\n",
       "      <td>244</td>\n",
       "    </tr>\n",
       "    <tr>\n",
       "      <th>11</th>\n",
       "      <td>65 - 70</td>\n",
       "      <td>104</td>\n",
       "      <td>251</td>\n",
       "      <td>0</td>\n",
       "      <td>104</td>\n",
       "      <td>-251</td>\n",
       "      <td>251</td>\n",
       "    </tr>\n",
       "    <tr>\n",
       "      <th>12</th>\n",
       "      <td>70 - 75</td>\n",
       "      <td>0</td>\n",
       "      <td>0</td>\n",
       "      <td>0</td>\n",
       "      <td>0</td>\n",
       "      <td>0</td>\n",
       "      <td>0</td>\n",
       "    </tr>\n",
       "    <tr>\n",
       "      <th>13</th>\n",
       "      <td>75 - 80</td>\n",
       "      <td>0</td>\n",
       "      <td>0</td>\n",
       "      <td>0</td>\n",
       "      <td>0</td>\n",
       "      <td>0</td>\n",
       "      <td>0</td>\n",
       "    </tr>\n",
       "  </tbody>\n",
       "</table>\n",
       "</div>"
      ],
      "text/plain": [
       "Gender      age  Female  Male  Female_Left  Female_Width  Male_Left  \\\n",
       "0       10 - 15       0     0            0             0          0   \n",
       "1       15 - 20      59   153            0            59       -153   \n",
       "2       20 - 25     114   245            0           114       -245   \n",
       "3       25 - 30     122   256            0           122       -256   \n",
       "4       30 - 35     120   244            0           120       -244   \n",
       "5       35 - 40     117   244            0           117       -244   \n",
       "6       40 - 45     126   242            0           126       -242   \n",
       "7       45 - 50     132   250            0           132       -250   \n",
       "8       50 - 55     114   257            0           114       -257   \n",
       "9       55 - 60     116   266            0           116       -266   \n",
       "10      60 - 65     124   244            0           124       -244   \n",
       "11      65 - 70     104   251            0           104       -251   \n",
       "12      70 - 75       0     0            0             0          0   \n",
       "13      75 - 80       0     0            0             0          0   \n",
       "\n",
       "Gender  Male_Width  \n",
       "0                0  \n",
       "1              153  \n",
       "2              245  \n",
       "3              256  \n",
       "4              244  \n",
       "5              244  \n",
       "6              242  \n",
       "7              250  \n",
       "8              257  \n",
       "9              266  \n",
       "10             244  \n",
       "11             251  \n",
       "12               0  \n",
       "13               0  "
      ]
     },
     "execution_count": 25,
     "metadata": {},
     "output_type": "execute_result"
    }
   ],
   "source": [
    "df7"
   ]
  },
  {
   "cell_type": "code",
   "execution_count": 26,
   "id": "0c9b913e",
   "metadata": {
    "scrolled": false
   },
   "outputs": [
    {
     "data": {
      "text/plain": [
       "Text(0.5, 1.0, 'Pyramid plot')"
      ]
     },
     "execution_count": 26,
     "metadata": {},
     "output_type": "execute_result"
    },
    {
     "data": {
      "image/png": "[encoded data removed]",
      "text/plain": [
       "<Figure size 700x500 with 1 Axes>"
      ]
     },
     "metadata": {},
     "output_type": "display_data"
    }
   ],
   "source": [
    "# matplotlib 라이브러리를 통한 그래프 그리기\n",
    "dplot6 = plt.figure(figsize=(7,5))\n",
    "\n",
    "# 수평막대 그리기 barh사용. 색상과 라벨 지정 \n",
    "plt.barh(y=df7[\"age\"], width=df7[\"Female_Width\"], color=\"#F4D13B\", label=\"Female\")\n",
    "plt.barh(y=df7[\"age\"], width=df7[\"Male_Width\"], left=df7[\"Male_Left\"],color=\"#9b59b6\", label=\"Male\")\n",
    "\n",
    "# x 축과 y 축 범위 지정\n",
    "plt.xlim(-300,270)\n",
    "plt.ylim(-2,12)\n",
    "plt.text(-200, 11.5, \"Male\", fontsize=10)\n",
    "plt.text(160, 11.5, \"Female\", fontsize=10, fontweight=\"bold\")\n",
    "\n",
    "# 그래프에 값 표시하기 \n",
    "# 해당 구문을 없애고 실행해보세요! \n",
    "# 외울 필요는 없습니다. \n",
    "# plt.text()는 그래프의 특정 위치에 텍스트를 표시\n",
    "# 텍스트를 표시할 위치 설정 \n",
    "# x=df7[\"Male_Left\"][idx]-0.5: x좌표는 df7의 \"Male_Left\" 열의 값에서 0.5를 뺀 위치\n",
    "# y=idx: y좌표는 현재 인덱스 (idx)로 설정되어, y축 방향으로 각 인덱스 위치에 텍스트 표시 \n",
    "# s=\"{}\".format(df7[\"Male\"][idx]): 표시할 텍스트는 df7의 \"Male\" 열에 있는 값을 문자열로 변환\n",
    "# ha=\"right\": 텍스트의 수평 정렬 오른쪽\n",
    "# va=\"center\": 텍스트의 수직 정렬 중앙\n",
    "for idx in range(len(df7)):\n",
    "    # 남성 데이터 텍스트로 추가 \n",
    "    plt.text(x=df7[\"Male_Left\"][idx]-0.5, y=idx, s=\"{}\".format(df7[\"Male\"][idx]),\n",
    "            ha=\"right\", va=\"center\",\n",
    "            fontsize=8, color=\"#9b59b6\")\n",
    "    # 여성 데이터 텍스트로 추가 \n",
    "    plt.text(x=df7[\"Female_Width\"][idx]+0.5, y=idx, s=\"{}\".format(df7[\"Female\"][idx]),\n",
    "            ha=\"left\", va=\"center\",\n",
    "            fontsize=8, color=\"#F4D13B\")\n",
    "# 타이틀 지정. 이름, 위치, 여백, 폰트사이즈, 굵게 설정 \n",
    "plt.title(\"Pyramid plot\", loc=\"center\", pad=15, fontsize=15, fontweight=\"bold\")"
   ]
  },
  {
   "cell_type": "markdown",
   "id": "a5177379",
   "metadata": {},
   "source": [
    "#### <span style=\"color:blue\"> **📘 1-11. 여러개의 그래프 그리기** </span>"
   ]
  },
  {
   "cell_type": "code",
   "execution_count": 27,
   "id": "1d18c413",
   "metadata": {
    "scrolled": true
   },
   "outputs": [
    {
     "data": {
      "image/png": "[encoded data removed]",
      "text/plain": [
       "<Figure size 400x300 with 4 Axes>"
      ]
     },
     "metadata": {},
     "output_type": "display_data"
    }
   ],
   "source": [
    "#figure,ax 만들기\n",
    "fig,ax=plt.subplots(2,2)\n",
    "\n",
    "#그래프 그리기\n",
    "ax[0,0].plot(np.linspace(0,100,20),np.linspace(0,100,20)**2, marker='o', markersize=2, markeredgecolor='y')\n",
    "ax[0,1].hist(np.random.randn(500), bins=30, color='purple', alpha=0.5)\n",
    "ax[1,0].bar([1,3,5,7],np.array([1,2,3,4]),color='r')\n",
    "ax[1,1].boxplot(np.random.randn(500,5))# 표준정규분포 임의로 생성 \n",
    "\n",
    "#그래프 사이 간격 추가\n",
    "fig.subplots_adjust(hspace=0.5,wspace=0.3)\n",
    "\n",
    "#그래프별 타이틀 추가\n",
    "ax[0,0].set_title(\"line plot\", fontsize=9) \n",
    "ax[0,1].set_title(\"hist plot\", fontsize=9)  \n",
    "ax[1,0].set_title(\"bar plot\", fontsize=9)  \n",
    "ax[1,1].set_title(\"box plot\", fontsize=9)  \n",
    "plt.show()"
   ]
  },
  {
   "cell_type": "markdown",
   "id": "7c99223b",
   "metadata": {},
   "source": [
    "## <span style=\"color:red\"> 📌 chapter 2. 데이터시각화 - seaborn"
   ]
  },
  {
   "cell_type": "markdown",
   "id": "49ac1ed1",
   "metadata": {},
   "source": [
    "#### <span style=\"color:blue\"> **📘 2-1. 바 그래프 그리기** </span>"
   ]
  },
  {
   "cell_type": "code",
   "execution_count": 28,
   "id": "2d06f311",
   "metadata": {},
   "outputs": [],
   "source": [
    "#성별 유저수 구하기\n",
    "df33 = df2.groupby('Gender')['Customer ID'].count().reset_index()"
   ]
  },
  {
   "cell_type": "code",
   "execution_count": 29,
   "id": "94551d79",
   "metadata": {},
   "outputs": [
    {
     "data": {
      "text/html": [
       "<div>\n",
       "<style scoped>\n",
       "    .dataframe tbody tr th:only-of-type {\n",
       "        vertical-align: middle;\n",
       "    }\n",
       "\n",
       "    .dataframe tbody tr th {\n",
       "        vertical-align: top;\n",
       "    }\n",
       "\n",
       "    .dataframe thead th {\n",
       "        text-align: right;\n",
       "    }\n",
       "</style>\n",
       "<table border=\"1\" class=\"dataframe\">\n",
       "  <thead>\n",
       "    <tr style=\"text-align: right;\">\n",
       "      <th></th>\n",
       "      <th>Gender</th>\n",
       "      <th>Customer ID</th>\n",
       "    </tr>\n",
       "  </thead>\n",
       "  <tbody>\n",
       "    <tr>\n",
       "      <th>0</th>\n",
       "      <td>Female</td>\n",
       "      <td>1248</td>\n",
       "    </tr>\n",
       "    <tr>\n",
       "      <th>1</th>\n",
       "      <td>Male</td>\n",
       "      <td>2652</td>\n",
       "    </tr>\n",
       "  </tbody>\n",
       "</table>\n",
       "</div>"
      ],
      "text/plain": [
       "   Gender  Customer ID\n",
       "0  Female         1248\n",
       "1    Male         2652"
      ]
     },
     "execution_count": 29,
     "metadata": {},
     "output_type": "execute_result"
    }
   ],
   "source": [
    "df33"
   ]
  },
  {
   "cell_type": "code",
   "execution_count": 30,
   "id": "ba848d21",
   "metadata": {
    "scrolled": false
   },
   "outputs": [
    {
     "data": {
      "text/plain": [
       "Text(0.5, 1.0, 'User - bar chart')"
      ]
     },
     "execution_count": 30,
     "metadata": {},
     "output_type": "execute_result"
    },
    {
     "data": {
      "image/png": "[encoded data removed]",
      "text/plain": [
       "<Figure size 400x300 with 1 Axes>"
      ]
     },
     "metadata": {},
     "output_type": "display_data"
    }
   ],
   "source": [
    "# seaborn 라이브러리를 통한 그래프 그리기 \n",
    "p = [\"#F4D13B\",\"red\"]\n",
    "sns.set_palette(p)\n",
    "\n",
    "plot1 = (sns.barplot(data=df33,x= \"Gender\",y= \"Customer ID\"))\n",
    "# containers: 각 막대 / labels: 각 막대의 높이를 텍스트로 반환 \n",
    "plot1.bar_label(plot1.containers[0], labels=df33['Customer ID'], fontsize=7, color='blue')\n",
    "plot1.set_title(\"User - bar chart\")"
   ]
  },
  {
   "cell_type": "markdown",
   "id": "03850aa8",
   "metadata": {},
   "source": [
    "#### <span style=\"color:blue\"> **📘 2-2. 바 그래프 그리기2** </span>"
   ]
  },
  {
   "cell_type": "code",
   "execution_count": 31,
   "id": "9331239a",
   "metadata": {},
   "outputs": [],
   "source": [
    "# seaborn 라이브러리를 통한 그래프 그리기 \n",
    "# 월별 유저수 구하기\n",
    "mask2 = (df3['Time stamp']>' ')"
   ]
  },
  {
   "cell_type": "code",
   "execution_count": 32,
   "id": "8185e3a1",
   "metadata": {},
   "outputs": [],
   "source": [
    "# 시간이 있는 데이터 필터링\n",
    "df8 = df3[mask2]"
   ]
  },
  {
   "cell_type": "code",
   "execution_count": 33,
   "id": "6a101727",
   "metadata": {},
   "outputs": [
    {
     "data": {
      "text/plain": [
       "Time stamp\n",
       "01/01/2023 0:00     18\n",
       "01/01/2023 10:00    18\n",
       "01/02/2023 10:00     6\n",
       "01/03/2023 10:00     4\n",
       "01/04/2023 10:00     4\n",
       "                    ..\n",
       "31/05/2023 10:00     4\n",
       "31/07/2023 10:00     3\n",
       "31/08/2023 10:00     3\n",
       "31/10/2023 8:00     20\n",
       "31/12/2022 10:00    18\n",
       "Name: user id, Length: 366, dtype: int64"
      ]
     },
     "execution_count": 33,
     "metadata": {},
     "output_type": "execute_result"
    }
   ],
   "source": [
    "# 시간별로 유저수 카운트\n",
    "df8.groupby('Time stamp')['user id'].count()"
   ]
  },
  {
   "cell_type": "code",
   "execution_count": 34,
   "id": "dd28905d",
   "metadata": {},
   "outputs": [],
   "source": [
    "# inner join 시행 \n",
    "merge_df = pd.merge(df2,df8, how='inner', left_on='Customer ID', right_on='user id')"
   ]
  },
  {
   "cell_type": "code",
   "execution_count": 35,
   "id": "bb27ddce",
   "metadata": {},
   "outputs": [
    {
     "data": {
      "text/plain": [
       "user id             float64\n",
       "product id           object\n",
       "Interaction type     object\n",
       "Time stamp           object\n",
       "Unnamed: 4          float64\n",
       "dtype: object"
      ]
     },
     "execution_count": 35,
     "metadata": {},
     "output_type": "execute_result"
    }
   ],
   "source": [
    "df8.dtypes"
   ]
  },
  {
   "cell_type": "code",
   "execution_count": 36,
   "id": "4ecf7587",
   "metadata": {},
   "outputs": [],
   "source": [
    "# object -> datetime \n",
    "df8['Date'] = pd.to_datetime(df8['Time stamp']).dt.strftime('%Y-%m')"
   ]
  },
  {
   "cell_type": "code",
   "execution_count": 37,
   "id": "e523c4d5",
   "metadata": {},
   "outputs": [],
   "source": [
    "# 월별 유저수 카운트 \n",
    "df9 = df8.groupby('Date')['user id'].count().reset_index()"
   ]
  },
  {
   "cell_type": "code",
   "execution_count": 38,
   "id": "98123d6e",
   "metadata": {},
   "outputs": [],
   "source": [
    "# 컬럼명 변경, 기존 dataframe 덮어씌움\n",
    "df9.rename(columns = {'user id' : 'user count'}, inplace = True)"
   ]
  },
  {
   "cell_type": "code",
   "execution_count": 39,
   "id": "7f27eb4b",
   "metadata": {},
   "outputs": [
    {
     "data": {
      "text/html": [
       "<div>\n",
       "<style scoped>\n",
       "    .dataframe tbody tr th:only-of-type {\n",
       "        vertical-align: middle;\n",
       "    }\n",
       "\n",
       "    .dataframe tbody tr th {\n",
       "        vertical-align: top;\n",
       "    }\n",
       "\n",
       "    .dataframe thead th {\n",
       "        text-align: right;\n",
       "    }\n",
       "</style>\n",
       "<table border=\"1\" class=\"dataframe\">\n",
       "  <thead>\n",
       "    <tr style=\"text-align: right;\">\n",
       "      <th></th>\n",
       "      <th>Date</th>\n",
       "      <th>user count</th>\n",
       "    </tr>\n",
       "  </thead>\n",
       "  <tbody>\n",
       "    <tr>\n",
       "      <th>0</th>\n",
       "      <td>2022-12</td>\n",
       "      <td>72</td>\n",
       "    </tr>\n",
       "    <tr>\n",
       "      <th>1</th>\n",
       "      <td>2023-01</td>\n",
       "      <td>335</td>\n",
       "    </tr>\n",
       "    <tr>\n",
       "      <th>2</th>\n",
       "      <td>2023-02</td>\n",
       "      <td>163</td>\n",
       "    </tr>\n",
       "    <tr>\n",
       "      <th>3</th>\n",
       "      <td>2023-03</td>\n",
       "      <td>165</td>\n",
       "    </tr>\n",
       "    <tr>\n",
       "      <th>4</th>\n",
       "      <td>2023-04</td>\n",
       "      <td>161</td>\n",
       "    </tr>\n",
       "    <tr>\n",
       "      <th>5</th>\n",
       "      <td>2023-05</td>\n",
       "      <td>165</td>\n",
       "    </tr>\n",
       "    <tr>\n",
       "      <th>6</th>\n",
       "      <td>2023-06</td>\n",
       "      <td>160</td>\n",
       "    </tr>\n",
       "    <tr>\n",
       "      <th>7</th>\n",
       "      <td>2023-07</td>\n",
       "      <td>146</td>\n",
       "    </tr>\n",
       "    <tr>\n",
       "      <th>8</th>\n",
       "      <td>2023-08</td>\n",
       "      <td>145</td>\n",
       "    </tr>\n",
       "    <tr>\n",
       "      <th>9</th>\n",
       "      <td>2023-09</td>\n",
       "      <td>139</td>\n",
       "    </tr>\n",
       "    <tr>\n",
       "      <th>10</th>\n",
       "      <td>2023-10</td>\n",
       "      <td>488</td>\n",
       "    </tr>\n",
       "    <tr>\n",
       "      <th>11</th>\n",
       "      <td>2023-11</td>\n",
       "      <td>458</td>\n",
       "    </tr>\n",
       "    <tr>\n",
       "      <th>12</th>\n",
       "      <td>2023-12</td>\n",
       "      <td>402</td>\n",
       "    </tr>\n",
       "  </tbody>\n",
       "</table>\n",
       "</div>"
      ],
      "text/plain": [
       "       Date  user count\n",
       "0   2022-12          72\n",
       "1   2023-01         335\n",
       "2   2023-02         163\n",
       "3   2023-03         165\n",
       "4   2023-04         161\n",
       "5   2023-05         165\n",
       "6   2023-06         160\n",
       "7   2023-07         146\n",
       "8   2023-08         145\n",
       "9   2023-09         139\n",
       "10  2023-10         488\n",
       "11  2023-11         458\n",
       "12  2023-12         402"
      ]
     },
     "execution_count": 39,
     "metadata": {},
     "output_type": "execute_result"
    }
   ],
   "source": [
    "df9"
   ]
  },
  {
   "cell_type": "code",
   "execution_count": 40,
   "id": "8c4e0741",
   "metadata": {
    "scrolled": false
   },
   "outputs": [
    {
     "data": {
      "image/png": "[encoded data removed]",
      "text/plain": [
       "<Figure size 1500x800 with 1 Axes>"
      ]
     },
     "metadata": {},
     "output_type": "display_data"
    }
   ],
   "source": [
    "# seaborn 라이브러리를 통한 그래프 그리기 \n",
    "plt.figure(figsize=(15, 8))\n",
    "dplot1 = sns.barplot(x=\"Date\", y=\"user count\", data=df9, palette='rainbow')\n",
    "dplot1.set_xticklabels(dplot1.get_xticklabels(), rotation=30)\n",
    "dplot1.set(title='Monthly Active User') # title barplot\n",
    "\n",
    "# 바차트에 텍스트 추가하기 \n",
    "# patches 는 각 막대를 의미 .\n",
    "for p in dplot1.patches:\n",
    "    # 각 바의 높이 구하기\n",
    "    height = p.get_height()\n",
    "    # X 축 시작점으로부터, 막대넓이의 중앙 지점에 텍스트 표시 \n",
    "    dplot1.text(x = p.get_x()+(p.get_width()/2), \n",
    "    # 각 막대 높이에 10 을 더해준 위치에 텍스트 표시             \n",
    "    y = height+10, \n",
    "    # 값을 정수로 포맷팅\n",
    "    s = '{:.0f}'.format(height),\n",
    "    # 중앙 정렬\n",
    "    ha = 'center') "
   ]
  },
  {
   "cell_type": "markdown",
   "id": "d16d47e6",
   "metadata": {},
   "source": [
    "#### <span style=\"color:blue\"> **📘 2-3. 카운트그래프 그리기** </span>"
   ]
  },
  {
   "cell_type": "code",
   "execution_count": 41,
   "id": "2f5e4ada",
   "metadata": {},
   "outputs": [
    {
     "data": {
      "text/plain": [
       "[Text(0.5, 1.0, 'bar plot3')]"
      ]
     },
     "execution_count": 41,
     "metadata": {},
     "output_type": "execute_result"
    },
    {
     "data": {
      "image/png": "[encoded data removed]",
      "text/plain": [
       "<Figure size 600x500 with 1 Axes>"
      ]
     },
     "metadata": {},
     "output_type": "display_data"
    }
   ],
   "source": [
    "# seaborn 라이브러리를 통한 그래프 그리기 \n",
    "# 시즌별 카테고리별 유저수(count 값과 동일) 구하기 \n",
    "plt.figure(figsize=(6, 5))\n",
    "# hue 는 범례입니다. \n",
    "dplot2 = sns.countplot(x='Category', hue='Gender', data=df2, palette='cubehelix')\n",
    "dplot2.set(title='bar plot3')"
   ]
  },
  {
   "cell_type": "markdown",
   "id": "68a898e8",
   "metadata": {},
   "source": [
    "#### <span style=\"color:blue\"> **📘 2-4. 히스토그램 그래프 그리기** </span>"
   ]
  },
  {
   "cell_type": "code",
   "execution_count": 42,
   "id": "fd53a2b4",
   "metadata": {
    "scrolled": true
   },
   "outputs": [
    {
     "data": {
      "text/plain": [
       "<Axes: xlabel='Age', ylabel='Count'>"
      ]
     },
     "execution_count": 42,
     "metadata": {},
     "output_type": "execute_result"
    },
    {
     "data": {
      "image/png": "[encoded data removed]",
      "text/plain": [
       "<Figure size 400x300 with 1 Axes>"
      ]
     },
     "metadata": {},
     "output_type": "display_data"
    }
   ],
   "source": [
    "# seaborn 라이브러리를 통한 그래프 그리기 \n",
    "#나이별 데이터 count 나타내기 \n",
    "#분포를 나타내는 그래프로 데이터 갯수를 세어 표시\n",
    "\n",
    "sns.histplot(x=df2['Age'])"
   ]
  },
  {
   "cell_type": "markdown",
   "id": "bb1351c2",
   "metadata": {},
   "source": [
    "#### <span style=\"color:blue\"> **📘 2-5. 박스플롯 그리기** </span>"
   ]
  },
  {
   "cell_type": "code",
   "execution_count": 43,
   "id": "fc6e080c",
   "metadata": {},
   "outputs": [
    {
     "data": {
      "text/plain": [
       "<Axes: xlabel='Purchase Amount (USD)'>"
      ]
     },
     "execution_count": 43,
     "metadata": {},
     "output_type": "execute_result"
    },
    {
     "data": {
      "image/png": "[encoded data removed]",
      "text/plain": [
       "<Figure size 400x300 with 1 Axes>"
      ]
     },
     "metadata": {},
     "output_type": "display_data"
    }
   ],
   "source": [
    "# seaborn 라이브러리를 통한 그래프 그리기 \n",
    "# 최대(maximum), 최소(minimum), mean(평균), 1 사분위수(first quartile), 3 사분위수(third quartile)를 보기 위한 그래프\n",
    "# 이상치 탐지에 용이(저번시간에 배운 IQR)\n",
    "sns.boxplot(x = df2['Purchase Amount (USD)'],palette='Wistia')"
   ]
  },
  {
   "cell_type": "code",
   "execution_count": 44,
   "id": "75fb5c79",
   "metadata": {
    "scrolled": false
   },
   "outputs": [
    {
     "data": {
      "text/plain": [
       "[Text(0.5, 1.0, 'box plot yeah')]"
      ]
     },
     "execution_count": 44,
     "metadata": {},
     "output_type": "execute_result"
    },
    {
     "data": {
      "image/png": "[encoded data removed]",
      "text/plain": [
       "<Figure size 400x300 with 1 Axes>"
      ]
     },
     "metadata": {},
     "output_type": "display_data"
    }
   ],
   "source": [
    "# seaborn 라이브러리를 통한 그래프 그리기 \n",
    "# 박스플롯 응용\n",
    "dplot5 = sns.boxplot(y = df2['Purchase Amount (USD)'], x = df2['Gender'], palette='PiYG')\n",
    "dplot5.set(title='box plot yeah')"
   ]
  },
  {
   "cell_type": "markdown",
   "id": "e430bbb5",
   "metadata": {},
   "source": [
    "#### <span style=\"color:blue\"> **📘 2-6. 상관관계 그래프 그리기** </span>"
   ]
  },
  {
   "cell_type": "code",
   "execution_count": 45,
   "id": "5c88cd9a",
   "metadata": {},
   "outputs": [],
   "source": [
    "#연속형 변수 상관관계 히트맵 구현\n",
    "df10 = df2[['Age','Purchase Amount (USD)','Review Rating','Previous Purchases']]"
   ]
  },
  {
   "cell_type": "code",
   "execution_count": 46,
   "id": "8322a834",
   "metadata": {},
   "outputs": [
    {
     "data": {
      "text/html": [
       "<div>\n",
       "<style scoped>\n",
       "    .dataframe tbody tr th:only-of-type {\n",
       "        vertical-align: middle;\n",
       "    }\n",
       "\n",
       "    .dataframe tbody tr th {\n",
       "        vertical-align: top;\n",
       "    }\n",
       "\n",
       "    .dataframe thead th {\n",
       "        text-align: right;\n",
       "    }\n",
       "</style>\n",
       "<table border=\"1\" class=\"dataframe\">\n",
       "  <thead>\n",
       "    <tr style=\"text-align: right;\">\n",
       "      <th></th>\n",
       "      <th>Age</th>\n",
       "      <th>Purchase Amount (USD)</th>\n",
       "      <th>Review Rating</th>\n",
       "      <th>Previous Purchases</th>\n",
       "    </tr>\n",
       "  </thead>\n",
       "  <tbody>\n",
       "    <tr>\n",
       "      <th>count</th>\n",
       "      <td>3900.000000</td>\n",
       "      <td>3900.000000</td>\n",
       "      <td>3900.000000</td>\n",
       "      <td>3900.000000</td>\n",
       "    </tr>\n",
       "    <tr>\n",
       "      <th>mean</th>\n",
       "      <td>44.068462</td>\n",
       "      <td>59.764359</td>\n",
       "      <td>3.749949</td>\n",
       "      <td>25.351538</td>\n",
       "    </tr>\n",
       "    <tr>\n",
       "      <th>std</th>\n",
       "      <td>15.207589</td>\n",
       "      <td>23.685392</td>\n",
       "      <td>0.716223</td>\n",
       "      <td>14.447125</td>\n",
       "    </tr>\n",
       "    <tr>\n",
       "      <th>min</th>\n",
       "      <td>18.000000</td>\n",
       "      <td>20.000000</td>\n",
       "      <td>2.500000</td>\n",
       "      <td>1.000000</td>\n",
       "    </tr>\n",
       "    <tr>\n",
       "      <th>25%</th>\n",
       "      <td>31.000000</td>\n",
       "      <td>39.000000</td>\n",
       "      <td>3.100000</td>\n",
       "      <td>13.000000</td>\n",
       "    </tr>\n",
       "    <tr>\n",
       "      <th>50%</th>\n",
       "      <td>44.000000</td>\n",
       "      <td>60.000000</td>\n",
       "      <td>3.700000</td>\n",
       "      <td>25.000000</td>\n",
       "    </tr>\n",
       "    <tr>\n",
       "      <th>75%</th>\n",
       "      <td>57.000000</td>\n",
       "      <td>81.000000</td>\n",
       "      <td>4.400000</td>\n",
       "      <td>38.000000</td>\n",
       "    </tr>\n",
       "    <tr>\n",
       "      <th>max</th>\n",
       "      <td>70.000000</td>\n",
       "      <td>100.000000</td>\n",
       "      <td>5.000000</td>\n",
       "      <td>50.000000</td>\n",
       "    </tr>\n",
       "  </tbody>\n",
       "</table>\n",
       "</div>"
      ],
      "text/plain": [
       "               Age  Purchase Amount (USD)  Review Rating  Previous Purchases\n",
       "count  3900.000000            3900.000000    3900.000000         3900.000000\n",
       "mean     44.068462              59.764359       3.749949           25.351538\n",
       "std      15.207589              23.685392       0.716223           14.447125\n",
       "min      18.000000              20.000000       2.500000            1.000000\n",
       "25%      31.000000              39.000000       3.100000           13.000000\n",
       "50%      44.000000              60.000000       3.700000           25.000000\n",
       "75%      57.000000              81.000000       4.400000           38.000000\n",
       "max      70.000000             100.000000       5.000000           50.000000"
      ]
     },
     "execution_count": 46,
     "metadata": {},
     "output_type": "execute_result"
    }
   ],
   "source": [
    "df10.describe()"
   ]
  },
  {
   "cell_type": "code",
   "execution_count": 47,
   "id": "b65d06fa",
   "metadata": {},
   "outputs": [
    {
     "data": {
      "text/html": [
       "<div>\n",
       "<style scoped>\n",
       "    .dataframe tbody tr th:only-of-type {\n",
       "        vertical-align: middle;\n",
       "    }\n",
       "\n",
       "    .dataframe tbody tr th {\n",
       "        vertical-align: top;\n",
       "    }\n",
       "\n",
       "    .dataframe thead th {\n",
       "        text-align: right;\n",
       "    }\n",
       "</style>\n",
       "<table border=\"1\" class=\"dataframe\">\n",
       "  <thead>\n",
       "    <tr style=\"text-align: right;\">\n",
       "      <th></th>\n",
       "      <th>Age</th>\n",
       "      <th>Purchase Amount (USD)</th>\n",
       "      <th>Review Rating</th>\n",
       "      <th>Previous Purchases</th>\n",
       "    </tr>\n",
       "  </thead>\n",
       "  <tbody>\n",
       "    <tr>\n",
       "      <th>Age</th>\n",
       "      <td>1.000000</td>\n",
       "      <td>-0.010424</td>\n",
       "      <td>-0.021949</td>\n",
       "      <td>0.040445</td>\n",
       "    </tr>\n",
       "    <tr>\n",
       "      <th>Purchase Amount (USD)</th>\n",
       "      <td>-0.010424</td>\n",
       "      <td>1.000000</td>\n",
       "      <td>0.030776</td>\n",
       "      <td>0.008063</td>\n",
       "    </tr>\n",
       "    <tr>\n",
       "      <th>Review Rating</th>\n",
       "      <td>-0.021949</td>\n",
       "      <td>0.030776</td>\n",
       "      <td>1.000000</td>\n",
       "      <td>0.004229</td>\n",
       "    </tr>\n",
       "    <tr>\n",
       "      <th>Previous Purchases</th>\n",
       "      <td>0.040445</td>\n",
       "      <td>0.008063</td>\n",
       "      <td>0.004229</td>\n",
       "      <td>1.000000</td>\n",
       "    </tr>\n",
       "  </tbody>\n",
       "</table>\n",
       "</div>"
      ],
      "text/plain": [
       "                            Age  Purchase Amount (USD)  Review Rating  \\\n",
       "Age                    1.000000              -0.010424      -0.021949   \n",
       "Purchase Amount (USD) -0.010424               1.000000       0.030776   \n",
       "Review Rating         -0.021949               0.030776       1.000000   \n",
       "Previous Purchases     0.040445               0.008063       0.004229   \n",
       "\n",
       "                       Previous Purchases  \n",
       "Age                              0.040445  \n",
       "Purchase Amount (USD)            0.008063  \n",
       "Review Rating                    0.004229  \n",
       "Previous Purchases               1.000000  "
      ]
     },
     "execution_count": 47,
     "metadata": {},
     "output_type": "execute_result"
    }
   ],
   "source": [
    "# 상관계수 구하기 \n",
    "df10.corr()"
   ]
  },
  {
   "cell_type": "code",
   "execution_count": 48,
   "id": "63c92b6b",
   "metadata": {
    "scrolled": false
   },
   "outputs": [
    {
     "data": {
      "text/plain": [
       "[Text(0.5, 1.0, 'corr plot')]"
      ]
     },
     "execution_count": 48,
     "metadata": {},
     "output_type": "execute_result"
    },
    {
     "data": {
      "image/png": "[encoded data removed]",
      "text/plain": [
       "<Figure size 400x300 with 2 Axes>"
      ]
     },
     "metadata": {},
     "output_type": "display_data"
    }
   ],
   "source": [
    "# seaborn 라이브러리를 통한 그래프 그리기 \n",
    "# annot: 각 셀의 값 표기,camp 는 팔레트 \n",
    "dplot10 = sns.heatmap(df10.corr(), annot = True, cmap = 'viridis') # camp =PiYG 도 넣어서 색상을 비교해보세요.\n",
    "dplot10.set(title='corr plot')"
   ]
  },
  {
   "cell_type": "markdown",
   "id": "3420c53b",
   "metadata": {},
   "source": [
    "#### <span style=\"color:blue\"> **📘 2-7. 조인트 그래프 그리기** </span>"
   ]
  },
  {
   "cell_type": "code",
   "execution_count": 49,
   "id": "b688d505",
   "metadata": {
    "scrolled": false
   },
   "outputs": [
    {
     "data": {
      "text/plain": [
       "<seaborn.axisgrid.JointGrid at 0x168ba7290>"
      ]
     },
     "execution_count": 49,
     "metadata": {},
     "output_type": "execute_result"
    },
    {
     "data": {
      "image/png": "[encoded data removed]",
      "text/plain": [
       "<Figure size 600x600 with 3 Axes>"
      ]
     },
     "metadata": {},
     "output_type": "display_data"
    }
   ],
   "source": [
    "# seaborn 라이브러리를 통한 그래프 그리기 \n",
    "#두 변수에 분포에 대한 분석시 사용\n",
    "#hex 를 통해 밀도 확인\n",
    "sns.jointplot(x=df2['Purchase Amount (USD)'], y=df10['Review Rating'], kind = 'hex', palette='cubehelix')"
   ]
  },
  {
   "cell_type": "markdown",
   "id": "43447262",
   "metadata": {},
   "source": [
    "## <span style=\"color:red\"> 📌 chapter 3. 데이터시각화 - Altair"
   ]
  },
  {
   "cell_type": "markdown",
   "id": "639349d5",
   "metadata": {},
   "source": [
    "#### <span style=\"color:blue\"> **📘 3-1. 바 그래프 그리기** </span>"
   ]
  },
  {
   "cell_type": "code",
   "execution_count": 50,
   "id": "4abe650d",
   "metadata": {
    "scrolled": false
   },
   "outputs": [
    {
     "data": {
      "text/html": [
       "\n",
       "<style>\n",
       "  #altair-viz-19315bc9e7134ce086998bebb20e804a.vega-embed {\n",
       "    width: 100%;\n",
       "    display: flex;\n",
       "  }\n",
       "\n",
       "  #altair-viz-19315bc9e7134ce086998bebb20e804a.vega-embed details,\n",
       "  #altair-viz-19315bc9e7134ce086998bebb20e804a.vega-embed details summary {\n",
       "    position: relative;\n",
       "  }\n",
       "</style>\n",
       "<div id=\"altair-viz-19315bc9e7134ce086998bebb20e804a\"></div>\n",
       "<script type=\"text/javascript\">\n",
       "  var VEGA_DEBUG = (typeof VEGA_DEBUG == \"undefined\") ? {} : VEGA_DEBUG;\n",
       "  (function(spec, embedOpt){\n",
       "    let outputDiv = document.currentScript.previousElementSibling;\n",
       "    if (outputDiv.id !== \"altair-viz-19315bc9e7134ce086998bebb20e804a\") {\n",
       "      outputDiv = document.getElementById(\"altair-viz-19315bc9e7134ce086998bebb20e804a\");\n",
       "    }\n",
       "    const paths = {\n",
       "      \"vega\": \"https://cdn.jsdelivr.net/npm/vega@5?noext\",\n",
       "      \"vega-lib\": \"https://cdn.jsdelivr.net/npm/vega-lib?noext\",\n",
       "      \"vega-lite\": \"https://cdn.jsdelivr.net/npm/vega-lite@5.20.1?noext\",\n",
       "      \"vega-embed\": \"https://cdn.jsdelivr.net/npm/vega-embed@6?noext\",\n",
       "    };\n",
       "\n",
       "    function maybeLoadScript(lib, version) {\n",
       "      var key = `${lib.replace(\"-\", \"\")}_version`;\n",
       "      return (VEGA_DEBUG[key] == version) ?\n",
       "        Promise.resolve(paths[lib]) :\n",
       "        new Promise(function(resolve, reject) {\n",
       "          var s = document.createElement('script');\n",
       "          document.getElementsByTagName(\"head\")[0].appendChild(s);\n",
       "          s.async = true;\n",
       "          s.onload = () => {\n",
       "            VEGA_DEBUG[key] = version;\n",
       "            return resolve(paths[lib]);\n",
       "          };\n",
       "          s.onerror = () => reject(`Error loading script: ${paths[lib]}`);\n",
       "          s.src = paths[lib];\n",
       "        });\n",
       "    }\n",
       "\n",
       "    function showError(err) {\n",
       "      outputDiv.innerHTML = `<div class=\"error\" style=\"color:red;\">${err}</div>`;\n",
       "      throw err;\n",
       "    }\n",
       "\n",
       "    function displayChart(vegaEmbed) {\n",
       "      vegaEmbed(outputDiv, spec, embedOpt)\n",
       "        .catch(err => showError(`Javascript Error: ${err.message}<br>This usually means there's a typo in your chart specification. See the javascript console for the full traceback.`));\n",
       "    }\n",
       "\n",
       "    if(typeof define === \"function\" && define.amd) {\n",
       "      requirejs.config({paths});\n",
       "      require([\"vega-embed\"], displayChart, err => showError(`Error loading script: ${err.message}`));\n",
       "    } else {\n",
       "      maybeLoadScript(\"vega\", \"5\")\n",
       "        .then(() => maybeLoadScript(\"vega-lite\", \"5.20.1\"))\n",
       "        .then(() => maybeLoadScript(\"vega-embed\", \"6\"))\n",
       "        .catch(showError)\n",
       "        .then(() => displayChart(vegaEmbed));\n",
       "    }\n",
       "  })({\"config\": {\"view\": {\"continuousWidth\": 300, \"continuousHeight\": 300}}, \"data\": {\"name\": \"data-7ccbfdae7bad64b8f3f1be5d0764a3c1\"}, \"mark\": {\"type\": \"bar\"}, \"encoding\": {\"x\": {\"field\": \"Date\", \"type\": \"nominal\"}, \"y\": {\"field\": \"user count\", \"type\": \"quantitative\"}}, \"params\": [{\"name\": \"param_1\", \"select\": {\"type\": \"interval\", \"encodings\": [\"x\", \"y\"]}, \"bind\": \"scales\"}], \"$schema\": \"https://vega.github.io/schema/vega-lite/v5.20.1.json\", \"datasets\": {\"data-7ccbfdae7bad64b8f3f1be5d0764a3c1\": [{\"Date\": \"2022-12\", \"user count\": 72}, {\"Date\": \"2023-01\", \"user count\": 335}, {\"Date\": \"2023-02\", \"user count\": 163}, {\"Date\": \"2023-03\", \"user count\": 165}, {\"Date\": \"2023-04\", \"user count\": 161}, {\"Date\": \"2023-05\", \"user count\": 165}, {\"Date\": \"2023-06\", \"user count\": 160}, {\"Date\": \"2023-07\", \"user count\": 146}, {\"Date\": \"2023-08\", \"user count\": 145}, {\"Date\": \"2023-09\", \"user count\": 139}, {\"Date\": \"2023-10\", \"user count\": 488}, {\"Date\": \"2023-11\", \"user count\": 458}, {\"Date\": \"2023-12\", \"user count\": 402}]}}, {\"mode\": \"vega-lite\"});\n",
       "</script>"
      ],
      "text/plain": [
       "alt.Chart(...)"
      ]
     },
     "execution_count": 50,
     "metadata": {},
     "output_type": "execute_result"
    }
   ],
   "source": [
    "# altair 라이브러리를 통한 그래프 그리기 \n",
    "# 월별 유저수 interactive 그래프 구현 \n",
    "source=df9\n",
    "alt.Chart(source).mark_bar().encode(\n",
    "    x='Date',\n",
    "    y='user count'\n",
    ").interactive() # 동적 구현 "
   ]
  },
  {
   "cell_type": "markdown",
   "id": "b031d3b3",
   "metadata": {},
   "source": [
    "#### <span style=\"color:blue\"> **📘 3-2. 파이차트 그리기** </span>"
   ]
  },
  {
   "cell_type": "code",
   "execution_count": 51,
   "id": "8a9ccf53",
   "metadata": {
    "scrolled": true
   },
   "outputs": [
    {
     "data": {
      "text/html": [
       "\n",
       "<style>\n",
       "  #altair-viz-15e9dc1e048546cfab45f3d23e88cd6e.vega-embed {\n",
       "    width: 100%;\n",
       "    display: flex;\n",
       "  }\n",
       "\n",
       "  #altair-viz-15e9dc1e048546cfab45f3d23e88cd6e.vega-embed details,\n",
       "  #altair-viz-15e9dc1e048546cfab45f3d23e88cd6e.vega-embed details summary {\n",
       "    position: relative;\n",
       "  }\n",
       "</style>\n",
       "<div id=\"altair-viz-15e9dc1e048546cfab45f3d23e88cd6e\"></div>\n",
       "<script type=\"text/javascript\">\n",
       "  var VEGA_DEBUG = (typeof VEGA_DEBUG == \"undefined\") ? {} : VEGA_DEBUG;\n",
       "  (function(spec, embedOpt){\n",
       "    let outputDiv = document.currentScript.previousElementSibling;\n",
       "    if (outputDiv.id !== \"altair-viz-15e9dc1e048546cfab45f3d23e88cd6e\") {\n",
       "      outputDiv = document.getElementById(\"altair-viz-15e9dc1e048546cfab45f3d23e88cd6e\");\n",
       "    }\n",
       "    const paths = {\n",
       "      \"vega\": \"https://cdn.jsdelivr.net/npm/vega@5?noext\",\n",
       "      \"vega-lib\": \"https://cdn.jsdelivr.net/npm/vega-lib?noext\",\n",
       "      \"vega-lite\": \"https://cdn.jsdelivr.net/npm/vega-lite@5.20.1?noext\",\n",
       "      \"vega-embed\": \"https://cdn.jsdelivr.net/npm/vega-embed@6?noext\",\n",
       "    };\n",
       "\n",
       "    function maybeLoadScript(lib, version) {\n",
       "      var key = `${lib.replace(\"-\", \"\")}_version`;\n",
       "      return (VEGA_DEBUG[key] == version) ?\n",
       "        Promise.resolve(paths[lib]) :\n",
       "        new Promise(function(resolve, reject) {\n",
       "          var s = document.createElement('script');\n",
       "          document.getElementsByTagName(\"head\")[0].appendChild(s);\n",
       "          s.async = true;\n",
       "          s.onload = () => {\n",
       "            VEGA_DEBUG[key] = version;\n",
       "            return resolve(paths[lib]);\n",
       "          };\n",
       "          s.onerror = () => reject(`Error loading script: ${paths[lib]}`);\n",
       "          s.src = paths[lib];\n",
       "        });\n",
       "    }\n",
       "\n",
       "    function showError(err) {\n",
       "      outputDiv.innerHTML = `<div class=\"error\" style=\"color:red;\">${err}</div>`;\n",
       "      throw err;\n",
       "    }\n",
       "\n",
       "    function displayChart(vegaEmbed) {\n",
       "      vegaEmbed(outputDiv, spec, embedOpt)\n",
       "        .catch(err => showError(`Javascript Error: ${err.message}<br>This usually means there's a typo in your chart specification. See the javascript console for the full traceback.`));\n",
       "    }\n",
       "\n",
       "    if(typeof define === \"function\" && define.amd) {\n",
       "      requirejs.config({paths});\n",
       "      require([\"vega-embed\"], displayChart, err => showError(`Error loading script: ${err.message}`));\n",
       "    } else {\n",
       "      maybeLoadScript(\"vega\", \"5\")\n",
       "        .then(() => maybeLoadScript(\"vega-lite\", \"5.20.1\"))\n",
       "        .then(() => maybeLoadScript(\"vega-embed\", \"6\"))\n",
       "        .catch(showError)\n",
       "        .then(() => displayChart(vegaEmbed));\n",
       "    }\n",
       "  })({\"config\": {\"view\": {\"continuousWidth\": 300, \"continuousHeight\": 300}, \"range\": {\"category\": [\"#F4D13B\", \"#9b59b6\"]}}, \"data\": {\"name\": \"data-e6bc8e98b5f5a0471ff6799d5b03a588\"}, \"mark\": {\"type\": \"arc\", \"innerRadius\": 50}, \"encoding\": {\"color\": {\"field\": \"Gender\", \"type\": \"nominal\"}, \"theta\": {\"field\": \"Customer ID\", \"type\": \"quantitative\"}}, \"title\": \"donut plot\", \"$schema\": \"https://vega.github.io/schema/vega-lite/v5.20.1.json\", \"datasets\": {\"data-e6bc8e98b5f5a0471ff6799d5b03a588\": [{\"Gender\": \"Female\", \"Customer ID\": 1248}, {\"Gender\": \"Male\", \"Customer ID\": 2652}]}}, {\"mode\": \"vega-lite\"});\n",
       "</script>"
      ],
      "text/plain": [
       "alt.Chart(...)"
      ]
     },
     "execution_count": 51,
     "metadata": {},
     "output_type": "execute_result"
    }
   ],
   "source": [
    "# altair 라이브러리를 통한 그래프 그리기 \n",
    "source = df33\n",
    "colors = ['#F4D13B','#9b59b6']\n",
    "#innerRadius=50 >> 도넛차트의미 \n",
    "dplot3 = (\n",
    "alt.Chart(source).mark_arc(innerRadius=50).encode(\n",
    "    theta=\"Customer ID\",\n",
    "    color=\"Gender\",\n",
    "    \n",
    ").configure_range(category=alt.RangeScheme(colors))) # 컬러 반영하기 \n",
    "dplot3.title = \"donut plot\" # 타이틀 설정 \n",
    "dplot3"
   ]
  },
  {
   "cell_type": "markdown",
   "id": "9acb6364",
   "metadata": {},
   "source": [
    "#### <span style=\"color:blue\"> **📘 3-3. 동적 그래프 그리기** </span>"
   ]
  },
  {
   "cell_type": "code",
   "execution_count": 52,
   "id": "0200c119",
   "metadata": {},
   "outputs": [],
   "source": [
    "# altair 라이브러리를 통한 그래프 그리기 \n",
    "#나이, 구매금액에 따른 남성/여성 유저수 확인하기\n",
    "df5 = df2.groupby(['Age','Gender'])['Purchase Amount (USD)'].sum().reset_index()\n",
    "df6 = df2.groupby(['Age','Gender'])['Customer ID'].count().reset_index()\n",
    "merge_df =pd.merge(df5, df6, how='inner', on=['Age','Gender'])"
   ]
  },
  {
   "cell_type": "code",
   "execution_count": 53,
   "id": "a1149a59",
   "metadata": {},
   "outputs": [
    {
     "data": {
      "text/html": [
       "<div>\n",
       "<style scoped>\n",
       "    .dataframe tbody tr th:only-of-type {\n",
       "        vertical-align: middle;\n",
       "    }\n",
       "\n",
       "    .dataframe tbody tr th {\n",
       "        vertical-align: top;\n",
       "    }\n",
       "\n",
       "    .dataframe thead th {\n",
       "        text-align: right;\n",
       "    }\n",
       "</style>\n",
       "<table border=\"1\" class=\"dataframe\">\n",
       "  <thead>\n",
       "    <tr style=\"text-align: right;\">\n",
       "      <th></th>\n",
       "      <th>Age</th>\n",
       "      <th>Gender</th>\n",
       "      <th>Purchase Amount (USD)</th>\n",
       "      <th>Customer ID</th>\n",
       "    </tr>\n",
       "  </thead>\n",
       "  <tbody>\n",
       "    <tr>\n",
       "      <th>0</th>\n",
       "      <td>18</td>\n",
       "      <td>Female</td>\n",
       "      <td>1194</td>\n",
       "      <td>20</td>\n",
       "    </tr>\n",
       "    <tr>\n",
       "      <th>1</th>\n",
       "      <td>18</td>\n",
       "      <td>Male</td>\n",
       "      <td>2945</td>\n",
       "      <td>49</td>\n",
       "    </tr>\n",
       "    <tr>\n",
       "      <th>2</th>\n",
       "      <td>19</td>\n",
       "      <td>Female</td>\n",
       "      <td>1675</td>\n",
       "      <td>27</td>\n",
       "    </tr>\n",
       "    <tr>\n",
       "      <th>3</th>\n",
       "      <td>19</td>\n",
       "      <td>Male</td>\n",
       "      <td>3266</td>\n",
       "      <td>54</td>\n",
       "    </tr>\n",
       "    <tr>\n",
       "      <th>4</th>\n",
       "      <td>20</td>\n",
       "      <td>Female</td>\n",
       "      <td>747</td>\n",
       "      <td>12</td>\n",
       "    </tr>\n",
       "    <tr>\n",
       "      <th>...</th>\n",
       "      <td>...</td>\n",
       "      <td>...</td>\n",
       "      <td>...</td>\n",
       "      <td>...</td>\n",
       "    </tr>\n",
       "    <tr>\n",
       "      <th>101</th>\n",
       "      <td>68</td>\n",
       "      <td>Male</td>\n",
       "      <td>3015</td>\n",
       "      <td>53</td>\n",
       "    </tr>\n",
       "    <tr>\n",
       "      <th>102</th>\n",
       "      <td>69</td>\n",
       "      <td>Female</td>\n",
       "      <td>1596</td>\n",
       "      <td>25</td>\n",
       "    </tr>\n",
       "    <tr>\n",
       "      <th>103</th>\n",
       "      <td>69</td>\n",
       "      <td>Male</td>\n",
       "      <td>3888</td>\n",
       "      <td>63</td>\n",
       "    </tr>\n",
       "    <tr>\n",
       "      <th>104</th>\n",
       "      <td>70</td>\n",
       "      <td>Female</td>\n",
       "      <td>1309</td>\n",
       "      <td>22</td>\n",
       "    </tr>\n",
       "    <tr>\n",
       "      <th>105</th>\n",
       "      <td>70</td>\n",
       "      <td>Male</td>\n",
       "      <td>2501</td>\n",
       "      <td>45</td>\n",
       "    </tr>\n",
       "  </tbody>\n",
       "</table>\n",
       "<p>106 rows × 4 columns</p>\n",
       "</div>"
      ],
      "text/plain": [
       "     Age  Gender  Purchase Amount (USD)  Customer ID\n",
       "0     18  Female                   1194           20\n",
       "1     18    Male                   2945           49\n",
       "2     19  Female                   1675           27\n",
       "3     19    Male                   3266           54\n",
       "4     20  Female                    747           12\n",
       "..   ...     ...                    ...          ...\n",
       "101   68    Male                   3015           53\n",
       "102   69  Female                   1596           25\n",
       "103   69    Male                   3888           63\n",
       "104   70  Female                   1309           22\n",
       "105   70    Male                   2501           45\n",
       "\n",
       "[106 rows x 4 columns]"
      ]
     },
     "execution_count": 53,
     "metadata": {},
     "output_type": "execute_result"
    }
   ],
   "source": [
    "merge_df"
   ]
  },
  {
   "cell_type": "code",
   "execution_count": 54,
   "id": "4696887c",
   "metadata": {},
   "outputs": [],
   "source": [
    "# altair 라이브러리를 통한 그래프 그리기 \n",
    "source = merge_df\n",
    "colors = ['pink','#9b59b6']\n",
    "\n",
    "# 선택(드래그) 영역 설정 \n",
    "brush = alt.selection_interval()\n",
    "points = (alt.Chart(source).mark_point().encode(\n",
    "    # Q: 양적 데이터 타입 / N: 범주형 데이터 타입 \n",
    "    x='Age:Q',\n",
    "    y='Purchase Amount (USD):Q',\n",
    "    # 선택되지 않은 부분은 회색으로 처리 \n",
    "    color=alt.condition(brush, 'Gender:N', alt.value('lightgray')),\n",
    ").properties(  # 선택 가능영역 설정 \n",
    "    width=1000,\n",
    "    height=300\n",
    ")\n",
    ".add_params(brush)) # 산점도에 드래그 영역 추가하는 코드 \n",
    "\n",
    "# 아래쪽 가로바차트 \n",
    "bars = alt.Chart(source).mark_bar().encode(\n",
    "    y='Gender:N',\n",
    "    color='Gender:N',\n",
    "    x='sum(Customer ID):Q'\n",
    ").properties(\n",
    "    width=1000,\n",
    "    height=100\n",
    ").transform_filter(brush) # 산점도에서 선택된 데이터만 필터링해 막대 그래프에 반영\n",
    "\n",
    "#산점도와 막대 그래프를 수직으로 결합\n",
    "dplot4 = (points & bars)"
   ]
  },
  {
   "cell_type": "code",
   "execution_count": 55,
   "id": "69f385ac",
   "metadata": {
    "scrolled": true
   },
   "outputs": [],
   "source": [
    "dplot4= dplot4.configure_range(category=alt.RangeScheme(colors))"
   ]
  },
  {
   "cell_type": "code",
   "execution_count": 56,
   "id": "e4836792",
   "metadata": {
    "scrolled": false
   },
   "outputs": [
    {
     "data": {
      "text/html": [
       "\n",
       "<style>\n",
       "  #altair-viz-54d164cd90b546fa8b35eae375453568.vega-embed {\n",
       "    width: 100%;\n",
       "    display: flex;\n",
       "  }\n",
       "\n",
       "  #altair-viz-54d164cd90b546fa8b35eae375453568.vega-embed details,\n",
       "  #altair-viz-54d164cd90b546fa8b35eae375453568.vega-embed details summary {\n",
       "    position: relative;\n",
       "  }\n",
       "</style>\n",
       "<div id=\"altair-viz-54d164cd90b546fa8b35eae375453568\"></div>\n",
       "<script type=\"text/javascript\">\n",
       "  var VEGA_DEBUG = (typeof VEGA_DEBUG == \"undefined\") ? {} : VEGA_DEBUG;\n",
       "  (function(spec, embedOpt){\n",
       "    let outputDiv = document.currentScript.previousElementSibling;\n",
       "    if (outputDiv.id !== \"altair-viz-54d164cd90b546fa8b35eae375453568\") {\n",
       "      outputDiv = document.getElementById(\"altair-viz-54d164cd90b546fa8b35eae375453568\");\n",
       "    }\n",
       "    const paths = {\n",
       "      \"vega\": \"https://cdn.jsdelivr.net/npm/vega@5?noext\",\n",
       "      \"vega-lib\": \"https://cdn.jsdelivr.net/npm/vega-lib?noext\",\n",
       "      \"vega-lite\": \"https://cdn.jsdelivr.net/npm/vega-lite@5.20.1?noext\",\n",
       "      \"vega-embed\": \"https://cdn.jsdelivr.net/npm/vega-embed@6?noext\",\n",
       "    };\n",
       "\n",
       "    function maybeLoadScript(lib, version) {\n",
       "      var key = `${lib.replace(\"-\", \"\")}_version`;\n",
       "      return (VEGA_DEBUG[key] == version) ?\n",
       "        Promise.resolve(paths[lib]) :\n",
       "        new Promise(function(resolve, reject) {\n",
       "          var s = document.createElement('script');\n",
       "          document.getElementsByTagName(\"head\")[0].appendChild(s);\n",
       "          s.async = true;\n",
       "          s.onload = () => {\n",
       "            VEGA_DEBUG[key] = version;\n",
       "            return resolve(paths[lib]);\n",
       "          };\n",
       "          s.onerror = () => reject(`Error loading script: ${paths[lib]}`);\n",
       "          s.src = paths[lib];\n",
       "        });\n",
       "    }\n",
       "\n",
       "    function showError(err) {\n",
       "      outputDiv.innerHTML = `<div class=\"error\" style=\"color:red;\">${err}</div>`;\n",
       "      throw err;\n",
       "    }\n",
       "\n",
       "    function displayChart(vegaEmbed) {\n",
       "      vegaEmbed(outputDiv, spec, embedOpt)\n",
       "        .catch(err => showError(`Javascript Error: ${err.message}<br>This usually means there's a typo in your chart specification. See the javascript console for the full traceback.`));\n",
       "    }\n",
       "\n",
       "    if(typeof define === \"function\" && define.amd) {\n",
       "      requirejs.config({paths});\n",
       "      require([\"vega-embed\"], displayChart, err => showError(`Error loading script: ${err.message}`));\n",
       "    } else {\n",
       "      maybeLoadScript(\"vega\", \"5\")\n",
       "        .then(() => maybeLoadScript(\"vega-lite\", \"5.20.1\"))\n",
       "        .then(() => maybeLoadScript(\"vega-embed\", \"6\"))\n",
       "        .catch(showError)\n",
       "        .then(() => displayChart(vegaEmbed));\n",
       "    }\n",
       "  })({\"config\": {\"view\": {\"continuousWidth\": 300, \"continuousHeight\": 300}, \"range\": {\"category\": [\"pink\", \"#9b59b6\"]}}, \"vconcat\": [{\"mark\": {\"type\": \"point\"}, \"encoding\": {\"color\": {\"condition\": {\"param\": \"param_2\", \"field\": \"Gender\", \"type\": \"nominal\"}, \"value\": \"lightgray\"}, \"x\": {\"field\": \"Age\", \"type\": \"quantitative\"}, \"y\": {\"field\": \"Purchase Amount (USD)\", \"type\": \"quantitative\"}}, \"height\": 300, \"name\": \"view_1\", \"width\": 1000}, {\"mark\": {\"type\": \"bar\"}, \"encoding\": {\"color\": {\"field\": \"Gender\", \"type\": \"nominal\"}, \"x\": {\"aggregate\": \"sum\", \"field\": \"Customer ID\", \"type\": \"quantitative\"}, \"y\": {\"field\": \"Gender\", \"type\": \"nominal\"}}, \"height\": 100, \"transform\": [{\"filter\": {\"param\": \"param_2\"}}], \"width\": 1000}], \"data\": {\"name\": \"data-177ec8840991de31bb63f691808be149\"}, \"params\": [{\"name\": \"param_2\", \"select\": {\"type\": \"interval\"}, \"views\": [\"view_1\"]}], \"$schema\": \"https://vega.github.io/schema/vega-lite/v5.20.1.json\", \"datasets\": {\"data-177ec8840991de31bb63f691808be149\": [{\"Age\": 18, \"Gender\": \"Female\", \"Purchase Amount (USD)\": 1194, \"Customer ID\": 20}, {\"Age\": 18, \"Gender\": \"Male\", \"Purchase Amount (USD)\": 2945, \"Customer ID\": 49}, {\"Age\": 19, \"Gender\": \"Female\", \"Purchase Amount (USD)\": 1675, \"Customer ID\": 27}, {\"Age\": 19, \"Gender\": \"Male\", \"Purchase Amount (USD)\": 3266, \"Customer ID\": 54}, {\"Age\": 20, \"Gender\": \"Female\", \"Purchase Amount (USD)\": 747, \"Customer ID\": 12}, {\"Age\": 20, \"Gender\": \"Male\", \"Purchase Amount (USD)\": 2677, \"Customer ID\": 50}, {\"Age\": 21, \"Gender\": \"Female\", \"Purchase Amount (USD)\": 1198, \"Customer ID\": 19}, {\"Age\": 21, \"Gender\": \"Male\", \"Purchase Amount (USD)\": 3225, \"Customer ID\": 50}, {\"Age\": 22, \"Gender\": \"Female\", \"Purchase Amount (USD)\": 1744, \"Customer ID\": 28}, {\"Age\": 22, \"Gender\": \"Male\", \"Purchase Amount (USD)\": 2267, \"Customer ID\": 38}, {\"Age\": 23, \"Gender\": \"Female\", \"Purchase Amount (USD)\": 1239, \"Customer ID\": 25}, {\"Age\": 23, \"Gender\": \"Male\", \"Purchase Amount (USD)\": 2790, \"Customer ID\": 46}, {\"Age\": 24, \"Gender\": \"Female\", \"Purchase Amount (USD)\": 1383, \"Customer ID\": 21}, {\"Age\": 24, \"Gender\": \"Male\", \"Purchase Amount (USD)\": 2908, \"Customer ID\": 47}, {\"Age\": 25, \"Gender\": \"Female\", \"Purchase Amount (USD)\": 1356, \"Customer ID\": 21}, {\"Age\": 25, \"Gender\": \"Male\", \"Purchase Amount (USD)\": 4016, \"Customer ID\": 64}, {\"Age\": 26, \"Gender\": \"Female\", \"Purchase Amount (USD)\": 1540, \"Customer ID\": 25}, {\"Age\": 26, \"Gender\": \"Male\", \"Purchase Amount (USD)\": 2672, \"Customer ID\": 44}, {\"Age\": 27, \"Gender\": \"Female\", \"Purchase Amount (USD)\": 1568, \"Customer ID\": 28}, {\"Age\": 27, \"Gender\": \"Male\", \"Purchase Amount (USD)\": 2892, \"Customer ID\": 55}, {\"Age\": 28, \"Gender\": \"Female\", \"Purchase Amount (USD)\": 1920, \"Customer ID\": 26}, {\"Age\": 28, \"Gender\": \"Male\", \"Purchase Amount (USD)\": 3184, \"Customer ID\": 53}, {\"Age\": 29, \"Gender\": \"Female\", \"Purchase Amount (USD)\": 1437, \"Customer ID\": 23}, {\"Age\": 29, \"Gender\": \"Male\", \"Purchase Amount (USD)\": 3062, \"Customer ID\": 53}, {\"Age\": 30, \"Gender\": \"Female\", \"Purchase Amount (USD)\": 1334, \"Customer ID\": 20}, {\"Age\": 30, \"Gender\": \"Male\", \"Purchase Amount (USD)\": 3040, \"Customer ID\": 51}, {\"Age\": 31, \"Gender\": \"Female\", \"Purchase Amount (USD)\": 1807, \"Customer ID\": 30}, {\"Age\": 31, \"Gender\": \"Male\", \"Purchase Amount (USD)\": 3057, \"Customer ID\": 49}, {\"Age\": 32, \"Gender\": \"Female\", \"Purchase Amount (USD)\": 1435, \"Customer ID\": 23}, {\"Age\": 32, \"Gender\": \"Male\", \"Purchase Amount (USD)\": 3361, \"Customer ID\": 59}, {\"Age\": 33, \"Gender\": \"Female\", \"Purchase Amount (USD)\": 1368, \"Customer ID\": 23}, {\"Age\": 33, \"Gender\": \"Male\", \"Purchase Amount (USD)\": 2592, \"Customer ID\": 40}, {\"Age\": 34, \"Gender\": \"Female\", \"Purchase Amount (USD)\": 1208, \"Customer ID\": 22}, {\"Age\": 34, \"Gender\": \"Male\", \"Purchase Amount (USD)\": 2551, \"Customer ID\": 46}, {\"Age\": 35, \"Gender\": \"Female\", \"Purchase Amount (USD)\": 1402, \"Customer ID\": 22}, {\"Age\": 35, \"Gender\": \"Male\", \"Purchase Amount (USD)\": 2912, \"Customer ID\": 50}, {\"Age\": 36, \"Gender\": \"Female\", \"Purchase Amount (USD)\": 1403, \"Customer ID\": 24}, {\"Age\": 36, \"Gender\": \"Male\", \"Purchase Amount (USD)\": 3108, \"Customer ID\": 50}, {\"Age\": 37, \"Gender\": \"Female\", \"Purchase Amount (USD)\": 1101, \"Customer ID\": 19}, {\"Age\": 37, \"Gender\": \"Male\", \"Purchase Amount (USD)\": 3636, \"Customer ID\": 58}, {\"Age\": 38, \"Gender\": \"Female\", \"Purchase Amount (USD)\": 1439, \"Customer ID\": 25}, {\"Age\": 38, \"Gender\": \"Male\", \"Purchase Amount (USD)\": 2730, \"Customer ID\": 45}, {\"Age\": 39, \"Gender\": \"Female\", \"Purchase Amount (USD)\": 1499, \"Customer ID\": 26}, {\"Age\": 39, \"Gender\": \"Male\", \"Purchase Amount (USD)\": 2558, \"Customer ID\": 42}, {\"Age\": 40, \"Gender\": \"Female\", \"Purchase Amount (USD)\": 1298, \"Customer ID\": 23}, {\"Age\": 40, \"Gender\": \"Male\", \"Purchase Amount (USD)\": 2728, \"Customer ID\": 49}, {\"Age\": 41, \"Gender\": \"Female\", \"Purchase Amount (USD)\": 1257, \"Customer ID\": 19}, {\"Age\": 41, \"Gender\": \"Male\", \"Purchase Amount (USD)\": 4025, \"Customer ID\": 67}, {\"Age\": 42, \"Gender\": \"Female\", \"Purchase Amount (USD)\": 1300, \"Customer ID\": 25}, {\"Age\": 42, \"Gender\": \"Male\", \"Purchase Amount (USD)\": 3057, \"Customer ID\": 55}, {\"Age\": 43, \"Gender\": \"Female\", \"Purchase Amount (USD)\": 1626, \"Customer ID\": 26}, {\"Age\": 43, \"Gender\": \"Male\", \"Purchase Amount (USD)\": 3072, \"Customer ID\": 53}, {\"Age\": 44, \"Gender\": \"Female\", \"Purchase Amount (USD)\": 1423, \"Customer ID\": 23}, {\"Age\": 44, \"Gender\": \"Male\", \"Purchase Amount (USD)\": 1889, \"Customer ID\": 28}, {\"Age\": 45, \"Gender\": \"Female\", \"Purchase Amount (USD)\": 2048, \"Customer ID\": 33}, {\"Age\": 45, \"Gender\": \"Male\", \"Purchase Amount (USD)\": 2037, \"Customer ID\": 39}, {\"Age\": 46, \"Gender\": \"Female\", \"Purchase Amount (USD)\": 1460, \"Customer ID\": 30}, {\"Age\": 46, \"Gender\": \"Male\", \"Purchase Amount (USD)\": 2858, \"Customer ID\": 46}, {\"Age\": 47, \"Gender\": \"Female\", \"Purchase Amount (USD)\": 1392, \"Customer ID\": 27}, {\"Age\": 47, \"Gender\": \"Male\", \"Purchase Amount (USD)\": 2627, \"Customer ID\": 44}, {\"Age\": 48, \"Gender\": \"Female\", \"Purchase Amount (USD)\": 1312, \"Customer ID\": 25}, {\"Age\": 48, \"Gender\": \"Male\", \"Purchase Amount (USD)\": 2264, \"Customer ID\": 43}, {\"Age\": 49, \"Gender\": \"Female\", \"Purchase Amount (USD)\": 1411, \"Customer ID\": 20}, {\"Age\": 49, \"Gender\": \"Male\", \"Purchase Amount (USD)\": 4141, \"Customer ID\": 64}, {\"Age\": 50, \"Gender\": \"Female\", \"Purchase Amount (USD)\": 1782, \"Customer ID\": 30}, {\"Age\": 50, \"Gender\": \"Male\", \"Purchase Amount (USD)\": 3148, \"Customer ID\": 53}, {\"Age\": 51, \"Gender\": \"Female\", \"Purchase Amount (USD)\": 1300, \"Customer ID\": 21}, {\"Age\": 51, \"Gender\": \"Male\", \"Purchase Amount (USD)\": 3301, \"Customer ID\": 51}, {\"Age\": 52, \"Gender\": \"Female\", \"Purchase Amount (USD)\": 1858, \"Customer ID\": 32}, {\"Age\": 52, \"Gender\": \"Male\", \"Purchase Amount (USD)\": 2397, \"Customer ID\": 41}, {\"Age\": 53, \"Gender\": \"Female\", \"Purchase Amount (USD)\": 1462, \"Customer ID\": 20}, {\"Age\": 53, \"Gender\": \"Male\", \"Purchase Amount (USD)\": 3290, \"Customer ID\": 50}, {\"Age\": 54, \"Gender\": \"Female\", \"Purchase Amount (USD)\": 953, \"Customer ID\": 16}, {\"Age\": 54, \"Gender\": \"Male\", \"Purchase Amount (USD)\": 4329, \"Customer ID\": 67}, {\"Age\": 55, \"Gender\": \"Female\", \"Purchase Amount (USD)\": 1550, \"Customer ID\": 25}, {\"Age\": 55, \"Gender\": \"Male\", \"Purchase Amount (USD)\": 2784, \"Customer ID\": 48}, {\"Age\": 56, \"Gender\": \"Female\", \"Purchase Amount (USD)\": 1257, \"Customer ID\": 22}, {\"Age\": 56, \"Gender\": \"Male\", \"Purchase Amount (USD)\": 3036, \"Customer ID\": 52}, {\"Age\": 57, \"Gender\": \"Female\", \"Purchase Amount (USD)\": 2021, \"Customer ID\": 32}, {\"Age\": 57, \"Gender\": \"Male\", \"Purchase Amount (USD)\": 3179, \"Customer ID\": 55}, {\"Age\": 58, \"Gender\": \"Female\", \"Purchase Amount (USD)\": 1398, \"Customer ID\": 27}, {\"Age\": 58, \"Gender\": \"Male\", \"Purchase Amount (USD)\": 3123, \"Customer ID\": 54}, {\"Age\": 59, \"Gender\": \"Female\", \"Purchase Amount (USD)\": 982, \"Customer ID\": 17}, {\"Age\": 59, \"Gender\": \"Male\", \"Purchase Amount (USD)\": 3366, \"Customer ID\": 58}, {\"Age\": 60, \"Gender\": \"Female\", \"Purchase Amount (USD)\": 981, \"Customer ID\": 18}, {\"Age\": 60, \"Gender\": \"Male\", \"Purchase Amount (USD)\": 2749, \"Customer ID\": 47}, {\"Age\": 61, \"Gender\": \"Female\", \"Purchase Amount (USD)\": 1601, \"Customer ID\": 23}, {\"Age\": 61, \"Gender\": \"Male\", \"Purchase Amount (USD)\": 2571, \"Customer ID\": 42}, {\"Age\": 62, \"Gender\": \"Female\", \"Purchase Amount (USD)\": 2007, \"Customer ID\": 32}, {\"Age\": 62, \"Gender\": \"Male\", \"Purchase Amount (USD)\": 2802, \"Customer ID\": 51}, {\"Age\": 63, \"Gender\": \"Female\", \"Purchase Amount (USD)\": 1641, \"Customer ID\": 28}, {\"Age\": 63, \"Gender\": \"Male\", \"Purchase Amount (USD)\": 2878, \"Customer ID\": 47}, {\"Age\": 64, \"Gender\": \"Female\", \"Purchase Amount (USD)\": 1287, \"Customer ID\": 19}, {\"Age\": 64, \"Gender\": \"Male\", \"Purchase Amount (USD)\": 2883, \"Customer ID\": 54}, {\"Age\": 65, \"Gender\": \"Female\", \"Purchase Amount (USD)\": 1473, \"Customer ID\": 22}, {\"Age\": 65, \"Gender\": \"Male\", \"Purchase Amount (USD)\": 3117, \"Customer ID\": 50}, {\"Age\": 66, \"Gender\": \"Female\", \"Purchase Amount (USD)\": 1257, \"Customer ID\": 21}, {\"Age\": 66, \"Gender\": \"Male\", \"Purchase Amount (USD)\": 2808, \"Customer ID\": 50}, {\"Age\": 67, \"Gender\": \"Female\", \"Purchase Amount (USD)\": 680, \"Customer ID\": 14}, {\"Age\": 67, \"Gender\": \"Male\", \"Purchase Amount (USD)\": 2578, \"Customer ID\": 40}, {\"Age\": 68, \"Gender\": \"Female\", \"Purchase Amount (USD)\": 1272, \"Customer ID\": 22}, {\"Age\": 68, \"Gender\": \"Male\", \"Purchase Amount (USD)\": 3015, \"Customer ID\": 53}, {\"Age\": 69, \"Gender\": \"Female\", \"Purchase Amount (USD)\": 1596, \"Customer ID\": 25}, {\"Age\": 69, \"Gender\": \"Male\", \"Purchase Amount (USD)\": 3888, \"Customer ID\": 63}, {\"Age\": 70, \"Gender\": \"Female\", \"Purchase Amount (USD)\": 1309, \"Customer ID\": 22}, {\"Age\": 70, \"Gender\": \"Male\", \"Purchase Amount (USD)\": 2501, \"Customer ID\": 45}]}}, {\"mode\": \"vega-lite\"});\n",
       "</script>"
      ],
      "text/plain": [
       "alt.VConcatChart(...)"
      ]
     },
     "execution_count": 56,
     "metadata": {},
     "output_type": "execute_result"
    }
   ],
   "source": [
    "dplot4"
   ]
  },
  {
   "cell_type": "code",
   "execution_count": 57,
   "id": "45c1114e",
   "metadata": {
    "scrolled": true
   },
   "outputs": [
    {
     "data": {
      "application/vnd.jupyter.widget-view+json": {
       "model_id": "ba58bf269c854f85b7b067c0fcae114f",
       "version_major": 2,
       "version_minor": 0
      },
      "text/plain": [
       "Box(children=(HTML(value='\\n<div id=\"ifr-pyg-00062808b33db6469Q3fFrLVS2RzyJM4\" style=\"height: auto\">\\n    <hea…"
      ]
     },
     "metadata": {},
     "output_type": "display_data"
    },
    {
     "data": {
      "text/html": [
       "<script>\n",
       "    window.addEventListener(\"message\", function(event) {\n",
       "        const backgroundMap = {\n",
       "            \"dark\": \"hsl(240 10% 3.9%)\",\n",
       "            \"light\": \"hsl(0 0 100%)\",\n",
       "        };\n",
       "        const colorMap = {\n",
       "            \"dark\": \"hsl(0 0% 98%)\",\n",
       "            \"light\": \"hsl(240 10% 3.9%)\",\n",
       "        };\n",
       "        if (event.data.action === \"changeAppearance\" && event.data.gid === \"00062808b33db6469Q3fFrLVS2RzyJM4\") {\n",
       "            var iframe = document.getElementById(\"gwalker-00062808b33db6469Q3fFrLVS2RzyJM4\");\n",
       "            iframe.style.background  = backgroundMap[event.data.appearance];\n",
       "            iframe.style.color = colorMap[event.data.appearance];\n",
       "        }\n",
       "    });\n",
       "</script>"
      ],
      "text/plain": [
       "<IPython.core.display.HTML object>"
      ]
     },
     "metadata": {},
     "output_type": "display_data"
    },
    {
     "data": {
      "text/html": [],
      "text/plain": [
       "<IPython.core.display.HTML object>"
      ]
     },
     "metadata": {},
     "output_type": "display_data"
    }
   ],
   "source": [
    "#pip install pygwalker\n",
    "import pygwalker as pyg\n",
    "df2 = pd.read_csv(\"customer_details.csv\") # customer_details.csv\n",
    "walker = pyg.walk(df2)"
   ]
  },
  {
   "cell_type": "markdown",
   "id": "137a111b",
   "metadata": {},
   "source": [
    "### PYTHON 세션까지 고생 많으셨습니다."
   ]
  },
  {
   "cell_type": "code",
   "execution_count": 58,
   "id": "ef066320",
   "metadata": {},
   "outputs": [
    {
     "ename": "FileNotFoundError",
     "evalue": "[Errno 2] No such file or directory: '/Users/jun/GitStudy/Data_4/Data/eCommerce2/명수아조시.png'",
     "output_type": "error",
     "traceback": [
      "\u001b[0;31m---------------------------------------------------------------------------\u001b[0m",
      "\u001b[0;31mFileNotFoundError\u001b[0m                         Traceback (most recent call last)",
      "Cell \u001b[0;32mIn[58], line 1\u001b[0m\n\u001b[0;32m----> 1\u001b[0m \u001b[43mImage\u001b[49m\u001b[38;5;241;43m.\u001b[39;49m\u001b[43mopen\u001b[49m\u001b[43m(\u001b[49m\u001b[38;5;124;43m'\u001b[39;49m\u001b[38;5;124;43m명수아조시.png\u001b[39;49m\u001b[38;5;124;43m'\u001b[39;49m\u001b[43m)\u001b[49m\n",
      "File \u001b[0;32m/opt/homebrew/Caskroom/miniconda/base/envs/leo4study/lib/python3.11/site-packages/PIL/Image.py:3431\u001b[0m, in \u001b[0;36mopen\u001b[0;34m(fp, mode, formats)\u001b[0m\n\u001b[1;32m   3428\u001b[0m     filename \u001b[38;5;241m=\u001b[39m os\u001b[38;5;241m.\u001b[39mpath\u001b[38;5;241m.\u001b[39mrealpath(os\u001b[38;5;241m.\u001b[39mfspath(fp))\n\u001b[1;32m   3430\u001b[0m \u001b[38;5;28;01mif\u001b[39;00m filename:\n\u001b[0;32m-> 3431\u001b[0m     fp \u001b[38;5;241m=\u001b[39m \u001b[43mbuiltins\u001b[49m\u001b[38;5;241;43m.\u001b[39;49m\u001b[43mopen\u001b[49m\u001b[43m(\u001b[49m\u001b[43mfilename\u001b[49m\u001b[43m,\u001b[49m\u001b[43m \u001b[49m\u001b[38;5;124;43m\"\u001b[39;49m\u001b[38;5;124;43mrb\u001b[39;49m\u001b[38;5;124;43m\"\u001b[39;49m\u001b[43m)\u001b[49m\n\u001b[1;32m   3432\u001b[0m     exclusive_fp \u001b[38;5;241m=\u001b[39m \u001b[38;5;28;01mTrue\u001b[39;00m\n\u001b[1;32m   3433\u001b[0m \u001b[38;5;28;01melse\u001b[39;00m:\n",
      "\u001b[0;31mFileNotFoundError\u001b[0m: [Errno 2] No such file or directory: '/Users/jun/GitStudy/Data_4/Data/eCommerce2/명수아조시.png'"
     ]
    }
   ],
   "source": [
    "Image.open('명수아조시.png')"
   ]
  }
 ],
 "metadata": {
  "kernelspec": {
   "display_name": "leo4study",
   "language": "python",
   "name": "python3"
  },
  "language_info": {
   "codemirror_mode": {
    "name": "ipython",
    "version": 3
   },
   "file_extension": ".py",
   "mimetype": "text/x-python",
   "name": "python",
   "nbconvert_exporter": "python",
   "pygments_lexer": "ipython3",
   "version": "3.11.9"
  }
 },
 "nbformat": 4,
 "nbformat_minor": 5
}
