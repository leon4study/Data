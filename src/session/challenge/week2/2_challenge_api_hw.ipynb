{
 "cells": [
  {
   "cell_type": "markdown",
   "metadata": {},
   "source": [
    "API 통해서 가져오면 쉽게 가져올 수 있다.\n",
    "일반적으로 데이터 요청하면 응답값이 json으로 온다.\n",
    "왜 배워야되냐?\n",
    "외부데이터를 시스템화 해서 데이터베이스에 넣고 싶을 때.\n",
    "실시간, 공공, social media 가져올 때 신속하게 가져올 때 많이 씀."
   ]
  },
  {
   "cell_type": "markdown",
   "metadata": {},
   "source": [
    "준수 튜터님이 쓰시는 https://taengsweb.tistory.com/56"
   ]
  },
  {
   "cell_type": "markdown",
   "metadata": {},
   "source": [
    "### 숙제\n",
    "\n",
    "- template.env 를 .env로 변환하고 API_KEY 값을 채워주세요\n",
    "- OpenWeather API 회원가입 후 받은 API_KEY로 sydney에 대한 다른 정보도 출력하기 \n",
    "(https://openweathermap.org/api) "
   ]
  },
  {
   "cell_type": "markdown",
   "metadata": {},
   "source": [
    "https://openweathermap.org/current\n",
    "\n",
    "api 설명 - Built-in API request by city name"
   ]
  },
  {
   "cell_type": "markdown",
   "metadata": {},
   "source": [
    "### 01. 패키지 불러오기"
   ]
  },
  {
   "cell_type": "code",
   "execution_count": 2,
   "metadata": {},
   "outputs": [
    {
     "data": {
      "text/plain": [
       "True"
      ]
     },
     "execution_count": 2,
     "metadata": {},
     "output_type": "execute_result"
    }
   ],
   "source": [
    "import requests\n",
    "import pandas as pd\n",
    "from dotenv import load_dotenv\n",
    "import os\n",
    "import json\n",
    "load_dotenv()\n",
    "\n",
    "# code here "
   ]
  },
  {
   "cell_type": "markdown",
   "metadata": {},
   "source": [
    "### 02. Requests 를 통해 웹사이트 HTML 가져오기"
   ]
  },
  {
   "cell_type": "code",
   "execution_count": 3,
   "metadata": {},
   "outputs": [
    {
     "name": "stdout",
     "output_type": "stream",
     "text": [
      "200\n"
     ]
    }
   ],
   "source": [
    "# OpenWeather API 요청을 위한 기본 설정\n",
    "api_key = os.environ.get('API_KEY')\n",
    "city_name = \"Sydney\"\n",
    "url = f'https://api.openweathermap.org/data/2.5/weather?q={city_name}&units=metric&appid={api_key}'\n",
    "response = requests.get(url)\n",
    "print(response.status_code)"
   ]
  },
  {
   "cell_type": "markdown",
   "metadata": {},
   "source": [
    "### 03. Python 딕셔너리를 통해 HTML 파싱 후 출력"
   ]
  },
  {
   "cell_type": "code",
   "execution_count": 4,
   "metadata": {},
   "outputs": [
    {
     "name": "stdout",
     "output_type": "stream",
     "text": [
      "{\n",
      "    \"coord\": {\n",
      "        \"lon\": 151.2073,\n",
      "        \"lat\": -33.8679\n",
      "    },\n",
      "    \"weather\": [\n",
      "        {\n",
      "            \"id\": 803,\n",
      "            \"main\": \"Clouds\",\n",
      "            \"description\": \"broken clouds\",\n",
      "            \"icon\": \"04d\"\n",
      "        }\n",
      "    ],\n",
      "    \"base\": \"stations\",\n",
      "    \"main\": {\n",
      "        \"temp\": 20.52,\n",
      "        \"feels_like\": 20.4,\n",
      "        \"temp_min\": 19.61,\n",
      "        \"temp_max\": 22.08,\n",
      "        \"pressure\": 1021,\n",
      "        \"humidity\": 68,\n",
      "        \"sea_level\": 1021,\n",
      "        \"grnd_level\": 1013\n",
      "    },\n",
      "    \"visibility\": 10000,\n",
      "    \"wind\": {\n",
      "        \"speed\": 5.66,\n",
      "        \"deg\": 130\n",
      "    },\n",
      "    \"clouds\": {\n",
      "        \"all\": 75\n",
      "    },\n",
      "    \"dt\": 1731991933,\n",
      "    \"sys\": {\n",
      "        \"type\": 2,\n",
      "        \"id\": 2046014,\n",
      "        \"country\": \"AU\",\n",
      "        \"sunrise\": 1731955287,\n",
      "        \"sunset\": 1732005597\n",
      "    },\n",
      "    \"timezone\": 39600,\n",
      "    \"id\": 2147714,\n",
      "    \"name\": \"Sydney\",\n",
      "    \"cod\": 200\n",
      "}\n"
     ]
    }
   ],
   "source": [
    "data = response.json()\n",
    "print(json.dumps(data, indent=4)) #indentation = 들여쓰기"
   ]
  },
  {
   "cell_type": "code",
   "execution_count": 5,
   "metadata": {},
   "outputs": [
    {
     "data": {
      "text/html": [
       "<div>\n",
       "<style scoped>\n",
       "    .dataframe tbody tr th:only-of-type {\n",
       "        vertical-align: middle;\n",
       "    }\n",
       "\n",
       "    .dataframe tbody tr th {\n",
       "        vertical-align: top;\n",
       "    }\n",
       "\n",
       "    .dataframe thead th {\n",
       "        text-align: right;\n",
       "    }\n",
       "</style>\n",
       "<table border=\"1\" class=\"dataframe\">\n",
       "  <thead>\n",
       "    <tr style=\"text-align: right;\">\n",
       "      <th></th>\n",
       "      <th>weather</th>\n",
       "      <th>base</th>\n",
       "      <th>visibility</th>\n",
       "      <th>dt</th>\n",
       "      <th>timezone</th>\n",
       "      <th>id</th>\n",
       "      <th>name</th>\n",
       "      <th>cod</th>\n",
       "      <th>coord.lon</th>\n",
       "      <th>coord.lat</th>\n",
       "      <th>...</th>\n",
       "      <th>main.sea_level</th>\n",
       "      <th>main.grnd_level</th>\n",
       "      <th>wind.speed</th>\n",
       "      <th>wind.deg</th>\n",
       "      <th>clouds.all</th>\n",
       "      <th>sys.type</th>\n",
       "      <th>sys.id</th>\n",
       "      <th>sys.country</th>\n",
       "      <th>sys.sunrise</th>\n",
       "      <th>sys.sunset</th>\n",
       "    </tr>\n",
       "  </thead>\n",
       "  <tbody>\n",
       "    <tr>\n",
       "      <th>0</th>\n",
       "      <td>[{'id': 803, 'main': 'Clouds', 'description': ...</td>\n",
       "      <td>stations</td>\n",
       "      <td>10000</td>\n",
       "      <td>1731991933</td>\n",
       "      <td>39600</td>\n",
       "      <td>2147714</td>\n",
       "      <td>Sydney</td>\n",
       "      <td>200</td>\n",
       "      <td>151.2073</td>\n",
       "      <td>-33.8679</td>\n",
       "      <td>...</td>\n",
       "      <td>1021</td>\n",
       "      <td>1013</td>\n",
       "      <td>5.66</td>\n",
       "      <td>130</td>\n",
       "      <td>75</td>\n",
       "      <td>2</td>\n",
       "      <td>2046014</td>\n",
       "      <td>AU</td>\n",
       "      <td>1731955287</td>\n",
       "      <td>1732005597</td>\n",
       "    </tr>\n",
       "  </tbody>\n",
       "</table>\n",
       "<p>1 rows × 26 columns</p>\n",
       "</div>"
      ],
      "text/plain": [
       "                                             weather      base  visibility  \\\n",
       "0  [{'id': 803, 'main': 'Clouds', 'description': ...  stations       10000   \n",
       "\n",
       "           dt  timezone       id    name  cod  coord.lon  coord.lat  ...  \\\n",
       "0  1731991933     39600  2147714  Sydney  200   151.2073   -33.8679  ...   \n",
       "\n",
       "   main.sea_level  main.grnd_level  wind.speed  wind.deg  clouds.all  \\\n",
       "0            1021             1013        5.66       130          75   \n",
       "\n",
       "   sys.type   sys.id  sys.country  sys.sunrise  sys.sunset  \n",
       "0         2  2046014           AU   1731955287  1732005597  \n",
       "\n",
       "[1 rows x 26 columns]"
      ]
     },
     "execution_count": 5,
     "metadata": {},
     "output_type": "execute_result"
    }
   ],
   "source": [
    "# 테이블화\n",
    "pd.json_normalize(data)"
   ]
  },
  {
   "cell_type": "code",
   "execution_count": 6,
   "metadata": {},
   "outputs": [
    {
     "data": {
      "text/plain": [
       "Index(['weather', 'base', 'visibility', 'dt', 'timezone', 'id', 'name', 'cod',\n",
       "       'coord.lon', 'coord.lat', 'main.temp', 'main.feels_like',\n",
       "       'main.temp_min', 'main.temp_max', 'main.pressure', 'main.humidity',\n",
       "       'main.sea_level', 'main.grnd_level', 'wind.speed', 'wind.deg',\n",
       "       'clouds.all', 'sys.type', 'sys.id', 'sys.country', 'sys.sunrise',\n",
       "       'sys.sunset'],\n",
       "      dtype='object')"
      ]
     },
     "execution_count": 6,
     "metadata": {},
     "output_type": "execute_result"
    }
   ],
   "source": [
    "df_weather = pd.json_normalize(data)\n",
    "df_weather.columns"
   ]
  },
  {
   "cell_type": "code",
   "execution_count": 7,
   "metadata": {},
   "outputs": [
    {
     "data": {
      "text/plain": [
       "0    1731991933\n",
       "Name: dt, dtype: int64"
      ]
     },
     "execution_count": 7,
     "metadata": {},
     "output_type": "execute_result"
    }
   ],
   "source": [
    "# Time of data calculation, unix, UTC\n",
    "df_weather['dt']"
   ]
  },
  {
   "cell_type": "markdown",
   "metadata": {},
   "source": [
    "pd.to_datetime(df, unit) 에서</br>\n",
    "unit 매개변수는 입력된 값(df_weather[\"dt\"])이 어떤 단위인지 Pandas에게 알려줍니다.\n",
    "\n",
    "- unit=\"s\": 입력값을 초 단위로 처리합니다.\n",
    "- unit=\"ms\": 입력값을 밀리초 단위로 처리합니다.\n",
    "- unit=\"us\" 또는 unit=\"μs\": 입력값을 마이크로초 단위로 처리합니다.\n",
    "- unit=\"ns\": 입력값을 나노초 단위로 처리합니다."
   ]
  },
  {
   "cell_type": "code",
   "execution_count": 8,
   "metadata": {},
   "outputs": [
    {
     "data": {
      "text/plain": [
       "0   2024-11-19 04:52:13\n",
       "Name: dt, dtype: datetime64[ns]"
      ]
     },
     "execution_count": 8,
     "metadata": {},
     "output_type": "execute_result"
    }
   ],
   "source": [
    "pd.to_datetime(df_weather['dt'], unit=\"s\")"
   ]
  },
  {
   "cell_type": "code",
   "execution_count": 9,
   "metadata": {},
   "outputs": [
    {
     "data": {
      "text/html": [
       "<div>\n",
       "<style scoped>\n",
       "    .dataframe tbody tr th:only-of-type {\n",
       "        vertical-align: middle;\n",
       "    }\n",
       "\n",
       "    .dataframe tbody tr th {\n",
       "        vertical-align: top;\n",
       "    }\n",
       "\n",
       "    .dataframe thead th {\n",
       "        text-align: right;\n",
       "    }\n",
       "</style>\n",
       "<table border=\"1\" class=\"dataframe\">\n",
       "  <thead>\n",
       "    <tr style=\"text-align: right;\">\n",
       "      <th></th>\n",
       "      <th>0</th>\n",
       "    </tr>\n",
       "  </thead>\n",
       "  <tbody>\n",
       "    <tr>\n",
       "      <th>weather</th>\n",
       "      <td>[{'id': 803, 'main': 'Clouds', 'description': ...</td>\n",
       "    </tr>\n",
       "    <tr>\n",
       "      <th>base</th>\n",
       "      <td>stations</td>\n",
       "    </tr>\n",
       "    <tr>\n",
       "      <th>visibility</th>\n",
       "      <td>10000</td>\n",
       "    </tr>\n",
       "    <tr>\n",
       "      <th>dt</th>\n",
       "      <td>1731991933</td>\n",
       "    </tr>\n",
       "    <tr>\n",
       "      <th>timezone</th>\n",
       "      <td>39600</td>\n",
       "    </tr>\n",
       "    <tr>\n",
       "      <th>id</th>\n",
       "      <td>2147714</td>\n",
       "    </tr>\n",
       "    <tr>\n",
       "      <th>name</th>\n",
       "      <td>Sydney</td>\n",
       "    </tr>\n",
       "    <tr>\n",
       "      <th>cod</th>\n",
       "      <td>200</td>\n",
       "    </tr>\n",
       "    <tr>\n",
       "      <th>coord.lon</th>\n",
       "      <td>151.2073</td>\n",
       "    </tr>\n",
       "    <tr>\n",
       "      <th>coord.lat</th>\n",
       "      <td>-33.8679</td>\n",
       "    </tr>\n",
       "    <tr>\n",
       "      <th>main.temp</th>\n",
       "      <td>20.52</td>\n",
       "    </tr>\n",
       "    <tr>\n",
       "      <th>main.feels_like</th>\n",
       "      <td>20.4</td>\n",
       "    </tr>\n",
       "    <tr>\n",
       "      <th>main.temp_min</th>\n",
       "      <td>19.61</td>\n",
       "    </tr>\n",
       "    <tr>\n",
       "      <th>main.temp_max</th>\n",
       "      <td>22.08</td>\n",
       "    </tr>\n",
       "    <tr>\n",
       "      <th>main.pressure</th>\n",
       "      <td>1021</td>\n",
       "    </tr>\n",
       "    <tr>\n",
       "      <th>main.humidity</th>\n",
       "      <td>68</td>\n",
       "    </tr>\n",
       "    <tr>\n",
       "      <th>main.sea_level</th>\n",
       "      <td>1021</td>\n",
       "    </tr>\n",
       "    <tr>\n",
       "      <th>main.grnd_level</th>\n",
       "      <td>1013</td>\n",
       "    </tr>\n",
       "    <tr>\n",
       "      <th>wind.speed</th>\n",
       "      <td>5.66</td>\n",
       "    </tr>\n",
       "    <tr>\n",
       "      <th>wind.deg</th>\n",
       "      <td>130</td>\n",
       "    </tr>\n",
       "    <tr>\n",
       "      <th>clouds.all</th>\n",
       "      <td>75</td>\n",
       "    </tr>\n",
       "    <tr>\n",
       "      <th>sys.type</th>\n",
       "      <td>2</td>\n",
       "    </tr>\n",
       "    <tr>\n",
       "      <th>sys.id</th>\n",
       "      <td>2046014</td>\n",
       "    </tr>\n",
       "    <tr>\n",
       "      <th>sys.country</th>\n",
       "      <td>AU</td>\n",
       "    </tr>\n",
       "    <tr>\n",
       "      <th>sys.sunrise</th>\n",
       "      <td>1731955287</td>\n",
       "    </tr>\n",
       "    <tr>\n",
       "      <th>sys.sunset</th>\n",
       "      <td>1732005597</td>\n",
       "    </tr>\n",
       "  </tbody>\n",
       "</table>\n",
       "</div>"
      ],
      "text/plain": [
       "                                                                 0\n",
       "weather          [{'id': 803, 'main': 'Clouds', 'description': ...\n",
       "base                                                      stations\n",
       "visibility                                                   10000\n",
       "dt                                                      1731991933\n",
       "timezone                                                     39600\n",
       "id                                                         2147714\n",
       "name                                                        Sydney\n",
       "cod                                                            200\n",
       "coord.lon                                                 151.2073\n",
       "coord.lat                                                 -33.8679\n",
       "main.temp                                                    20.52\n",
       "main.feels_like                                               20.4\n",
       "main.temp_min                                                19.61\n",
       "main.temp_max                                                22.08\n",
       "main.pressure                                                 1021\n",
       "main.humidity                                                   68\n",
       "main.sea_level                                                1021\n",
       "main.grnd_level                                               1013\n",
       "wind.speed                                                    5.66\n",
       "wind.deg                                                       130\n",
       "clouds.all                                                      75\n",
       "sys.type                                                         2\n",
       "sys.id                                                     2046014\n",
       "sys.country                                                     AU\n",
       "sys.sunrise                                             1731955287\n",
       "sys.sunset                                              1732005597"
      ]
     },
     "execution_count": 9,
     "metadata": {},
     "output_type": "execute_result"
    }
   ],
   "source": [
    "df_weather.T"
   ]
  },
  {
   "cell_type": "code",
   "execution_count": 10,
   "metadata": {},
   "outputs": [
    {
     "data": {
      "text/html": [
       "<div>\n",
       "<style scoped>\n",
       "    .dataframe tbody tr th:only-of-type {\n",
       "        vertical-align: middle;\n",
       "    }\n",
       "\n",
       "    .dataframe tbody tr th {\n",
       "        vertical-align: top;\n",
       "    }\n",
       "\n",
       "    .dataframe thead th {\n",
       "        text-align: right;\n",
       "    }\n",
       "</style>\n",
       "<table border=\"1\" class=\"dataframe\">\n",
       "  <thead>\n",
       "    <tr style=\"text-align: right;\">\n",
       "      <th></th>\n",
       "      <th>0</th>\n",
       "    </tr>\n",
       "  </thead>\n",
       "  <tbody>\n",
       "    <tr>\n",
       "      <th>weather</th>\n",
       "      <td>[{'id': 803, 'main': 'Clouds', 'description': ...</td>\n",
       "    </tr>\n",
       "    <tr>\n",
       "      <th>base</th>\n",
       "      <td>stations</td>\n",
       "    </tr>\n",
       "    <tr>\n",
       "      <th>visibility</th>\n",
       "      <td>10000</td>\n",
       "    </tr>\n",
       "    <tr>\n",
       "      <th>dt</th>\n",
       "      <td>20241119</td>\n",
       "    </tr>\n",
       "    <tr>\n",
       "      <th>timezone</th>\n",
       "      <td>39600</td>\n",
       "    </tr>\n",
       "    <tr>\n",
       "      <th>id</th>\n",
       "      <td>2147714</td>\n",
       "    </tr>\n",
       "    <tr>\n",
       "      <th>name</th>\n",
       "      <td>Sydney</td>\n",
       "    </tr>\n",
       "    <tr>\n",
       "      <th>cod</th>\n",
       "      <td>200</td>\n",
       "    </tr>\n",
       "    <tr>\n",
       "      <th>coord.lon</th>\n",
       "      <td>151.2073</td>\n",
       "    </tr>\n",
       "    <tr>\n",
       "      <th>coord.lat</th>\n",
       "      <td>-33.8679</td>\n",
       "    </tr>\n",
       "    <tr>\n",
       "      <th>main.temp</th>\n",
       "      <td>20.52</td>\n",
       "    </tr>\n",
       "    <tr>\n",
       "      <th>main.feels_like</th>\n",
       "      <td>20.4</td>\n",
       "    </tr>\n",
       "    <tr>\n",
       "      <th>main.temp_min</th>\n",
       "      <td>19.61</td>\n",
       "    </tr>\n",
       "    <tr>\n",
       "      <th>main.temp_max</th>\n",
       "      <td>22.08</td>\n",
       "    </tr>\n",
       "    <tr>\n",
       "      <th>main.pressure</th>\n",
       "      <td>1021</td>\n",
       "    </tr>\n",
       "    <tr>\n",
       "      <th>main.humidity</th>\n",
       "      <td>68</td>\n",
       "    </tr>\n",
       "    <tr>\n",
       "      <th>main.sea_level</th>\n",
       "      <td>1021</td>\n",
       "    </tr>\n",
       "    <tr>\n",
       "      <th>main.grnd_level</th>\n",
       "      <td>1013</td>\n",
       "    </tr>\n",
       "    <tr>\n",
       "      <th>wind.speed</th>\n",
       "      <td>5.66</td>\n",
       "    </tr>\n",
       "    <tr>\n",
       "      <th>wind.deg</th>\n",
       "      <td>130</td>\n",
       "    </tr>\n",
       "    <tr>\n",
       "      <th>clouds.all</th>\n",
       "      <td>75</td>\n",
       "    </tr>\n",
       "    <tr>\n",
       "      <th>sys.type</th>\n",
       "      <td>2</td>\n",
       "    </tr>\n",
       "    <tr>\n",
       "      <th>sys.id</th>\n",
       "      <td>2046014</td>\n",
       "    </tr>\n",
       "    <tr>\n",
       "      <th>sys.country</th>\n",
       "      <td>AU</td>\n",
       "    </tr>\n",
       "    <tr>\n",
       "      <th>sys.sunrise</th>\n",
       "      <td>1731955287</td>\n",
       "    </tr>\n",
       "    <tr>\n",
       "      <th>sys.sunset</th>\n",
       "      <td>1732005597</td>\n",
       "    </tr>\n",
       "    <tr>\n",
       "      <th>measured_at</th>\n",
       "      <td>2024-11-19 04:52:13</td>\n",
       "    </tr>\n",
       "    <tr>\n",
       "      <th>time</th>\n",
       "      <td>045213</td>\n",
       "    </tr>\n",
       "  </tbody>\n",
       "</table>\n",
       "</div>"
      ],
      "text/plain": [
       "                                                                 0\n",
       "weather          [{'id': 803, 'main': 'Clouds', 'description': ...\n",
       "base                                                      stations\n",
       "visibility                                                   10000\n",
       "dt                                                        20241119\n",
       "timezone                                                     39600\n",
       "id                                                         2147714\n",
       "name                                                        Sydney\n",
       "cod                                                            200\n",
       "coord.lon                                                 151.2073\n",
       "coord.lat                                                 -33.8679\n",
       "main.temp                                                    20.52\n",
       "main.feels_like                                               20.4\n",
       "main.temp_min                                                19.61\n",
       "main.temp_max                                                22.08\n",
       "main.pressure                                                 1021\n",
       "main.humidity                                                   68\n",
       "main.sea_level                                                1021\n",
       "main.grnd_level                                               1013\n",
       "wind.speed                                                    5.66\n",
       "wind.deg                                                       130\n",
       "clouds.all                                                      75\n",
       "sys.type                                                         2\n",
       "sys.id                                                     2046014\n",
       "sys.country                                                     AU\n",
       "sys.sunrise                                             1731955287\n",
       "sys.sunset                                              1732005597\n",
       "measured_at                                    2024-11-19 04:52:13\n",
       "time                                                        045213"
      ]
     },
     "execution_count": 10,
     "metadata": {},
     "output_type": "execute_result"
    }
   ],
   "source": [
    "df_weather['measured_at'] = pd.to_datetime(df_weather[\"dt\"], unit='s')\n",
    "df_weather['dt'] = df_weather['measured_at'].dt.strftime('%Y%m%d') #기준년월일 (YYYYMMDD)\n",
    "df_weather['time'] = df_weather['measured_at'].dt.strftime('%H%M%S') #기준년월일 (HHHHMMSS) \n",
    "df_weather.T"
   ]
  },
  {
   "cell_type": "markdown",
   "metadata": {},
   "source": [
    "unit=\"s\"는 Pandas의 pd.to_datetime() 함수에서 사용되는 옵션으로, 시간 데이터를 초(second) 단위의 유닉스 타임스탬프로 해석하도록 지정합니다."
   ]
  },
  {
   "cell_type": "code",
   "execution_count": 11,
   "metadata": {},
   "outputs": [
    {
     "data": {
      "text/html": [
       "<div>\n",
       "<style scoped>\n",
       "    .dataframe tbody tr th:only-of-type {\n",
       "        vertical-align: middle;\n",
       "    }\n",
       "\n",
       "    .dataframe tbody tr th {\n",
       "        vertical-align: top;\n",
       "    }\n",
       "\n",
       "    .dataframe thead th {\n",
       "        text-align: right;\n",
       "    }\n",
       "</style>\n",
       "<table border=\"1\" class=\"dataframe\">\n",
       "  <thead>\n",
       "    <tr style=\"text-align: right;\">\n",
       "      <th></th>\n",
       "      <th>dt</th>\n",
       "      <th>time</th>\n",
       "      <th>measured_at</th>\n",
       "      <th>id</th>\n",
       "      <th>name</th>\n",
       "      <th>main.temp</th>\n",
       "      <th>main.humidity</th>\n",
       "      <th>wind.speed</th>\n",
       "    </tr>\n",
       "  </thead>\n",
       "  <tbody>\n",
       "    <tr>\n",
       "      <th>0</th>\n",
       "      <td>20241119</td>\n",
       "      <td>045213</td>\n",
       "      <td>2024-11-19 04:52:13</td>\n",
       "      <td>2147714</td>\n",
       "      <td>Sydney</td>\n",
       "      <td>20.52</td>\n",
       "      <td>68</td>\n",
       "      <td>5.66</td>\n",
       "    </tr>\n",
       "  </tbody>\n",
       "</table>\n",
       "</div>"
      ],
      "text/plain": [
       "         dt    time         measured_at       id    name  main.temp  \\\n",
       "0  20241119  045213 2024-11-19 04:52:13  2147714  Sydney      20.52   \n",
       "\n",
       "   main.humidity  wind.speed  \n",
       "0             68        5.66  "
      ]
     },
     "execution_count": 11,
     "metadata": {},
     "output_type": "execute_result"
    }
   ],
   "source": [
    "df_selected = df_weather[[\"dt\", \"time\", \"measured_at\", \"id\", \"name\", \"main.temp\", \"main.humidity\", \"wind.speed\"]]\n",
    "df_selected"
   ]
  },
  {
   "cell_type": "code",
   "execution_count": 12,
   "metadata": {},
   "outputs": [],
   "source": [
    "df_selected = df_selected.rename(#컬럼명 수정\n",
    "    columns={\"name\": \"city\", \"main.temp\": \"temp\", \"main.humidity\": \"humid\", \"wind.speed\": \"wind_speed\"}\n",
    "    )"
   ]
  },
  {
   "cell_type": "markdown",
   "metadata": {},
   "source": [
    "### 04. Pandas 로 CSV 파일 저장"
   ]
  },
  {
   "cell_type": "code",
   "execution_count": 13,
   "metadata": {},
   "outputs": [
    {
     "data": {
      "text/plain": [
       "'/Users/jun/GitStudy/Data_4/src/challenge/week2'"
      ]
     },
     "execution_count": 13,
     "metadata": {},
     "output_type": "execute_result"
    }
   ],
   "source": [
    "os.getcwd()"
   ]
  },
  {
   "cell_type": "code",
   "execution_count": 14,
   "metadata": {},
   "outputs": [
    {
     "name": "stdout",
     "output_type": "stream",
     "text": [
      "날씨 정보가 CSV 파일로 저장되었습니다.\n"
     ]
    }
   ],
   "source": [
    "# DataFrame 생성 및 CSV 파일로 저장\n",
    "df = pd.DataFrame(df_selected)\n",
    "df.to_csv('weather_api.csv', index=False)\n",
    "print(\"날씨 정보가 CSV 파일로 저장되었습니다.\")"
   ]
  },
  {
   "cell_type": "markdown",
   "metadata": {},
   "source": [
    "### 05. Class로 만들어보자 "
   ]
  },
  {
   "cell_type": "code",
   "execution_count": 15,
   "metadata": {},
   "outputs": [],
   "source": [
    "import requests\n",
    "\n",
    "class WeatherApiClient:\n",
    "    \"\"\"\n",
    "    OpenWeatherMap API 클라이언트를 사용하여 날씨 데이터를 가져오는 클래스입니다.\n",
    "    \"\"\"\n",
    "\n",
    "    def __init__(self, api_key) -> None:\n",
    "        self.base_url = 'https://api.openweathermap.org/data/2.5'\n",
    "        if api_key is None:\n",
    "            # Python의 raise 키워드는 예외(Exception)를 명시적으로 발생시킬 때 사용됩니다. \n",
    "            # 프로그램 실행 중 특정 조건에서 오류를 발생시키고, 예외 처리 로직으로 제어를 넘길 때 사용\n",
    "            raise Exception(\"None API key\")\n",
    "        self.api_key = api_key\n",
    "    \n",
    "    # -> dict : Return Type Hint\n",
    "    def get_city(self, city_name: str, temperature_units: str = 'metric') -> dict:\n",
    "        \"\"\"\n",
    "        지정 도시의 최신 날씨 데이터 가져옵니다.\n",
    "\n",
    "        parameters:\n",
    "        - city_name (str) : 날씨 정보르 조회할 도시 이름\n",
    "        - temperature_units (str) : 온도 단위 (기본값은 'metric'으로 섭씨)\n",
    "                    Unit Default: Kelvin, Metric: Celsius, Imperial: Fahrenheit\n",
    "\n",
    "        Returns:\n",
    "        - dict : 요청 날씨 데이터 포함된 JSON 응답을 반환\n",
    "\n",
    "        Raises:\n",
    "        - Exception: API 요청이 실패한 경우 상태 코드와 응답 메세지와 함께 예외가 발생합니다.\n",
    "        \"\"\"\n",
    "\n",
    "        params = {\"q\":city_name, \"units\":temperature_units, \"appid\":self.api_key}\n",
    "        response = requests.get(f\"{self.base_url}/weather\",params=params)\n",
    "        if response.status_code == 200:\n",
    "            return response.json()\n",
    "        else :\n",
    "            raise Exception(\n",
    "                f\"Open Weather API에서 데이터를 추출하지 못했습니다. 상태 코드: {response.status_code}. 응답: {response.text}\"\n",
    "            )"
   ]
  },
  {
   "cell_type": "code",
   "execution_count": 17,
   "metadata": {},
   "outputs": [],
   "source": [
    "import pandas as pd\n",
    "from dotenv import load_dotenv\n",
    "import os\n",
    "load_dotenv()\n",
    "\n",
    "#load_dotenv(): python-dotenv 라이브러리를 사용해 \n",
    "#.env 파일에 정의된 환경 변수를 os.environ에 로드합니다.\n",
    "weather_api_client = WeatherApiClient(api_key= os.environ.get(\"API_KEY\"))\n",
    "cities = ['Tokyo','Osaka','Sydney','Seoul','Busan','Singapore']\n",
    "\n",
    "data = list()\n",
    "for c in cities:\n",
    "    data.append(weather_api_client.get_city(c))\n",
    "\n",
    "# 간단한 전처리\n",
    "df_weather = pd.json_normalize(data) # JSON 데이터를 Pandas 형태로 변환 \n",
    "df_weather['measured_at'] = pd.to_datetime(df_weather['dt'], unit='s') # 기준시간 \n",
    "df_weather['dt'] = df_weather['measured_at'].dt.strftime('%Y%m%d') # 기준년월일 (YYYYMMDD) \n",
    "df_weather['time'] = df_weather['measured_at'].dt.strftime('%H%M%S') # 기준년월일 (HHHHMMSS) \n",
    "df_selected = df_weather[[\"dt\",\"time\",\"measured_at\",\"id\",\"name\", \"main.temp\", \"main.humidity\", \"wind.speed\"]]\n",
    "df_selected = df_selected.rename( # 컬럼명 수정 \n",
    "    columns={\"name\": \"city\", \"main.temp\": \"temperature\", \"main.humidity\": \"humidity\", \"wind.speed\": \"wind_speed\"}\n",
    ")\n",
    "\n",
    "# DataFrame 생성 및 CSV 파일로 저장\n",
    "df = pd.DataFrame(df_selected)\n",
    "df.to_csv('weather_api.csv', index=False)"
   ]
  },
  {
   "cell_type": "code",
   "execution_count": 18,
   "metadata": {},
   "outputs": [
    {
     "data": {
      "text/html": [
       "<div>\n",
       "<style scoped>\n",
       "    .dataframe tbody tr th:only-of-type {\n",
       "        vertical-align: middle;\n",
       "    }\n",
       "\n",
       "    .dataframe tbody tr th {\n",
       "        vertical-align: top;\n",
       "    }\n",
       "\n",
       "    .dataframe thead th {\n",
       "        text-align: right;\n",
       "    }\n",
       "</style>\n",
       "<table border=\"1\" class=\"dataframe\">\n",
       "  <thead>\n",
       "    <tr style=\"text-align: right;\">\n",
       "      <th></th>\n",
       "      <th>dt</th>\n",
       "      <th>time</th>\n",
       "      <th>measured_at</th>\n",
       "      <th>id</th>\n",
       "      <th>city</th>\n",
       "      <th>temperature</th>\n",
       "      <th>humidity</th>\n",
       "      <th>wind_speed</th>\n",
       "    </tr>\n",
       "  </thead>\n",
       "  <tbody>\n",
       "    <tr>\n",
       "      <th>0</th>\n",
       "      <td>20241119</td>\n",
       "      <td>044823</td>\n",
       "      <td>2024-11-19 04:48:23</td>\n",
       "      <td>1850144</td>\n",
       "      <td>Tokyo</td>\n",
       "      <td>12.50</td>\n",
       "      <td>37</td>\n",
       "      <td>5.66</td>\n",
       "    </tr>\n",
       "    <tr>\n",
       "      <th>1</th>\n",
       "      <td>20241119</td>\n",
       "      <td>045726</td>\n",
       "      <td>2024-11-19 04:57:26</td>\n",
       "      <td>1853909</td>\n",
       "      <td>Osaka</td>\n",
       "      <td>11.51</td>\n",
       "      <td>54</td>\n",
       "      <td>5.66</td>\n",
       "    </tr>\n",
       "    <tr>\n",
       "      <th>2</th>\n",
       "      <td>20241119</td>\n",
       "      <td>045213</td>\n",
       "      <td>2024-11-19 04:52:13</td>\n",
       "      <td>2147714</td>\n",
       "      <td>Sydney</td>\n",
       "      <td>20.52</td>\n",
       "      <td>68</td>\n",
       "      <td>5.66</td>\n",
       "    </tr>\n",
       "    <tr>\n",
       "      <th>3</th>\n",
       "      <td>20241119</td>\n",
       "      <td>045236</td>\n",
       "      <td>2024-11-19 04:52:36</td>\n",
       "      <td>1835848</td>\n",
       "      <td>Seoul</td>\n",
       "      <td>7.19</td>\n",
       "      <td>53</td>\n",
       "      <td>2.57</td>\n",
       "    </tr>\n",
       "    <tr>\n",
       "      <th>4</th>\n",
       "      <td>20241119</td>\n",
       "      <td>045414</td>\n",
       "      <td>2024-11-19 04:54:14</td>\n",
       "      <td>1838524</td>\n",
       "      <td>Busan</td>\n",
       "      <td>12.99</td>\n",
       "      <td>50</td>\n",
       "      <td>4.63</td>\n",
       "    </tr>\n",
       "    <tr>\n",
       "      <th>5</th>\n",
       "      <td>20241119</td>\n",
       "      <td>044924</td>\n",
       "      <td>2024-11-19 04:49:24</td>\n",
       "      <td>1880252</td>\n",
       "      <td>Singapore</td>\n",
       "      <td>27.69</td>\n",
       "      <td>83</td>\n",
       "      <td>3.09</td>\n",
       "    </tr>\n",
       "  </tbody>\n",
       "</table>\n",
       "</div>"
      ],
      "text/plain": [
       "         dt    time         measured_at       id       city  temperature  \\\n",
       "0  20241119  044823 2024-11-19 04:48:23  1850144      Tokyo        12.50   \n",
       "1  20241119  045726 2024-11-19 04:57:26  1853909      Osaka        11.51   \n",
       "2  20241119  045213 2024-11-19 04:52:13  2147714     Sydney        20.52   \n",
       "3  20241119  045236 2024-11-19 04:52:36  1835848      Seoul         7.19   \n",
       "4  20241119  045414 2024-11-19 04:54:14  1838524      Busan        12.99   \n",
       "5  20241119  044924 2024-11-19 04:49:24  1880252  Singapore        27.69   \n",
       "\n",
       "   humidity  wind_speed  \n",
       "0        37        5.66  \n",
       "1        54        5.66  \n",
       "2        68        5.66  \n",
       "3        53        2.57  \n",
       "4        50        4.63  \n",
       "5        83        3.09  "
      ]
     },
     "execution_count": 18,
     "metadata": {},
     "output_type": "execute_result"
    }
   ],
   "source": [
    "df"
   ]
  },
  {
   "cell_type": "code",
   "execution_count": null,
   "metadata": {},
   "outputs": [],
   "source": []
  }
 ],
 "metadata": {
  "kernelspec": {
   "display_name": "leo4study",
   "language": "python",
   "name": "python3"
  },
  "language_info": {
   "codemirror_mode": {
    "name": "ipython",
    "version": 3
   },
   "file_extension": ".py",
   "mimetype": "text/x-python",
   "name": "python",
   "nbconvert_exporter": "python",
   "pygments_lexer": "ipython3",
   "version": "3.11.9"
  }
 },
 "nbformat": 4,
 "nbformat_minor": 2
}
