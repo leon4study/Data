{
 "cells": [
  {
   "cell_type": "code",
   "execution_count": 1,
   "metadata": {},
   "outputs": [
    {
     "name": "stdout",
     "output_type": "stream",
     "text": [
      "Collecting python-dotenv\n",
      "  Downloading python_dotenv-1.0.1-py3-none-any.whl.metadata (23 kB)\n",
      "Downloading python_dotenv-1.0.1-py3-none-any.whl (19 kB)\n",
      "Installing collected packages: python-dotenv\n",
      "Successfully installed python-dotenv-1.0.1\n"
     ]
    }
   ],
   "source": [
    "# !pip install requests \n",
    "!pip install python-dotenv\n",
    "# !pip install json"
   ]
  },
  {
   "cell_type": "markdown",
   "metadata": {},
   "source": [
    "### 01. 패키지 불러오기"
   ]
  },
  {
   "cell_type": "code",
   "execution_count": 6,
   "metadata": {},
   "outputs": [
    {
     "data": {
      "text/plain": [
       "True"
      ]
     },
     "execution_count": 6,
     "metadata": {},
     "output_type": "execute_result"
    }
   ],
   "source": [
    "import requests\n",
    "import pandas as pd\n",
    "from dotenv import load_dotenv\n",
    "import os\n",
    "import json\n",
    "os.chdir('/Users/jun/GitStudy/Data_4/src/challenge/week2')\n",
    "# load .env\n",
    "load_dotenv()"
   ]
  },
  {
   "cell_type": "markdown",
   "metadata": {},
   "source": [
    "### 02. Requests 를 통해 웹사이트 HTML 가져오기"
   ]
  },
  {
   "cell_type": "code",
   "execution_count": 4,
   "metadata": {},
   "outputs": [
    {
     "name": "stdout",
     "output_type": "stream",
     "text": [
      "200\n"
     ]
    }
   ],
   "source": [
    "# OpenWeather API 요청을 위한 기본 설정\n",
    "# (https://openweathermap.org/api) \n",
    "api_key = os.environ.get('API_KEY')  # 본인의 API 키를 입력하세요.\n",
    "city_name = \"Seoul\" # 도시는 \"서울\"로 설정\n",
    "url = f\"http://api.openweathermap.org/data/2.5/weather?q={city_name}&units=metric&appid={api_key}\"\n",
    "response = requests.get(url)\n",
    "print(response.status_code)"
   ]
  },
  {
   "cell_type": "markdown",
   "metadata": {},
   "source": [
    "### 03. Python 딕셔너리를 통해 HTML 파싱 후 출력"
   ]
  },
  {
   "cell_type": "code",
   "execution_count": 5,
   "metadata": {},
   "outputs": [
    {
     "name": "stdout",
     "output_type": "stream",
     "text": [
      "{\n",
      "    \"coord\": {\n",
      "        \"lon\": 126.9778,\n",
      "        \"lat\": 37.5683\n",
      "    },\n",
      "    \"weather\": [\n",
      "        {\n",
      "            \"id\": 803,\n",
      "            \"main\": \"Clouds\",\n",
      "            \"description\": \"broken clouds\",\n",
      "            \"icon\": \"04d\"\n",
      "        }\n",
      "    ],\n",
      "    \"base\": \"stations\",\n",
      "    \"main\": {\n",
      "        \"temp\": 21.66,\n",
      "        \"feels_like\": 21.21,\n",
      "        \"temp_min\": 18.69,\n",
      "        \"temp_max\": 21.66,\n",
      "        \"pressure\": 1018,\n",
      "        \"humidity\": 51,\n",
      "        \"sea_level\": 1018,\n",
      "        \"grnd_level\": 1012\n",
      "    },\n",
      "    \"visibility\": 10000,\n",
      "    \"wind\": {\n",
      "        \"speed\": 2.24,\n",
      "        \"deg\": 102,\n",
      "        \"gust\": 3.48\n",
      "    },\n",
      "    \"clouds\": {\n",
      "        \"all\": 76\n",
      "    },\n",
      "    \"dt\": 1731650948,\n",
      "    \"sys\": {\n",
      "        \"type\": 1,\n",
      "        \"id\": 5509,\n",
      "        \"country\": \"KR\",\n",
      "        \"sunrise\": 1731622314,\n",
      "        \"sunset\": 1731658901\n",
      "    },\n",
      "    \"timezone\": 32400,\n",
      "    \"id\": 1835848,\n",
      "    \"name\": \"Seoul\",\n",
      "    \"cod\": 200\n",
      "}\n"
     ]
    }
   ],
   "source": [
    "# API 응답 데이터 처리\n",
    "data = response.json()\n",
    "print(json.dumps(data, indent=4))"
   ]
  },
  {
   "cell_type": "code",
   "execution_count": 32,
   "metadata": {},
   "outputs": [
    {
     "data": {
      "text/html": [
       "<div>\n",
       "<style scoped>\n",
       "    .dataframe tbody tr th:only-of-type {\n",
       "        vertical-align: middle;\n",
       "    }\n",
       "\n",
       "    .dataframe tbody tr th {\n",
       "        vertical-align: top;\n",
       "    }\n",
       "\n",
       "    .dataframe thead th {\n",
       "        text-align: right;\n",
       "    }\n",
       "</style>\n",
       "<table border=\"1\" class=\"dataframe\">\n",
       "  <thead>\n",
       "    <tr style=\"text-align: right;\">\n",
       "      <th></th>\n",
       "      <th>weather</th>\n",
       "      <th>base</th>\n",
       "      <th>visibility</th>\n",
       "      <th>dt</th>\n",
       "      <th>timezone</th>\n",
       "      <th>id</th>\n",
       "      <th>name</th>\n",
       "      <th>cod</th>\n",
       "      <th>coord.lon</th>\n",
       "      <th>coord.lat</th>\n",
       "      <th>...</th>\n",
       "      <th>main.sea_level</th>\n",
       "      <th>main.grnd_level</th>\n",
       "      <th>wind.speed</th>\n",
       "      <th>wind.deg</th>\n",
       "      <th>clouds.all</th>\n",
       "      <th>sys.type</th>\n",
       "      <th>sys.id</th>\n",
       "      <th>sys.country</th>\n",
       "      <th>sys.sunrise</th>\n",
       "      <th>sys.sunset</th>\n",
       "    </tr>\n",
       "  </thead>\n",
       "  <tbody>\n",
       "    <tr>\n",
       "      <th>0</th>\n",
       "      <td>[{'id': 800, 'main': 'Clear', 'description': '...</td>\n",
       "      <td>stations</td>\n",
       "      <td>10000</td>\n",
       "      <td>1731565215</td>\n",
       "      <td>32400</td>\n",
       "      <td>1835848</td>\n",
       "      <td>Seoul</td>\n",
       "      <td>200</td>\n",
       "      <td>126.9778</td>\n",
       "      <td>37.5683</td>\n",
       "      <td>...</td>\n",
       "      <td>1019</td>\n",
       "      <td>1013</td>\n",
       "      <td>1.54</td>\n",
       "      <td>90</td>\n",
       "      <td>0</td>\n",
       "      <td>1</td>\n",
       "      <td>8105</td>\n",
       "      <td>KR</td>\n",
       "      <td>1731535849</td>\n",
       "      <td>1731572545</td>\n",
       "    </tr>\n",
       "  </tbody>\n",
       "</table>\n",
       "<p>1 rows × 26 columns</p>\n",
       "</div>"
      ],
      "text/plain": [
       "                                             weather      base  visibility  \\\n",
       "0  [{'id': 800, 'main': 'Clear', 'description': '...  stations       10000   \n",
       "\n",
       "           dt  timezone       id   name  cod  coord.lon  coord.lat  ...  \\\n",
       "0  1731565215     32400  1835848  Seoul  200   126.9778    37.5683  ...   \n",
       "\n",
       "   main.sea_level  main.grnd_level  wind.speed  wind.deg  clouds.all  \\\n",
       "0            1019             1013        1.54        90           0   \n",
       "\n",
       "   sys.type  sys.id  sys.country  sys.sunrise  sys.sunset  \n",
       "0         1    8105           KR   1731535849  1731572545  \n",
       "\n",
       "[1 rows x 26 columns]"
      ]
     },
     "execution_count": 32,
     "metadata": {},
     "output_type": "execute_result"
    }
   ],
   "source": [
    "# 테이블화 \n",
    "pd.json_normalize(data)"
   ]
  },
  {
   "cell_type": "code",
   "execution_count": 33,
   "metadata": {},
   "outputs": [
    {
     "data": {
      "text/html": [
       "<div>\n",
       "<style scoped>\n",
       "    .dataframe tbody tr th:only-of-type {\n",
       "        vertical-align: middle;\n",
       "    }\n",
       "\n",
       "    .dataframe tbody tr th {\n",
       "        vertical-align: top;\n",
       "    }\n",
       "\n",
       "    .dataframe thead th {\n",
       "        text-align: right;\n",
       "    }\n",
       "</style>\n",
       "<table border=\"1\" class=\"dataframe\">\n",
       "  <thead>\n",
       "    <tr style=\"text-align: right;\">\n",
       "      <th></th>\n",
       "      <th>dt</th>\n",
       "      <th>time</th>\n",
       "      <th>measured_at</th>\n",
       "      <th>id</th>\n",
       "      <th>city</th>\n",
       "      <th>temperature</th>\n",
       "      <th>humidity</th>\n",
       "      <th>wind_speed</th>\n",
       "    </tr>\n",
       "  </thead>\n",
       "  <tbody>\n",
       "    <tr>\n",
       "      <th>0</th>\n",
       "      <td>20241114</td>\n",
       "      <td>062015</td>\n",
       "      <td>2024-11-14 06:20:15</td>\n",
       "      <td>1835848</td>\n",
       "      <td>Seoul</td>\n",
       "      <td>17.51</td>\n",
       "      <td>59</td>\n",
       "      <td>1.54</td>\n",
       "    </tr>\n",
       "  </tbody>\n",
       "</table>\n",
       "</div>"
      ],
      "text/plain": [
       "         dt    time         measured_at       id   city  temperature  \\\n",
       "0  20241114  062015 2024-11-14 06:20:15  1835848  Seoul        17.51   \n",
       "\n",
       "   humidity  wind_speed  \n",
       "0        59        1.54  "
      ]
     },
     "execution_count": 33,
     "metadata": {},
     "output_type": "execute_result"
    }
   ],
   "source": [
    "df_weather = pd.json_normalize(data) \n",
    "df_weather[\"measured_at\"] = pd.to_datetime(df_weather[\"dt\"], unit=\"s\") # 기준시간 \n",
    "df_weather[\"dt\"] = df_weather[\"measured_at\"].dt.strftime('%Y%m%d') # 기준년월일 (YYYYMMDD) \n",
    "df_weather[\"time\"] = df_weather[\"measured_at\"].dt.strftime('%H%M%S') # 기준년월일 (HHHHMMSS) \n",
    "df_selected = df_weather[[\"dt\", \"time\", \"measured_at\", \"id\", \"name\", \"main.temp\", \"main.humidity\", \"wind.speed\"]]\n",
    "df_selected = df_selected.rename( # 컬럼명 수정 \n",
    "    columns={\"name\": \"city\", \"main.temp\": \"temperature\", \"main.humidity\": \"humidity\", \"wind.speed\": \"wind_speed\"}\n",
    ")\n",
    "df_selected"
   ]
  },
  {
   "cell_type": "markdown",
   "metadata": {},
   "source": [
    "### 04. Pandas 로 CSV 파일 저장"
   ]
  },
  {
   "cell_type": "code",
   "execution_count": 34,
   "metadata": {},
   "outputs": [
    {
     "name": "stdout",
     "output_type": "stream",
     "text": [
      "날씨 정보가 CSV 파일로 저장되었습니다.\n"
     ]
    }
   ],
   "source": [
    "# DataFrame 생성 및 CSV 파일로 저장\n",
    "df = pd.DataFrame(df_selected)\n",
    "df.to_csv('weather_api.csv', index=False)\n",
    "\n",
    "print(\"날씨 정보가 CSV 파일로 저장되었습니다.\")"
   ]
  },
  {
   "cell_type": "markdown",
   "metadata": {},
   "source": [
    "### 05. Class로 만들어보자 "
   ]
  },
  {
   "cell_type": "code",
   "execution_count": null,
   "metadata": {},
   "outputs": [],
   "source": [
    "import requests\n",
    "\n",
    "\n",
    "class WeatherApiClient:\n",
    "    \"\"\"\n",
    "    OpenWeatherMap API 클라이언트를 사용하여 날씨 데이터를 가져오는 클래스입니다.\n",
    "    \"\"\"\n",
    "\n",
    "    def __init__(self, api_key: str):\n",
    "        self.base_url = \"http://api.openweathermap.org/data/2.5\"\n",
    "        if api_key is None:\n",
    "            raise Exception(\"API 키는 None으로 설정할 수 없습니다.\")\n",
    "        self.api_key = api_key\n",
    "\n",
    "    def get_city(self, city_name: str, temperature_units: str = \"metric\") -> dict:\n",
    "        \"\"\"\n",
    "        지정된 도시의 최신 날씨 데이터를 가져옵니다.\n",
    "\n",
    "        Parameters:\n",
    "        - city_name (str): 날씨 정보를 조회할 도시 이름.\n",
    "        - temperature_units (str): 온도 단위 (기본값은 'metric'으로 섭씨 기준).\n",
    "                                'metric'은 섭씨, 'imperial'은 화씨, 'standard'는 켈빈 단위를 의미합니다.\n",
    "\n",
    "        Returns:\n",
    "        - dict: 요청한 도시의 날씨 데이터가 포함된 JSON 응답을 반환합니다.\n",
    "\n",
    "        Raises:\n",
    "        - Exception: API 요청이 실패한 경우 상태 코드와 응답 메시지와 함께 예외가 발생합니다.\n",
    "        \"\"\"\n",
    "        params = {\"q\": city_name, \"units\": temperature_units, \"appid\": self.api_key}\n",
    "        response = requests.get(f\"{self.base_url}/weather\", params=params)\n",
    "        if response.status_code == 200:\n",
    "            return response.json()\n",
    "        else:\n",
    "            raise Exception(\n",
    "                f\"Open Weather API에서 데이터를 추출하지 못했습니다. 상태 코드: {response.status_code}. 응답: {response.text}\"\n",
    "            )"
   ]
  },
  {
   "cell_type": "code",
   "execution_count": null,
   "metadata": {},
   "outputs": [],
   "source": [
    "import pandas as pd \n",
    "from dotenv import load_dotenv\n",
    "import os \n",
    "load_dotenv()\n",
    "\n",
    "weather_api_client = WeatherApiClient(api_key = os.environ.get(\"API_KEY\")) \n",
    "data = weather_api_client.get_city(\"Seoul\") \n",
    "\n",
    "# 간단한 전처리\n",
    "df_weather = pd.json_normalize(data) # JSON 데이터를 Pandas 형태로 변환 \n",
    "df_weather[\"measured_at\"] = pd.to_datetime(df_weather[\"dt\"], unit=\"s\") # 기준시간 \n",
    "df_weather[\"dt\"] = df_weather[\"measured_at\"].dt.strftime('%Y%m%d') # 기준년월일 (YYYYMMDD) \n",
    "df_weather[\"time\"] = df_weather[\"measured_at\"].dt.strftime('%H%M%S') # 기준년월일 (HHHHMMSS) \n",
    "df_selected = df_weather[[\"dt\", \"time\", \"measured_at\", \"id\", \"name\", \"main.temp\", \"main.humidity\", \"wind.speed\"]]\n",
    "df_selected = df_selected.rename( # 컬럼명 수정 \n",
    "    columns={\"name\": \"city\", \"main.temp\": \"temperature\", \"main.humidity\": \"humidity\", \"wind.speed\": \"wind_speed\"}\n",
    ")\n",
    "\n",
    "# DataFrame 생성 및 CSV 파일로 저장\n",
    "df = pd.DataFrame(df_selected)\n",
    "df.to_csv('weather_api.csv', index=False)"
   ]
  },
  {
   "cell_type": "code",
   "execution_count": null,
   "metadata": {},
   "outputs": [],
   "source": []
  }
 ],
 "metadata": {
  "kernelspec": {
   "display_name": "leo4study",
   "language": "python",
   "name": "python3"
  },
  "language_info": {
   "codemirror_mode": {
    "name": "ipython",
    "version": 3
   },
   "file_extension": ".py",
   "mimetype": "text/x-python",
   "name": "python",
   "nbconvert_exporter": "python",
   "pygments_lexer": "ipython3",
   "version": "3.11.9"
  }
 },
 "nbformat": 4,
 "nbformat_minor": 2
}
