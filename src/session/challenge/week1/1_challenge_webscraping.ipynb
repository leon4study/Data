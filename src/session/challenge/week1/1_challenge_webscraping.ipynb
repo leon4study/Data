{
 "cells": [
  {
   "cell_type": "code",
   "execution_count": null,
   "metadata": {},
   "outputs": [],
   "source": [
    "# !pip install jupyter \n",
    "# !pip install requests \n",
    "# !pip install bs4 \n",
    "# !pip install pandas "
   ]
  },
  {
   "cell_type": "markdown",
   "metadata": {},
   "source": [
    "### 01. 패키지 불러오기"
   ]
  },
  {
   "cell_type": "code",
   "execution_count": 2,
   "metadata": {},
   "outputs": [],
   "source": [
    "import requests\n",
    "import pandas as pd\n",
    "from bs4 import BeautifulSoup"
   ]
  },
  {
   "cell_type": "markdown",
   "metadata": {},
   "source": [
    "### 02. Requests 를 통해 웹사이트 HTML 가져오기"
   ]
  },
  {
   "cell_type": "code",
   "execution_count": 3,
   "metadata": {},
   "outputs": [
    {
     "name": "stdout",
     "output_type": "stream",
     "text": [
      "200\n"
     ]
    }
   ],
   "source": [
    "url = \"https://search.naver.com/search.naver?query=서울날씨\"  # 예제 URL\n",
    "response = requests.get(url)\n",
    "print(response.status_code)  # 요청 성공 여부 확인"
   ]
  },
  {
   "cell_type": "markdown",
   "metadata": {},
   "source": [
    "### 03. bs4 를 통해 HTML 파싱"
   ]
  },
  {
   "cell_type": "code",
   "execution_count": 4,
   "metadata": {},
   "outputs": [],
   "source": [
    "url = \"https://search.naver.com/search.naver?query=서울날씨\"\n",
    "response = requests.get(url)\n",
    "\n",
    "soup = BeautifulSoup(response.text, 'html.parser')"
   ]
  },
  {
   "cell_type": "markdown",
   "metadata": {},
   "source": [
    "#### 03-1. CSS Selector로 추출  "
   ]
  },
  {
   "cell_type": "code",
   "execution_count": 5,
   "metadata": {},
   "outputs": [
    {
     "name": "stdout",
     "output_type": "stream",
     "text": [
      "체감온도:\t 20.7°\n",
      "습도:\t 42%\n",
      "서풍:\t 3m/s\n"
     ]
    }
   ],
   "source": [
    "feel_temp = soup.select_one('#main_pack > section.sc_new.cs_weather_new._cs_weather > div > div:nth-child(1) > div.content_wrap > div.open > div:nth-child(1) > div > div.weather_info > div > div._today > div.temperature_info > dl > div:nth-child(1) > dd').get_text()\n",
    "humidity = soup.select_one('#main_pack > section.sc_new.cs_weather_new._cs_weather > div > div:nth-child(1) > div.content_wrap > div.open > div:nth-child(1) > div > div.weather_info > div > div._today > div.temperature_info > dl > div:nth-child(2) > dd').get_text()\n",
    "wind = soup.select_one('#main_pack > section.sc_new.cs_weather_new._cs_weather > div > div:nth-child(1) > div.content_wrap > div.open > div:nth-child(1) > div > div.weather_info > div > div._today > div.temperature_info > dl > div:nth-child(3) > dd').get_text()\n",
    "\n",
    "print(\"체감온도:\\t\", feel_temp)\n",
    "print(\"습도:\\t\", humidity)\n",
    "print(\"서풍:\\t\", wind)"
   ]
  },
  {
   "cell_type": "markdown",
   "metadata": {},
   "source": [
    "#### 03-2. HTML Tag로 추출  "
   ]
  },
  {
   "cell_type": "code",
   "execution_count": 6,
   "metadata": {},
   "outputs": [
    {
     "name": "stdout",
     "output_type": "stream",
     "text": [
      "체감온도:\t 20.7°\n",
      "습도:\t 42%\n",
      "서풍:\t 3m/s\n"
     ]
    }
   ],
   "source": [
    "today = soup.find('div', {'class': '_today'})\n",
    "summaries = today.find('dl', {'class': 'summary_list'}).find_all('dd')\n",
    "\n",
    "feel_temp = summaries[0].get_text()\n",
    "humidity = summaries[1].get_text()\n",
    "wind = summaries[2].get_text()\n",
    "\n",
    "print(\"체감온도:\\t\", feel_temp)\n",
    "print(\"습도:\\t\", humidity)\n",
    "print(\"서풍:\\t\", wind)"
   ]
  },
  {
   "cell_type": "markdown",
   "metadata": {},
   "source": [
    "### 04. Pandas 로 CSV 파일 저장"
   ]
  },
  {
   "cell_type": "code",
   "execution_count": null,
   "metadata": {},
   "outputs": [
    {
     "name": "stdout",
     "output_type": "stream",
     "text": [
      "날씨 정보가 CSV 파일로 저장되었습니다.\n"
     ]
    }
   ],
   "source": [
    "# 데이터 준비\n",
    "data = [{'temperature': feel_temp, 'humidity': humidity, 'wind': wind}]\n",
    "\n",
    "# DataFrame 생성 및 CSV 파일로 저장\n",
    "df = pd.DataFrame(data)\n",
    "df.to_csv('weather_webscraping.csv', index=False)\n",
    "\n",
    "print(\"날씨 정보가 CSV 파일로 저장되었습니다.\")"
   ]
  },
  {
   "cell_type": "markdown",
   "metadata": {},
   "source": [
    "### 05. 객체지향 프로그래밍 Object Oriented Programming (OOP) "
   ]
  },
  {
   "cell_type": "code",
   "execution_count": null,
   "metadata": {},
   "outputs": [],
   "source": [
    "# 클래스 정의 \n",
    "class Student:\n",
    "    def __init__(self, name, age):\n",
    "        self.name = name\n",
    "        self.age = age\n",
    "    \n",
    "    def introduce(self):\n",
    "        print(f\"안녕하세요, 저는 {self.name}이고, 나이는 {self.age}살입니다.\")\n",
    "        \n",
    "    def __str__(self):\n",
    "        return f\"!학생에 대한 정보입니다!\\n이름: {self.name}\\n나이: {self.age}\"\n",
    "        \n",
    "# 객체 생성       \n",
    "student1 = Student(\"홍길동\", 20)\n",
    "student1.introduce()\n",
    "print(student1)\n",
    "\n",
    "student2 = Student(\"이영희\", 22)\n",
    "student2.introduce()\n",
    "print(student2)"
   ]
  }
 ],
 "metadata": {
  "kernelspec": {
   "display_name": "leo4study",
   "language": "python",
   "name": "python3"
  },
  "language_info": {
   "codemirror_mode": {
    "name": "ipython",
    "version": 3
   },
   "file_extension": ".py",
   "mimetype": "text/x-python",
   "name": "python",
   "nbconvert_exporter": "python",
   "pygments_lexer": "ipython3",
   "version": "3.11.9"
  }
 },
 "nbformat": 4,
 "nbformat_minor": 2
}
