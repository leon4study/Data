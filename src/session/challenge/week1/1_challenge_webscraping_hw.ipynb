{
 "cells": [
  {
   "cell_type": "markdown",
   "metadata": {},
   "source": [
    "### 숙제\n",
    "\n",
    "네이버 경제 > 증권 뉴스에 보이는 뉴스 제목을 출력해주세요!\n",
    "(https://news.naver.com/breakingnews/section/101/258) "
   ]
  },
  {
   "cell_type": "code",
   "execution_count": null,
   "metadata": {},
   "outputs": [],
   "source": [
    "import requests\n",
    "from bs4 import BeautifulSoup\n",
    "import pandas as pd"
   ]
  },
  {
   "cell_type": "code",
   "execution_count": null,
   "metadata": {},
   "outputs": [],
   "source": [
    "url = 'https://news.naver.com/breakingnews/section/101/258'\n",
    "response = requests.get(url)\n",
    "response.status_code"
   ]
  },
  {
   "cell_type": "code",
   "execution_count": null,
   "metadata": {},
   "outputs": [],
   "source": [
    "#soup = BeautifulSoup(response.text)\n",
    "soup = BeautifulSoup(response.text ,'html.parser')\n",
    "soup"
   ]
  },
  {
   "cell_type": "code",
   "execution_count": null,
   "metadata": {},
   "outputs": [],
   "source": [
    "article_list = soup.find('div', {'class':'section_latest_article _CONTENT_LIST _PERSIST_META'})\n",
    "articles = article_list.find_all('div', {'class' : 'sa_text'})\n"
   ]
  },
  {
   "cell_type": "code",
   "execution_count": null,
   "metadata": {},
   "outputs": [],
   "source": [
    "articles[0].find('div', {'class' : 'sa_text_press'}).get_text()"
   ]
  },
  {
   "cell_type": "code",
   "execution_count": null,
   "metadata": {},
   "outputs": [],
   "source": [
    "title_list = []\n",
    "for i in articles:\n",
    "    txt = (\n",
    "    i.find('strong', {'class' : 'sa_text_strong'}).get_text() + \" - \"+\n",
    "    i.find('div', {'class' : 'sa_text_press'}).get_text()\n",
    "    )\n",
    "    title_list.append(txt)"
   ]
  },
  {
   "cell_type": "code",
   "execution_count": null,
   "metadata": {},
   "outputs": [],
   "source": [
    "title_list"
   ]
  }
 ],
 "metadata": {
  "kernelspec": {
   "display_name": "sparta",
   "language": "python",
   "name": "python3"
  },
  "language_info": {
   "codemirror_mode": {
    "name": "ipython",
    "version": 3
   },
   "file_extension": ".py",
   "mimetype": "text/x-python",
   "name": "python",
   "nbconvert_exporter": "python",
   "pygments_lexer": "ipython3",
   "version": "3.11.10"
  }
 },
 "nbformat": 4,
 "nbformat_minor": 2
}
