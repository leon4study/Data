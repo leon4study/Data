{
 "cells": [
  {
   "cell_type": "markdown",
   "metadata": {},
   "source": [
    "#처음부터 다시 시작해야 할 경우, 한번에 라이브러리 다운할 수 있도록 만듦.\n",
    "\n",
    "pip install -r requirements.txt"
   ]
  },
  {
   "cell_type": "markdown",
   "metadata": {},
   "source": [
    "### 01. 패키지 불러오기"
   ]
  },
  {
   "cell_type": "code",
   "execution_count": 3,
   "metadata": {},
   "outputs": [
    {
     "data": {
      "text/plain": [
       "True"
      ]
     },
     "execution_count": 3,
     "metadata": {},
     "output_type": "execute_result"
    }
   ],
   "source": [
    "from etl_module.connectors.weather_api import WeatherApiClient\n",
    "from etl_module.connectors.mysql import MySqlClient\n",
    "\n",
    "\n",
    "import pandas as pd \n",
    "import os\n",
    "from dotenv import load_dotenv\n",
    "load_dotenv()"
   ]
  },
  {
   "cell_type": "markdown",
   "metadata": {},
   "source": [
    "#### .env 환경변수 설정"
   ]
  },
  {
   "cell_type": "code",
   "execution_count": 10,
   "metadata": {},
   "outputs": [],
   "source": [
    "# 환경변수 설정 \n",
    "API_KEY = os.environ.get(\"API_KEY\")\n",
    "DB_SERVER_HOST = os.environ.get('DB_SERVER_HOST')  # 데이터베이스 서버의 호스트 이름 (로컬호스트로 설정)\n",
    "DB_USERNAME = os.environ.get('DB_USERNAME')      # 데이터베이스 아이디 \n",
    "DB_PASSWORD = os.environ.get('DB_PASSWORD')      # 데이터베이스 비밀번호\n",
    "DB_DATABASE = os.environ.get('DB_DATABASE') # 사용할 데이터베이스 이름\n",
    "DB_PORT = os.environ.get('DB_PORT')              # 데이터베이스 연결을 위한 포트 (Default: 3306)\n"
   ]
  },
  {
   "cell_type": "code",
   "execution_count": 11,
   "metadata": {},
   "outputs": [
    {
     "data": {
      "text/plain": [
       "'test_db'"
      ]
     },
     "execution_count": 11,
     "metadata": {},
     "output_type": "execute_result"
    }
   ],
   "source": [
    "DB_DATABASE"
   ]
  },
  {
   "cell_type": "markdown",
   "metadata": {},
   "source": [
    "### 02. Weather, MySQL 클래스를 객체(인스턴스)화"
   ]
  },
  {
   "cell_type": "code",
   "execution_count": 12,
   "metadata": {},
   "outputs": [],
   "source": [
    "# Client \n",
    "weather_api_client = WeatherApiClient(api_key = API_KEY) \n",
    "my_sql_client = MySqlClient(\n",
    "    server_name=DB_SERVER_HOST, \n",
    "    database_name=DB_DATABASE, \n",
    "    username=DB_USERNAME, \n",
    "    password=DB_PASSWORD, \n",
    "    port=DB_PORT\n",
    ") "
   ]
  },
  {
   "cell_type": "code",
   "execution_count": 16,
   "metadata": {},
   "outputs": [
    {
     "data": {
      "text/plain": [
       "'http://api.openweathermap.org/data/2.5'"
      ]
     },
     "execution_count": 16,
     "metadata": {},
     "output_type": "execute_result"
    }
   ],
   "source": [
    "weather_api_client.base_url"
   ]
  },
  {
   "cell_type": "code",
   "execution_count": 17,
   "metadata": {},
   "outputs": [
    {
     "data": {
      "text/plain": [
       "{'coord': {'lon': 126.9778, 'lat': 37.5683},\n",
       " 'weather': [{'id': 803,\n",
       "   'main': 'Clouds',\n",
       "   'description': 'broken clouds',\n",
       "   'icon': '04d'}],\n",
       " 'base': 'stations',\n",
       " 'main': {'temp': 9.51,\n",
       "  'feels_like': 8.57,\n",
       "  'temp_min': 8.66,\n",
       "  'temp_max': 9.76,\n",
       "  'pressure': 1023,\n",
       "  'humidity': 53,\n",
       "  'sea_level': 1023,\n",
       "  'grnd_level': 1016},\n",
       " 'visibility': 10000,\n",
       " 'wind': {'speed': 2.06, 'deg': 160},\n",
       " 'clouds': {'all': 75},\n",
       " 'dt': 1732080002,\n",
       " 'sys': {'type': 1,\n",
       "  'id': 8105,\n",
       "  'country': 'KR',\n",
       "  'sunrise': 1732054633,\n",
       "  'sunset': 1732090711},\n",
       " 'timezone': 32400,\n",
       " 'id': 1835848,\n",
       " 'name': 'Seoul',\n",
       " 'cod': 200}"
      ]
     },
     "execution_count": 17,
     "metadata": {},
     "output_type": "execute_result"
    }
   ],
   "source": [
    "# 테스트\n",
    "weather_api_client.get_city(city_name='seoul')"
   ]
  },
  {
   "cell_type": "markdown",
   "metadata": {},
   "source": [
    "### 03. 추출(Extract) "
   ]
  },
  {
   "cell_type": "code",
   "execution_count": 18,
   "metadata": {},
   "outputs": [],
   "source": [
    "# 서울말고도 여러 도시에 대해 날씨 정보를 추출해볼까요? \n",
    "def extract_weather(weather_api_client: WeatherApiClient) -> pd.DataFrame:\n",
    "    \"\"\"\n",
    "    여러 도시의 날씨 데이터를 추출합니다.\n",
    "\n",
    "    Parameters:\n",
    "    - weather_api_client (WeatherApiClient): API에서 날씨 데이터를 가져오기 위한 클라이언트.\n",
    "\n",
    "    Returns:\n",
    "    - pd.DataFrame: 지정된 도시들의 날씨 데이터를 포함하는 DataFrame.\n",
    "    \"\"\"\n",
    "    cities = [\"seoul\", \"busan\", \"sejong\", \"daegu\", \"incheon\", \"daejeon\", \"ulsan\"]\n",
    "    weather_data = []\n",
    "    for city_name in cities:\n",
    "        data  = weather_api_client.get_city(city_name=city_name)\n",
    "        weather_data.append(data)\n",
    "    df = pd.json_normalize(weather_data)\n",
    "    return df"
   ]
  },
  {
   "cell_type": "code",
   "execution_count": 19,
   "metadata": {},
   "outputs": [
    {
     "data": {
      "text/html": [
       "<div>\n",
       "<style scoped>\n",
       "    .dataframe tbody tr th:only-of-type {\n",
       "        vertical-align: middle;\n",
       "    }\n",
       "\n",
       "    .dataframe tbody tr th {\n",
       "        vertical-align: top;\n",
       "    }\n",
       "\n",
       "    .dataframe thead th {\n",
       "        text-align: right;\n",
       "    }\n",
       "</style>\n",
       "<table border=\"1\" class=\"dataframe\">\n",
       "  <thead>\n",
       "    <tr style=\"text-align: right;\">\n",
       "      <th></th>\n",
       "      <th>weather</th>\n",
       "      <th>base</th>\n",
       "      <th>visibility</th>\n",
       "      <th>dt</th>\n",
       "      <th>timezone</th>\n",
       "      <th>id</th>\n",
       "      <th>name</th>\n",
       "      <th>cod</th>\n",
       "      <th>coord.lon</th>\n",
       "      <th>coord.lat</th>\n",
       "      <th>...</th>\n",
       "      <th>main.grnd_level</th>\n",
       "      <th>wind.speed</th>\n",
       "      <th>wind.deg</th>\n",
       "      <th>clouds.all</th>\n",
       "      <th>sys.type</th>\n",
       "      <th>sys.id</th>\n",
       "      <th>sys.country</th>\n",
       "      <th>sys.sunrise</th>\n",
       "      <th>sys.sunset</th>\n",
       "      <th>wind.gust</th>\n",
       "    </tr>\n",
       "  </thead>\n",
       "  <tbody>\n",
       "    <tr>\n",
       "      <th>0</th>\n",
       "      <td>[{'id': 803, 'main': 'Clouds', 'description': ...</td>\n",
       "      <td>stations</td>\n",
       "      <td>10000</td>\n",
       "      <td>1732080002</td>\n",
       "      <td>32400</td>\n",
       "      <td>1835848</td>\n",
       "      <td>Seoul</td>\n",
       "      <td>200</td>\n",
       "      <td>126.9778</td>\n",
       "      <td>37.5683</td>\n",
       "      <td>...</td>\n",
       "      <td>1016</td>\n",
       "      <td>2.06</td>\n",
       "      <td>160</td>\n",
       "      <td>75</td>\n",
       "      <td>1.0</td>\n",
       "      <td>8105.0</td>\n",
       "      <td>KR</td>\n",
       "      <td>1732054633</td>\n",
       "      <td>1732090711</td>\n",
       "      <td>NaN</td>\n",
       "    </tr>\n",
       "    <tr>\n",
       "      <th>1</th>\n",
       "      <td>[{'id': 800, 'main': 'Clear', 'description': '...</td>\n",
       "      <td>stations</td>\n",
       "      <td>10000</td>\n",
       "      <td>1732080657</td>\n",
       "      <td>32400</td>\n",
       "      <td>1838524</td>\n",
       "      <td>Busan</td>\n",
       "      <td>200</td>\n",
       "      <td>129.0403</td>\n",
       "      <td>35.1028</td>\n",
       "      <td>...</td>\n",
       "      <td>1020</td>\n",
       "      <td>4.63</td>\n",
       "      <td>300</td>\n",
       "      <td>0</td>\n",
       "      <td>1.0</td>\n",
       "      <td>8086.0</td>\n",
       "      <td>KR</td>\n",
       "      <td>1732053809</td>\n",
       "      <td>1732090545</td>\n",
       "      <td>NaN</td>\n",
       "    </tr>\n",
       "    <tr>\n",
       "      <th>2</th>\n",
       "      <td>[{'id': 804, 'main': 'Clouds', 'description': ...</td>\n",
       "      <td>stations</td>\n",
       "      <td>10000</td>\n",
       "      <td>1732080407</td>\n",
       "      <td>32400</td>\n",
       "      <td>1842616</td>\n",
       "      <td>Sejong</td>\n",
       "      <td>200</td>\n",
       "      <td>127.2871</td>\n",
       "      <td>36.4817</td>\n",
       "      <td>...</td>\n",
       "      <td>1022</td>\n",
       "      <td>1.93</td>\n",
       "      <td>291</td>\n",
       "      <td>92</td>\n",
       "      <td>1.0</td>\n",
       "      <td>8131.0</td>\n",
       "      <td>KR</td>\n",
       "      <td>1732054411</td>\n",
       "      <td>1732090784</td>\n",
       "      <td>3.71</td>\n",
       "    </tr>\n",
       "    <tr>\n",
       "      <th>3</th>\n",
       "      <td>[{'id': 800, 'main': 'Clear', 'description': '...</td>\n",
       "      <td>stations</td>\n",
       "      <td>10000</td>\n",
       "      <td>1732080454</td>\n",
       "      <td>32400</td>\n",
       "      <td>1835327</td>\n",
       "      <td>Daegu</td>\n",
       "      <td>200</td>\n",
       "      <td>128.5500</td>\n",
       "      <td>35.8000</td>\n",
       "      <td>...</td>\n",
       "      <td>1008</td>\n",
       "      <td>4.63</td>\n",
       "      <td>300</td>\n",
       "      <td>0</td>\n",
       "      <td>1.0</td>\n",
       "      <td>8124.0</td>\n",
       "      <td>KR</td>\n",
       "      <td>1732054018</td>\n",
       "      <td>1732090572</td>\n",
       "      <td>NaN</td>\n",
       "    </tr>\n",
       "    <tr>\n",
       "      <th>4</th>\n",
       "      <td>[{'id': 500, 'main': 'Rain', 'description': 'l...</td>\n",
       "      <td>stations</td>\n",
       "      <td>10000</td>\n",
       "      <td>1732080499</td>\n",
       "      <td>32400</td>\n",
       "      <td>1843561</td>\n",
       "      <td>Incheon</td>\n",
       "      <td>200</td>\n",
       "      <td>126.4161</td>\n",
       "      <td>37.4500</td>\n",
       "      <td>...</td>\n",
       "      <td>1021</td>\n",
       "      <td>3.09</td>\n",
       "      <td>150</td>\n",
       "      <td>100</td>\n",
       "      <td>1.0</td>\n",
       "      <td>8093.0</td>\n",
       "      <td>KR</td>\n",
       "      <td>1732054752</td>\n",
       "      <td>1732090862</td>\n",
       "      <td>NaN</td>\n",
       "    </tr>\n",
       "  </tbody>\n",
       "</table>\n",
       "<p>5 rows × 27 columns</p>\n",
       "</div>"
      ],
      "text/plain": [
       "                                             weather      base  visibility  \\\n",
       "0  [{'id': 803, 'main': 'Clouds', 'description': ...  stations       10000   \n",
       "1  [{'id': 800, 'main': 'Clear', 'description': '...  stations       10000   \n",
       "2  [{'id': 804, 'main': 'Clouds', 'description': ...  stations       10000   \n",
       "3  [{'id': 800, 'main': 'Clear', 'description': '...  stations       10000   \n",
       "4  [{'id': 500, 'main': 'Rain', 'description': 'l...  stations       10000   \n",
       "\n",
       "           dt  timezone       id     name  cod  coord.lon  coord.lat  ...  \\\n",
       "0  1732080002     32400  1835848    Seoul  200   126.9778    37.5683  ...   \n",
       "1  1732080657     32400  1838524    Busan  200   129.0403    35.1028  ...   \n",
       "2  1732080407     32400  1842616   Sejong  200   127.2871    36.4817  ...   \n",
       "3  1732080454     32400  1835327    Daegu  200   128.5500    35.8000  ...   \n",
       "4  1732080499     32400  1843561  Incheon  200   126.4161    37.4500  ...   \n",
       "\n",
       "   main.grnd_level  wind.speed  wind.deg  clouds.all  sys.type  sys.id  \\\n",
       "0             1016        2.06       160          75       1.0  8105.0   \n",
       "1             1020        4.63       300           0       1.0  8086.0   \n",
       "2             1022        1.93       291          92       1.0  8131.0   \n",
       "3             1008        4.63       300           0       1.0  8124.0   \n",
       "4             1021        3.09       150         100       1.0  8093.0   \n",
       "\n",
       "   sys.country  sys.sunrise  sys.sunset  wind.gust  \n",
       "0           KR   1732054633  1732090711        NaN  \n",
       "1           KR   1732053809  1732090545        NaN  \n",
       "2           KR   1732054411  1732090784       3.71  \n",
       "3           KR   1732054018  1732090572        NaN  \n",
       "4           KR   1732054752  1732090862        NaN  \n",
       "\n",
       "[5 rows x 27 columns]"
      ]
     },
     "execution_count": 19,
     "metadata": {},
     "output_type": "execute_result"
    }
   ],
   "source": [
    "df = extract_weather(weather_api_client=weather_api_client)\n",
    "df.head()"
   ]
  },
  {
   "cell_type": "markdown",
   "metadata": {},
   "source": [
    "### 04. 변환(Transform)"
   ]
  },
  {
   "cell_type": "code",
   "execution_count": 31,
   "metadata": {},
   "outputs": [],
   "source": [
    "# 전처리 코드를 함수로 만들어볼게요. \n",
    "def transform_weather(df: pd.DataFrame) -> pd.DataFrame:\n",
    "    \"\"\"\n",
    "    날씨 데이터를 변환하고 전처리합니다.\n",
    "\n",
    "    Parameters:\n",
    "    - df (pd.DataFrame): 원본 날씨 데이터를 포함하는 DataFrame.\n",
    "    Returns:\n",
    "    - pd.DataFrame: 선택된 컬럼과 이름이 변경된 데이터로 구성된 변환된 DataFrame.\n",
    "    \"\"\"\n",
    "    df[\"measured_at\"] = pd.to_datetime(df[\"dt\"], unit=\"s\") + pd.Timedelta(hours=9)  # 한국시간\n",
    "    df[\"dt\"] = df[\"measured_at\"].dt.strftime(\"%Y%m%d\")  # 기준년월일 (YYYYMMDD)\n",
    "    df[\"time\"] = df[\"measured_at\"].dt.strftime(\"%H%M%S\")  # 기준년월일 (HHHHMMSS)\n",
    "    df_selected = df[[\"dt\", \"time\", \"measured_at\", \"id\", \"name\", \"main.temp\", \"main.humidity\", \"wind.speed\"]]\n",
    "    df_selected = df_selected.rename(columns={\n",
    "        \"name\": \"city\", \n",
    "        \"main.temp\": \"temperature\", \n",
    "        \"main.humidity\": \"humidity\", \n",
    "        \"wind.speed\": \"wind_speed\"\n",
    "    })\n",
    "    return df_selected"
   ]
  },
  {
   "cell_type": "code",
   "execution_count": 32,
   "metadata": {},
   "outputs": [
    {
     "name": "stderr",
     "output_type": "stream",
     "text": [
      "/var/folders/29/5wmqbm4j3x10qv5vgm_bm8f80000gn/T/ipykernel_26266/4282564830.py:12: FutureWarning: The behavior of 'to_datetime' with 'unit' when parsing strings is deprecated. In a future version, strings will be parsed as datetime strings, matching the behavior without a 'unit'. To retain the old behavior, explicitly cast ints or floats to numeric type before calling to_datetime.\n",
      "  df[\"measured_at\"] = pd.to_datetime(df[\"dt\"], unit=\"s\") + pd.Timedelta(hours=9)  # 한국시간\n"
     ]
    },
    {
     "data": {
      "text/html": [
       "<div>\n",
       "<style scoped>\n",
       "    .dataframe tbody tr th:only-of-type {\n",
       "        vertical-align: middle;\n",
       "    }\n",
       "\n",
       "    .dataframe tbody tr th {\n",
       "        vertical-align: top;\n",
       "    }\n",
       "\n",
       "    .dataframe thead th {\n",
       "        text-align: right;\n",
       "    }\n",
       "</style>\n",
       "<table border=\"1\" class=\"dataframe\">\n",
       "  <thead>\n",
       "    <tr style=\"text-align: right;\">\n",
       "      <th></th>\n",
       "      <th>dt</th>\n",
       "      <th>time</th>\n",
       "      <th>measured_at</th>\n",
       "      <th>id</th>\n",
       "      <th>city</th>\n",
       "      <th>temperature</th>\n",
       "      <th>humidity</th>\n",
       "      <th>wind_speed</th>\n",
       "    </tr>\n",
       "  </thead>\n",
       "  <tbody>\n",
       "    <tr>\n",
       "      <th>0</th>\n",
       "      <td>19700823</td>\n",
       "      <td>153200</td>\n",
       "      <td>1970-08-23 15:32:00</td>\n",
       "      <td>1835848</td>\n",
       "      <td>Seoul</td>\n",
       "      <td>9.74</td>\n",
       "      <td>53</td>\n",
       "      <td>2.06</td>\n",
       "    </tr>\n",
       "    <tr>\n",
       "      <th>1</th>\n",
       "      <td>19700823</td>\n",
       "      <td>153200</td>\n",
       "      <td>1970-08-23 15:32:00</td>\n",
       "      <td>1838524</td>\n",
       "      <td>Busan</td>\n",
       "      <td>13.99</td>\n",
       "      <td>41</td>\n",
       "      <td>4.63</td>\n",
       "    </tr>\n",
       "    <tr>\n",
       "      <th>2</th>\n",
       "      <td>19700823</td>\n",
       "      <td>153200</td>\n",
       "      <td>1970-08-23 15:32:00</td>\n",
       "      <td>1842616</td>\n",
       "      <td>Sejong</td>\n",
       "      <td>9.24</td>\n",
       "      <td>51</td>\n",
       "      <td>1.93</td>\n",
       "    </tr>\n",
       "    <tr>\n",
       "      <th>3</th>\n",
       "      <td>19700823</td>\n",
       "      <td>153200</td>\n",
       "      <td>1970-08-23 15:32:00</td>\n",
       "      <td>1835327</td>\n",
       "      <td>Daegu</td>\n",
       "      <td>13.47</td>\n",
       "      <td>35</td>\n",
       "      <td>4.63</td>\n",
       "    </tr>\n",
       "    <tr>\n",
       "      <th>4</th>\n",
       "      <td>19700823</td>\n",
       "      <td>153200</td>\n",
       "      <td>1970-08-23 15:32:00</td>\n",
       "      <td>1843561</td>\n",
       "      <td>Incheon</td>\n",
       "      <td>8.93</td>\n",
       "      <td>71</td>\n",
       "      <td>3.09</td>\n",
       "    </tr>\n",
       "  </tbody>\n",
       "</table>\n",
       "</div>"
      ],
      "text/plain": [
       "         dt    time         measured_at       id     city  temperature  \\\n",
       "0  19700823  153200 1970-08-23 15:32:00  1835848    Seoul         9.74   \n",
       "1  19700823  153200 1970-08-23 15:32:00  1838524    Busan        13.99   \n",
       "2  19700823  153200 1970-08-23 15:32:00  1842616   Sejong         9.24   \n",
       "3  19700823  153200 1970-08-23 15:32:00  1835327    Daegu        13.47   \n",
       "4  19700823  153200 1970-08-23 15:32:00  1843561  Incheon         8.93   \n",
       "\n",
       "   humidity  wind_speed  \n",
       "0        53        2.06  \n",
       "1        41        4.63  \n",
       "2        51        1.93  \n",
       "3        35        4.63  \n",
       "4        71        3.09  "
      ]
     },
     "execution_count": 32,
     "metadata": {},
     "output_type": "execute_result"
    }
   ],
   "source": [
    "clean_df = transform_weather(df)\n",
    "clean_df.head()"
   ]
  },
  {
   "cell_type": "markdown",
   "metadata": {},
   "source": [
    "### 05. 적재(Load)"
   ]
  },
  {
   "cell_type": "code",
   "execution_count": 33,
   "metadata": {},
   "outputs": [],
   "source": [
    "from sqlalchemy import MetaData, Table, Column, String, DateTime, Integer, Float"
   ]
  },
  {
   "cell_type": "code",
   "execution_count": 37,
   "metadata": {},
   "outputs": [],
   "source": [
    "def load_weather(df: pd.DataFrame, my_sql_client: MySqlClient, method: str = \"upsert\") -> None:\n",
    "    \"\"\"\n",
    "    변환된 날씨 데이터를 MySQL 데이터베이스에 로드합니다.\n",
    "\n",
    "    Parameters:\n",
    "    - df (pd.DataFrame): 변환된 날씨 데이터를 포함하는 DataFrame.\n",
    "    - my_sql_client (MySqlClient): MySQL 데이터베이스와 상호작용하는 클라이언트.\n",
    "    - table (Table): 데이터를 로드할 대상 데이터베이스 테이블.\n",
    "    - metadata (MetaData): 테이블 정의에 대한 SQLAlchemy 메타데이터 객체.\n",
    "    - method (str, optional): 데이터 삽입 방법을 지정합니다.\n",
    "                            옵션: \"insert\", \"upsert\", \"overwrite\".\n",
    "                            기본값은 \"upsert\"입니다.\n",
    "    \"\"\"\n",
    "    metadata = MetaData()\n",
    "    table = Table(\n",
    "        \"daily_weather\",\n",
    "        metadata,\n",
    "        Column(\"dt\", String(8), nullable=False, primary_key=True),\n",
    "        Column(\"time\", String(6), nullable=False, primary_key=True),\n",
    "        Column(\"measured_at\", DateTime, nullable=False),\n",
    "        Column(\"id\", Integer, primary_key=True),\n",
    "        Column(\"city\", String(100), nullable=True),\n",
    "        Column(\"temperature\", Float, nullable=True),\n",
    "        Column(\"humidity\", Integer, nullable=True),\n",
    "        Column(\"wind_speed\", Float, nullable=True),\n",
    "    )\n",
    "    if method == \"insert\":\n",
    "        my_sql_client.insert(df=df, table=table, metadata=metadata)\n",
    "    elif method == \"upsert\":\n",
    "        my_sql_client.upsert(df=df, table=table, metadata=metadata)\n",
    "    elif method == \"overwrite\":\n",
    "        my_sql_client.overwrite(df=df, table=table, metadata=metadata)\n",
    "    else:\n",
    "        raise Exception(\"올바른 method를 설정해주세요: [insert, upsert, overwrite]\")\n"
   ]
  },
  {
   "cell_type": "code",
   "execution_count": 38,
   "metadata": {},
   "outputs": [],
   "source": [
    "load_weather(df=clean_df, my_sql_client=my_sql_client)"
   ]
  },
  {
   "cell_type": "markdown",
   "metadata": {},
   "source": [
    "### 06. ETL (추출(Extract), 변환(Transform), 적재(Load)) 메인 스크립트 실행"
   ]
  },
  {
   "cell_type": "code",
   "execution_count": 39,
   "metadata": {},
   "outputs": [],
   "source": [
    "df = extract_weather(weather_api_client=weather_api_client)\n",
    "clean_df = transform_weather(df)\n",
    "load_weather(df=clean_df, my_sql_client=my_sql_client, method=\"overwrite\")"
   ]
  },
  {
   "cell_type": "code",
   "execution_count": 40,
   "metadata": {},
   "outputs": [],
   "source": [
    "import os\n",
    "from dotenv import load_dotenv\n",
    "from etl_module.connectors.weather_api import WeatherApiClient\n",
    "from etl_module.connectors.mysql import MySqlClient\n",
    "from etl_module.assets.weather import extract_weather, transform_weather, load_weather\n",
    "\n",
    "def main():\n",
    "    load_dotenv()\n",
    "    API_KEY = os.environ.get(\"API_KEY\")\n",
    "    DB_SERVER_HOST = os.environ.get('DB_SERVER_HOST') \n",
    "    DB_USERNAME = os.environ.get('DB_USERNAME')\n",
    "    DB_PASSWORD = os.environ.get('DB_PASSWORD') \n",
    "    DB_DATABASE = os.environ.get('DB_DATABASE')\n",
    "    DB_PORT = os.environ.get('DB_PORT')\n",
    "\n",
    "    weather_api_client = WeatherApiClient(api_key = API_KEY) \n",
    "    my_sql_client = MySqlClient(\n",
    "        server_name=DB_SERVER_HOST, \n",
    "        database_name=DB_DATABASE, \n",
    "        username=DB_USERNAME, \n",
    "        password=DB_PASSWORD, \n",
    "        port=DB_PORT\n",
    "    ) \n",
    "\n",
    "    # ETL 실행\n",
    "    df = extract_weather(weather_api_client=weather_api_client)\n",
    "    clean_df = transform_weather(df)\n",
    "    load_weather(df=clean_df, my_sql_client=my_sql_client)\n"
   ]
  },
  {
   "cell_type": "code",
   "execution_count": 41,
   "metadata": {},
   "outputs": [],
   "source": [
    "main()"
   ]
  }
 ],
 "metadata": {
  "kernelspec": {
   "display_name": "leo4study",
   "language": "python",
   "name": "python3"
  },
  "language_info": {
   "codemirror_mode": {
    "name": "ipython",
    "version": 3
   },
   "file_extension": ".py",
   "mimetype": "text/x-python",
   "name": "python",
   "nbconvert_exporter": "python",
   "pygments_lexer": "ipython3",
   "version": "3.11.9"
  }
 },
 "nbformat": 4,
 "nbformat_minor": 2
}
