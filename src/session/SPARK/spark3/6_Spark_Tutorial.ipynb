{
  "nbformat": 4,
  "nbformat_minor": 0,
  "metadata": {
    "colab": {
      "provenance": []
    },
    "kernelspec": {
      "name": "python3",
      "display_name": "Python 3"
    },
    "language_info": {
      "name": "python"
    }
  },
  "cells": [
    {
      "cell_type": "code",
      "source": [
        "## 설치\n",
        "!sudo apt update\n",
        "!apt-get install openjdk-8-jdk-headless -qq > /dev/null\n",
        "#Check this site for the latest download link https://www.apache.org/dyn/closer.lua/spark/spark-3.2.1/spark-3.2.1-bin-hadoop3.2.tgz\n",
        "!wget -q https://dlcdn.apache.org/spark/spark-3.2.1/spark-3.2.1-bin-hadoop3.2.tgz\n",
        "!tar xf spark-3.2.1-bin-hadoop3.2.tgz\n",
        "!pip install -q findspark\n",
        "!pip install pyspark\n",
        "!pip install py4j"
      ],
      "metadata": {
        "colab": {
          "base_uri": "https://localhost:8080/"
        },
        "id": "vAsD6dMnOmRa",
        "outputId": "66f3c6dd-75ae-4e10-cd3f-60d1c1ac1c25"
      },
      "execution_count": null,
      "outputs": [
        {
          "output_type": "stream",
          "name": "stdout",
          "text": [
            "\u001b[33m\r0% [Working]\u001b[0m\r            \rHit:1 http://archive.ubuntu.com/ubuntu jammy InRelease\n",
            "\u001b[33m\r0% [Waiting for headers] [Waiting for headers] [Connected to cloud.r-project.or\u001b[0m\r                                                                               \rGet:2 http://archive.ubuntu.com/ubuntu jammy-updates InRelease [119 kB]\n",
            "\r                                                                               \rHit:3 http://archive.ubuntu.com/ubuntu jammy-backports InRelease\n",
            "\r                                                                               \rGet:4 http://security.ubuntu.com/ubuntu jammy-security InRelease [110 kB]\n",
            "\r                                                                               \rGet:5 https://cloud.r-project.org/bin/linux/ubuntu jammy-cran40/ InRelease [3,626 B]\n",
            "Hit:6 https://developer.download.nvidia.com/compute/cuda/repos/ubuntu2204/x86_64  InRelease\n",
            "Hit:7 https://ppa.launchpadcontent.net/c2d4u.team/c2d4u4.0+/ubuntu jammy InRelease\n",
            "Hit:8 https://ppa.launchpadcontent.net/deadsnakes/ppa/ubuntu jammy InRelease\n",
            "Hit:9 https://ppa.launchpadcontent.net/graphics-drivers/ppa/ubuntu jammy InRelease\n",
            "Get:10 http://archive.ubuntu.com/ubuntu jammy-updates/main amd64 Packages [1,843 kB]\n",
            "Hit:11 https://ppa.launchpadcontent.net/ubuntugis/ppa/ubuntu jammy InRelease\n",
            "Get:12 http://archive.ubuntu.com/ubuntu jammy-updates/restricted amd64 Packages [1,994 kB]\n",
            "Get:13 http://archive.ubuntu.com/ubuntu jammy-updates/universe amd64 Packages [1,349 kB]\n",
            "Get:14 http://security.ubuntu.com/ubuntu jammy-security/main amd64 Packages [1,561 kB]\n",
            "Get:15 http://security.ubuntu.com/ubuntu jammy-security/universe amd64 Packages [1,076 kB]\n",
            "Get:16 http://security.ubuntu.com/ubuntu jammy-security/restricted amd64 Packages [1,951 kB]\n",
            "Fetched 10.0 MB in 2s (4,474 kB/s)\n",
            "Reading package lists... Done\n",
            "Building dependency tree... Done\n",
            "Reading state information... Done\n",
            "40 packages can be upgraded. Run 'apt list --upgradable' to see them.\n",
            "tar: spark-3.2.1-bin-hadoop3.2.tgz: Cannot open: No such file or directory\n",
            "tar: Error is not recoverable: exiting now\n",
            "Collecting pyspark\n",
            "  Downloading pyspark-3.5.1.tar.gz (317.0 MB)\n",
            "\u001b[2K     \u001b[90m━━━━━━━━━━━━━━━━━━━━━━━━━━━━━━━━━━━━━━━━\u001b[0m \u001b[32m317.0/317.0 MB\u001b[0m \u001b[31m2.0 MB/s\u001b[0m eta \u001b[36m0:00:00\u001b[0m\n",
            "\u001b[?25h  Preparing metadata (setup.py) ... \u001b[?25l\u001b[?25hdone\n",
            "Requirement already satisfied: py4j==0.10.9.7 in /usr/local/lib/python3.10/dist-packages (from pyspark) (0.10.9.7)\n",
            "Building wheels for collected packages: pyspark\n",
            "  Building wheel for pyspark (setup.py) ... \u001b[?25l\u001b[?25hdone\n",
            "  Created wheel for pyspark: filename=pyspark-3.5.1-py2.py3-none-any.whl size=317488493 sha256=4b9b6588c0b21bba16b8fad779d57c1f07da60824bd7c7dc8bf627bf38c2a346\n",
            "  Stored in directory: /root/.cache/pip/wheels/80/1d/60/2c256ed38dddce2fdd93be545214a63e02fbd8d74fb0b7f3a6\n",
            "Successfully built pyspark\n",
            "Installing collected packages: pyspark\n",
            "Successfully installed pyspark-3.5.1\n",
            "Requirement already satisfied: py4j in /usr/local/lib/python3.10/dist-packages (0.10.9.7)\n"
          ]
        }
      ]
    },
    {
      "cell_type": "code",
      "source": [
        "## 초기화\n",
        "import findspark\n",
        "findspark.init()\n",
        "findspark.find()"
      ],
      "metadata": {
        "colab": {
          "base_uri": "https://localhost:8080/",
          "height": 36
        },
        "id": "TWO15_caRYC0",
        "outputId": "88e6de8c-4d7b-403e-a318-1cc396491c64"
      },
      "execution_count": null,
      "outputs": [
        {
          "output_type": "execute_result",
          "data": {
            "text/plain": [
              "'/usr/local/lib/python3.10/dist-packages/pyspark'"
            ],
            "application/vnd.google.colaboratory.intrinsic+json": {
              "type": "string"
            }
          },
          "metadata": {},
          "execution_count": 2
        }
      ]
    },
    {
      "cell_type": "code",
      "source": [
        "import pyspark\n",
        "from pyspark.sql import DataFrame, SparkSession"
      ],
      "metadata": {
        "id": "4AHuphDGRZHQ"
      },
      "execution_count": null,
      "outputs": []
    },
    {
      "cell_type": "code",
      "source": [
        "## Session 생성\n",
        "spark = (\n",
        "    SparkSession\n",
        "    .builder\n",
        "    .appName(\"First Session\")\n",
        "    .getOrCreate()\n",
        ")\n",
        "\n",
        "spark"
      ],
      "metadata": {
        "colab": {
          "base_uri": "https://localhost:8080/",
          "height": 221
        },
        "id": "vbUFGFBvRbB5",
        "outputId": "6c109d5b-4a61-4a8b-82f4-9743492b6e24"
      },
      "execution_count": null,
      "outputs": [
        {
          "output_type": "execute_result",
          "data": {
            "text/plain": [
              "<pyspark.sql.session.SparkSession at 0x7d7bda932140>"
            ],
            "text/html": [
              "\n",
              "            <div>\n",
              "                <p><b>SparkSession - in-memory</b></p>\n",
              "                \n",
              "        <div>\n",
              "            <p><b>SparkContext</b></p>\n",
              "\n",
              "            <p><a href=\"http://187adf427216:4040\">Spark UI</a></p>\n",
              "\n",
              "            <dl>\n",
              "              <dt>Version</dt>\n",
              "                <dd><code>v3.5.1</code></dd>\n",
              "              <dt>Master</dt>\n",
              "                <dd><code>local[*]</code></dd>\n",
              "              <dt>AppName</dt>\n",
              "                <dd><code>First Session</code></dd>\n",
              "            </dl>\n",
              "        </div>\n",
              "        \n",
              "            </div>\n",
              "        "
            ]
          },
          "metadata": {},
          "execution_count": 4
        }
      ]
    },
    {
      "cell_type": "code",
      "source": [
        "spark.sparkContext.getConf().getAll()"
      ],
      "metadata": {
        "colab": {
          "base_uri": "https://localhost:8080/"
        },
        "id": "ojHKlwzRkVJ4",
        "outputId": "759599dc-b9fd-4e8a-b0ce-fc3b8e742922"
      },
      "execution_count": null,
      "outputs": [
        {
          "output_type": "execute_result",
          "data": {
            "text/plain": [
              "[('spark.driver.port', '40901'),\n",
              " ('spark.driver.extraJavaOptions',\n",
              "  '-Djava.net.preferIPv6Addresses=false -XX:+IgnoreUnrecognizedVMOptions --add-opens=java.base/java.lang=ALL-UNNAMED --add-opens=java.base/java.lang.invoke=ALL-UNNAMED --add-opens=java.base/java.lang.reflect=ALL-UNNAMED --add-opens=java.base/java.io=ALL-UNNAMED --add-opens=java.base/java.net=ALL-UNNAMED --add-opens=java.base/java.nio=ALL-UNNAMED --add-opens=java.base/java.util=ALL-UNNAMED --add-opens=java.base/java.util.concurrent=ALL-UNNAMED --add-opens=java.base/java.util.concurrent.atomic=ALL-UNNAMED --add-opens=java.base/jdk.internal.ref=ALL-UNNAMED --add-opens=java.base/sun.nio.ch=ALL-UNNAMED --add-opens=java.base/sun.nio.cs=ALL-UNNAMED --add-opens=java.base/sun.security.action=ALL-UNNAMED --add-opens=java.base/sun.util.calendar=ALL-UNNAMED --add-opens=java.security.jgss/sun.security.krb5=ALL-UNNAMED -Djdk.reflect.useDirectMethodHandle=false'),\n",
              " ('spark.driver.memory', '4g'),\n",
              " ('spark.executor.memory', '4g'),\n",
              " ('spark.driver.host', '36dee20af093'),\n",
              " ('spark.app.id', 'local-1710093677038'),\n",
              " ('spark.executor.id', 'driver'),\n",
              " ('spark.sql.warehouse.dir', 'file:/content/spark-warehouse'),\n",
              " ('spark.executor.cores', '4'),\n",
              " ('spark.cores.max', '4'),\n",
              " ('spark.app.submitTime', '1710093674660'),\n",
              " ('spark.app.name', 'Spark Updated Conf'),\n",
              " ('spark.rdd.compress', 'True'),\n",
              " ('spark.executor.extraJavaOptions',\n",
              "  '-Djava.net.preferIPv6Addresses=false -XX:+IgnoreUnrecognizedVMOptions --add-opens=java.base/java.lang=ALL-UNNAMED --add-opens=java.base/java.lang.invoke=ALL-UNNAMED --add-opens=java.base/java.lang.reflect=ALL-UNNAMED --add-opens=java.base/java.io=ALL-UNNAMED --add-opens=java.base/java.net=ALL-UNNAMED --add-opens=java.base/java.nio=ALL-UNNAMED --add-opens=java.base/java.util=ALL-UNNAMED --add-opens=java.base/java.util.concurrent=ALL-UNNAMED --add-opens=java.base/java.util.concurrent.atomic=ALL-UNNAMED --add-opens=java.base/jdk.internal.ref=ALL-UNNAMED --add-opens=java.base/sun.nio.ch=ALL-UNNAMED --add-opens=java.base/sun.nio.cs=ALL-UNNAMED --add-opens=java.base/sun.security.action=ALL-UNNAMED --add-opens=java.base/sun.util.calendar=ALL-UNNAMED --add-opens=java.security.jgss/sun.security.krb5=ALL-UNNAMED -Djdk.reflect.useDirectMethodHandle=false'),\n",
              " ('spark.app.startTime', '1710093674976'),\n",
              " ('spark.serializer.objectStreamReset', '100'),\n",
              " ('spark.master', 'local[*]'),\n",
              " ('spark.submit.pyFiles', ''),\n",
              " ('spark.submit.deployMode', 'client'),\n",
              " ('spark.ui.showConsoleProgress', 'true')]"
            ]
          },
          "metadata": {},
          "execution_count": 26
        }
      ]
    },
    {
      "cell_type": "code",
      "source": [
        "conf = spark.sparkContext._conf.setAll([\n",
        "     ('spark.executor.memory', '2g'),\n",
        "     ('spark.app.name', 'Spark Updated Conf'),\n",
        "     ('spark.executor.cores', '4'),\n",
        "     ('spark.cores.max', '4'),\n",
        "     ('spark.driver.memory','2g')\n",
        "    ])\n",
        "\n",
        "## Session 생성\n",
        "spark = (\n",
        "    SparkSession\n",
        "    .builder\n",
        "    .config(conf=conf)\n",
        "    .getOrCreate()\n",
        ")\n",
        "\n",
        "spark"
      ],
      "metadata": {
        "colab": {
          "base_uri": "https://localhost:8080/",
          "height": 221
        },
        "id": "gRN7cphyjzNH",
        "outputId": "e0d44e80-6181-4d87-b372-8b8722d6bd98"
      },
      "execution_count": null,
      "outputs": [
        {
          "output_type": "execute_result",
          "data": {
            "text/plain": [
              "<pyspark.sql.session.SparkSession at 0x7d7bda932140>"
            ],
            "text/html": [
              "\n",
              "            <div>\n",
              "                <p><b>SparkSession - in-memory</b></p>\n",
              "                \n",
              "        <div>\n",
              "            <p><b>SparkContext</b></p>\n",
              "\n",
              "            <p><a href=\"http://187adf427216:4040\">Spark UI</a></p>\n",
              "\n",
              "            <dl>\n",
              "              <dt>Version</dt>\n",
              "                <dd><code>v3.5.1</code></dd>\n",
              "              <dt>Master</dt>\n",
              "                <dd><code>local[*]</code></dd>\n",
              "              <dt>AppName</dt>\n",
              "                <dd><code>First Session</code></dd>\n",
              "            </dl>\n",
              "        </div>\n",
              "        \n",
              "            </div>\n",
              "        "
            ]
          },
          "metadata": {},
          "execution_count": 5
        }
      ]
    },
    {
      "cell_type": "code",
      "source": [
        "spark.sparkContext.getConf().getAll()"
      ],
      "metadata": {
        "colab": {
          "base_uri": "https://localhost:8080/"
        },
        "id": "L-7vjtDHi23H",
        "outputId": "a9141489-8bf2-4621-b2e5-690b14822313"
      },
      "execution_count": null,
      "outputs": [
        {
          "output_type": "execute_result",
          "data": {
            "text/plain": [
              "[('spark.executor.memory', '2g'),\n",
              " ('spark.driver.extraJavaOptions',\n",
              "  '-Djava.net.preferIPv6Addresses=false -XX:+IgnoreUnrecognizedVMOptions --add-opens=java.base/java.lang=ALL-UNNAMED --add-opens=java.base/java.lang.invoke=ALL-UNNAMED --add-opens=java.base/java.lang.reflect=ALL-UNNAMED --add-opens=java.base/java.io=ALL-UNNAMED --add-opens=java.base/java.net=ALL-UNNAMED --add-opens=java.base/java.nio=ALL-UNNAMED --add-opens=java.base/java.util=ALL-UNNAMED --add-opens=java.base/java.util.concurrent=ALL-UNNAMED --add-opens=java.base/java.util.concurrent.atomic=ALL-UNNAMED --add-opens=java.base/jdk.internal.ref=ALL-UNNAMED --add-opens=java.base/sun.nio.ch=ALL-UNNAMED --add-opens=java.base/sun.nio.cs=ALL-UNNAMED --add-opens=java.base/sun.security.action=ALL-UNNAMED --add-opens=java.base/sun.util.calendar=ALL-UNNAMED --add-opens=java.security.jgss/sun.security.krb5=ALL-UNNAMED -Djdk.reflect.useDirectMethodHandle=false'),\n",
              " ('spark.driver.port', '43103'),\n",
              " ('spark.executor.id', 'driver'),\n",
              " ('spark.sql.warehouse.dir', 'file:/content/spark-warehouse'),\n",
              " ('spark.executor.cores', '4'),\n",
              " ('spark.app.submitTime', '1710125499952'),\n",
              " ('spark.cores.max', '4'),\n",
              " ('spark.app.name', 'Spark Updated Conf'),\n",
              " ('spark.rdd.compress', 'True'),\n",
              " ('spark.executor.extraJavaOptions',\n",
              "  '-Djava.net.preferIPv6Addresses=false -XX:+IgnoreUnrecognizedVMOptions --add-opens=java.base/java.lang=ALL-UNNAMED --add-opens=java.base/java.lang.invoke=ALL-UNNAMED --add-opens=java.base/java.lang.reflect=ALL-UNNAMED --add-opens=java.base/java.io=ALL-UNNAMED --add-opens=java.base/java.net=ALL-UNNAMED --add-opens=java.base/java.nio=ALL-UNNAMED --add-opens=java.base/java.util=ALL-UNNAMED --add-opens=java.base/java.util.concurrent=ALL-UNNAMED --add-opens=java.base/java.util.concurrent.atomic=ALL-UNNAMED --add-opens=java.base/jdk.internal.ref=ALL-UNNAMED --add-opens=java.base/sun.nio.ch=ALL-UNNAMED --add-opens=java.base/sun.nio.cs=ALL-UNNAMED --add-opens=java.base/sun.security.action=ALL-UNNAMED --add-opens=java.base/sun.util.calendar=ALL-UNNAMED --add-opens=java.security.jgss/sun.security.krb5=ALL-UNNAMED -Djdk.reflect.useDirectMethodHandle=false'),\n",
              " ('spark.driver.host', '187adf427216'),\n",
              " ('spark.driver.memory', '2g'),\n",
              " ('spark.app.id', 'local-1710125503402'),\n",
              " ('spark.serializer.objectStreamReset', '100'),\n",
              " ('spark.master', 'local[*]'),\n",
              " ('spark.submit.pyFiles', ''),\n",
              " ('spark.submit.deployMode', 'client'),\n",
              " ('spark.ui.showConsoleProgress', 'true'),\n",
              " ('spark.app.startTime', '1710125500294')]"
            ]
          },
          "metadata": {},
          "execution_count": 6
        }
      ]
    },
    {
      "cell_type": "code",
      "source": [
        "## df 생성\n",
        "df = spark.range(500).toDF(\"number\")"
      ],
      "metadata": {
        "id": "OMd7W0oFh_DQ"
      },
      "execution_count": null,
      "outputs": []
    },
    {
      "cell_type": "code",
      "source": [
        "df.printSchema()"
      ],
      "metadata": {
        "colab": {
          "base_uri": "https://localhost:8080/"
        },
        "id": "9U2gr9fQrilH",
        "outputId": "4867b523-c7ab-4eb0-aa82-78f2a80812af"
      },
      "execution_count": null,
      "outputs": [
        {
          "output_type": "stream",
          "name": "stdout",
          "text": [
            "root\n",
            " |-- number: long (nullable = false)\n",
            "\n"
          ]
        }
      ]
    },
    {
      "cell_type": "code",
      "source": [
        "df.show()"
      ],
      "metadata": {
        "colab": {
          "base_uri": "https://localhost:8080/"
        },
        "id": "UQxIWRgXbcY-",
        "outputId": "4cd115f9-1097-451d-d6a1-2e599480f371"
      },
      "execution_count": null,
      "outputs": [
        {
          "output_type": "stream",
          "name": "stdout",
          "text": [
            "+------+\n",
            "|number|\n",
            "+------+\n",
            "|     0|\n",
            "|     1|\n",
            "|     2|\n",
            "|     3|\n",
            "|     4|\n",
            "|     5|\n",
            "|     6|\n",
            "|     7|\n",
            "|     8|\n",
            "|     9|\n",
            "|    10|\n",
            "|    11|\n",
            "|    12|\n",
            "|    13|\n",
            "|    14|\n",
            "|    15|\n",
            "|    16|\n",
            "|    17|\n",
            "|    18|\n",
            "|    19|\n",
            "+------+\n",
            "only showing top 20 rows\n",
            "\n"
          ]
        }
      ]
    },
    {
      "cell_type": "markdown",
      "source": [
        "### Transformation"
      ],
      "metadata": {
        "id": "EheeYmYfpKrP"
      }
    },
    {
      "cell_type": "code",
      "source": [
        "df.select(\"number\")"
      ],
      "metadata": {
        "colab": {
          "base_uri": "https://localhost:8080/"
        },
        "id": "arhltJEVnoTm",
        "outputId": "7c222d2e-61f6-472a-ba76-4baa6aa04927"
      },
      "execution_count": null,
      "outputs": [
        {
          "output_type": "execute_result",
          "data": {
            "text/plain": [
              "DataFrame[number: bigint]"
            ]
          },
          "metadata": {},
          "execution_count": 44
        }
      ]
    },
    {
      "cell_type": "code",
      "source": [
        "import pyspark.sql.functions as f"
      ],
      "metadata": {
        "id": "uqSB1csnb3-D"
      },
      "execution_count": null,
      "outputs": []
    },
    {
      "cell_type": "code",
      "source": [
        "## 덧셈과 곱셈\n",
        "df_ = df.select((f.col(\"number\") * 2 + 10).alias(\"number\"))\n",
        "df_"
      ],
      "metadata": {
        "colab": {
          "base_uri": "https://localhost:8080/"
        },
        "id": "kfKQaJNJpB2V",
        "outputId": "cff3737d-8f35-493c-ef93-0dc93c56c28e"
      },
      "execution_count": null,
      "outputs": [
        {
          "output_type": "execute_result",
          "data": {
            "text/plain": [
              "DataFrame[number: bigint]"
            ]
          },
          "metadata": {},
          "execution_count": 23
        }
      ]
    },
    {
      "cell_type": "code",
      "source": [
        "df = df.withColumn('number2', df[\"number\"] * 2 + 10)\n",
        "df"
      ],
      "metadata": {
        "colab": {
          "base_uri": "https://localhost:8080/"
        },
        "id": "cfMX3loqpbyE",
        "outputId": "811d706e-507c-49ba-cc01-a5cd9e918957"
      },
      "execution_count": null,
      "outputs": [
        {
          "output_type": "execute_result",
          "data": {
            "text/plain": [
              "DataFrame[number: bigint, number2: bigint]"
            ]
          },
          "metadata": {},
          "execution_count": 25
        }
      ]
    },
    {
      "cell_type": "code",
      "source": [
        "df.select(df[\"number\"].cast(\"short\").alias('number_short'), \"number2\")"
      ],
      "metadata": {
        "colab": {
          "base_uri": "https://localhost:8080/"
        },
        "id": "_W_9a1dHpNKq",
        "outputId": "a14aa422-c76a-418d-e656-ec3efe9cd466"
      },
      "execution_count": null,
      "outputs": [
        {
          "output_type": "execute_result",
          "data": {
            "text/plain": [
              "DataFrame[number_short: smallint, number2: bigint]"
            ]
          },
          "metadata": {},
          "execution_count": 28
        }
      ]
    },
    {
      "cell_type": "code",
      "source": [
        "df.filter(df[\"number\"] > 3)"
      ],
      "metadata": {
        "colab": {
          "base_uri": "https://localhost:8080/"
        },
        "id": "InWT3BG0q2nd",
        "outputId": "084b6fc0-a619-4752-eaef-86db8665e207"
      },
      "execution_count": null,
      "outputs": [
        {
          "output_type": "execute_result",
          "data": {
            "text/plain": [
              "DataFrame[number: bigint, number2: bigint]"
            ]
          },
          "metadata": {},
          "execution_count": 29
        }
      ]
    },
    {
      "cell_type": "markdown",
      "source": [
        "### SparkSQL"
      ],
      "metadata": {
        "id": "QmogzhURpkts"
      }
    },
    {
      "cell_type": "code",
      "source": [
        "## View 생성\n",
        "df.createOrReplaceTempView(\"df_number\")"
      ],
      "metadata": {
        "id": "lGeOQH3SoorE"
      },
      "execution_count": null,
      "outputs": []
    },
    {
      "cell_type": "code",
      "source": [
        "spark.sql(\"\"\"SELECT * FROM df_number;\"\"\").show()"
      ],
      "metadata": {
        "colab": {
          "base_uri": "https://localhost:8080/"
        },
        "id": "EURYBK0boI_b",
        "outputId": "b4ac0483-29d2-4ff5-f2c3-62002bc5ac82"
      },
      "execution_count": null,
      "outputs": [
        {
          "output_type": "stream",
          "name": "stdout",
          "text": [
            "+------+-------+\n",
            "|number|number2|\n",
            "+------+-------+\n",
            "|     0|     10|\n",
            "|     1|     12|\n",
            "|     2|     14|\n",
            "|     3|     16|\n",
            "|     4|     18|\n",
            "|     5|     20|\n",
            "|     6|     22|\n",
            "|     7|     24|\n",
            "|     8|     26|\n",
            "|     9|     28|\n",
            "|    10|     30|\n",
            "|    11|     32|\n",
            "|    12|     34|\n",
            "|    13|     36|\n",
            "|    14|     38|\n",
            "|    15|     40|\n",
            "|    16|     42|\n",
            "|    17|     44|\n",
            "|    18|     46|\n",
            "|    19|     48|\n",
            "+------+-------+\n",
            "only showing top 20 rows\n",
            "\n"
          ]
        }
      ]
    },
    {
      "cell_type": "markdown",
      "source": [
        "### Action"
      ],
      "metadata": {
        "id": "EWY_s6BwrwfL"
      }
    },
    {
      "cell_type": "code",
      "source": [
        "df.collect()"
      ],
      "metadata": {
        "colab": {
          "base_uri": "https://localhost:8080/"
        },
        "id": "N2uxLcrLiEUN",
        "outputId": "6e895b61-7ad0-4665-fc3e-04501e2b8774"
      },
      "execution_count": null,
      "outputs": [
        {
          "output_type": "execute_result",
          "data": {
            "text/plain": [
              "[Row(number=0, number2=10),\n",
              " Row(number=1, number2=12),\n",
              " Row(number=2, number2=14),\n",
              " Row(number=3, number2=16),\n",
              " Row(number=4, number2=18),\n",
              " Row(number=5, number2=20),\n",
              " Row(number=6, number2=22),\n",
              " Row(number=7, number2=24),\n",
              " Row(number=8, number2=26),\n",
              " Row(number=9, number2=28),\n",
              " Row(number=10, number2=30),\n",
              " Row(number=11, number2=32),\n",
              " Row(number=12, number2=34),\n",
              " Row(number=13, number2=36),\n",
              " Row(number=14, number2=38),\n",
              " Row(number=15, number2=40),\n",
              " Row(number=16, number2=42),\n",
              " Row(number=17, number2=44),\n",
              " Row(number=18, number2=46),\n",
              " Row(number=19, number2=48),\n",
              " Row(number=20, number2=50),\n",
              " Row(number=21, number2=52),\n",
              " Row(number=22, number2=54),\n",
              " Row(number=23, number2=56),\n",
              " Row(number=24, number2=58),\n",
              " Row(number=25, number2=60),\n",
              " Row(number=26, number2=62),\n",
              " Row(number=27, number2=64),\n",
              " Row(number=28, number2=66),\n",
              " Row(number=29, number2=68),\n",
              " Row(number=30, number2=70),\n",
              " Row(number=31, number2=72),\n",
              " Row(number=32, number2=74),\n",
              " Row(number=33, number2=76),\n",
              " Row(number=34, number2=78),\n",
              " Row(number=35, number2=80),\n",
              " Row(number=36, number2=82),\n",
              " Row(number=37, number2=84),\n",
              " Row(number=38, number2=86),\n",
              " Row(number=39, number2=88),\n",
              " Row(number=40, number2=90),\n",
              " Row(number=41, number2=92),\n",
              " Row(number=42, number2=94),\n",
              " Row(number=43, number2=96),\n",
              " Row(number=44, number2=98),\n",
              " Row(number=45, number2=100),\n",
              " Row(number=46, number2=102),\n",
              " Row(number=47, number2=104),\n",
              " Row(number=48, number2=106),\n",
              " Row(number=49, number2=108),\n",
              " Row(number=50, number2=110),\n",
              " Row(number=51, number2=112),\n",
              " Row(number=52, number2=114),\n",
              " Row(number=53, number2=116),\n",
              " Row(number=54, number2=118),\n",
              " Row(number=55, number2=120),\n",
              " Row(number=56, number2=122),\n",
              " Row(number=57, number2=124),\n",
              " Row(number=58, number2=126),\n",
              " Row(number=59, number2=128),\n",
              " Row(number=60, number2=130),\n",
              " Row(number=61, number2=132),\n",
              " Row(number=62, number2=134),\n",
              " Row(number=63, number2=136),\n",
              " Row(number=64, number2=138),\n",
              " Row(number=65, number2=140),\n",
              " Row(number=66, number2=142),\n",
              " Row(number=67, number2=144),\n",
              " Row(number=68, number2=146),\n",
              " Row(number=69, number2=148),\n",
              " Row(number=70, number2=150),\n",
              " Row(number=71, number2=152),\n",
              " Row(number=72, number2=154),\n",
              " Row(number=73, number2=156),\n",
              " Row(number=74, number2=158),\n",
              " Row(number=75, number2=160),\n",
              " Row(number=76, number2=162),\n",
              " Row(number=77, number2=164),\n",
              " Row(number=78, number2=166),\n",
              " Row(number=79, number2=168),\n",
              " Row(number=80, number2=170),\n",
              " Row(number=81, number2=172),\n",
              " Row(number=82, number2=174),\n",
              " Row(number=83, number2=176),\n",
              " Row(number=84, number2=178),\n",
              " Row(number=85, number2=180),\n",
              " Row(number=86, number2=182),\n",
              " Row(number=87, number2=184),\n",
              " Row(number=88, number2=186),\n",
              " Row(number=89, number2=188),\n",
              " Row(number=90, number2=190),\n",
              " Row(number=91, number2=192),\n",
              " Row(number=92, number2=194),\n",
              " Row(number=93, number2=196),\n",
              " Row(number=94, number2=198),\n",
              " Row(number=95, number2=200),\n",
              " Row(number=96, number2=202),\n",
              " Row(number=97, number2=204),\n",
              " Row(number=98, number2=206),\n",
              " Row(number=99, number2=208),\n",
              " Row(number=100, number2=210),\n",
              " Row(number=101, number2=212),\n",
              " Row(number=102, number2=214),\n",
              " Row(number=103, number2=216),\n",
              " Row(number=104, number2=218),\n",
              " Row(number=105, number2=220),\n",
              " Row(number=106, number2=222),\n",
              " Row(number=107, number2=224),\n",
              " Row(number=108, number2=226),\n",
              " Row(number=109, number2=228),\n",
              " Row(number=110, number2=230),\n",
              " Row(number=111, number2=232),\n",
              " Row(number=112, number2=234),\n",
              " Row(number=113, number2=236),\n",
              " Row(number=114, number2=238),\n",
              " Row(number=115, number2=240),\n",
              " Row(number=116, number2=242),\n",
              " Row(number=117, number2=244),\n",
              " Row(number=118, number2=246),\n",
              " Row(number=119, number2=248),\n",
              " Row(number=120, number2=250),\n",
              " Row(number=121, number2=252),\n",
              " Row(number=122, number2=254),\n",
              " Row(number=123, number2=256),\n",
              " Row(number=124, number2=258),\n",
              " Row(number=125, number2=260),\n",
              " Row(number=126, number2=262),\n",
              " Row(number=127, number2=264),\n",
              " Row(number=128, number2=266),\n",
              " Row(number=129, number2=268),\n",
              " Row(number=130, number2=270),\n",
              " Row(number=131, number2=272),\n",
              " Row(number=132, number2=274),\n",
              " Row(number=133, number2=276),\n",
              " Row(number=134, number2=278),\n",
              " Row(number=135, number2=280),\n",
              " Row(number=136, number2=282),\n",
              " Row(number=137, number2=284),\n",
              " Row(number=138, number2=286),\n",
              " Row(number=139, number2=288),\n",
              " Row(number=140, number2=290),\n",
              " Row(number=141, number2=292),\n",
              " Row(number=142, number2=294),\n",
              " Row(number=143, number2=296),\n",
              " Row(number=144, number2=298),\n",
              " Row(number=145, number2=300),\n",
              " Row(number=146, number2=302),\n",
              " Row(number=147, number2=304),\n",
              " Row(number=148, number2=306),\n",
              " Row(number=149, number2=308),\n",
              " Row(number=150, number2=310),\n",
              " Row(number=151, number2=312),\n",
              " Row(number=152, number2=314),\n",
              " Row(number=153, number2=316),\n",
              " Row(number=154, number2=318),\n",
              " Row(number=155, number2=320),\n",
              " Row(number=156, number2=322),\n",
              " Row(number=157, number2=324),\n",
              " Row(number=158, number2=326),\n",
              " Row(number=159, number2=328),\n",
              " Row(number=160, number2=330),\n",
              " Row(number=161, number2=332),\n",
              " Row(number=162, number2=334),\n",
              " Row(number=163, number2=336),\n",
              " Row(number=164, number2=338),\n",
              " Row(number=165, number2=340),\n",
              " Row(number=166, number2=342),\n",
              " Row(number=167, number2=344),\n",
              " Row(number=168, number2=346),\n",
              " Row(number=169, number2=348),\n",
              " Row(number=170, number2=350),\n",
              " Row(number=171, number2=352),\n",
              " Row(number=172, number2=354),\n",
              " Row(number=173, number2=356),\n",
              " Row(number=174, number2=358),\n",
              " Row(number=175, number2=360),\n",
              " Row(number=176, number2=362),\n",
              " Row(number=177, number2=364),\n",
              " Row(number=178, number2=366),\n",
              " Row(number=179, number2=368),\n",
              " Row(number=180, number2=370),\n",
              " Row(number=181, number2=372),\n",
              " Row(number=182, number2=374),\n",
              " Row(number=183, number2=376),\n",
              " Row(number=184, number2=378),\n",
              " Row(number=185, number2=380),\n",
              " Row(number=186, number2=382),\n",
              " Row(number=187, number2=384),\n",
              " Row(number=188, number2=386),\n",
              " Row(number=189, number2=388),\n",
              " Row(number=190, number2=390),\n",
              " Row(number=191, number2=392),\n",
              " Row(number=192, number2=394),\n",
              " Row(number=193, number2=396),\n",
              " Row(number=194, number2=398),\n",
              " Row(number=195, number2=400),\n",
              " Row(number=196, number2=402),\n",
              " Row(number=197, number2=404),\n",
              " Row(number=198, number2=406),\n",
              " Row(number=199, number2=408),\n",
              " Row(number=200, number2=410),\n",
              " Row(number=201, number2=412),\n",
              " Row(number=202, number2=414),\n",
              " Row(number=203, number2=416),\n",
              " Row(number=204, number2=418),\n",
              " Row(number=205, number2=420),\n",
              " Row(number=206, number2=422),\n",
              " Row(number=207, number2=424),\n",
              " Row(number=208, number2=426),\n",
              " Row(number=209, number2=428),\n",
              " Row(number=210, number2=430),\n",
              " Row(number=211, number2=432),\n",
              " Row(number=212, number2=434),\n",
              " Row(number=213, number2=436),\n",
              " Row(number=214, number2=438),\n",
              " Row(number=215, number2=440),\n",
              " Row(number=216, number2=442),\n",
              " Row(number=217, number2=444),\n",
              " Row(number=218, number2=446),\n",
              " Row(number=219, number2=448),\n",
              " Row(number=220, number2=450),\n",
              " Row(number=221, number2=452),\n",
              " Row(number=222, number2=454),\n",
              " Row(number=223, number2=456),\n",
              " Row(number=224, number2=458),\n",
              " Row(number=225, number2=460),\n",
              " Row(number=226, number2=462),\n",
              " Row(number=227, number2=464),\n",
              " Row(number=228, number2=466),\n",
              " Row(number=229, number2=468),\n",
              " Row(number=230, number2=470),\n",
              " Row(number=231, number2=472),\n",
              " Row(number=232, number2=474),\n",
              " Row(number=233, number2=476),\n",
              " Row(number=234, number2=478),\n",
              " Row(number=235, number2=480),\n",
              " Row(number=236, number2=482),\n",
              " Row(number=237, number2=484),\n",
              " Row(number=238, number2=486),\n",
              " Row(number=239, number2=488),\n",
              " Row(number=240, number2=490),\n",
              " Row(number=241, number2=492),\n",
              " Row(number=242, number2=494),\n",
              " Row(number=243, number2=496),\n",
              " Row(number=244, number2=498),\n",
              " Row(number=245, number2=500),\n",
              " Row(number=246, number2=502),\n",
              " Row(number=247, number2=504),\n",
              " Row(number=248, number2=506),\n",
              " Row(number=249, number2=508),\n",
              " Row(number=250, number2=510),\n",
              " Row(number=251, number2=512),\n",
              " Row(number=252, number2=514),\n",
              " Row(number=253, number2=516),\n",
              " Row(number=254, number2=518),\n",
              " Row(number=255, number2=520),\n",
              " Row(number=256, number2=522),\n",
              " Row(number=257, number2=524),\n",
              " Row(number=258, number2=526),\n",
              " Row(number=259, number2=528),\n",
              " Row(number=260, number2=530),\n",
              " Row(number=261, number2=532),\n",
              " Row(number=262, number2=534),\n",
              " Row(number=263, number2=536),\n",
              " Row(number=264, number2=538),\n",
              " Row(number=265, number2=540),\n",
              " Row(number=266, number2=542),\n",
              " Row(number=267, number2=544),\n",
              " Row(number=268, number2=546),\n",
              " Row(number=269, number2=548),\n",
              " Row(number=270, number2=550),\n",
              " Row(number=271, number2=552),\n",
              " Row(number=272, number2=554),\n",
              " Row(number=273, number2=556),\n",
              " Row(number=274, number2=558),\n",
              " Row(number=275, number2=560),\n",
              " Row(number=276, number2=562),\n",
              " Row(number=277, number2=564),\n",
              " Row(number=278, number2=566),\n",
              " Row(number=279, number2=568),\n",
              " Row(number=280, number2=570),\n",
              " Row(number=281, number2=572),\n",
              " Row(number=282, number2=574),\n",
              " Row(number=283, number2=576),\n",
              " Row(number=284, number2=578),\n",
              " Row(number=285, number2=580),\n",
              " Row(number=286, number2=582),\n",
              " Row(number=287, number2=584),\n",
              " Row(number=288, number2=586),\n",
              " Row(number=289, number2=588),\n",
              " Row(number=290, number2=590),\n",
              " Row(number=291, number2=592),\n",
              " Row(number=292, number2=594),\n",
              " Row(number=293, number2=596),\n",
              " Row(number=294, number2=598),\n",
              " Row(number=295, number2=600),\n",
              " Row(number=296, number2=602),\n",
              " Row(number=297, number2=604),\n",
              " Row(number=298, number2=606),\n",
              " Row(number=299, number2=608),\n",
              " Row(number=300, number2=610),\n",
              " Row(number=301, number2=612),\n",
              " Row(number=302, number2=614),\n",
              " Row(number=303, number2=616),\n",
              " Row(number=304, number2=618),\n",
              " Row(number=305, number2=620),\n",
              " Row(number=306, number2=622),\n",
              " Row(number=307, number2=624),\n",
              " Row(number=308, number2=626),\n",
              " Row(number=309, number2=628),\n",
              " Row(number=310, number2=630),\n",
              " Row(number=311, number2=632),\n",
              " Row(number=312, number2=634),\n",
              " Row(number=313, number2=636),\n",
              " Row(number=314, number2=638),\n",
              " Row(number=315, number2=640),\n",
              " Row(number=316, number2=642),\n",
              " Row(number=317, number2=644),\n",
              " Row(number=318, number2=646),\n",
              " Row(number=319, number2=648),\n",
              " Row(number=320, number2=650),\n",
              " Row(number=321, number2=652),\n",
              " Row(number=322, number2=654),\n",
              " Row(number=323, number2=656),\n",
              " Row(number=324, number2=658),\n",
              " Row(number=325, number2=660),\n",
              " Row(number=326, number2=662),\n",
              " Row(number=327, number2=664),\n",
              " Row(number=328, number2=666),\n",
              " Row(number=329, number2=668),\n",
              " Row(number=330, number2=670),\n",
              " Row(number=331, number2=672),\n",
              " Row(number=332, number2=674),\n",
              " Row(number=333, number2=676),\n",
              " Row(number=334, number2=678),\n",
              " Row(number=335, number2=680),\n",
              " Row(number=336, number2=682),\n",
              " Row(number=337, number2=684),\n",
              " Row(number=338, number2=686),\n",
              " Row(number=339, number2=688),\n",
              " Row(number=340, number2=690),\n",
              " Row(number=341, number2=692),\n",
              " Row(number=342, number2=694),\n",
              " Row(number=343, number2=696),\n",
              " Row(number=344, number2=698),\n",
              " Row(number=345, number2=700),\n",
              " Row(number=346, number2=702),\n",
              " Row(number=347, number2=704),\n",
              " Row(number=348, number2=706),\n",
              " Row(number=349, number2=708),\n",
              " Row(number=350, number2=710),\n",
              " Row(number=351, number2=712),\n",
              " Row(number=352, number2=714),\n",
              " Row(number=353, number2=716),\n",
              " Row(number=354, number2=718),\n",
              " Row(number=355, number2=720),\n",
              " Row(number=356, number2=722),\n",
              " Row(number=357, number2=724),\n",
              " Row(number=358, number2=726),\n",
              " Row(number=359, number2=728),\n",
              " Row(number=360, number2=730),\n",
              " Row(number=361, number2=732),\n",
              " Row(number=362, number2=734),\n",
              " Row(number=363, number2=736),\n",
              " Row(number=364, number2=738),\n",
              " Row(number=365, number2=740),\n",
              " Row(number=366, number2=742),\n",
              " Row(number=367, number2=744),\n",
              " Row(number=368, number2=746),\n",
              " Row(number=369, number2=748),\n",
              " Row(number=370, number2=750),\n",
              " Row(number=371, number2=752),\n",
              " Row(number=372, number2=754),\n",
              " Row(number=373, number2=756),\n",
              " Row(number=374, number2=758),\n",
              " Row(number=375, number2=760),\n",
              " Row(number=376, number2=762),\n",
              " Row(number=377, number2=764),\n",
              " Row(number=378, number2=766),\n",
              " Row(number=379, number2=768),\n",
              " Row(number=380, number2=770),\n",
              " Row(number=381, number2=772),\n",
              " Row(number=382, number2=774),\n",
              " Row(number=383, number2=776),\n",
              " Row(number=384, number2=778),\n",
              " Row(number=385, number2=780),\n",
              " Row(number=386, number2=782),\n",
              " Row(number=387, number2=784),\n",
              " Row(number=388, number2=786),\n",
              " Row(number=389, number2=788),\n",
              " Row(number=390, number2=790),\n",
              " Row(number=391, number2=792),\n",
              " Row(number=392, number2=794),\n",
              " Row(number=393, number2=796),\n",
              " Row(number=394, number2=798),\n",
              " Row(number=395, number2=800),\n",
              " Row(number=396, number2=802),\n",
              " Row(number=397, number2=804),\n",
              " Row(number=398, number2=806),\n",
              " Row(number=399, number2=808),\n",
              " Row(number=400, number2=810),\n",
              " Row(number=401, number2=812),\n",
              " Row(number=402, number2=814),\n",
              " Row(number=403, number2=816),\n",
              " Row(number=404, number2=818),\n",
              " Row(number=405, number2=820),\n",
              " Row(number=406, number2=822),\n",
              " Row(number=407, number2=824),\n",
              " Row(number=408, number2=826),\n",
              " Row(number=409, number2=828),\n",
              " Row(number=410, number2=830),\n",
              " Row(number=411, number2=832),\n",
              " Row(number=412, number2=834),\n",
              " Row(number=413, number2=836),\n",
              " Row(number=414, number2=838),\n",
              " Row(number=415, number2=840),\n",
              " Row(number=416, number2=842),\n",
              " Row(number=417, number2=844),\n",
              " Row(number=418, number2=846),\n",
              " Row(number=419, number2=848),\n",
              " Row(number=420, number2=850),\n",
              " Row(number=421, number2=852),\n",
              " Row(number=422, number2=854),\n",
              " Row(number=423, number2=856),\n",
              " Row(number=424, number2=858),\n",
              " Row(number=425, number2=860),\n",
              " Row(number=426, number2=862),\n",
              " Row(number=427, number2=864),\n",
              " Row(number=428, number2=866),\n",
              " Row(number=429, number2=868),\n",
              " Row(number=430, number2=870),\n",
              " Row(number=431, number2=872),\n",
              " Row(number=432, number2=874),\n",
              " Row(number=433, number2=876),\n",
              " Row(number=434, number2=878),\n",
              " Row(number=435, number2=880),\n",
              " Row(number=436, number2=882),\n",
              " Row(number=437, number2=884),\n",
              " Row(number=438, number2=886),\n",
              " Row(number=439, number2=888),\n",
              " Row(number=440, number2=890),\n",
              " Row(number=441, number2=892),\n",
              " Row(number=442, number2=894),\n",
              " Row(number=443, number2=896),\n",
              " Row(number=444, number2=898),\n",
              " Row(number=445, number2=900),\n",
              " Row(number=446, number2=902),\n",
              " Row(number=447, number2=904),\n",
              " Row(number=448, number2=906),\n",
              " Row(number=449, number2=908),\n",
              " Row(number=450, number2=910),\n",
              " Row(number=451, number2=912),\n",
              " Row(number=452, number2=914),\n",
              " Row(number=453, number2=916),\n",
              " Row(number=454, number2=918),\n",
              " Row(number=455, number2=920),\n",
              " Row(number=456, number2=922),\n",
              " Row(number=457, number2=924),\n",
              " Row(number=458, number2=926),\n",
              " Row(number=459, number2=928),\n",
              " Row(number=460, number2=930),\n",
              " Row(number=461, number2=932),\n",
              " Row(number=462, number2=934),\n",
              " Row(number=463, number2=936),\n",
              " Row(number=464, number2=938),\n",
              " Row(number=465, number2=940),\n",
              " Row(number=466, number2=942),\n",
              " Row(number=467, number2=944),\n",
              " Row(number=468, number2=946),\n",
              " Row(number=469, number2=948),\n",
              " Row(number=470, number2=950),\n",
              " Row(number=471, number2=952),\n",
              " Row(number=472, number2=954),\n",
              " Row(number=473, number2=956),\n",
              " Row(number=474, number2=958),\n",
              " Row(number=475, number2=960),\n",
              " Row(number=476, number2=962),\n",
              " Row(number=477, number2=964),\n",
              " Row(number=478, number2=966),\n",
              " Row(number=479, number2=968),\n",
              " Row(number=480, number2=970),\n",
              " Row(number=481, number2=972),\n",
              " Row(number=482, number2=974),\n",
              " Row(number=483, number2=976),\n",
              " Row(number=484, number2=978),\n",
              " Row(number=485, number2=980),\n",
              " Row(number=486, number2=982),\n",
              " Row(number=487, number2=984),\n",
              " Row(number=488, number2=986),\n",
              " Row(number=489, number2=988),\n",
              " Row(number=490, number2=990),\n",
              " Row(number=491, number2=992),\n",
              " Row(number=492, number2=994),\n",
              " Row(number=493, number2=996),\n",
              " Row(number=494, number2=998),\n",
              " Row(number=495, number2=1000),\n",
              " Row(number=496, number2=1002),\n",
              " Row(number=497, number2=1004),\n",
              " Row(number=498, number2=1006),\n",
              " Row(number=499, number2=1008)]"
            ]
          },
          "metadata": {},
          "execution_count": 40
        }
      ]
    },
    {
      "cell_type": "code",
      "source": [
        "df.take(3)"
      ],
      "metadata": {
        "colab": {
          "base_uri": "https://localhost:8080/"
        },
        "id": "-i2sKxBhiEyE",
        "outputId": "f0ac7c4e-d086-421d-994a-0d0d7ffff81e"
      },
      "execution_count": null,
      "outputs": [
        {
          "output_type": "execute_result",
          "data": {
            "text/plain": [
              "[Row(number=0, number2=10),\n",
              " Row(number=1, number2=12),\n",
              " Row(number=2, number2=14)]"
            ]
          },
          "metadata": {},
          "execution_count": 41
        }
      ]
    },
    {
      "cell_type": "code",
      "source": [
        "df.write.parquet(\"content/df_dummy.parquet\", mode=\"overwrite\")"
      ],
      "metadata": {
        "id": "nO-k6DwPiHd8"
      },
      "execution_count": null,
      "outputs": []
    },
    {
      "cell_type": "code",
      "source": [
        "df.rdd.getNumPartitions()"
      ],
      "metadata": {
        "colab": {
          "base_uri": "https://localhost:8080/"
        },
        "id": "8vbgpa_FdNy0",
        "outputId": "7520f117-debb-4f00-fafc-81eec7424b34"
      },
      "execution_count": null,
      "outputs": [
        {
          "output_type": "execute_result",
          "data": {
            "text/plain": [
              "2"
            ]
          },
          "metadata": {},
          "execution_count": 50
        }
      ]
    },
    {
      "cell_type": "code",
      "source": [
        "import pandas as pd\n",
        "pd.read_parquet(\"/content/content/df_dummy.parquet/part-00001-374d0b56-877b-4385-a54b-cbb576d328f5-c000.snappy.parquet\")"
      ],
      "metadata": {
        "colab": {
          "base_uri": "https://localhost:8080/",
          "height": 424
        },
        "id": "CI87aq9RdK00",
        "outputId": "3e69f054-e075-4698-bb08-3d20cabe7a65"
      },
      "execution_count": null,
      "outputs": [
        {
          "output_type": "execute_result",
          "data": {
            "text/plain": [
              "     number  number2\n",
              "0       250      510\n",
              "1       251      512\n",
              "2       252      514\n",
              "3       253      516\n",
              "4       254      518\n",
              "..      ...      ...\n",
              "245     495     1000\n",
              "246     496     1002\n",
              "247     497     1004\n",
              "248     498     1006\n",
              "249     499     1008\n",
              "\n",
              "[250 rows x 2 columns]"
            ],
            "text/html": [
              "\n",
              "  <div id=\"df-23c719f8-ff53-4e21-bc8e-04be18cc5ae7\" class=\"colab-df-container\">\n",
              "    <div>\n",
              "<style scoped>\n",
              "    .dataframe tbody tr th:only-of-type {\n",
              "        vertical-align: middle;\n",
              "    }\n",
              "\n",
              "    .dataframe tbody tr th {\n",
              "        vertical-align: top;\n",
              "    }\n",
              "\n",
              "    .dataframe thead th {\n",
              "        text-align: right;\n",
              "    }\n",
              "</style>\n",
              "<table border=\"1\" class=\"dataframe\">\n",
              "  <thead>\n",
              "    <tr style=\"text-align: right;\">\n",
              "      <th></th>\n",
              "      <th>number</th>\n",
              "      <th>number2</th>\n",
              "    </tr>\n",
              "  </thead>\n",
              "  <tbody>\n",
              "    <tr>\n",
              "      <th>0</th>\n",
              "      <td>250</td>\n",
              "      <td>510</td>\n",
              "    </tr>\n",
              "    <tr>\n",
              "      <th>1</th>\n",
              "      <td>251</td>\n",
              "      <td>512</td>\n",
              "    </tr>\n",
              "    <tr>\n",
              "      <th>2</th>\n",
              "      <td>252</td>\n",
              "      <td>514</td>\n",
              "    </tr>\n",
              "    <tr>\n",
              "      <th>3</th>\n",
              "      <td>253</td>\n",
              "      <td>516</td>\n",
              "    </tr>\n",
              "    <tr>\n",
              "      <th>4</th>\n",
              "      <td>254</td>\n",
              "      <td>518</td>\n",
              "    </tr>\n",
              "    <tr>\n",
              "      <th>...</th>\n",
              "      <td>...</td>\n",
              "      <td>...</td>\n",
              "    </tr>\n",
              "    <tr>\n",
              "      <th>245</th>\n",
              "      <td>495</td>\n",
              "      <td>1000</td>\n",
              "    </tr>\n",
              "    <tr>\n",
              "      <th>246</th>\n",
              "      <td>496</td>\n",
              "      <td>1002</td>\n",
              "    </tr>\n",
              "    <tr>\n",
              "      <th>247</th>\n",
              "      <td>497</td>\n",
              "      <td>1004</td>\n",
              "    </tr>\n",
              "    <tr>\n",
              "      <th>248</th>\n",
              "      <td>498</td>\n",
              "      <td>1006</td>\n",
              "    </tr>\n",
              "    <tr>\n",
              "      <th>249</th>\n",
              "      <td>499</td>\n",
              "      <td>1008</td>\n",
              "    </tr>\n",
              "  </tbody>\n",
              "</table>\n",
              "<p>250 rows × 2 columns</p>\n",
              "</div>\n",
              "    <div class=\"colab-df-buttons\">\n",
              "\n",
              "  <div class=\"colab-df-container\">\n",
              "    <button class=\"colab-df-convert\" onclick=\"convertToInteractive('df-23c719f8-ff53-4e21-bc8e-04be18cc5ae7')\"\n",
              "            title=\"Convert this dataframe to an interactive table.\"\n",
              "            style=\"display:none;\">\n",
              "\n",
              "  <svg xmlns=\"http://www.w3.org/2000/svg\" height=\"24px\" viewBox=\"0 -960 960 960\">\n",
              "    <path d=\"M120-120v-720h720v720H120Zm60-500h600v-160H180v160Zm220 220h160v-160H400v160Zm0 220h160v-160H400v160ZM180-400h160v-160H180v160Zm440 0h160v-160H620v160ZM180-180h160v-160H180v160Zm440 0h160v-160H620v160Z\"/>\n",
              "  </svg>\n",
              "    </button>\n",
              "\n",
              "  <style>\n",
              "    .colab-df-container {\n",
              "      display:flex;\n",
              "      gap: 12px;\n",
              "    }\n",
              "\n",
              "    .colab-df-convert {\n",
              "      background-color: #E8F0FE;\n",
              "      border: none;\n",
              "      border-radius: 50%;\n",
              "      cursor: pointer;\n",
              "      display: none;\n",
              "      fill: #1967D2;\n",
              "      height: 32px;\n",
              "      padding: 0 0 0 0;\n",
              "      width: 32px;\n",
              "    }\n",
              "\n",
              "    .colab-df-convert:hover {\n",
              "      background-color: #E2EBFA;\n",
              "      box-shadow: 0px 1px 2px rgba(60, 64, 67, 0.3), 0px 1px 3px 1px rgba(60, 64, 67, 0.15);\n",
              "      fill: #174EA6;\n",
              "    }\n",
              "\n",
              "    .colab-df-buttons div {\n",
              "      margin-bottom: 4px;\n",
              "    }\n",
              "\n",
              "    [theme=dark] .colab-df-convert {\n",
              "      background-color: #3B4455;\n",
              "      fill: #D2E3FC;\n",
              "    }\n",
              "\n",
              "    [theme=dark] .colab-df-convert:hover {\n",
              "      background-color: #434B5C;\n",
              "      box-shadow: 0px 1px 3px 1px rgba(0, 0, 0, 0.15);\n",
              "      filter: drop-shadow(0px 1px 2px rgba(0, 0, 0, 0.3));\n",
              "      fill: #FFFFFF;\n",
              "    }\n",
              "  </style>\n",
              "\n",
              "    <script>\n",
              "      const buttonEl =\n",
              "        document.querySelector('#df-23c719f8-ff53-4e21-bc8e-04be18cc5ae7 button.colab-df-convert');\n",
              "      buttonEl.style.display =\n",
              "        google.colab.kernel.accessAllowed ? 'block' : 'none';\n",
              "\n",
              "      async function convertToInteractive(key) {\n",
              "        const element = document.querySelector('#df-23c719f8-ff53-4e21-bc8e-04be18cc5ae7');\n",
              "        const dataTable =\n",
              "          await google.colab.kernel.invokeFunction('convertToInteractive',\n",
              "                                                    [key], {});\n",
              "        if (!dataTable) return;\n",
              "\n",
              "        const docLinkHtml = 'Like what you see? Visit the ' +\n",
              "          '<a target=\"_blank\" href=https://colab.research.google.com/notebooks/data_table.ipynb>data table notebook</a>'\n",
              "          + ' to learn more about interactive tables.';\n",
              "        element.innerHTML = '';\n",
              "        dataTable['output_type'] = 'display_data';\n",
              "        await google.colab.output.renderOutput(dataTable, element);\n",
              "        const docLink = document.createElement('div');\n",
              "        docLink.innerHTML = docLinkHtml;\n",
              "        element.appendChild(docLink);\n",
              "      }\n",
              "    </script>\n",
              "  </div>\n",
              "\n",
              "\n",
              "<div id=\"df-aa88c952-e5db-4bf5-b3ee-aefa6203dcd4\">\n",
              "  <button class=\"colab-df-quickchart\" onclick=\"quickchart('df-aa88c952-e5db-4bf5-b3ee-aefa6203dcd4')\"\n",
              "            title=\"Suggest charts\"\n",
              "            style=\"display:none;\">\n",
              "\n",
              "<svg xmlns=\"http://www.w3.org/2000/svg\" height=\"24px\"viewBox=\"0 0 24 24\"\n",
              "     width=\"24px\">\n",
              "    <g>\n",
              "        <path d=\"M19 3H5c-1.1 0-2 .9-2 2v14c0 1.1.9 2 2 2h14c1.1 0 2-.9 2-2V5c0-1.1-.9-2-2-2zM9 17H7v-7h2v7zm4 0h-2V7h2v10zm4 0h-2v-4h2v4z\"/>\n",
              "    </g>\n",
              "</svg>\n",
              "  </button>\n",
              "\n",
              "<style>\n",
              "  .colab-df-quickchart {\n",
              "      --bg-color: #E8F0FE;\n",
              "      --fill-color: #1967D2;\n",
              "      --hover-bg-color: #E2EBFA;\n",
              "      --hover-fill-color: #174EA6;\n",
              "      --disabled-fill-color: #AAA;\n",
              "      --disabled-bg-color: #DDD;\n",
              "  }\n",
              "\n",
              "  [theme=dark] .colab-df-quickchart {\n",
              "      --bg-color: #3B4455;\n",
              "      --fill-color: #D2E3FC;\n",
              "      --hover-bg-color: #434B5C;\n",
              "      --hover-fill-color: #FFFFFF;\n",
              "      --disabled-bg-color: #3B4455;\n",
              "      --disabled-fill-color: #666;\n",
              "  }\n",
              "\n",
              "  .colab-df-quickchart {\n",
              "    background-color: var(--bg-color);\n",
              "    border: none;\n",
              "    border-radius: 50%;\n",
              "    cursor: pointer;\n",
              "    display: none;\n",
              "    fill: var(--fill-color);\n",
              "    height: 32px;\n",
              "    padding: 0;\n",
              "    width: 32px;\n",
              "  }\n",
              "\n",
              "  .colab-df-quickchart:hover {\n",
              "    background-color: var(--hover-bg-color);\n",
              "    box-shadow: 0 1px 2px rgba(60, 64, 67, 0.3), 0 1px 3px 1px rgba(60, 64, 67, 0.15);\n",
              "    fill: var(--button-hover-fill-color);\n",
              "  }\n",
              "\n",
              "  .colab-df-quickchart-complete:disabled,\n",
              "  .colab-df-quickchart-complete:disabled:hover {\n",
              "    background-color: var(--disabled-bg-color);\n",
              "    fill: var(--disabled-fill-color);\n",
              "    box-shadow: none;\n",
              "  }\n",
              "\n",
              "  .colab-df-spinner {\n",
              "    border: 2px solid var(--fill-color);\n",
              "    border-color: transparent;\n",
              "    border-bottom-color: var(--fill-color);\n",
              "    animation:\n",
              "      spin 1s steps(1) infinite;\n",
              "  }\n",
              "\n",
              "  @keyframes spin {\n",
              "    0% {\n",
              "      border-color: transparent;\n",
              "      border-bottom-color: var(--fill-color);\n",
              "      border-left-color: var(--fill-color);\n",
              "    }\n",
              "    20% {\n",
              "      border-color: transparent;\n",
              "      border-left-color: var(--fill-color);\n",
              "      border-top-color: var(--fill-color);\n",
              "    }\n",
              "    30% {\n",
              "      border-color: transparent;\n",
              "      border-left-color: var(--fill-color);\n",
              "      border-top-color: var(--fill-color);\n",
              "      border-right-color: var(--fill-color);\n",
              "    }\n",
              "    40% {\n",
              "      border-color: transparent;\n",
              "      border-right-color: var(--fill-color);\n",
              "      border-top-color: var(--fill-color);\n",
              "    }\n",
              "    60% {\n",
              "      border-color: transparent;\n",
              "      border-right-color: var(--fill-color);\n",
              "    }\n",
              "    80% {\n",
              "      border-color: transparent;\n",
              "      border-right-color: var(--fill-color);\n",
              "      border-bottom-color: var(--fill-color);\n",
              "    }\n",
              "    90% {\n",
              "      border-color: transparent;\n",
              "      border-bottom-color: var(--fill-color);\n",
              "    }\n",
              "  }\n",
              "</style>\n",
              "\n",
              "  <script>\n",
              "    async function quickchart(key) {\n",
              "      const quickchartButtonEl =\n",
              "        document.querySelector('#' + key + ' button');\n",
              "      quickchartButtonEl.disabled = true;  // To prevent multiple clicks.\n",
              "      quickchartButtonEl.classList.add('colab-df-spinner');\n",
              "      try {\n",
              "        const charts = await google.colab.kernel.invokeFunction(\n",
              "            'suggestCharts', [key], {});\n",
              "      } catch (error) {\n",
              "        console.error('Error during call to suggestCharts:', error);\n",
              "      }\n",
              "      quickchartButtonEl.classList.remove('colab-df-spinner');\n",
              "      quickchartButtonEl.classList.add('colab-df-quickchart-complete');\n",
              "    }\n",
              "    (() => {\n",
              "      let quickchartButtonEl =\n",
              "        document.querySelector('#df-aa88c952-e5db-4bf5-b3ee-aefa6203dcd4 button');\n",
              "      quickchartButtonEl.style.display =\n",
              "        google.colab.kernel.accessAllowed ? 'block' : 'none';\n",
              "    })();\n",
              "  </script>\n",
              "</div>\n",
              "\n",
              "    </div>\n",
              "  </div>\n"
            ],
            "application/vnd.google.colaboratory.intrinsic+json": {
              "type": "dataframe",
              "summary": "{\n  \"name\": \"pd\",\n  \"rows\": 250,\n  \"fields\": [\n    {\n      \"column\": \"number\",\n      \"properties\": {\n        \"dtype\": \"number\",\n        \"std\": 72,\n        \"min\": 250,\n        \"max\": 499,\n        \"num_unique_values\": 250,\n        \"samples\": [\n          392,\n          256,\n          347\n        ],\n        \"semantic_type\": \"\",\n        \"description\": \"\"\n      }\n    },\n    {\n      \"column\": \"number2\",\n      \"properties\": {\n        \"dtype\": \"number\",\n        \"std\": 144,\n        \"min\": 510,\n        \"max\": 1008,\n        \"num_unique_values\": 250,\n        \"samples\": [\n          794,\n          522,\n          704\n        ],\n        \"semantic_type\": \"\",\n        \"description\": \"\"\n      }\n    }\n  ]\n}"
            }
          },
          "metadata": {},
          "execution_count": 46
        }
      ]
    },
    {
      "cell_type": "code",
      "source": [
        "df.toPandas()"
      ],
      "metadata": {
        "colab": {
          "base_uri": "https://localhost:8080/",
          "height": 424
        },
        "id": "UNBlp_yzuc6j",
        "outputId": "64e94027-ed27-46e1-edeb-451e3f7931a7"
      },
      "execution_count": null,
      "outputs": [
        {
          "output_type": "execute_result",
          "data": {
            "text/plain": [
              "     number  number2\n",
              "0         0       10\n",
              "1         1       12\n",
              "2         2       14\n",
              "3         3       16\n",
              "4         4       18\n",
              "..      ...      ...\n",
              "495     495     1000\n",
              "496     496     1002\n",
              "497     497     1004\n",
              "498     498     1006\n",
              "499     499     1008\n",
              "\n",
              "[500 rows x 2 columns]"
            ],
            "text/html": [
              "\n",
              "  <div id=\"df-a460eb63-e7c2-4745-9a46-59d12c39fcb1\" class=\"colab-df-container\">\n",
              "    <div>\n",
              "<style scoped>\n",
              "    .dataframe tbody tr th:only-of-type {\n",
              "        vertical-align: middle;\n",
              "    }\n",
              "\n",
              "    .dataframe tbody tr th {\n",
              "        vertical-align: top;\n",
              "    }\n",
              "\n",
              "    .dataframe thead th {\n",
              "        text-align: right;\n",
              "    }\n",
              "</style>\n",
              "<table border=\"1\" class=\"dataframe\">\n",
              "  <thead>\n",
              "    <tr style=\"text-align: right;\">\n",
              "      <th></th>\n",
              "      <th>number</th>\n",
              "      <th>number2</th>\n",
              "    </tr>\n",
              "  </thead>\n",
              "  <tbody>\n",
              "    <tr>\n",
              "      <th>0</th>\n",
              "      <td>0</td>\n",
              "      <td>10</td>\n",
              "    </tr>\n",
              "    <tr>\n",
              "      <th>1</th>\n",
              "      <td>1</td>\n",
              "      <td>12</td>\n",
              "    </tr>\n",
              "    <tr>\n",
              "      <th>2</th>\n",
              "      <td>2</td>\n",
              "      <td>14</td>\n",
              "    </tr>\n",
              "    <tr>\n",
              "      <th>3</th>\n",
              "      <td>3</td>\n",
              "      <td>16</td>\n",
              "    </tr>\n",
              "    <tr>\n",
              "      <th>4</th>\n",
              "      <td>4</td>\n",
              "      <td>18</td>\n",
              "    </tr>\n",
              "    <tr>\n",
              "      <th>...</th>\n",
              "      <td>...</td>\n",
              "      <td>...</td>\n",
              "    </tr>\n",
              "    <tr>\n",
              "      <th>495</th>\n",
              "      <td>495</td>\n",
              "      <td>1000</td>\n",
              "    </tr>\n",
              "    <tr>\n",
              "      <th>496</th>\n",
              "      <td>496</td>\n",
              "      <td>1002</td>\n",
              "    </tr>\n",
              "    <tr>\n",
              "      <th>497</th>\n",
              "      <td>497</td>\n",
              "      <td>1004</td>\n",
              "    </tr>\n",
              "    <tr>\n",
              "      <th>498</th>\n",
              "      <td>498</td>\n",
              "      <td>1006</td>\n",
              "    </tr>\n",
              "    <tr>\n",
              "      <th>499</th>\n",
              "      <td>499</td>\n",
              "      <td>1008</td>\n",
              "    </tr>\n",
              "  </tbody>\n",
              "</table>\n",
              "<p>500 rows × 2 columns</p>\n",
              "</div>\n",
              "    <div class=\"colab-df-buttons\">\n",
              "\n",
              "  <div class=\"colab-df-container\">\n",
              "    <button class=\"colab-df-convert\" onclick=\"convertToInteractive('df-a460eb63-e7c2-4745-9a46-59d12c39fcb1')\"\n",
              "            title=\"Convert this dataframe to an interactive table.\"\n",
              "            style=\"display:none;\">\n",
              "\n",
              "  <svg xmlns=\"http://www.w3.org/2000/svg\" height=\"24px\" viewBox=\"0 -960 960 960\">\n",
              "    <path d=\"M120-120v-720h720v720H120Zm60-500h600v-160H180v160Zm220 220h160v-160H400v160Zm0 220h160v-160H400v160ZM180-400h160v-160H180v160Zm440 0h160v-160H620v160ZM180-180h160v-160H180v160Zm440 0h160v-160H620v160Z\"/>\n",
              "  </svg>\n",
              "    </button>\n",
              "\n",
              "  <style>\n",
              "    .colab-df-container {\n",
              "      display:flex;\n",
              "      gap: 12px;\n",
              "    }\n",
              "\n",
              "    .colab-df-convert {\n",
              "      background-color: #E8F0FE;\n",
              "      border: none;\n",
              "      border-radius: 50%;\n",
              "      cursor: pointer;\n",
              "      display: none;\n",
              "      fill: #1967D2;\n",
              "      height: 32px;\n",
              "      padding: 0 0 0 0;\n",
              "      width: 32px;\n",
              "    }\n",
              "\n",
              "    .colab-df-convert:hover {\n",
              "      background-color: #E2EBFA;\n",
              "      box-shadow: 0px 1px 2px rgba(60, 64, 67, 0.3), 0px 1px 3px 1px rgba(60, 64, 67, 0.15);\n",
              "      fill: #174EA6;\n",
              "    }\n",
              "\n",
              "    .colab-df-buttons div {\n",
              "      margin-bottom: 4px;\n",
              "    }\n",
              "\n",
              "    [theme=dark] .colab-df-convert {\n",
              "      background-color: #3B4455;\n",
              "      fill: #D2E3FC;\n",
              "    }\n",
              "\n",
              "    [theme=dark] .colab-df-convert:hover {\n",
              "      background-color: #434B5C;\n",
              "      box-shadow: 0px 1px 3px 1px rgba(0, 0, 0, 0.15);\n",
              "      filter: drop-shadow(0px 1px 2px rgba(0, 0, 0, 0.3));\n",
              "      fill: #FFFFFF;\n",
              "    }\n",
              "  </style>\n",
              "\n",
              "    <script>\n",
              "      const buttonEl =\n",
              "        document.querySelector('#df-a460eb63-e7c2-4745-9a46-59d12c39fcb1 button.colab-df-convert');\n",
              "      buttonEl.style.display =\n",
              "        google.colab.kernel.accessAllowed ? 'block' : 'none';\n",
              "\n",
              "      async function convertToInteractive(key) {\n",
              "        const element = document.querySelector('#df-a460eb63-e7c2-4745-9a46-59d12c39fcb1');\n",
              "        const dataTable =\n",
              "          await google.colab.kernel.invokeFunction('convertToInteractive',\n",
              "                                                    [key], {});\n",
              "        if (!dataTable) return;\n",
              "\n",
              "        const docLinkHtml = 'Like what you see? Visit the ' +\n",
              "          '<a target=\"_blank\" href=https://colab.research.google.com/notebooks/data_table.ipynb>data table notebook</a>'\n",
              "          + ' to learn more about interactive tables.';\n",
              "        element.innerHTML = '';\n",
              "        dataTable['output_type'] = 'display_data';\n",
              "        await google.colab.output.renderOutput(dataTable, element);\n",
              "        const docLink = document.createElement('div');\n",
              "        docLink.innerHTML = docLinkHtml;\n",
              "        element.appendChild(docLink);\n",
              "      }\n",
              "    </script>\n",
              "  </div>\n",
              "\n",
              "\n",
              "<div id=\"df-92ce4968-b81d-4a45-8d76-2e5d21f2007c\">\n",
              "  <button class=\"colab-df-quickchart\" onclick=\"quickchart('df-92ce4968-b81d-4a45-8d76-2e5d21f2007c')\"\n",
              "            title=\"Suggest charts\"\n",
              "            style=\"display:none;\">\n",
              "\n",
              "<svg xmlns=\"http://www.w3.org/2000/svg\" height=\"24px\"viewBox=\"0 0 24 24\"\n",
              "     width=\"24px\">\n",
              "    <g>\n",
              "        <path d=\"M19 3H5c-1.1 0-2 .9-2 2v14c0 1.1.9 2 2 2h14c1.1 0 2-.9 2-2V5c0-1.1-.9-2-2-2zM9 17H7v-7h2v7zm4 0h-2V7h2v10zm4 0h-2v-4h2v4z\"/>\n",
              "    </g>\n",
              "</svg>\n",
              "  </button>\n",
              "\n",
              "<style>\n",
              "  .colab-df-quickchart {\n",
              "      --bg-color: #E8F0FE;\n",
              "      --fill-color: #1967D2;\n",
              "      --hover-bg-color: #E2EBFA;\n",
              "      --hover-fill-color: #174EA6;\n",
              "      --disabled-fill-color: #AAA;\n",
              "      --disabled-bg-color: #DDD;\n",
              "  }\n",
              "\n",
              "  [theme=dark] .colab-df-quickchart {\n",
              "      --bg-color: #3B4455;\n",
              "      --fill-color: #D2E3FC;\n",
              "      --hover-bg-color: #434B5C;\n",
              "      --hover-fill-color: #FFFFFF;\n",
              "      --disabled-bg-color: #3B4455;\n",
              "      --disabled-fill-color: #666;\n",
              "  }\n",
              "\n",
              "  .colab-df-quickchart {\n",
              "    background-color: var(--bg-color);\n",
              "    border: none;\n",
              "    border-radius: 50%;\n",
              "    cursor: pointer;\n",
              "    display: none;\n",
              "    fill: var(--fill-color);\n",
              "    height: 32px;\n",
              "    padding: 0;\n",
              "    width: 32px;\n",
              "  }\n",
              "\n",
              "  .colab-df-quickchart:hover {\n",
              "    background-color: var(--hover-bg-color);\n",
              "    box-shadow: 0 1px 2px rgba(60, 64, 67, 0.3), 0 1px 3px 1px rgba(60, 64, 67, 0.15);\n",
              "    fill: var(--button-hover-fill-color);\n",
              "  }\n",
              "\n",
              "  .colab-df-quickchart-complete:disabled,\n",
              "  .colab-df-quickchart-complete:disabled:hover {\n",
              "    background-color: var(--disabled-bg-color);\n",
              "    fill: var(--disabled-fill-color);\n",
              "    box-shadow: none;\n",
              "  }\n",
              "\n",
              "  .colab-df-spinner {\n",
              "    border: 2px solid var(--fill-color);\n",
              "    border-color: transparent;\n",
              "    border-bottom-color: var(--fill-color);\n",
              "    animation:\n",
              "      spin 1s steps(1) infinite;\n",
              "  }\n",
              "\n",
              "  @keyframes spin {\n",
              "    0% {\n",
              "      border-color: transparent;\n",
              "      border-bottom-color: var(--fill-color);\n",
              "      border-left-color: var(--fill-color);\n",
              "    }\n",
              "    20% {\n",
              "      border-color: transparent;\n",
              "      border-left-color: var(--fill-color);\n",
              "      border-top-color: var(--fill-color);\n",
              "    }\n",
              "    30% {\n",
              "      border-color: transparent;\n",
              "      border-left-color: var(--fill-color);\n",
              "      border-top-color: var(--fill-color);\n",
              "      border-right-color: var(--fill-color);\n",
              "    }\n",
              "    40% {\n",
              "      border-color: transparent;\n",
              "      border-right-color: var(--fill-color);\n",
              "      border-top-color: var(--fill-color);\n",
              "    }\n",
              "    60% {\n",
              "      border-color: transparent;\n",
              "      border-right-color: var(--fill-color);\n",
              "    }\n",
              "    80% {\n",
              "      border-color: transparent;\n",
              "      border-right-color: var(--fill-color);\n",
              "      border-bottom-color: var(--fill-color);\n",
              "    }\n",
              "    90% {\n",
              "      border-color: transparent;\n",
              "      border-bottom-color: var(--fill-color);\n",
              "    }\n",
              "  }\n",
              "</style>\n",
              "\n",
              "  <script>\n",
              "    async function quickchart(key) {\n",
              "      const quickchartButtonEl =\n",
              "        document.querySelector('#' + key + ' button');\n",
              "      quickchartButtonEl.disabled = true;  // To prevent multiple clicks.\n",
              "      quickchartButtonEl.classList.add('colab-df-spinner');\n",
              "      try {\n",
              "        const charts = await google.colab.kernel.invokeFunction(\n",
              "            'suggestCharts', [key], {});\n",
              "      } catch (error) {\n",
              "        console.error('Error during call to suggestCharts:', error);\n",
              "      }\n",
              "      quickchartButtonEl.classList.remove('colab-df-spinner');\n",
              "      quickchartButtonEl.classList.add('colab-df-quickchart-complete');\n",
              "    }\n",
              "    (() => {\n",
              "      let quickchartButtonEl =\n",
              "        document.querySelector('#df-92ce4968-b81d-4a45-8d76-2e5d21f2007c button');\n",
              "      quickchartButtonEl.style.display =\n",
              "        google.colab.kernel.accessAllowed ? 'block' : 'none';\n",
              "    })();\n",
              "  </script>\n",
              "</div>\n",
              "\n",
              "    </div>\n",
              "  </div>\n"
            ],
            "application/vnd.google.colaboratory.intrinsic+json": {
              "type": "dataframe",
              "summary": "{\n  \"name\": \"df\",\n  \"rows\": 500,\n  \"fields\": [\n    {\n      \"column\": \"number\",\n      \"properties\": {\n        \"dtype\": \"number\",\n        \"std\": 144,\n        \"min\": 0,\n        \"max\": 499,\n        \"num_unique_values\": 500,\n        \"samples\": [\n          361,\n          73,\n          374\n        ],\n        \"semantic_type\": \"\",\n        \"description\": \"\"\n      }\n    },\n    {\n      \"column\": \"number2\",\n      \"properties\": {\n        \"dtype\": \"number\",\n        \"std\": 288,\n        \"min\": 10,\n        \"max\": 1008,\n        \"num_unique_values\": 500,\n        \"samples\": [\n          732,\n          156,\n          758\n        ],\n        \"semantic_type\": \"\",\n        \"description\": \"\"\n      }\n    }\n  ]\n}"
            }
          },
          "metadata": {},
          "execution_count": 51
        }
      ]
    },
    {
      "cell_type": "code",
      "source": [
        "spark.read.parquet(\"content/df_dummy.parquet\")"
      ],
      "metadata": {
        "colab": {
          "base_uri": "https://localhost:8080/"
        },
        "id": "9ytSR06KuIZZ",
        "outputId": "40eb57c3-b7c1-4b26-e178-52bd07b204ae"
      },
      "execution_count": null,
      "outputs": [
        {
          "output_type": "execute_result",
          "data": {
            "text/plain": [
              "DataFrame[number: bigint, number2: bigint]"
            ]
          },
          "metadata": {},
          "execution_count": 52
        }
      ]
    },
    {
      "cell_type": "markdown",
      "source": [
        "### UDF"
      ],
      "metadata": {
        "id": "R-UOawaLvaH8"
      }
    },
    {
      "cell_type": "code",
      "source": [
        "from pyspark.sql.functions import PandasUDFType\n",
        "from pyspark.sql.functions import pandas_udf\n",
        "from pyspark.sql.types import IntegerType\n",
        "import pandas as pd\n",
        "\n",
        "\n",
        "# @pandas_udf(IntegerType(), PandasUDFType.SCALAR)\n",
        "@pandas_udf(\"short\")\n",
        "def double(number:pd.Series) -> pd.Series:\n",
        "\n",
        "    return number*2\n",
        "\n",
        "df.select(double(\"number\")).show()"
      ],
      "metadata": {
        "colab": {
          "base_uri": "https://localhost:8080/"
        },
        "id": "rqjgwCj8vZNs",
        "outputId": "571ae493-943c-4ada-b1e3-1ed0ed332d01"
      },
      "execution_count": null,
      "outputs": [
        {
          "output_type": "stream",
          "name": "stdout",
          "text": [
            "+--------------+\n",
            "|double(number)|\n",
            "+--------------+\n",
            "|             0|\n",
            "|             2|\n",
            "|             4|\n",
            "|             6|\n",
            "|             8|\n",
            "|            10|\n",
            "|            12|\n",
            "|            14|\n",
            "|            16|\n",
            "|            18|\n",
            "|            20|\n",
            "|            22|\n",
            "|            24|\n",
            "|            26|\n",
            "|            28|\n",
            "|            30|\n",
            "|            32|\n",
            "|            34|\n",
            "|            36|\n",
            "|            38|\n",
            "+--------------+\n",
            "only showing top 20 rows\n",
            "\n"
          ]
        }
      ]
    },
    {
      "cell_type": "code",
      "source": [],
      "metadata": {
        "id": "_HlXMhm-hqnw"
      },
      "execution_count": null,
      "outputs": []
    }
  ]
}