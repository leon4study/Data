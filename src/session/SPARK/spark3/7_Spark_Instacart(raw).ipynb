{
  "nbformat": 4,
  "nbformat_minor": 0,
  "metadata": {
    "colab": {
      "provenance": []
    },
    "kernelspec": {
      "name": "python3",
      "display_name": "Python 3"
    },
    "language_info": {
      "name": "python"
    }
  },
  "cells": [
    {
      "cell_type": "code",
      "source": [
        "## 설치\n",
        "!sudo apt update\n",
        "!apt-get install openjdk-8-jdk-headless -qq > /dev/null\n",
        "#Check this site for the latest download link https://www.apache.org/dyn/closer.lua/spark/spark-3.2.1/spark-3.2.1-bin-hadoop3.2.tgz\n",
        "!wget -q https://dlcdn.apache.org/spark/spark-3.2.1/spark-3.2.1-bin-hadoop3.2.tgz\n",
        "!tar xf spark-3.2.1-bin-hadoop3.2.tgz\n",
        "!pip install -q findspark\n",
        "!pip install pyspark\n",
        "!pip install py4j"
      ],
      "metadata": {
        "colab": {
          "base_uri": "https://localhost:8080/"
        },
        "id": "vAsD6dMnOmRa",
        "outputId": "eff4a440-a705-4da3-8167-2a1eaa546200"
      },
      "execution_count": null,
      "outputs": [
        {
          "output_type": "stream",
          "name": "stdout",
          "text": [
            "\u001b[33m\r0% [Working]\u001b[0m\r            \rGet:1 http://security.ubuntu.com/ubuntu jammy-security InRelease [110 kB]\n",
            "\u001b[33m\r0% [Connecting to archive.ubuntu.com (91.189.91.83)] [1 InRelease 14.2 kB/110 k\u001b[0m\r                                                                               \rGet:2 https://cloud.r-project.org/bin/linux/ubuntu jammy-cran40/ InRelease [3,626 B]\n",
            "\u001b[33m\r0% [Waiting for headers] [1 InRelease 25.8 kB/110 kB 23%] [Connected to ppa.lau\u001b[0m\r                                                                               \rHit:3 http://archive.ubuntu.com/ubuntu jammy InRelease\n",
            "\r                                                                               \rHit:4 https://developer.download.nvidia.com/compute/cuda/repos/ubuntu2204/x86_64  InRelease\n",
            "Get:5 http://archive.ubuntu.com/ubuntu jammy-updates InRelease [119 kB]\n",
            "Hit:6 http://archive.ubuntu.com/ubuntu jammy-backports InRelease\n",
            "Hit:7 https://ppa.launchpadcontent.net/c2d4u.team/c2d4u4.0+/ubuntu jammy InRelease\n",
            "Hit:8 https://ppa.launchpadcontent.net/deadsnakes/ppa/ubuntu jammy InRelease\n",
            "Hit:9 https://ppa.launchpadcontent.net/graphics-drivers/ppa/ubuntu jammy InRelease\n",
            "Hit:10 https://ppa.launchpadcontent.net/ubuntugis/ppa/ubuntu jammy InRelease\n",
            "Get:11 http://security.ubuntu.com/ubuntu jammy-security/universe amd64 Packages [1,076 kB]\n",
            "Get:12 http://archive.ubuntu.com/ubuntu jammy-updates/main amd64 Packages [1,843 kB]\n",
            "Get:13 http://security.ubuntu.com/ubuntu jammy-security/restricted amd64 Packages [1,951 kB]\n",
            "Get:14 http://security.ubuntu.com/ubuntu jammy-security/main amd64 Packages [1,561 kB]\n",
            "Get:15 http://archive.ubuntu.com/ubuntu jammy-updates/universe amd64 Packages [1,349 kB]\n",
            "Get:16 http://archive.ubuntu.com/ubuntu jammy-updates/restricted amd64 Packages [1,994 kB]\n",
            "Fetched 10.0 MB in 2s (4,169 kB/s)\n",
            "Reading package lists... Done\n",
            "Building dependency tree... Done\n",
            "Reading state information... Done\n",
            "40 packages can be upgraded. Run 'apt list --upgradable' to see them.\n",
            "tar: spark-3.2.1-bin-hadoop3.2.tgz: Cannot open: No such file or directory\n",
            "tar: Error is not recoverable: exiting now\n",
            "Collecting pyspark\n",
            "  Downloading pyspark-3.5.1.tar.gz (317.0 MB)\n",
            "\u001b[2K     \u001b[90m━━━━━━━━━━━━━━━━━━━━━━━━━━━━━━━━━━━━━━━━\u001b[0m \u001b[32m317.0/317.0 MB\u001b[0m \u001b[31m3.4 MB/s\u001b[0m eta \u001b[36m0:00:00\u001b[0m\n",
            "\u001b[?25h  Preparing metadata (setup.py) ... \u001b[?25l\u001b[?25hdone\n",
            "Requirement already satisfied: py4j==0.10.9.7 in /usr/local/lib/python3.10/dist-packages (from pyspark) (0.10.9.7)\n",
            "Building wheels for collected packages: pyspark\n",
            "  Building wheel for pyspark (setup.py) ... \u001b[?25l\u001b[?25hdone\n",
            "  Created wheel for pyspark: filename=pyspark-3.5.1-py2.py3-none-any.whl size=317488493 sha256=559466742f44bc40eeb2560b12641cc446407f52fbe5e0c41e09b89c64e7cdcd\n",
            "  Stored in directory: /root/.cache/pip/wheels/80/1d/60/2c256ed38dddce2fdd93be545214a63e02fbd8d74fb0b7f3a6\n",
            "Successfully built pyspark\n",
            "Installing collected packages: pyspark\n",
            "Successfully installed pyspark-3.5.1\n",
            "Requirement already satisfied: py4j in /usr/local/lib/python3.10/dist-packages (0.10.9.7)\n"
          ]
        }
      ]
    },
    {
      "cell_type": "code",
      "source": [
        "## 초기화\n",
        "import findspark\n",
        "findspark.init()\n",
        "findspark.find()"
      ],
      "metadata": {
        "colab": {
          "base_uri": "https://localhost:8080/",
          "height": 36
        },
        "id": "TWO15_caRYC0",
        "outputId": "0dedf28a-c940-47b1-9c45-bf1c33856adf"
      },
      "execution_count": null,
      "outputs": [
        {
          "output_type": "execute_result",
          "data": {
            "text/plain": [
              "'/usr/local/lib/python3.10/dist-packages/pyspark'"
            ],
            "application/vnd.google.colaboratory.intrinsic+json": {
              "type": "string"
            }
          },
          "metadata": {},
          "execution_count": 2
        }
      ]
    },
    {
      "cell_type": "code",
      "source": [
        "import pyspark\n",
        "from pyspark.sql import DataFrame, SparkSession"
      ],
      "metadata": {
        "id": "4AHuphDGRZHQ"
      },
      "execution_count": null,
      "outputs": []
    },
    {
      "cell_type": "code",
      "source": [
        "## Session 생성\n",
        "spark = (\n",
        "    SparkSession\n",
        "    .builder\n",
        "    .appName(\"Commerce Session\")\n",
        "    .getOrCreate()\n",
        ")\n",
        "\n",
        "spark"
      ],
      "metadata": {
        "colab": {
          "base_uri": "https://localhost:8080/",
          "height": 221
        },
        "id": "vbUFGFBvRbB5",
        "outputId": "181ba70e-8df7-421d-d6c5-a43b134be9c9"
      },
      "execution_count": null,
      "outputs": [
        {
          "output_type": "execute_result",
          "data": {
            "text/plain": [
              "<pyspark.sql.session.SparkSession at 0x7cfccdab24a0>"
            ],
            "text/html": [
              "\n",
              "            <div>\n",
              "                <p><b>SparkSession - in-memory</b></p>\n",
              "                \n",
              "        <div>\n",
              "            <p><b>SparkContext</b></p>\n",
              "\n",
              "            <p><a href=\"http://113044067a9b:4040\">Spark UI</a></p>\n",
              "\n",
              "            <dl>\n",
              "              <dt>Version</dt>\n",
              "                <dd><code>v3.5.1</code></dd>\n",
              "              <dt>Master</dt>\n",
              "                <dd><code>local[*]</code></dd>\n",
              "              <dt>AppName</dt>\n",
              "                <dd><code>Commerce Session</code></dd>\n",
              "            </dl>\n",
              "        </div>\n",
              "        \n",
              "            </div>\n",
              "        "
            ]
          },
          "metadata": {},
          "execution_count": 4
        }
      ]
    },
    {
      "cell_type": "code",
      "source": [
        "%%time\n",
        "df = spark.read.csv(\"/content/drive/MyDrive/order_products__prior.csv\", header=True, inferSchema=True)\n",
        "df.show()"
      ],
      "metadata": {
        "colab": {
          "base_uri": "https://localhost:8080/"
        },
        "id": "lnUFzjWoyGnt",
        "outputId": "12a68478-caa3-47fa-aee2-bd8a0f276acd"
      },
      "execution_count": null,
      "outputs": [
        {
          "output_type": "stream",
          "name": "stdout",
          "text": [
            "+--------+----------+-----------------+---------+\n",
            "|order_id|product_id|add_to_cart_order|reordered|\n",
            "+--------+----------+-----------------+---------+\n",
            "|       2|     33120|                1|        1|\n",
            "|       2|     28985|                2|        1|\n",
            "|       2|      9327|                3|        0|\n",
            "|       2|     45918|                4|        1|\n",
            "|       2|     30035|                5|        0|\n",
            "|       2|     17794|                6|        1|\n",
            "|       2|     40141|                7|        1|\n",
            "|       2|      1819|                8|        1|\n",
            "|       2|     43668|                9|        0|\n",
            "|       3|     33754|                1|        1|\n",
            "|       3|     24838|                2|        1|\n",
            "|       3|     17704|                3|        1|\n",
            "|       3|     21903|                4|        1|\n",
            "|       3|     17668|                5|        1|\n",
            "|       3|     46667|                6|        1|\n",
            "|       3|     17461|                7|        1|\n",
            "|       3|     32665|                8|        1|\n",
            "|       4|     46842|                1|        0|\n",
            "|       4|     26434|                2|        1|\n",
            "|       4|     39758|                3|        1|\n",
            "+--------+----------+-----------------+---------+\n",
            "only showing top 20 rows\n",
            "\n",
            "CPU times: user 492 ms, sys: 44.2 ms, total: 536 ms\n",
            "Wall time: 1min 15s\n"
          ]
        }
      ]
    },
    {
      "cell_type": "code",
      "source": [
        "%%time\n",
        "from pyspark.sql.types import StructType, StructField\n",
        "from pyspark.sql.types import IntegerType, ShortType\n",
        "\n",
        "struct_schema = StructType([\n",
        "    StructField(\"order_id\", IntegerType()),\n",
        "    StructField(\"product_id\", IntegerType()),\n",
        "    StructField(\"add_to_cart_order\", ShortType()),\n",
        "    StructField(\"reordered\", ShortType())\n",
        "])\n",
        "\n",
        "df = spark.read.csv(\"/content/drive/MyDrive/order_products__prior.csv\", header=True, schema=struct_schema)\n",
        "df.show()"
      ],
      "metadata": {
        "colab": {
          "base_uri": "https://localhost:8080/"
        },
        "id": "9U2gr9fQrilH",
        "outputId": "087e5cc3-14da-4195-920c-8d16afd7633d"
      },
      "execution_count": null,
      "outputs": [
        {
          "output_type": "stream",
          "name": "stdout",
          "text": [
            "+--------+----------+-----------------+---------+\n",
            "|order_id|product_id|add_to_cart_order|reordered|\n",
            "+--------+----------+-----------------+---------+\n",
            "|       2|     33120|                1|        1|\n",
            "|       2|     28985|                2|        1|\n",
            "|       2|      9327|                3|        0|\n",
            "|       2|     45918|                4|        1|\n",
            "|       2|     30035|                5|        0|\n",
            "|       2|     17794|                6|        1|\n",
            "|       2|     40141|                7|        1|\n",
            "|       2|      1819|                8|        1|\n",
            "|       2|     43668|                9|        0|\n",
            "|       3|     33754|                1|        1|\n",
            "|       3|     24838|                2|        1|\n",
            "|       3|     17704|                3|        1|\n",
            "|       3|     21903|                4|        1|\n",
            "|       3|     17668|                5|        1|\n",
            "|       3|     46667|                6|        1|\n",
            "|       3|     17461|                7|        1|\n",
            "|       3|     32665|                8|        1|\n",
            "|       4|     46842|                1|        0|\n",
            "|       4|     26434|                2|        1|\n",
            "|       4|     39758|                3|        1|\n",
            "+--------+----------+-----------------+---------+\n",
            "only showing top 20 rows\n",
            "\n",
            "CPU times: user 10.9 ms, sys: 417 µs, total: 11.3 ms\n",
            "Wall time: 486 ms\n"
          ]
        }
      ]
    },
    {
      "cell_type": "code",
      "source": [
        "df1 = spark.read.csv(\"/content/drive/MyDrive/order_products__prior.csv\", header=True, schema=struct_schema)\n",
        "df2 = spark.read.csv(\"/content/drive/MyDrive/order_products__train.csv\", header=True, schema=struct_schema)\n",
        "\n",
        "df = df1.union(df2)\n",
        "df = df.filter(\"order_id % 13 = 1\")"
      ],
      "metadata": {
        "id": "XrnpPvigy9ny"
      },
      "execution_count": null,
      "outputs": []
    },
    {
      "cell_type": "code",
      "source": [
        "from pyspark.sql.types import StringType\n",
        "\n",
        "struct_schema_product = StructType([\n",
        "    StructField(\"product_id\", IntegerType()),\n",
        "    StructField(\"product_name\", StringType()),\n",
        "    StructField(\"aisle_id\", IntegerType()),\n",
        "    StructField(\"department_id\", IntegerType())\n",
        "])\n",
        "struct_schema_aisle = StructType([\n",
        "    StructField(\"aisle_id\", IntegerType()),\n",
        "    StructField(\"aisle\", StringType())\n",
        "])\n",
        "struct_schema_depart = StructType([\n",
        "    StructField(\"department_id\", IntegerType()),\n",
        "    StructField(\"department\", StringType())\n",
        "])\n",
        "\n",
        "\n",
        "df_product = (\n",
        "    spark.read.csv(\"/content/drive/MyDrive//products.csv\", header=True, schema=struct_schema_product)\n",
        "    .join(spark.read.csv(\"/content/drive/MyDrive/aisles.csv\", header=True, schema=struct_schema_aisle), on=\"aisle_id\", how=\"left\")\n",
        "    .join(spark.read.csv(\"/content/drive/MyDrive/departments.csv\", header=True, schema=struct_schema_depart), on=\"department_id\", how=\"left\")\n",
        "    .drop(\"aisle_id\", \"department_id\")\n",
        ")"
      ],
      "metadata": {
        "id": "9ReSlc9czIgz"
      },
      "execution_count": null,
      "outputs": []
    },
    {
      "cell_type": "code",
      "source": [
        "df = df.join(df_product, on=\"product_id\", how=\"left\")"
      ],
      "metadata": {
        "id": "Oeo2cNok0Xwg"
      },
      "execution_count": null,
      "outputs": []
    },
    {
      "cell_type": "code",
      "source": [
        "df.persist()"
      ],
      "metadata": {
        "colab": {
          "base_uri": "https://localhost:8080/"
        },
        "id": "P-w28Y3-0eIB",
        "outputId": "a1aedd7b-505f-4ccf-8520-fbe628dc2a68"
      },
      "execution_count": null,
      "outputs": [
        {
          "output_type": "execute_result",
          "data": {
            "text/plain": [
              "DataFrame[product_id: int, order_id: int, add_to_cart_order: smallint, reordered: smallint, product_name: string, aisle: string, department: string]"
            ]
          },
          "metadata": {},
          "execution_count": 10
        }
      ]
    },
    {
      "cell_type": "code",
      "source": [
        "%%time\n",
        "df.show()"
      ],
      "metadata": {
        "colab": {
          "base_uri": "https://localhost:8080/"
        },
        "id": "SwNX-xJJ0fAM",
        "outputId": "5ecb4813-3bd9-4dee-c285-1494f098efc0"
      },
      "execution_count": null,
      "outputs": [
        {
          "output_type": "stream",
          "name": "stdout",
          "text": [
            "+----------+--------+-----------------+---------+--------------------+--------------------+------------+\n",
            "|product_id|order_id|add_to_cart_order|reordered|        product_name|               aisle|  department|\n",
            "+----------+--------+-----------------+---------+--------------------+--------------------+------------+\n",
            "|     41890|      14|                6|        1|Organic Mesa Sunr...|              cereal|   breakfast|\n",
            "|     26706|     976|               11|        1|Chicken Pad Thai ...|        frozen meals|      frozen|\n",
            "|     19204|    1483|                5|        1|Organic Heritage ...|              cereal|   breakfast|\n",
            "|     23015|    1561|                7|        1|Breaded Chicken N...|frozen appetizers...|      frozen|\n",
            "|     15790|    1587|                3|        1|Organic Veggie Bites|frozen vegan vege...|      frozen|\n",
            "|     28836|    2003|               15|        0|    Grapefruit Juice|        refrigerated|   beverages|\n",
            "|     28836|    2458|               21|        1|    Grapefruit Juice|        refrigerated|   beverages|\n",
            "|     29744|    2536|                6|        0|100% Natural Peti...|canned jarred veg...|canned goods|\n",
            "|     26425|    3329|                2|        1|Sliced Sharp Ched...|     packaged cheese|  dairy eggs|\n",
            "|     29894|    3797|                4|        1|Organic Dark Brow...|  baking ingredients|      pantry|\n",
            "|       148|    4174|                9|        1|          Nectarines|        fresh fruits|     produce|\n",
            "|     34234|    4824|                1|        1|Grade AA Large Wh...|                eggs|  dairy eggs|\n",
            "|      8592|    6293|                5|        0|Kale, Apple, Ging...|        refrigerated|   beverages|\n",
            "|      6336|    7450|                7|        1|Organic Soft Whit...|               bread|      bakery|\n",
            "|     28836|    7762|                7|        1|    Grapefruit Juice|        refrigerated|   beverages|\n",
            "|     20382|    7801|                9|        1|Natural Honey Pea...|             spreads|      pantry|\n",
            "|     46521|    8529|                2|        0|             Variety|      chips pretzels|      snacks|\n",
            "|     33569|    8893|                3|        0|Crackers Almond F...|            crackers|      snacks|\n",
            "|     23271|    9881|                3|        0|Tabasco Chipotle ...|          condiments|      pantry|\n",
            "|     33569|   10089|                4|        1|Crackers Almond F...|            crackers|      snacks|\n",
            "+----------+--------+-----------------+---------+--------------------+--------------------+------------+\n",
            "only showing top 20 rows\n",
            "\n",
            "CPU times: user 3.76 ms, sys: 892 µs, total: 4.65 ms\n",
            "Wall time: 326 ms\n"
          ]
        }
      ]
    },
    {
      "cell_type": "code",
      "source": [
        "df.rdd.getNumPartitions()"
      ],
      "metadata": {
        "colab": {
          "base_uri": "https://localhost:8080/"
        },
        "id": "IMt8aml7gic5",
        "outputId": "b2d3090f-e165-4d34-c7d2-fa829089a643"
      },
      "execution_count": null,
      "outputs": [
        {
          "output_type": "execute_result",
          "data": {
            "text/plain": [
              "200"
            ]
          },
          "metadata": {},
          "execution_count": 16
        }
      ]
    },
    {
      "cell_type": "code",
      "source": [
        "from pyspark.sql.functions import spark_partition_id\n",
        "\n",
        "df.withColumn(\"partitionId\",spark_partition_id()).groupBy(\"partitionId\").count().show()"
      ],
      "metadata": {
        "colab": {
          "base_uri": "https://localhost:8080/"
        },
        "id": "jdskzXcM1ZGq",
        "outputId": "c6462d7b-0e8b-4b74-8eb0-881b4e96af3c"
      },
      "execution_count": null,
      "outputs": [
        {
          "output_type": "stream",
          "name": "stdout",
          "text": [
            "+-----------+-----+\n",
            "|partitionId|count|\n",
            "+-----------+-----+\n",
            "|          0| 7560|\n",
            "|          1|10425|\n",
            "|          2| 8863|\n",
            "|          3|37277|\n",
            "|          4|12908|\n",
            "|          5| 8603|\n",
            "|          6|10918|\n",
            "|          7| 4832|\n",
            "|          8|13956|\n",
            "|          9| 9574|\n",
            "|         10|13446|\n",
            "|         11|14256|\n",
            "|         12|11716|\n",
            "|         13|33766|\n",
            "|         14|10167|\n",
            "|         15| 8514|\n",
            "|         16|17366|\n",
            "|         17|10324|\n",
            "|         18| 7266|\n",
            "|         19|11594|\n",
            "+-----------+-----+\n",
            "only showing top 20 rows\n",
            "\n"
          ]
        }
      ]
    },
    {
      "cell_type": "code",
      "source": [
        "df = df.repartition(\"order_id\")\n",
        "df.persist()\n",
        "df.withColumn(\"partitionId\",spark_partition_id()).groupBy(\"partitionId\").count().show()"
      ],
      "metadata": {
        "colab": {
          "base_uri": "https://localhost:8080/"
        },
        "id": "lnqo0t742y8C",
        "outputId": "8e9ac370-b4ba-467a-beb9-cc74da8a4436"
      },
      "execution_count": null,
      "outputs": [
        {
          "output_type": "stream",
          "name": "stdout",
          "text": [
            "+-----------+-----+\n",
            "|partitionId|count|\n",
            "+-----------+-----+\n",
            "|          0|13408|\n",
            "|          1|13026|\n",
            "|          2|12404|\n",
            "|          3|12657|\n",
            "|          4|12859|\n",
            "|          5|12954|\n",
            "|          6|13052|\n",
            "|          7|12900|\n",
            "|          8|12429|\n",
            "|          9|12682|\n",
            "|         10|13118|\n",
            "|         11|12480|\n",
            "|         12|13166|\n",
            "|         13|13540|\n",
            "|         14|13176|\n",
            "|         15|13155|\n",
            "|         16|12998|\n",
            "|         17|13573|\n",
            "|         18|12676|\n",
            "|         19|13053|\n",
            "+-----------+-----+\n",
            "only showing top 20 rows\n",
            "\n"
          ]
        }
      ]
    },
    {
      "cell_type": "code",
      "source": [
        "%%time\n",
        "\n",
        "import pyspark.sql.functions as f\n",
        "df_last_order_short = df.orderBy([\"order_id\", \"add_to_cart_order\"]).groupBy(\"order_id\").agg(f.last(\"add_to_cart_order\")).toPandas()"
      ],
      "metadata": {
        "colab": {
          "base_uri": "https://localhost:8080/"
        },
        "id": "DpHc8u-7hxXp",
        "outputId": "10b23823-8b1a-41c9-e78d-58af5bc241f0"
      },
      "execution_count": null,
      "outputs": [
        {
          "output_type": "stream",
          "name": "stdout",
          "text": [
            "CPU times: user 2.26 s, sys: 175 ms, total: 2.43 s\n",
            "Wall time: 39.7 s\n"
          ]
        }
      ]
    },
    {
      "cell_type": "code",
      "source": [
        "%%time\n",
        "\n",
        "import pyspark.sql.functions as f\n",
        "from pyspark.sql import Window\n",
        "\n",
        "w = Window.partitionBy('order_id')\n",
        "df_last_order = df.withColumn('max_add_to_cart_order', f.max('add_to_cart_order').over(w))\\\n",
        "    .where(f.col('add_to_cart_order') == f.col('max_add_to_cart_order'))\\\n",
        "    .drop('max_add_to_cart_order')\n",
        "df_last_order_long = df_last_order.toPandas()"
      ],
      "metadata": {
        "colab": {
          "base_uri": "https://localhost:8080/"
        },
        "id": "83n39E3_yrkI",
        "outputId": "b13b2d89-3ab6-47ac-ffdb-20c9a97dc786"
      },
      "execution_count": null,
      "outputs": [
        {
          "output_type": "stream",
          "name": "stdout",
          "text": [
            "CPU times: user 2.43 s, sys: 235 ms, total: 2.66 s\n",
            "Wall time: 14.8 s\n"
          ]
        }
      ]
    },
    {
      "cell_type": "code",
      "source": [
        "df_last_order_short.columns = [\"order_id\", \"add_to_cart_order_short\"]"
      ],
      "metadata": {
        "id": "r3HrFOPqimrJ"
      },
      "execution_count": null,
      "outputs": []
    },
    {
      "cell_type": "code",
      "source": [
        "df_temp = df_last_order_long.merge(df_last_order_short, on=\"order_id\")"
      ],
      "metadata": {
        "id": "PA0T7hLAivQ1"
      },
      "execution_count": null,
      "outputs": []
    },
    {
      "cell_type": "code",
      "source": [
        "%%time\n",
        "df_last_order.show()"
      ],
      "metadata": {
        "colab": {
          "base_uri": "https://localhost:8080/"
        },
        "id": "OvuGzlkFyqWh",
        "outputId": "ff5fbae9-f728-4655-b374-79e67eaaa257"
      },
      "execution_count": null,
      "outputs": [
        {
          "output_type": "stream",
          "name": "stdout",
          "text": [
            "+----------+--------+-----------------+---------+--------------------+--------------------+------------+\n",
            "|product_id|order_id|add_to_cart_order|reordered|        product_name|               aisle|  department|\n",
            "+----------+--------+-----------------+---------+--------------------+--------------------+------------+\n",
            "|      1991|     833|                6|        1|Organic Lemonade ...|       juice nectars|   beverages|\n",
            "|     22474|    6397|                7|        0|Cheddar Bunnies S...|            crackers|      snacks|\n",
            "|     38274|    7554|               10|        0|Ice Cream Sandwic...|       ice cream ice|      frozen|\n",
            "|     26348|    9465|                2|        0|Mixed Fruit Fruit...|fruit vegetable s...|      snacks|\n",
            "|     30169|   10206|                4|        1|Total 2% All Natu...|              yogurt|  dairy eggs|\n",
            "|     25194|   10362|               36|        1|Ground Sausage St...|tofu meat alterna...|        deli|\n",
            "|     47209|   10817|                7|        0|Organic Hass Avocado|        fresh fruits|     produce|\n",
            "|     13740|   19553|               12|        0|Organic Summer St...|fruit vegetable s...|      snacks|\n",
            "|     13225|   23271|                7|        1|         Lowfat Milk|                milk|  dairy eggs|\n",
            "|     47591|   23336|                9|        1|Prosciutto di San...|          lunch meat|        deli|\n",
            "|     12797|   26755|               15|        0|Organic Whole Pee...|canned jarred veg...|canned goods|\n",
            "|     25466|   28146|                9|        1|               Water|water seltzer spa...|   beverages|\n",
            "|     24964|   29719|                2|        1|      Organic Garlic|    fresh vegetables|     produce|\n",
            "|      5785|   32592|                3|        1|Organic Reduced F...|                milk|  dairy eggs|\n",
            "|     18434|   35361|               12|        0|Organic Whole Cri...|    fresh vegetables|     produce|\n",
            "|      9076|   41575|                6|        0|         Blueberries|      frozen produce|      frozen|\n",
            "|     12894|   47217|                4|        0|Honey Nut Chex Ce...|              cereal|   breakfast|\n",
            "|       651|   47711|               26|        0|Organic Salted Bu...|              butter|  dairy eggs|\n",
            "|     25640|   53691|                9|        1|         White Peach|        fresh fruits|     produce|\n",
            "|     38693|   57201|                1|        1|         Meyer Lemon|        fresh fruits|     produce|\n",
            "+----------+--------+-----------------+---------+--------------------+--------------------+------------+\n",
            "only showing top 20 rows\n",
            "\n",
            "CPU times: user 5.36 ms, sys: 41 µs, total: 5.41 ms\n",
            "Wall time: 705 ms\n"
          ]
        }
      ]
    },
    {
      "cell_type": "code",
      "source": [
        "%%time\n",
        "import pandas as pd\n",
        "\n",
        "department_count = pd.concat([\n",
        "    df_last_order.groupby(\"department\").count().toPandas(),\n",
        "    df.groupby(\"department\").count().toPandas()\n",
        "], axis=1)"
      ],
      "metadata": {
        "colab": {
          "base_uri": "https://localhost:8080/"
        },
        "id": "lR17ERy02pZl",
        "outputId": "19ec0e97-fb17-4307-d087-046b2b9c44ff"
      },
      "execution_count": null,
      "outputs": [
        {
          "output_type": "stream",
          "name": "stdout",
          "text": [
            "CPU times: user 152 ms, sys: 17.8 ms, total: 170 ms\n",
            "Wall time: 20.8 s\n"
          ]
        }
      ]
    },
    {
      "cell_type": "code",
      "source": [
        "department_count"
      ],
      "metadata": {
        "colab": {
          "base_uri": "https://localhost:8080/",
          "height": 708
        },
        "id": "lIR1eWSfjUvs",
        "outputId": "113e8b3a-5b32-41b8-c418-ea2eb154cea5"
      },
      "execution_count": null,
      "outputs": [
        {
          "output_type": "execute_result",
          "data": {
            "text/plain": [
              "         department  count       department   count\n",
              "0         beverages  25659        beverages  215922\n",
              "1      meat seafood   5709     meat seafood   56257\n",
              "2            frozen  18980           frozen  180360\n",
              "3              deli   8513             deli   83776\n",
              "4   dry goods pasta   6662  dry goods pasta   70196\n",
              "5              bulk    335             bulk    2749\n",
              "6             other    440            other    3033\n",
              "7            babies   2240           babies   34000\n",
              "8            bakery   9078           bakery   94286\n",
              "9           produce  66449          produce  760789\n",
              "10           pantry  17567           pantry  150276\n",
              "11       dairy eggs  36412       dairy eggs  432076\n",
              "12     canned goods   7246     canned goods   85785\n",
              "13    personal care   5744    personal care   36012\n",
              "14        breakfast   5702        breakfast   56559\n",
              "15          missing    697          missing    6020\n",
              "16             pets    833             pets    7585\n",
              "17        household   8770        household   59912\n",
              "18          alcohol   2155          alcohol   12358\n",
              "19    international   2012    international   21707\n",
              "20           snacks  26187           snacks  232784"
            ],
            "text/html": [
              "\n",
              "  <div id=\"df-7b40cdb8-1da9-42e8-8956-3a717bc2ad07\" class=\"colab-df-container\">\n",
              "    <div>\n",
              "<style scoped>\n",
              "    .dataframe tbody tr th:only-of-type {\n",
              "        vertical-align: middle;\n",
              "    }\n",
              "\n",
              "    .dataframe tbody tr th {\n",
              "        vertical-align: top;\n",
              "    }\n",
              "\n",
              "    .dataframe thead th {\n",
              "        text-align: right;\n",
              "    }\n",
              "</style>\n",
              "<table border=\"1\" class=\"dataframe\">\n",
              "  <thead>\n",
              "    <tr style=\"text-align: right;\">\n",
              "      <th></th>\n",
              "      <th>department</th>\n",
              "      <th>count</th>\n",
              "      <th>department</th>\n",
              "      <th>count</th>\n",
              "    </tr>\n",
              "  </thead>\n",
              "  <tbody>\n",
              "    <tr>\n",
              "      <th>0</th>\n",
              "      <td>beverages</td>\n",
              "      <td>25659</td>\n",
              "      <td>beverages</td>\n",
              "      <td>215922</td>\n",
              "    </tr>\n",
              "    <tr>\n",
              "      <th>1</th>\n",
              "      <td>meat seafood</td>\n",
              "      <td>5709</td>\n",
              "      <td>meat seafood</td>\n",
              "      <td>56257</td>\n",
              "    </tr>\n",
              "    <tr>\n",
              "      <th>2</th>\n",
              "      <td>frozen</td>\n",
              "      <td>18980</td>\n",
              "      <td>frozen</td>\n",
              "      <td>180360</td>\n",
              "    </tr>\n",
              "    <tr>\n",
              "      <th>3</th>\n",
              "      <td>deli</td>\n",
              "      <td>8513</td>\n",
              "      <td>deli</td>\n",
              "      <td>83776</td>\n",
              "    </tr>\n",
              "    <tr>\n",
              "      <th>4</th>\n",
              "      <td>dry goods pasta</td>\n",
              "      <td>6662</td>\n",
              "      <td>dry goods pasta</td>\n",
              "      <td>70196</td>\n",
              "    </tr>\n",
              "    <tr>\n",
              "      <th>5</th>\n",
              "      <td>bulk</td>\n",
              "      <td>335</td>\n",
              "      <td>bulk</td>\n",
              "      <td>2749</td>\n",
              "    </tr>\n",
              "    <tr>\n",
              "      <th>6</th>\n",
              "      <td>other</td>\n",
              "      <td>440</td>\n",
              "      <td>other</td>\n",
              "      <td>3033</td>\n",
              "    </tr>\n",
              "    <tr>\n",
              "      <th>7</th>\n",
              "      <td>babies</td>\n",
              "      <td>2240</td>\n",
              "      <td>babies</td>\n",
              "      <td>34000</td>\n",
              "    </tr>\n",
              "    <tr>\n",
              "      <th>8</th>\n",
              "      <td>bakery</td>\n",
              "      <td>9078</td>\n",
              "      <td>bakery</td>\n",
              "      <td>94286</td>\n",
              "    </tr>\n",
              "    <tr>\n",
              "      <th>9</th>\n",
              "      <td>produce</td>\n",
              "      <td>66449</td>\n",
              "      <td>produce</td>\n",
              "      <td>760789</td>\n",
              "    </tr>\n",
              "    <tr>\n",
              "      <th>10</th>\n",
              "      <td>pantry</td>\n",
              "      <td>17567</td>\n",
              "      <td>pantry</td>\n",
              "      <td>150276</td>\n",
              "    </tr>\n",
              "    <tr>\n",
              "      <th>11</th>\n",
              "      <td>dairy eggs</td>\n",
              "      <td>36412</td>\n",
              "      <td>dairy eggs</td>\n",
              "      <td>432076</td>\n",
              "    </tr>\n",
              "    <tr>\n",
              "      <th>12</th>\n",
              "      <td>canned goods</td>\n",
              "      <td>7246</td>\n",
              "      <td>canned goods</td>\n",
              "      <td>85785</td>\n",
              "    </tr>\n",
              "    <tr>\n",
              "      <th>13</th>\n",
              "      <td>personal care</td>\n",
              "      <td>5744</td>\n",
              "      <td>personal care</td>\n",
              "      <td>36012</td>\n",
              "    </tr>\n",
              "    <tr>\n",
              "      <th>14</th>\n",
              "      <td>breakfast</td>\n",
              "      <td>5702</td>\n",
              "      <td>breakfast</td>\n",
              "      <td>56559</td>\n",
              "    </tr>\n",
              "    <tr>\n",
              "      <th>15</th>\n",
              "      <td>missing</td>\n",
              "      <td>697</td>\n",
              "      <td>missing</td>\n",
              "      <td>6020</td>\n",
              "    </tr>\n",
              "    <tr>\n",
              "      <th>16</th>\n",
              "      <td>pets</td>\n",
              "      <td>833</td>\n",
              "      <td>pets</td>\n",
              "      <td>7585</td>\n",
              "    </tr>\n",
              "    <tr>\n",
              "      <th>17</th>\n",
              "      <td>household</td>\n",
              "      <td>8770</td>\n",
              "      <td>household</td>\n",
              "      <td>59912</td>\n",
              "    </tr>\n",
              "    <tr>\n",
              "      <th>18</th>\n",
              "      <td>alcohol</td>\n",
              "      <td>2155</td>\n",
              "      <td>alcohol</td>\n",
              "      <td>12358</td>\n",
              "    </tr>\n",
              "    <tr>\n",
              "      <th>19</th>\n",
              "      <td>international</td>\n",
              "      <td>2012</td>\n",
              "      <td>international</td>\n",
              "      <td>21707</td>\n",
              "    </tr>\n",
              "    <tr>\n",
              "      <th>20</th>\n",
              "      <td>snacks</td>\n",
              "      <td>26187</td>\n",
              "      <td>snacks</td>\n",
              "      <td>232784</td>\n",
              "    </tr>\n",
              "  </tbody>\n",
              "</table>\n",
              "</div>\n",
              "    <div class=\"colab-df-buttons\">\n",
              "\n",
              "  <div class=\"colab-df-container\">\n",
              "    <button class=\"colab-df-convert\" onclick=\"convertToInteractive('df-7b40cdb8-1da9-42e8-8956-3a717bc2ad07')\"\n",
              "            title=\"Convert this dataframe to an interactive table.\"\n",
              "            style=\"display:none;\">\n",
              "\n",
              "  <svg xmlns=\"http://www.w3.org/2000/svg\" height=\"24px\" viewBox=\"0 -960 960 960\">\n",
              "    <path d=\"M120-120v-720h720v720H120Zm60-500h600v-160H180v160Zm220 220h160v-160H400v160Zm0 220h160v-160H400v160ZM180-400h160v-160H180v160Zm440 0h160v-160H620v160ZM180-180h160v-160H180v160Zm440 0h160v-160H620v160Z\"/>\n",
              "  </svg>\n",
              "    </button>\n",
              "\n",
              "  <style>\n",
              "    .colab-df-container {\n",
              "      display:flex;\n",
              "      gap: 12px;\n",
              "    }\n",
              "\n",
              "    .colab-df-convert {\n",
              "      background-color: #E8F0FE;\n",
              "      border: none;\n",
              "      border-radius: 50%;\n",
              "      cursor: pointer;\n",
              "      display: none;\n",
              "      fill: #1967D2;\n",
              "      height: 32px;\n",
              "      padding: 0 0 0 0;\n",
              "      width: 32px;\n",
              "    }\n",
              "\n",
              "    .colab-df-convert:hover {\n",
              "      background-color: #E2EBFA;\n",
              "      box-shadow: 0px 1px 2px rgba(60, 64, 67, 0.3), 0px 1px 3px 1px rgba(60, 64, 67, 0.15);\n",
              "      fill: #174EA6;\n",
              "    }\n",
              "\n",
              "    .colab-df-buttons div {\n",
              "      margin-bottom: 4px;\n",
              "    }\n",
              "\n",
              "    [theme=dark] .colab-df-convert {\n",
              "      background-color: #3B4455;\n",
              "      fill: #D2E3FC;\n",
              "    }\n",
              "\n",
              "    [theme=dark] .colab-df-convert:hover {\n",
              "      background-color: #434B5C;\n",
              "      box-shadow: 0px 1px 3px 1px rgba(0, 0, 0, 0.15);\n",
              "      filter: drop-shadow(0px 1px 2px rgba(0, 0, 0, 0.3));\n",
              "      fill: #FFFFFF;\n",
              "    }\n",
              "  </style>\n",
              "\n",
              "    <script>\n",
              "      const buttonEl =\n",
              "        document.querySelector('#df-7b40cdb8-1da9-42e8-8956-3a717bc2ad07 button.colab-df-convert');\n",
              "      buttonEl.style.display =\n",
              "        google.colab.kernel.accessAllowed ? 'block' : 'none';\n",
              "\n",
              "      async function convertToInteractive(key) {\n",
              "        const element = document.querySelector('#df-7b40cdb8-1da9-42e8-8956-3a717bc2ad07');\n",
              "        const dataTable =\n",
              "          await google.colab.kernel.invokeFunction('convertToInteractive',\n",
              "                                                    [key], {});\n",
              "        if (!dataTable) return;\n",
              "\n",
              "        const docLinkHtml = 'Like what you see? Visit the ' +\n",
              "          '<a target=\"_blank\" href=https://colab.research.google.com/notebooks/data_table.ipynb>data table notebook</a>'\n",
              "          + ' to learn more about interactive tables.';\n",
              "        element.innerHTML = '';\n",
              "        dataTable['output_type'] = 'display_data';\n",
              "        await google.colab.output.renderOutput(dataTable, element);\n",
              "        const docLink = document.createElement('div');\n",
              "        docLink.innerHTML = docLinkHtml;\n",
              "        element.appendChild(docLink);\n",
              "      }\n",
              "    </script>\n",
              "  </div>\n",
              "\n",
              "\n",
              "<div id=\"df-4054152b-073a-4a47-845b-ffda460337e1\">\n",
              "  <button class=\"colab-df-quickchart\" onclick=\"quickchart('df-4054152b-073a-4a47-845b-ffda460337e1')\"\n",
              "            title=\"Suggest charts\"\n",
              "            style=\"display:none;\">\n",
              "\n",
              "<svg xmlns=\"http://www.w3.org/2000/svg\" height=\"24px\"viewBox=\"0 0 24 24\"\n",
              "     width=\"24px\">\n",
              "    <g>\n",
              "        <path d=\"M19 3H5c-1.1 0-2 .9-2 2v14c0 1.1.9 2 2 2h14c1.1 0 2-.9 2-2V5c0-1.1-.9-2-2-2zM9 17H7v-7h2v7zm4 0h-2V7h2v10zm4 0h-2v-4h2v4z\"/>\n",
              "    </g>\n",
              "</svg>\n",
              "  </button>\n",
              "\n",
              "<style>\n",
              "  .colab-df-quickchart {\n",
              "      --bg-color: #E8F0FE;\n",
              "      --fill-color: #1967D2;\n",
              "      --hover-bg-color: #E2EBFA;\n",
              "      --hover-fill-color: #174EA6;\n",
              "      --disabled-fill-color: #AAA;\n",
              "      --disabled-bg-color: #DDD;\n",
              "  }\n",
              "\n",
              "  [theme=dark] .colab-df-quickchart {\n",
              "      --bg-color: #3B4455;\n",
              "      --fill-color: #D2E3FC;\n",
              "      --hover-bg-color: #434B5C;\n",
              "      --hover-fill-color: #FFFFFF;\n",
              "      --disabled-bg-color: #3B4455;\n",
              "      --disabled-fill-color: #666;\n",
              "  }\n",
              "\n",
              "  .colab-df-quickchart {\n",
              "    background-color: var(--bg-color);\n",
              "    border: none;\n",
              "    border-radius: 50%;\n",
              "    cursor: pointer;\n",
              "    display: none;\n",
              "    fill: var(--fill-color);\n",
              "    height: 32px;\n",
              "    padding: 0;\n",
              "    width: 32px;\n",
              "  }\n",
              "\n",
              "  .colab-df-quickchart:hover {\n",
              "    background-color: var(--hover-bg-color);\n",
              "    box-shadow: 0 1px 2px rgba(60, 64, 67, 0.3), 0 1px 3px 1px rgba(60, 64, 67, 0.15);\n",
              "    fill: var(--button-hover-fill-color);\n",
              "  }\n",
              "\n",
              "  .colab-df-quickchart-complete:disabled,\n",
              "  .colab-df-quickchart-complete:disabled:hover {\n",
              "    background-color: var(--disabled-bg-color);\n",
              "    fill: var(--disabled-fill-color);\n",
              "    box-shadow: none;\n",
              "  }\n",
              "\n",
              "  .colab-df-spinner {\n",
              "    border: 2px solid var(--fill-color);\n",
              "    border-color: transparent;\n",
              "    border-bottom-color: var(--fill-color);\n",
              "    animation:\n",
              "      spin 1s steps(1) infinite;\n",
              "  }\n",
              "\n",
              "  @keyframes spin {\n",
              "    0% {\n",
              "      border-color: transparent;\n",
              "      border-bottom-color: var(--fill-color);\n",
              "      border-left-color: var(--fill-color);\n",
              "    }\n",
              "    20% {\n",
              "      border-color: transparent;\n",
              "      border-left-color: var(--fill-color);\n",
              "      border-top-color: var(--fill-color);\n",
              "    }\n",
              "    30% {\n",
              "      border-color: transparent;\n",
              "      border-left-color: var(--fill-color);\n",
              "      border-top-color: var(--fill-color);\n",
              "      border-right-color: var(--fill-color);\n",
              "    }\n",
              "    40% {\n",
              "      border-color: transparent;\n",
              "      border-right-color: var(--fill-color);\n",
              "      border-top-color: var(--fill-color);\n",
              "    }\n",
              "    60% {\n",
              "      border-color: transparent;\n",
              "      border-right-color: var(--fill-color);\n",
              "    }\n",
              "    80% {\n",
              "      border-color: transparent;\n",
              "      border-right-color: var(--fill-color);\n",
              "      border-bottom-color: var(--fill-color);\n",
              "    }\n",
              "    90% {\n",
              "      border-color: transparent;\n",
              "      border-bottom-color: var(--fill-color);\n",
              "    }\n",
              "  }\n",
              "</style>\n",
              "\n",
              "  <script>\n",
              "    async function quickchart(key) {\n",
              "      const quickchartButtonEl =\n",
              "        document.querySelector('#' + key + ' button');\n",
              "      quickchartButtonEl.disabled = true;  // To prevent multiple clicks.\n",
              "      quickchartButtonEl.classList.add('colab-df-spinner');\n",
              "      try {\n",
              "        const charts = await google.colab.kernel.invokeFunction(\n",
              "            'suggestCharts', [key], {});\n",
              "      } catch (error) {\n",
              "        console.error('Error during call to suggestCharts:', error);\n",
              "      }\n",
              "      quickchartButtonEl.classList.remove('colab-df-spinner');\n",
              "      quickchartButtonEl.classList.add('colab-df-quickchart-complete');\n",
              "    }\n",
              "    (() => {\n",
              "      let quickchartButtonEl =\n",
              "        document.querySelector('#df-4054152b-073a-4a47-845b-ffda460337e1 button');\n",
              "      quickchartButtonEl.style.display =\n",
              "        google.colab.kernel.accessAllowed ? 'block' : 'none';\n",
              "    })();\n",
              "  </script>\n",
              "</div>\n",
              "\n",
              "  <div id=\"id_1f11c5e6-80c3-4b9d-9d5f-36a5252783f0\">\n",
              "    <style>\n",
              "      .colab-df-generate {\n",
              "        background-color: #E8F0FE;\n",
              "        border: none;\n",
              "        border-radius: 50%;\n",
              "        cursor: pointer;\n",
              "        display: none;\n",
              "        fill: #1967D2;\n",
              "        height: 32px;\n",
              "        padding: 0 0 0 0;\n",
              "        width: 32px;\n",
              "      }\n",
              "\n",
              "      .colab-df-generate:hover {\n",
              "        background-color: #E2EBFA;\n",
              "        box-shadow: 0px 1px 2px rgba(60, 64, 67, 0.3), 0px 1px 3px 1px rgba(60, 64, 67, 0.15);\n",
              "        fill: #174EA6;\n",
              "      }\n",
              "\n",
              "      [theme=dark] .colab-df-generate {\n",
              "        background-color: #3B4455;\n",
              "        fill: #D2E3FC;\n",
              "      }\n",
              "\n",
              "      [theme=dark] .colab-df-generate:hover {\n",
              "        background-color: #434B5C;\n",
              "        box-shadow: 0px 1px 3px 1px rgba(0, 0, 0, 0.15);\n",
              "        filter: drop-shadow(0px 1px 2px rgba(0, 0, 0, 0.3));\n",
              "        fill: #FFFFFF;\n",
              "      }\n",
              "    </style>\n",
              "    <button class=\"colab-df-generate\" onclick=\"generateWithVariable('department_count')\"\n",
              "            title=\"Generate code using this dataframe.\"\n",
              "            style=\"display:none;\">\n",
              "\n",
              "  <svg xmlns=\"http://www.w3.org/2000/svg\" height=\"24px\"viewBox=\"0 0 24 24\"\n",
              "       width=\"24px\">\n",
              "    <path d=\"M7,19H8.4L18.45,9,17,7.55,7,17.6ZM5,21V16.75L18.45,3.32a2,2,0,0,1,2.83,0l1.4,1.43a1.91,1.91,0,0,1,.58,1.4,1.91,1.91,0,0,1-.58,1.4L9.25,21ZM18.45,9,17,7.55Zm-12,3A5.31,5.31,0,0,0,4.9,8.1,5.31,5.31,0,0,0,1,6.5,5.31,5.31,0,0,0,4.9,4.9,5.31,5.31,0,0,0,6.5,1,5.31,5.31,0,0,0,8.1,4.9,5.31,5.31,0,0,0,12,6.5,5.46,5.46,0,0,0,6.5,12Z\"/>\n",
              "  </svg>\n",
              "    </button>\n",
              "    <script>\n",
              "      (() => {\n",
              "      const buttonEl =\n",
              "        document.querySelector('#id_1f11c5e6-80c3-4b9d-9d5f-36a5252783f0 button.colab-df-generate');\n",
              "      buttonEl.style.display =\n",
              "        google.colab.kernel.accessAllowed ? 'block' : 'none';\n",
              "\n",
              "      buttonEl.onclick = () => {\n",
              "        google.colab.notebook.generateWithVariable('department_count');\n",
              "      }\n",
              "      })();\n",
              "    </script>\n",
              "  </div>\n",
              "\n",
              "    </div>\n",
              "  </div>\n"
            ],
            "application/vnd.google.colaboratory.intrinsic+json": {
              "type": "dataframe",
              "variable_name": "department_count",
              "summary": "{\n  \"name\": \"department_count\",\n  \"rows\": 21,\n  \"fields\": [\n    {\n      \"column\": \"department\",\n      \"properties\": {\n        \"dtype\": \"string\",\n        \"num_unique_values\": 21,\n        \"samples\": [\n          \"beverages\",\n          \"household\",\n          \"missing\"\n        ],\n        \"semantic_type\": \"\",\n        \"description\": \"\"\n      }\n    },\n    {\n      \"column\": \"count\",\n      \"properties\": {\n        \"dtype\": \"number\",\n        \"std\": 15876,\n        \"min\": 335,\n        \"max\": 66449,\n        \"num_unique_values\": 21,\n        \"samples\": [\n          25659,\n          8770,\n          697\n        ],\n        \"semantic_type\": \"\",\n        \"description\": \"\"\n      }\n    },\n    {\n      \"column\": \"department\",\n      \"properties\": {\n        \"dtype\": \"string\",\n        \"num_unique_values\": 21,\n        \"samples\": [\n          \"beverages\",\n          \"household\",\n          \"missing\"\n        ],\n        \"semantic_type\": \"\",\n        \"description\": \"\"\n      }\n    },\n    {\n      \"column\": \"count\",\n      \"properties\": {\n        \"dtype\": \"number\",\n        \"std\": 178918,\n        \"min\": 2749,\n        \"max\": 760789,\n        \"num_unique_values\": 21,\n        \"samples\": [\n          215922,\n          59912,\n          6020\n        ],\n        \"semantic_type\": \"\",\n        \"description\": \"\"\n      }\n    }\n  ]\n}"
            }
          },
          "metadata": {},
          "execution_count": 40
        }
      ]
    },
    {
      "cell_type": "code",
      "source": [
        "%%time\n",
        "df = df.orderBy([\"order_id\", \"add_to_cart_order\"])\n",
        "\n",
        "df_temp = df.select(*df.columns, f.lag(\"aisle\").over(w.partitionBy(f.lit(1)).orderBy(\"order_id\")).alias(\"aisle_before\"))\n",
        "df_temp = df_temp.filter(f.col(\"aisle\") != f.col(\"aisle_before\"))\n",
        "df_temp = df_temp.filter(f.col(\"add_to_cart_order\") != 1).toPandas()"
      ],
      "metadata": {
        "colab": {
          "base_uri": "https://localhost:8080/"
        },
        "id": "KcaHohAk4icc",
        "outputId": "a22857c1-81b0-4401-d47f-168e69f7e011"
      },
      "execution_count": null,
      "outputs": [
        {
          "output_type": "stream",
          "name": "stdout",
          "text": [
            "CPU times: user 17.4 s, sys: 3.03 s, total: 20.4 s\n",
            "Wall time: 1min 29s\n"
          ]
        }
      ]
    }
  ]
}