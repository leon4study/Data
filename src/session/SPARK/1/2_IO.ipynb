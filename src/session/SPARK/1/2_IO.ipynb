{
 "cells": [
  {
   "cell_type": "code",
   "execution_count": 1,
   "id": "dac95dea",
   "metadata": {},
   "outputs": [],
   "source": [
    "import pandas as pd"
   ]
  },
  {
   "cell_type": "markdown",
   "id": "aacd3cdb",
   "metadata": {},
   "source": [
    "### I/O 속도"
   ]
  },
  {
   "cell_type": "code",
   "execution_count": 2,
   "id": "a1d29c98",
   "metadata": {},
   "outputs": [
    {
     "name": "stdout",
     "output_type": "stream",
     "text": [
      "CPU times: user 13.2 s, sys: 3.37 s, total: 16.6 s\n",
      "Wall time: 13.1 s\n"
     ]
    }
   ],
   "source": [
    "%%time\n",
    "df = pd.read_parquet(\"target_raw.parquet\")"
   ]
  },
  {
   "cell_type": "code",
   "execution_count": 3,
   "id": "35660d0d",
   "metadata": {},
   "outputs": [
    {
     "name": "stdout",
     "output_type": "stream",
     "text": [
      "<class 'pandas.core.frame.DataFrame'>\n",
      "Int64Index: 28154385 entries, 0 to 3465865\n",
      "Data columns (total 8 columns):\n",
      " #   Column              Dtype         \n",
      "---  ------              -----         \n",
      " 0   review_id           object        \n",
      " 1   app_name            object        \n",
      " 2   author_name         object        \n",
      " 3   pseudo_author_id    object        \n",
      " 4   author_app_version  object        \n",
      " 5   review_rating       float64       \n",
      " 6   review_likes        int64         \n",
      " 7   review_timestamp    datetime64[ns]\n",
      "dtypes: datetime64[ns](1), float64(1), int64(1), object(5)\n",
      "memory usage: 1.9+ GB\n"
     ]
    }
   ],
   "source": [
    "df.info()"
   ]
  },
  {
   "cell_type": "code",
   "execution_count": 4,
   "id": "79d14814",
   "metadata": {},
   "outputs": [
    {
     "name": "stdout",
     "output_type": "stream",
     "text": [
      "CPU times: user 13.6 s, sys: 1.57 s, total: 15.1 s\n",
      "Wall time: 15.2 s\n"
     ]
    }
   ],
   "source": [
    "%%time\n",
    "df.to_parquet(\"target_raw.parquet\")"
   ]
  },
  {
   "cell_type": "code",
   "execution_count": 5,
   "id": "53a59bf4",
   "metadata": {},
   "outputs": [
    {
     "name": "stdout",
     "output_type": "stream",
     "text": [
      "CPU times: user 732 ms, sys: 300 ms, total: 1.03 s\n",
      "Wall time: 1.03 s\n"
     ]
    }
   ],
   "source": [
    "%%time\n",
    "df = df.reset_index(drop=True)"
   ]
  },
  {
   "cell_type": "code",
   "execution_count": 6,
   "id": "218ec6e6",
   "metadata": {},
   "outputs": [
    {
     "name": "stdout",
     "output_type": "stream",
     "text": [
      "CPU times: user 1min 11s, sys: 2.21 s, total: 1min 13s\n",
      "Wall time: 1min 14s\n"
     ]
    }
   ],
   "source": [
    "%%time\n",
    "df.to_csv(\"target_raw.csv\", index=False)"
   ]
  },
  {
   "cell_type": "code",
   "execution_count": 7,
   "id": "114e7bd0",
   "metadata": {},
   "outputs": [
    {
     "name": "stderr",
     "output_type": "stream",
     "text": [
      "<timed exec>:1: DtypeWarning: Columns (0,3) have mixed types. Specify dtype option on import or set low_memory=False.\n"
     ]
    },
    {
     "name": "stdout",
     "output_type": "stream",
     "text": [
      "CPU times: user 30.8 s, sys: 8.69 s, total: 39.5 s\n",
      "Wall time: 43.4 s\n"
     ]
    }
   ],
   "source": [
    "%%time\n",
    "df = pd.read_csv(\"target_raw.csv\")"
   ]
  },
  {
   "cell_type": "code",
   "execution_count": 8,
   "id": "33340a7b",
   "metadata": {},
   "outputs": [
    {
     "name": "stdout",
     "output_type": "stream",
     "text": [
      "<class 'pandas.core.frame.DataFrame'>\n",
      "RangeIndex: 28154385 entries, 0 to 28154384\n",
      "Data columns (total 8 columns):\n",
      " #   Column              Dtype  \n",
      "---  ------              -----  \n",
      " 0   review_id           object \n",
      " 1   app_name            object \n",
      " 2   author_name         object \n",
      " 3   pseudo_author_id    object \n",
      " 4   author_app_version  object \n",
      " 5   review_rating       float64\n",
      " 6   review_likes        int64  \n",
      " 7   review_timestamp    object \n",
      "dtypes: float64(1), int64(1), object(6)\n",
      "memory usage: 1.7+ GB\n"
     ]
    }
   ],
   "source": [
    "df.info()"
   ]
  },
  {
   "cell_type": "code",
   "execution_count": 17,
   "id": "70679ad7",
   "metadata": {},
   "outputs": [],
   "source": [
    "df.review_timestamp = pd.to_datetime(df.review_timestamp)"
   ]
  },
  {
   "cell_type": "markdown",
   "id": "1bc6e33d",
   "metadata": {},
   "source": [
    "### 데이터 타입 정리"
   ]
  },
  {
   "cell_type": "code",
   "execution_count": 9,
   "id": "7914cafa",
   "metadata": {},
   "outputs": [
    {
     "data": {
      "text/plain": [
       "review_id             2.997116e-01\n",
       "app_name              0.000000e+00\n",
       "author_name           0.000000e+00\n",
       "pseudo_author_id      2.997116e-01\n",
       "author_app_version    2.079358e-01\n",
       "review_rating         3.196660e-07\n",
       "review_likes          0.000000e+00\n",
       "review_timestamp      0.000000e+00\n",
       "dtype: float64"
      ]
     },
     "execution_count": 9,
     "metadata": {},
     "output_type": "execute_result"
    }
   ],
   "source": [
    "df.isna().mean()"
   ]
  },
  {
   "cell_type": "code",
   "execution_count": 10,
   "id": "62a5d490",
   "metadata": {},
   "outputs": [],
   "source": [
    "df_raw = df.copy()"
   ]
  },
  {
   "cell_type": "code",
   "execution_count": 11,
   "id": "cd8855ba",
   "metadata": {},
   "outputs": [
    {
     "name": "stdout",
     "output_type": "stream",
     "text": [
      "<class 'pandas.core.frame.DataFrame'>\n",
      "Int64Index: 2815438 entries, 16473695 to 19973362\n",
      "Data columns (total 8 columns):\n",
      " #   Column              Dtype  \n",
      "---  ------              -----  \n",
      " 0   review_id           object \n",
      " 1   app_name            object \n",
      " 2   author_name         object \n",
      " 3   pseudo_author_id    object \n",
      " 4   author_app_version  object \n",
      " 5   review_rating       float64\n",
      " 6   review_likes        int64  \n",
      " 7   review_timestamp    object \n",
      "dtypes: float64(1), int64(1), object(6)\n",
      "memory usage: 193.3+ MB\n"
     ]
    }
   ],
   "source": [
    "df = df_raw.sample(frac=0.1)\n",
    "df.info()"
   ]
  },
  {
   "cell_type": "code",
   "execution_count": 12,
   "id": "b0d8db91",
   "metadata": {
    "scrolled": true
   },
   "outputs": [
    {
     "name": "stdout",
     "output_type": "stream",
     "text": [
      "review_id(object): 1,972,203가지\n",
      "app_name(object): 7가지\n",
      "author_name(object): 585,007가지\n",
      "pseudo_author_id(object): 1,960,085가지\n",
      "author_app_version(object): 4,746가지\n",
      "review_rating(int): 0.00 ~ 5.00\n",
      "review_likes(int): 0.00 ~ 138,051.00\n",
      "review_timestamp(object): 2,786,949가지\n"
     ]
    }
   ],
   "source": [
    "for col, data_type in df.dtypes.items():\n",
    "    if data_type == \"object\":\n",
    "        ser_target = df[col].value_counts()\n",
    "        print(f\"{col}({data_type}): {len(ser_target):,}가지\")\n",
    "    elif data_type in (\"float\", \"int\"):\n",
    "        max_value = df[col].max()\n",
    "        min_value = df[col].min()\n",
    "        if (((df[col].dropna() % 1) != 0).sum() == 0) or (data_type == \"int\"):\n",
    "            target_data_type = \"int\"\n",
    "        else:\n",
    "            target_data_type = \"float\"\n",
    "        print(f\"{col}({target_data_type}): {min_value:,.2f} ~ {max_value:,.2f}\")\n",
    "    else:\n",
    "        raise Exception(\"New data type:\", data_type)"
   ]
  },
  {
   "cell_type": "code",
   "execution_count": 13,
   "id": "e6d212d8",
   "metadata": {},
   "outputs": [
    {
     "name": "stdout",
     "output_type": "stream",
     "text": [
      "<class 'pandas.core.frame.DataFrame'>\n",
      "RangeIndex: 28154385 entries, 0 to 28154384\n",
      "Data columns (total 8 columns):\n",
      " #   Column              Dtype  \n",
      "---  ------              -----  \n",
      " 0   review_id           object \n",
      " 1   app_name            object \n",
      " 2   author_name         object \n",
      " 3   pseudo_author_id    object \n",
      " 4   author_app_version  object \n",
      " 5   review_rating       float64\n",
      " 6   review_likes        int64  \n",
      " 7   review_timestamp    object \n",
      "dtypes: float64(1), int64(1), object(6)\n",
      "memory usage: 1.7+ GB\n"
     ]
    }
   ],
   "source": [
    "df = df_raw\n",
    "del df_raw\n",
    "df.info()"
   ]
  },
  {
   "cell_type": "code",
   "execution_count": 14,
   "id": "096b1cb2",
   "metadata": {},
   "outputs": [
    {
     "name": "stdout",
     "output_type": "stream",
     "text": [
      "<class 'pandas.core.frame.DataFrame'>\n",
      "RangeIndex: 28154385 entries, 0 to 28154384\n",
      "Data columns (total 8 columns):\n",
      " #   Column              Dtype  \n",
      "---  ------              -----  \n",
      " 0   review_id           object \n",
      " 1   app_name            object \n",
      " 2   author_name         object \n",
      " 3   pseudo_author_id    object \n",
      " 4   author_app_version  object \n",
      " 5   review_rating       float64\n",
      " 6   review_likes        int64  \n",
      " 7   review_timestamp    object \n",
      "dtypes: float64(1), int64(1), object(6)\n",
      "memory usage: 1.7+ GB\n",
      "<class 'pandas.core.frame.DataFrame'>\n",
      "RangeIndex: 28154385 entries, 0 to 28154384\n",
      "Data columns (total 8 columns):\n",
      " #   Column              Dtype  \n",
      "---  ------              -----  \n",
      " 0   review_id           object \n",
      " 1   app_name            object \n",
      " 2   author_name         object \n",
      " 3   pseudo_author_id    object \n",
      " 4   author_app_version  object \n",
      " 5   review_rating       float64\n",
      " 6   review_likes        Int32  \n",
      " 7   review_timestamp    object \n",
      "dtypes: Int32(1), float64(1), object(6)\n",
      "memory usage: 1.6+ GB\n",
      "<class 'pandas.core.frame.DataFrame'>\n",
      "RangeIndex: 28154385 entries, 0 to 28154384\n",
      "Data columns (total 8 columns):\n",
      " #   Column              Dtype \n",
      "---  ------              ----- \n",
      " 0   review_id           object\n",
      " 1   app_name            object\n",
      " 2   author_name         object\n",
      " 3   pseudo_author_id    object\n",
      " 4   author_app_version  object\n",
      " 5   review_rating       Int8  \n",
      " 6   review_likes        Int32 \n",
      " 7   review_timestamp    object\n",
      "dtypes: Int32(1), Int8(1), object(6)\n",
      "memory usage: 1.4+ GB\n",
      "<class 'pandas.core.frame.DataFrame'>\n",
      "RangeIndex: 28154385 entries, 0 to 28154384\n",
      "Data columns (total 8 columns):\n",
      " #   Column              Dtype   \n",
      "---  ------              -----   \n",
      " 0   review_id           object  \n",
      " 1   app_name            category\n",
      " 2   author_name         object  \n",
      " 3   pseudo_author_id    object  \n",
      " 4   author_app_version  category\n",
      " 5   review_rating       Int8    \n",
      " 6   review_likes        Int32   \n",
      " 7   review_timestamp    object  \n",
      "dtypes: Int32(1), Int8(1), category(2), object(4)\n",
      "memory usage: 1.1+ GB\n",
      "Memory Usage: 1,801,880,772 -> 1,182,813,738 (34.36% reduced)\n"
     ]
    }
   ],
   "source": [
    "int32_cols = [\"review_likes\"]\n",
    "int8_cols = [\"review_rating\"]\n",
    "cate_cols = [\"app_name\", \"author_app_version\"]\n",
    "\n",
    "memory_usage_before = df.memory_usage().sum()\n",
    "\n",
    "df.info()\n",
    "for col in int32_cols:\n",
    "    assert abs(df[col].max()) < 2_147_483_647 \n",
    "    df[col] = df[col].astype(pd.Int32Dtype())\n",
    "    \n",
    "df.info()\n",
    "for col in int8_cols:\n",
    "    assert abs(df[col].max()) < 127\n",
    "    df[col] = df[col].astype(pd.Int8Dtype())\n",
    "    \n",
    "df.info()\n",
    "for col in cate_cols:\n",
    "    assert df[col].nunique() < 10_000\n",
    "    df[col] = df[col].astype(\"category\")\n",
    "    \n",
    "df.info()\n",
    "\n",
    "memory_usage_after = df.memory_usage().sum()\n",
    "reduction_ratio = 1 - (memory_usage_after / memory_usage_before)\n",
    "\n",
    "print(f\"Memory Usage: {memory_usage_before:,} -> {memory_usage_after:,} ({reduction_ratio*100:.2f}% reduced)\")"
   ]
  },
  {
   "cell_type": "code",
   "execution_count": 18,
   "id": "ef32b099",
   "metadata": {},
   "outputs": [
    {
     "name": "stdout",
     "output_type": "stream",
     "text": [
      "CPU times: user 11 s, sys: 1.1 s, total: 12.1 s\n",
      "Wall time: 12.2 s\n"
     ]
    }
   ],
   "source": [
    "%%time\n",
    "df.to_parquet(\"df_optimized.parquet\")"
   ]
  }
 ],
 "metadata": {
  "kernelspec": {
   "display_name": "Python 3 (ipykernel)",
   "language": "python",
   "name": "python3"
  },
  "language_info": {
   "codemirror_mode": {
    "name": "ipython",
    "version": 3
   },
   "file_extension": ".py",
   "mimetype": "text/x-python",
   "name": "python",
   "nbconvert_exporter": "python",
   "pygments_lexer": "ipython3",
   "version": "3.11.4"
  }
 },
 "nbformat": 4,
 "nbformat_minor": 5
}