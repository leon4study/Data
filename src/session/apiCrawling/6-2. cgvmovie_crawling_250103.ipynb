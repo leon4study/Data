{
 "cells": [
  {
   "cell_type": "markdown",
   "id": "41d7c3e3",
   "metadata": {},
   "source": [
    "# CGV Review Crawling "
   ]
  },
  {
   "cell_type": "markdown",
   "id": "cea2cc72",
   "metadata": {},
   "source": [
    "1-1. 관련 라이브러리 설치"
   ]
  },
  {
   "cell_type": "code",
   "execution_count": 6,
   "id": "3b5f80ff",
   "metadata": {},
   "outputs": [],
   "source": [
    "#pip install selenium\n",
    "# 크롬브라우저 업데이트 될 때마다 driver 재설치를 하지 않기 위해 설치\n",
    "#pip install webdriver-manager  "
   ]
  },
  {
   "cell_type": "markdown",
   "id": "7733737b",
   "metadata": {},
   "source": [
    "1-2. library import "
   ]
  },
  {
   "cell_type": "code",
   "execution_count": 7,
   "id": "29eb38d1",
   "metadata": {},
   "outputs": [],
   "source": [
    "from selenium.common.exceptions import NoSuchElementException\n",
    "from selenium.webdriver.support.ui import WebDriverWait\n",
    "from selenium.webdriver.support import expected_conditions as EC\n",
    "from selenium.webdriver.common.by import By\n",
    "from selenium import webdriver\n",
    "from selenium.webdriver.chrome.service import Service as ChromeService\n",
    "from webdriver_manager.chrome import ChromeDriverManager\n",
    "import time\n",
    "import pandas as pd\n",
    "\n",
    "import warnings # 경고창 무시\n",
    "warnings.filterwarnings('ignore')"
   ]
  },
  {
   "cell_type": "markdown",
   "id": "abd79287",
   "metadata": {},
   "source": [
    "1-3. crawling: extract "
   ]
  },
  {
   "cell_type": "code",
   "execution_count": 8,
   "id": "bd78b8ca",
   "metadata": {},
   "outputs": [],
   "source": [
    "def get_movie_reviews(url, page_num=12):\n",
    "    chrome_driver =  'C:/Users/user-pc/Downloads/chromedriver_win32/chromedriver.exe'\n",
    "    wd = webdriver.Chrome(chrome_driver)\n",
    "\n",
    "    wd.get(url)\n",
    "    # 빈 리스트 생성하기\n",
    "    writer_list=[]\n",
    "    review_list=[]\n",
    "    date_list=[]\n",
    "    like_list=[]\n",
    "    \n",
    "    for page_no in range(1,page_num+1): # 1페이지에서 page_num까지의 리뷰 추출\n",
    "        try:\n",
    "            page_ul = wd.find_element_by_id('paging_point') # 페이지 포인트 코드 추출\n",
    "            page_a = page_ul.find_element_by_link_text(str(page_no))\n",
    "            page_a.click()\n",
    "            time.sleep(2) # 페이지 로딩까지의 시간 두기\n",
    "\n",
    "            writers = wd.find_elements_by_class_name('writer-name')\n",
    "            writer_list += [writer.text for writer in writers]\n",
    "            \n",
    "            reviews = wd.find_elements_by_class_name('box-comment')\n",
    "            review_list += [ review.text for review in reviews ]\n",
    "            \n",
    "            dates = wd.find_elements_by_class_name('day')\n",
    "            date_list += [date.text for date in dates]\n",
    "            \n",
    "            likes = wd.find_elements_by_id('idLikeValue')\n",
    "            like_list += [like.text for like in likes]            \n",
    "                    \n",
    "            if page_no%10==0: # 10이상의 값을 만났을 때 다음 페이지로 넘기기 버튼\n",
    "                    if page_no==10:\n",
    "                        next_button = page_ul.find_element_by_class_name(\"paging-side\")\n",
    "                        #next_button = page_ul.find_element_by_class_name('btn-paging next')\n",
    "                        next_button.click()\n",
    "                        time.sleep(2)\n",
    "                    else:\n",
    "                        next_button = page_ul.find_element_by_xpath('//*[@id=\"paging_point\"]/li[13]/button').click()\n",
    "                        time.sleep(2)\n",
    "        except NoSuchElementException:\n",
    "                break\n",
    "    movie_review_df = pd.DataFrame({\"Writer\" : writer_list,\n",
    "                                   \"Review\" : review_list,\n",
    "                                   \"Date\" : date_list,\n",
    "                                   \"Like\" : like_list})\n",
    "    wd.close()\n",
    "    return movie_review_df\n"
   ]
  },
  {
   "cell_type": "markdown",
   "id": "e6ddd379",
   "metadata": {},
   "source": [
    "1-5. function request"
   ]
  },
  {
   "cell_type": "code",
   "execution_count": 9,
   "id": "e1499a8f",
   "metadata": {
    "scrolled": false
   },
   "outputs": [],
   "source": [
    "# url 과 pagenum 을 입력하여 작성자, 리뷰내용, 작성날짜, 좋아요 수 요청 및 dataframe 반환\n",
    "#범죄도시4 movie_review_df = get_movie_reviews(\"http://www.cgv.co.kr/movies/detail-view/?midx=88104#\", page_num=3905)\n",
    "movie_review_df = get_movie_reviews(\"http://www.cgv.co.kr/movies/detail-view/?midx=85813\", page_num=12)"
   ]
  },
  {
   "cell_type": "code",
   "execution_count": 10,
   "id": "22f1c922",
   "metadata": {},
   "outputs": [
    {
     "data": {
      "text/html": [
       "<div>\n",
       "<style scoped>\n",
       "    .dataframe tbody tr th:only-of-type {\n",
       "        vertical-align: middle;\n",
       "    }\n",
       "\n",
       "    .dataframe tbody tr th {\n",
       "        vertical-align: top;\n",
       "    }\n",
       "\n",
       "    .dataframe thead th {\n",
       "        text-align: right;\n",
       "    }\n",
       "</style>\n",
       "<table border=\"1\" class=\"dataframe\">\n",
       "  <thead>\n",
       "    <tr style=\"text-align: right;\">\n",
       "      <th></th>\n",
       "      <th>Writer</th>\n",
       "      <th>Review</th>\n",
       "      <th>Date</th>\n",
       "      <th>Like</th>\n",
       "    </tr>\n",
       "  </thead>\n",
       "  <tbody>\n",
       "    <tr>\n",
       "      <th>0</th>\n",
       "      <td>sa**136</td>\n",
       "      <td>1편과 비슷하게 악날하고 다씹어먹내요.</td>\n",
       "      <td>2024.07.14</td>\n",
       "      <td>0</td>\n",
       "    </tr>\n",
       "    <tr>\n",
       "      <th>1</th>\n",
       "      <td>garylove</td>\n",
       "      <td>너무 재밌었어요 역시 범죄도시</td>\n",
       "      <td>2024.07.12</td>\n",
       "      <td>0</td>\n",
       "    </tr>\n",
       "    <tr>\n",
       "      <th>2</th>\n",
       "      <td>al**n1848</td>\n",
       "      <td>마요미와 손석구는 진리다</td>\n",
       "      <td>2024.07.09</td>\n",
       "      <td>0</td>\n",
       "    </tr>\n",
       "    <tr>\n",
       "      <th>3</th>\n",
       "      <td>Yㅖ지</td>\n",
       "      <td>세번째같이본영화입니당</td>\n",
       "      <td>2024.07.08</td>\n",
       "      <td>0</td>\n",
       "    </tr>\n",
       "    <tr>\n",
       "      <th>4</th>\n",
       "      <td>pa**o1215</td>\n",
       "      <td>기대이상으로 너무 좋았어요</td>\n",
       "      <td>2024.07.08</td>\n",
       "      <td>1</td>\n",
       "    </tr>\n",
       "    <tr>\n",
       "      <th>...</th>\n",
       "      <td>...</td>\n",
       "      <td>...</td>\n",
       "      <td>...</td>\n",
       "      <td>...</td>\n",
       "    </tr>\n",
       "    <tr>\n",
       "      <th>67</th>\n",
       "      <td>jr**5673</td>\n",
       "      <td>마동석 핵펀치 보러 가는 거임 대체 불가함</td>\n",
       "      <td>2024.05.06</td>\n",
       "      <td>0</td>\n",
       "    </tr>\n",
       "    <tr>\n",
       "      <th>68</th>\n",
       "      <td>유자차두잔</td>\n",
       "      <td>무섭지만 액션은 잼나고 계속 시리즈가즈아</td>\n",
       "      <td>2024.05.06</td>\n",
       "      <td>0</td>\n",
       "    </tr>\n",
       "    <tr>\n",
       "      <th>69</th>\n",
       "      <td>참치코치</td>\n",
       "      <td>역시나 재밌었음 시리즈물👍</td>\n",
       "      <td>2024.05.06</td>\n",
       "      <td>0</td>\n",
       "    </tr>\n",
       "    <tr>\n",
       "      <th>70</th>\n",
       "      <td>ka**i1008</td>\n",
       "      <td>손석구 연기 짱! 최귀화 마동석 케미 좋음</td>\n",
       "      <td>2024.05.04</td>\n",
       "      <td>0</td>\n",
       "    </tr>\n",
       "    <tr>\n",
       "      <th>71</th>\n",
       "      <td>*블링bling*</td>\n",
       "      <td>너 지금납치된거야! 손손손</td>\n",
       "      <td>2024.05.03</td>\n",
       "      <td>0</td>\n",
       "    </tr>\n",
       "  </tbody>\n",
       "</table>\n",
       "<p>72 rows × 4 columns</p>\n",
       "</div>"
      ],
      "text/plain": [
       "       Writer                   Review        Date Like\n",
       "0     sa**136    1편과 비슷하게 악날하고 다씹어먹내요.  2024.07.14    0\n",
       "1    garylove         너무 재밌었어요 역시 범죄도시  2024.07.12    0\n",
       "2   al**n1848            마요미와 손석구는 진리다  2024.07.09    0\n",
       "3         Yㅖ지              세번째같이본영화입니당  2024.07.08    0\n",
       "4   pa**o1215           기대이상으로 너무 좋았어요  2024.07.08    1\n",
       "..        ...                      ...         ...  ...\n",
       "67   jr**5673  마동석 핵펀치 보러 가는 거임 대체 불가함  2024.05.06    0\n",
       "68      유자차두잔   무섭지만 액션은 잼나고 계속 시리즈가즈아  2024.05.06    0\n",
       "69       참치코치           역시나 재밌었음 시리즈물👍  2024.05.06    0\n",
       "70  ka**i1008  손석구 연기 짱! 최귀화 마동석 케미 좋음  2024.05.04    0\n",
       "71  *블링bling*           너 지금납치된거야! 손손손  2024.05.03    0\n",
       "\n",
       "[72 rows x 4 columns]"
      ]
     },
     "execution_count": 10,
     "metadata": {},
     "output_type": "execute_result"
    }
   ],
   "source": [
    "movie_review_df"
   ]
  },
  {
   "cell_type": "code",
   "execution_count": 16,
   "id": "93eec3fe",
   "metadata": {},
   "outputs": [],
   "source": [
    "movie_review_df.to_csv('범죄도시2크롤링.csv', index=False, encoding=\"utf-8-sig\")"
   ]
  }
 ],
 "metadata": {
  "kernelspec": {
   "display_name": "Python 3 (ipykernel)",
   "language": "python",
   "name": "python3"
  },
  "language_info": {
   "codemirror_mode": {
    "name": "ipython",
    "version": 3
   },
   "file_extension": ".py",
   "mimetype": "text/x-python",
   "name": "python",
   "nbconvert_exporter": "python",
   "pygments_lexer": "ipython3",
   "version": "3.10.9"
  }
 },
 "nbformat": 4,
 "nbformat_minor": 5
}
