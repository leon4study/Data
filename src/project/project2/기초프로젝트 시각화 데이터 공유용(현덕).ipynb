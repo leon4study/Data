{
 "cells": [
  {
   "cell_type": "code",
   "execution_count": null,
   "metadata": {},
   "outputs": [],
   "source": [
    "mask = (df_all['건물용도'] == '아파트')\n",
    "df_t = df_all[mask]\n",
    "df_t"
   ]
  },
  {
   "cell_type": "code",
   "execution_count": null,
   "metadata": {},
   "outputs": [],
   "source": [
    "df_t_mean = df_t.groupby('자치구명')['물건금액(만원)'].mean().round(1).reset_index()\n",
    "df_t_mean"
   ]
  },
  {
   "cell_type": "code",
   "execution_count": null,
   "metadata": {},
   "outputs": [],
   "source": [
    "df_tt = df_t.groupby(['접수연도','자치구명'])['물건금액(만원)'].mean().round(1).reset_index()\n",
    "df_tt\n",
    "df_ty = df_t.groupby(['접수연도','자치구명'])['물건금액(만원)'].count().reset_index()\n",
    "df_ty.rename(columns= {'물건금액(만원)':'거래수'}, inplace=True)\n",
    "df_ty"
   ]
  },
  {
   "cell_type": "code",
   "execution_count": null,
   "metadata": {},
   "outputs": [],
   "source": [
    "source = df_tt\n",
    "source1 = df_t_mean\n",
    "source2 = df_ty\n",
    "\n",
    "plt.rc(\"font\", family = \"NanumBarunGothic\")\n",
    "selection = alt.selection_point(fields=['자치구명'])\n",
    "color = alt.condition(\n",
    "    selection,\n",
    "    alt.Color('자치구명:N').legend(None),\n",
    "    alt.value('lightgray')\n",
    ")\n",
    "\n",
    "threshold = 130000\n",
    "\n",
    "bar = alt.Chart(source1).mark_bar().encode(\n",
    "    x='자치구명:N',\n",
    "    y='물건금액(만원):Q',\n",
    "    color=color,\n",
    "    tooltip='자치구명:N'\n",
    ").properties(\n",
    "    width=1000,\n",
    "    height=300\n",
    ").add_params(\n",
    "    selection\n",
    ")\n",
    "\n",
    "rule = alt.Chart().mark_rule().encode(\n",
    "    y=alt.Y(datum=threshold)\n",
    ")\n",
    "\n",
    "label = rule.mark_text(\n",
    "    x=\"width\",\n",
    "    dx=-2,\n",
    "    align=\"right\",\n",
    "    baseline=\"bottom\",\n",
    "    text=\"최대예산\"\n",
    ")\n",
    "\n",
    "line = alt.Chart(source).mark_line().encode(\n",
    "    y='물건금액(만원):Q',\n",
    "    color='자치구명:N',\n",
    "    x='접수연도:N'\n",
    ").properties(\n",
    "    width=1000,\n",
    "    height=150\n",
    ").transform_filter(selection) \n",
    "\n",
    "line2 = alt.Chart(source2).mark_line().encode(\n",
    "    y='거래수:Q',\n",
    "    color='자치구명:N',\n",
    "    x='접수연도:N'\n",
    ").properties(\n",
    "    width=1000,\n",
    "    height=150\n",
    ").transform_filter(selection) \n",
    "\n",
    "legend = alt.Chart(source).mark_point().encode(\n",
    "    alt.Y('자치구명:N').axis(orient='right'),\n",
    "    color=color\n",
    ").properties(\n",
    "    height=750\n",
    ").add_params(\n",
    "    selection\n",
    ")\n",
    "\n",
    "(bar + rule + label) & line & line2 | legend "
   ]
  }
 ],
 "metadata": {
  "language_info": {
   "name": "python"
  }
 },
 "nbformat": 4,
 "nbformat_minor": 2
}
