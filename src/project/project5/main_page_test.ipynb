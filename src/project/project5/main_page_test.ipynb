{
 "cells": [
  {
   "cell_type": "markdown",
   "metadata": {
    "vscode": {
     "languageId": "plaintext"
    }
   },
   "source": [
    "page - link\n",
    "\n",
    "https://www.amazon.com/s?k=k-beauty&i=beauty&rh=n%3A3760911&dc&crid=39D2JEKI8ZKPK&qid=1736750284&rnid=1248871011&sprefix=%2Cbeauty%2C431&ref=sr_nr_p_72_1&ds=v1%3As0TUofQJCbv%2FDz3XLAMjzM%2F3cEW4oBqAwt0TrOz89a4"
   ]
  },
  {
   "cell_type": "code",
   "execution_count": 1,
   "metadata": {},
   "outputs": [],
   "source": [
    "import os\n",
    "from selenium import webdriver\n",
    "from selenium.webdriver.common.by import By"
   ]
  },
  {
   "cell_type": "code",
   "execution_count": 2,
   "metadata": {},
   "outputs": [
    {
     "data": {
      "text/plain": [
       "['Amazon.com_ K-beauty_ Beauty & Personal Care.html',\n",
       " 'reviews.csv',\n",
       " '.DS_Store',\n",
       " 'Amazon.com_ K-beauty_ Beauty & Personal Care_files',\n",
       " 'items.csv']"
      ]
     },
     "execution_count": 2,
     "metadata": {},
     "output_type": "execute_result"
    }
   ],
   "source": [
    "os.chdir(\"/Users/jun/GitStudy/Data_4/Data/project5\")\n",
    "os.listdir()"
   ]
  },
  {
   "cell_type": "code",
   "execution_count": 3,
   "metadata": {},
   "outputs": [
    {
     "name": "stdout",
     "output_type": "stream",
     "text": [
      "\n",
      " 0 \n",
      "\n"
     ]
    }
   ],
   "source": [
    "driver = webdriver.Chrome()\n",
    "\n",
    "ASIN_list = []\n",
    "\n",
    "try:\n",
    "    # 2. 로컬 HTML 파일 열기\n",
    "    local_html_path = os.path.abspath(\"Amazon.com_ K-beauty_ Beauty & Personal Care.html\")  # HTML 파일의 절대 경로\n",
    "    driver.get(f\"file://{local_html_path}\")\n",
    "\n",
    "\n",
    "    # 3. 특정 리뷰 요소들 찾기\n",
    "\n",
    "    parent_selector = 'div.s-main-slot.s-result-list.s-search-results.sg-row'\n",
    "    child_selector = '[role=\"listitem\"]'\n",
    "    selector = f\"{parent_selector} > {child_selector}\"\n",
    "    items = driver.find_elements(By.CSS_SELECTOR, selector)\n",
    "    \n",
    "    print(\"\\n\", len(items), \"\\n\")\n",
    "    item_list = []\n",
    "    opened = True\n",
    "\n",
    "    # 각 아이템 클릭 및 상세 정보 크롤링\n",
    "    for idx, item in enumerate(items):\n",
    "        try:\n",
    "            ASIN = item.get_attribute(\"data-asin\")\n",
    "            print(\"ASIN : \", ASIN)\n",
    "            if ASIN in ASIN_list:\n",
    "                print(\"continued\")\n",
    "                continue  # 이미 처리된 ASIN은 건너뜀\n",
    "        except Exception as e:\n",
    "            print(f\"Error occurred in for excepiton: {e}\")\n",
    "\n",
    "\n",
    "except Exception as e:\n",
    "    print(f\"Error occurred in first excepiton: {e}\")\n"
   ]
  },
  {
   "cell_type": "code",
   "execution_count": null,
   "metadata": {},
   "outputs": [],
   "source": []
  }
 ],
 "metadata": {
  "kernelspec": {
   "display_name": "leo4study",
   "language": "python",
   "name": "python3"
  },
  "language_info": {
   "codemirror_mode": {
    "name": "ipython",
    "version": 3
   },
   "file_extension": ".py",
   "mimetype": "text/x-python",
   "name": "python",
   "nbconvert_exporter": "python",
   "pygments_lexer": "ipython3",
   "version": "3.11.9"
  }
 },
 "nbformat": 4,
 "nbformat_minor": 2
}
