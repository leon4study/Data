{
 "cells": [
  {
   "cell_type": "code",
   "execution_count": 3,
   "metadata": {},
   "outputs": [],
   "source": [
    "from bs4 import BeautifulSoup\n",
    "import os, time"
   ]
  },
  {
   "cell_type": "code",
   "execution_count": 6,
   "metadata": {},
   "outputs": [],
   "source": [
    "os.chdir(\"/Users/jun/GitStudy/Data_4/data/project5\")"
   ]
  },
  {
   "cell_type": "code",
   "execution_count": 8,
   "metadata": {},
   "outputs": [
    {
     "data": {
      "text/plain": [
       "['.DS_Store',\n",
       " 'Amazon.com _ k-beauty.html',\n",
       " 'Amazon.com _ k-beauty_files',\n",
       " 'items_202501101638.csv']"
      ]
     },
     "execution_count": 8,
     "metadata": {},
     "output_type": "execute_result"
    }
   ],
   "source": [
    "os.listdir()"
   ]
  },
  {
   "cell_type": "code",
   "execution_count": 13,
   "metadata": {},
   "outputs": [],
   "source": [
    "from selenium import webdriver\n",
    "from selenium.webdriver.common.by import By"
   ]
  },
  {
   "cell_type": "code",
   "execution_count": 22,
   "metadata": {},
   "outputs": [],
   "source": [
    "driver = webdriver.Chrome()\n",
    "\n",
    "try:\n",
    "    # 2. 로컬 HTML 파일 열기\n",
    "    local_html_path = os.path.abspath(\"Amazon.com _ k-beauty.html\")  # HTML 파일의 절대 경로\n",
    "    driver.get(f\"file://{local_html_path}\")\n",
    "\n",
    "    # 3. 특정 리뷰 요소들 찾기\n",
    "    next_page_button = driver.find_element(By.CSS_SELECTOR, 'a.s-pagination-button')\n",
    "    next_page_button.click()\n",
    "\n",
    "\n",
    "except Exception as e:\n",
    "    print(f\"오류 : {e}\")\n",
    "\n",
    "finally:\n",
    "    # 4. WebDriver 종료\n",
    "    time.sleep(1)\n",
    "    #pass\n",
    "    #driver.quit()"
   ]
  },
  {
   "cell_type": "code",
   "execution_count": 20,
   "metadata": {},
   "outputs": [
    {
     "name": "stdout",
     "output_type": "stream",
     "text": [
      "Review 1:\n",
      "  Date: Reviewed in the United States on February 14, 2023\n",
      "  Rating: \n",
      "  Title: Drying but gets the job done\n",
      "--------------------------------------------------\n",
      "Review 2:\n",
      "  Date: Reviewed in the United States on May 9, 2023\n",
      "  Rating: \n",
      "  Title: Positive transaction, I am satisfied!\n",
      "--------------------------------------------------\n",
      "Review 3:\n",
      "  Date: Reviewed in the United States on February 14, 2023\n",
      "  Rating: \n",
      "  Title: Not sure\n",
      "--------------------------------------------------\n",
      "Review 4:\n",
      "  Date: Reviewed in the United States on October 23, 2021\n",
      "  Rating: \n",
      "  Title: Great to buy just 1 product & not the whole set\n",
      "--------------------------------------------------\n",
      "Review 5:\n",
      "  Date: Reviewed in the United States on January 21, 2019\n",
      "  Rating: \n",
      "  Title: Good but not as effective as their 2% salicylic acid products were\n",
      "--------------------------------------------------\n",
      "Review 6:\n",
      "  Date: Reviewed in the United States on October 2, 2024\n",
      "  Rating: \n",
      "  Title: It doesn’t work\n",
      "--------------------------------------------------\n",
      "Review 7:\n",
      "  Date: Reviewed in the United States on December 13, 2018\n",
      "  Rating: \n",
      "  Title: Amazing results.\n",
      "--------------------------------------------------\n",
      "Review 8:\n",
      "  Date: Reviewed in the United States on May 23, 2023\n",
      "  Rating: \n",
      "  Title: That it works\n",
      "--------------------------------------------------\n",
      "Review 9:\n",
      "  Date: Reviewed in the United States on April 13, 2023\n",
      "  Rating: \n",
      "  Title: Best thing\n",
      "--------------------------------------------------\n",
      "Review 10:\n",
      "  Date: Reviewed in the United States on January 9, 2020\n",
      "  Rating: \n",
      "  Title: Works!!\n",
      "--------------------------------------------------\n"
     ]
    }
   ],
   "source": [
    "from selenium import webdriver\n",
    "from selenium.webdriver.common.by import By\n",
    "import os\n",
    "import time\n",
    "\n",
    "# WebDriver 초기화\n",
    "driver = webdriver.Chrome()\n",
    "\n",
    "try:\n",
    "    # 2. 로컬 HTML 파일 열기\n",
    "    local_html_path = os.path.abspath(\"Amazon_customer_reviews.html\")  # HTML 파일의 절대 경로\n",
    "    driver.get(f\"file://{local_html_path}\")\n",
    "\n",
    "    # 3. 특정 리뷰 요소들 찾기\n",
    "    reviews = driver.find_elements(By.CLASS_NAME, \"review\")  # 각 리뷰를 감싸는 컨테이너 클래스\n",
    "\n",
    "    for idx, detail_review in enumerate(reviews, start=1):\n",
    "        try:\n",
    "            # (1) 리뷰 날짜 추출\n",
    "            date_element = detail_review.find_elements(By.CSS_SELECTOR, \"span[data-hook='review-date']\")\n",
    "            date = date_element[0].text if date_element else \"No date\"\n",
    "\n",
    "            # (2) 리뷰 평점 추출\n",
    "            rating_element = detail_review.find_elements(By.CLASS_NAME, \"a-icon-alt\")\n",
    "            review_rating = rating_element[0].text if rating_element else \"No rating\"\n",
    "\n",
    "            # (3) 리뷰 제목 추출\n",
    "            title_element = detail_review.find_elements(By.CLASS_NAME, \"review-title\")\n",
    "            review_title = title_element[0].text if title_element else \"No title\"\n",
    "\n",
    "            # (4) 추출한 데이터 출력\n",
    "            print(f\"Review {idx}:\")\n",
    "            print(f\"  Date: {date}\")\n",
    "            print(f\"  Rating: {review_rating}\")\n",
    "            print(f\"  Title: {review_title}\")\n",
    "            print(\"-\" * 50)\n",
    "        except Exception as e:\n",
    "            print(f\"Error processing review {idx}: {e}\")\n",
    "\n",
    "finally:\n",
    "    # WebDriver 종료\n",
    "    time.sleep(1)  # 필요한 경우만 사용\n",
    "    #driver.quit()\n"
   ]
  },
  {
   "cell_type": "code",
   "execution_count": 11,
   "metadata": {},
   "outputs": [],
   "source": [
    "import pandas as pd"
   ]
  },
  {
   "cell_type": "code",
   "execution_count": 12,
   "metadata": {},
   "outputs": [
    {
     "data": {
      "text/plain": [
       "['.DS_Store',\n",
       " 'Amazon.com _ k-beauty.html',\n",
       " 'Amazon.com _ k-beauty_files',\n",
       " 'items_202501101638.csv']"
      ]
     },
     "execution_count": 12,
     "metadata": {},
     "output_type": "execute_result"
    }
   ],
   "source": [
    "os.listdir()"
   ]
  },
  {
   "cell_type": "code",
   "execution_count": 21,
   "metadata": {},
   "outputs": [],
   "source": [
    "df = pd.read_csv(\"items_202501101638.csv\",delimiter=\",\")"
   ]
  },
  {
   "cell_type": "code",
   "execution_count": 23,
   "metadata": {},
   "outputs": [
    {
     "data": {
      "text/plain": [
       "array(['Facial Serums', 'Facial Cleansing Washes',\n",
       "       'Eye Wrinkle Pads & Patches', 'Hair Treatment Masks',\n",
       "       'Face Moisturizers', 'Eye Treatment Balms', 'Facial Masks',\n",
       "       'Facial Toners & Astringents', 'Facial Oils',\n",
       "       'Facial Night Creams', 'Makeup Cleansing Oils',\n",
       "       'Facial Cleansing Cloths & Towelettes', 'Facial Sunscreens',\n",
       "       'Makeup Blenders & Sponges', 'Skin Care Sets & Kits',\n",
       "       \"Women's Disposable Shaving Razors\", 'Makeup Cleansing Creams',\n",
       "       'Foundation Makeup', 'Eye Masks', 'Hair Treatment Oils',\n",
       "       'Eye Treatment Creams', 'Eye Treatment Serums', 'Face Mists',\n",
       "       'Face Blushes', 'Foundation Primers', 'Makeup Palettes',\n",
       "       'Lip Stains', 'Hair Shampoo', 'Lip Balms & Moisturizers',\n",
       "       'Pore Cleansing Strips', 'Foundation Brushes', 'Lip Butters',\n",
       "       'Facial Skin Care Products'], dtype=object)"
      ]
     },
     "execution_count": 23,
     "metadata": {},
     "output_type": "execute_result"
    }
   ],
   "source": [
    "df['best_sellers_rank_Feature'].apply(lambda x : x.split(\" in \")[-1]).unique()"
   ]
  },
  {
   "cell_type": "code",
   "execution_count": 33,
   "metadata": {},
   "outputs": [
    {
     "data": {
      "text/html": [
       "<div>\n",
       "<style scoped>\n",
       "    .dataframe tbody tr th:only-of-type {\n",
       "        vertical-align: middle;\n",
       "    }\n",
       "\n",
       "    .dataframe tbody tr th {\n",
       "        vertical-align: top;\n",
       "    }\n",
       "\n",
       "    .dataframe thead th {\n",
       "        text-align: right;\n",
       "    }\n",
       "</style>\n",
       "<table border=\"1\" class=\"dataframe\">\n",
       "  <thead>\n",
       "    <tr style=\"text-align: right;\">\n",
       "      <th></th>\n",
       "      <th>ASIN</th>\n",
       "      <th>title</th>\n",
       "      <th>brand</th>\n",
       "      <th>price</th>\n",
       "      <th>Special_Feature</th>\n",
       "      <th>total_star_mean</th>\n",
       "      <th>detail_dict</th>\n",
       "      <th>best_sellers_rank_Feature</th>\n",
       "    </tr>\n",
       "  </thead>\n",
       "  <tbody>\n",
       "    <tr>\n",
       "      <th>0</th>\n",
       "      <td>B0B3MTMZCC</td>\n",
       "      <td>SAM’U pH Sensitive Cream Mist – Ceramide Cream...</td>\n",
       "      <td>SAM'U</td>\n",
       "      <td>33.00</td>\n",
       "      <td>No special feature</td>\n",
       "      <td>4.3</td>\n",
       "      <td>{\"ASIN\": \"B0B3MTMZCC\", \"Manufacturer\": \"Natura...</td>\n",
       "      <td>#87,252 in Beauty &amp; Personal Care (See Top 100...</td>\n",
       "    </tr>\n",
       "    <tr>\n",
       "      <th>1</th>\n",
       "      <td>B0B45LL4DD</td>\n",
       "      <td>Beauty of Joseon Revive Eye Serum with Retinal...</td>\n",
       "      <td>Beauty of Joseon</td>\n",
       "      <td>16.10</td>\n",
       "      <td>No special feature</td>\n",
       "      <td>4.3</td>\n",
       "      <td>{\"ASIN\": \"B0B45LL4DD\", \"Manufacturer\": \"GREEN ...</td>\n",
       "      <td>#172 in Beauty &amp; Personal Care (See Top 100 in...</td>\n",
       "    </tr>\n",
       "    <tr>\n",
       "      <th>2</th>\n",
       "      <td>B0CQC95HBF</td>\n",
       "      <td>P.CALM UnderPore Holy Basil Cleansing Oil 190m...</td>\n",
       "      <td>P.CALM</td>\n",
       "      <td>16.99</td>\n",
       "      <td>Non Comedogenic</td>\n",
       "      <td>4.4</td>\n",
       "      <td>{\"ASIN\": \"B0CQC95HBF\", \"Manufacturer\": \"Nordin...</td>\n",
       "      <td>#16,237 in Beauty &amp; Personal Care (See Top 100...</td>\n",
       "    </tr>\n",
       "    <tr>\n",
       "      <th>3</th>\n",
       "      <td>B0DMQ644WF</td>\n",
       "      <td>Rebalancing Emulsion - Deep 24-Hour Hydration ...</td>\n",
       "      <td>Excuse My Frank</td>\n",
       "      <td>19.99</td>\n",
       "      <td>No special feature</td>\n",
       "      <td>4.1</td>\n",
       "      <td>{\"UPC\": \"860013095741\", \"ASIN\": \"B0DMQ644WF\", ...</td>\n",
       "      <td>#344,820 in Beauty &amp; Personal Care (See Top 10...</td>\n",
       "    </tr>\n",
       "  </tbody>\n",
       "</table>\n",
       "</div>"
      ],
      "text/plain": [
       "         ASIN                                              title  \\\n",
       "0  B0B3MTMZCC  SAM’U pH Sensitive Cream Mist – Ceramide Cream...   \n",
       "1  B0B45LL4DD  Beauty of Joseon Revive Eye Serum with Retinal...   \n",
       "2  B0CQC95HBF  P.CALM UnderPore Holy Basil Cleansing Oil 190m...   \n",
       "3  B0DMQ644WF  Rebalancing Emulsion - Deep 24-Hour Hydration ...   \n",
       "\n",
       "              brand  price     Special_Feature  total_star_mean  \\\n",
       "0             SAM'U  33.00  No special feature              4.3   \n",
       "1  Beauty of Joseon  16.10  No special feature              4.3   \n",
       "2            P.CALM  16.99     Non Comedogenic              4.4   \n",
       "3   Excuse My Frank  19.99  No special feature              4.1   \n",
       "\n",
       "                                         detail_dict  \\\n",
       "0  {\"ASIN\": \"B0B3MTMZCC\", \"Manufacturer\": \"Natura...   \n",
       "1  {\"ASIN\": \"B0B45LL4DD\", \"Manufacturer\": \"GREEN ...   \n",
       "2  {\"ASIN\": \"B0CQC95HBF\", \"Manufacturer\": \"Nordin...   \n",
       "3  {\"UPC\": \"860013095741\", \"ASIN\": \"B0DMQ644WF\", ...   \n",
       "\n",
       "                           best_sellers_rank_Feature  \n",
       "0  #87,252 in Beauty & Personal Care (See Top 100...  \n",
       "1  #172 in Beauty & Personal Care (See Top 100 in...  \n",
       "2  #16,237 in Beauty & Personal Care (See Top 100...  \n",
       "3  #344,820 in Beauty & Personal Care (See Top 10...  "
      ]
     },
     "execution_count": 33,
     "metadata": {},
     "output_type": "execute_result"
    }
   ],
   "source": [
    "pd.read_csv(\"items_202501091441.csv\",delimiter=\",\")"
   ]
  },
  {
   "cell_type": "code",
   "execution_count": 5,
   "metadata": {},
   "outputs": [],
   "source": [
    "list1 = []\n",
    "list1.append(1)\n",
    "list1.append(2)\n",
    "list1.append(\"3\")"
   ]
  },
  {
   "cell_type": "code",
   "execution_count": 12,
   "metadata": {},
   "outputs": [
    {
     "data": {
      "text/plain": [
       "['.DS_Store', 'Amazon.com_k-beauty_files', 'Amazon.com_k-beauty.html']"
      ]
     },
     "execution_count": 12,
     "metadata": {},
     "output_type": "execute_result"
    }
   ],
   "source": [
    "os.chdir(\"/Users/jun/GitStudy/Data_4/Data/project5\")\n",
    "os.listdir()"
   ]
  },
  {
   "cell_type": "code",
   "execution_count": 14,
   "metadata": {},
   "outputs": [
    {
     "name": "stdout",
     "output_type": "stream",
     "text": [
      "\n",
      " 66 \n",
      "\n"
     ]
    }
   ],
   "source": [
    "from selenium import webdriver\n",
    "from selenium.webdriver.common.by import By\n",
    "driver = webdriver.Chrome()\n",
    "\n",
    "try:\n",
    "    # 2. 로컬 HTML 파일 열기\n",
    "    local_html_path = os.path.abspath(\"Amazon.com_k-beauty.html\")  # HTML 파일의 절대 경로\n",
    "    driver.get(f\"file://{local_html_path}\")\n",
    "\n",
    "\n",
    "    # 3. 특정 리뷰 요소들 찾기\n",
    "\n",
    "    items = driver.find_elements(By.CSS_SELECTOR, '[role=\"listitem\"]')\n",
    "    print(\"\\n\", len(items), \"\\n\")\n",
    "    \n",
    "\n",
    "finally:\n",
    "    # 4. WebDriver 종료\n",
    "    time.sleep(1)\n",
    "    #pass\n",
    "    #driver.quit()"
   ]
  },
  {
   "cell_type": "code",
   "execution_count": null,
   "metadata": {},
   "outputs": [],
   "source": [
    "# 10월 총 매출 계산\n",
    "total_revenue = df_10['price'].sum()\n",
    "\n",
    "# 10월 일별 매출 계산\n",
    "daily_revenue = df_10.groupby('date_ymd')['price'].sum()\n",
    "\n",
    "# 10월 요일별 매출 계산\n",
    "day_week_revenue = df_10.groupby('day_of_week')['price'].sum()\n",
    "\n",
    "# 10월 TPM 매출 계산\n",
    "TPM_revenue = df_10.groupby('TPM')['price'].sum()\n",
    "\n",
    "# 결과 출력\n",
    "print(\"10월 총 매출:\", total_revenue)\n",
    "print(\"\\n10월 일별 매출:\\n\", daily_revenue)\n",
    "print(\"\\n10월 요일별 매출:\\n\", day_week_revenue)\n",
    "print(\"\\n10월 TPM별 매출:\\n\", TPM_revenue)\n",
    "\n",
    "# 시각화\n",
    "import seaborn as sns\n",
    "\n",
    "# 1. 일별 매출 추이 시각화\n",
    "plt.figure(figsize=(12, 6))\n",
    "daily_revenue.sort_index().plot(kind='line', color='skyblue', alpha=0.8)\n",
    "plt.title('\"Daily Revenue in October\"', fontsize=16)\n",
    "plt.xlabel('date', fontsize=12)\n",
    "plt.ylabel('Revenue', fontsize=12)\n",
    "plt.xticks(rotation=45)\n",
    "plt.tight_layout()\n",
    "plt.show()\n",
    "\n",
    "# 2. 요일별 매출 추이 시각화\n",
    "plt.figure(figsize=(8, 5))\n",
    "sns.barplot(x=day_week_revenue.index, y=day_week_revenue.values, palette='pastel')\n",
    "plt.title('Weekly Revenue in October', fontsize=16)\n",
    "plt.xlabel('Week', fontsize=12)\n",
    "plt.ylabel('Revenue', fontsize=12)\n",
    "plt.tight_layout()\n",
    "plt.show()\n",
    "\n",
    "# 3. TPM별 매출 추이 시각화\n",
    "plt.figure(figsize=(8, 5))\n",
    "sns.barplot(x=TPM_revenue.index, y=TPM_revenue.values, palette='muted')\n",
    "plt.title('TPM Revenue in October', fontsize=16)\n",
    "plt.xlabel('TPM', fontsize=12)\n",
    "plt.ylabel('Revenue', fontsize=12)\n",
    "plt.tight_layout()\n",
    "plt.show()"
   ]
  },
  {
   "cell_type": "code",
   "execution_count": null,
   "metadata": {},
   "outputs": [],
   "source": [
    "def click_next_item_page(wait):\n",
    "    try:\n",
    "        # Next page 버튼 기다리기\n",
    "        next_page_button = wait.until(\n",
    "            EC.element_to_be_clickable((By.CSS_SELECTOR, 'li.s-list-item-margin-right-adjustment'))\n",
    "        )\n",
    "        # 버튼 클릭\n",
    "        next_page_button.click()\n",
    "        print(\"Successfully clicked the Next Item Page button.\")\n",
    "    except Exception as e:\n",
    "        print(f\"Error clicking Next Page button: {e}\")"
   ]
  }
 ],
 "metadata": {
  "kernelspec": {
   "display_name": "leo4study",
   "language": "python",
   "name": "python3"
  },
  "language_info": {
   "codemirror_mode": {
    "name": "ipython",
    "version": 3
   },
   "file_extension": ".py",
   "mimetype": "text/x-python",
   "name": "python",
   "nbconvert_exporter": "python",
   "pygments_lexer": "ipython3",
   "version": "3.11.9"
  }
 },
 "nbformat": 4,
 "nbformat_minor": 2
}
