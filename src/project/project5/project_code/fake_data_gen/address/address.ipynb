{
 "cells": [
  {
   "cell_type": "code",
   "execution_count": 17,
   "metadata": {},
   "outputs": [],
   "source": [
    "import os\n",
    "import pandas as pd"
   ]
  },
  {
   "cell_type": "code",
   "execution_count": 18,
   "metadata": {},
   "outputs": [
    {
     "data": {
      "text/plain": [
       "['random_address_LA.csv']"
      ]
     },
     "execution_count": 18,
     "metadata": {},
     "output_type": "execute_result"
    }
   ],
   "source": [
    "address_path = \"/Users/jun/GitStudy/Data_4/Data/project5/address\"\n",
    "os.chdir(address_path)\n",
    "os.listdir()"
   ]
  },
  {
   "cell_type": "code",
   "execution_count": 19,
   "metadata": {},
   "outputs": [
    {
     "data": {
      "text/html": [
       "<div>\n",
       "<style scoped>\n",
       "    .dataframe tbody tr th:only-of-type {\n",
       "        vertical-align: middle;\n",
       "    }\n",
       "\n",
       "    .dataframe tbody tr th {\n",
       "        vertical-align: top;\n",
       "    }\n",
       "\n",
       "    .dataframe thead th {\n",
       "        text-align: right;\n",
       "    }\n",
       "</style>\n",
       "<table border=\"1\" class=\"dataframe\">\n",
       "  <thead>\n",
       "    <tr style=\"text-align: right;\">\n",
       "      <th></th>\n",
       "      <th>detailed_address</th>\n",
       "      <th>city</th>\n",
       "      <th>state</th>\n",
       "      <th>zipcode</th>\n",
       "    </tr>\n",
       "  </thead>\n",
       "  <tbody>\n",
       "    <tr>\n",
       "      <th>0</th>\n",
       "      <td>PO BOX 111</td>\n",
       "      <td>GREENWOOD</td>\n",
       "      <td>IN</td>\n",
       "      <td>46142-0111</td>\n",
       "    </tr>\n",
       "    <tr>\n",
       "      <th>1</th>\n",
       "      <td>727</td>\n",
       "      <td>FAIRFIELD AVE INDIANAPOLIS</td>\n",
       "      <td>IN</td>\n",
       "      <td>46205-3799</td>\n",
       "    </tr>\n",
       "    <tr>\n",
       "      <th>2</th>\n",
       "      <td>6200</td>\n",
       "      <td>HYTHE RD INDIANAPOLIS</td>\n",
       "      <td>IN</td>\n",
       "      <td>46220-4102</td>\n",
       "    </tr>\n",
       "    <tr>\n",
       "      <th>3</th>\n",
       "      <td>3000</td>\n",
       "      <td>DANUBE WAY INDIANAPOLIS</td>\n",
       "      <td>IN</td>\n",
       "      <td>46239-9287</td>\n",
       "    </tr>\n",
       "    <tr>\n",
       "      <th>4</th>\n",
       "      <td>9200 E 101ST</td>\n",
       "      <td>AVE CROWN POINT</td>\n",
       "      <td>IN</td>\n",
       "      <td>46307-8653</td>\n",
       "    </tr>\n",
       "    <tr>\n",
       "      <th>...</th>\n",
       "      <td>...</td>\n",
       "      <td>...</td>\n",
       "      <td>...</td>\n",
       "      <td>...</td>\n",
       "    </tr>\n",
       "    <tr>\n",
       "      <th>499</th>\n",
       "      <td>1800</td>\n",
       "      <td>ORKNEY DR SOUTH BEND</td>\n",
       "      <td>IN</td>\n",
       "      <td>46614-3566</td>\n",
       "    </tr>\n",
       "    <tr>\n",
       "      <th>500</th>\n",
       "      <td>5200 E 620</td>\n",
       "      <td>WOLCOTTVILLE</td>\n",
       "      <td>IN</td>\n",
       "      <td>46795-9442</td>\n",
       "    </tr>\n",
       "    <tr>\n",
       "      <th>501</th>\n",
       "      <td>3101</td>\n",
       "      <td>WARSAW ST FORT WAYNE</td>\n",
       "      <td>IN</td>\n",
       "      <td>46806-1169</td>\n",
       "    </tr>\n",
       "    <tr>\n",
       "      <th>502</th>\n",
       "      <td>3301</td>\n",
       "      <td>E MAPLE GROVE AVE FORT WAYNE</td>\n",
       "      <td>IN</td>\n",
       "      <td>46806-2619</td>\n",
       "    </tr>\n",
       "    <tr>\n",
       "      <th>503</th>\n",
       "      <td>7600</td>\n",
       "      <td>W ROCK LAKE SHORE DR AKRON</td>\n",
       "      <td>IN</td>\n",
       "      <td>46910-9617</td>\n",
       "    </tr>\n",
       "  </tbody>\n",
       "</table>\n",
       "<p>504 rows × 4 columns</p>\n",
       "</div>"
      ],
      "text/plain": [
       "    detailed_address                          city state     zipcode\n",
       "0         PO BOX 111                     GREENWOOD    IN  46142-0111\n",
       "1                727    FAIRFIELD AVE INDIANAPOLIS    IN  46205-3799\n",
       "2               6200         HYTHE RD INDIANAPOLIS    IN  46220-4102\n",
       "3               3000       DANUBE WAY INDIANAPOLIS    IN  46239-9287\n",
       "4       9200 E 101ST               AVE CROWN POINT    IN  46307-8653\n",
       "..               ...                           ...   ...         ...\n",
       "499             1800          ORKNEY DR SOUTH BEND    IN  46614-3566\n",
       "500       5200 E 620                  WOLCOTTVILLE    IN  46795-9442\n",
       "501             3101          WARSAW ST FORT WAYNE    IN  46806-1169\n",
       "502             3301  E MAPLE GROVE AVE FORT WAYNE    IN  46806-2619\n",
       "503             7600    W ROCK LAKE SHORE DR AKRON    IN  46910-9617\n",
       "\n",
       "[504 rows x 4 columns]"
      ]
     },
     "execution_count": 19,
     "metadata": {},
     "output_type": "execute_result"
    }
   ],
   "source": [
    "address_df = pd.read_csv(\"random_address_LA.csv\",index_col=False)\n",
    "address_df"
   ]
  },
  {
   "cell_type": "code",
   "execution_count": 16,
   "metadata": {},
   "outputs": [
    {
     "data": {
      "text/plain": [
       "state\n",
       "IN    504\n",
       "Name: count, dtype: int64"
      ]
     },
     "execution_count": 16,
     "metadata": {},
     "output_type": "execute_result"
    }
   ],
   "source": [
    "address_df['state'].value_counts()"
   ]
  },
  {
   "cell_type": "code",
   "execution_count": 1,
   "metadata": {},
   "outputs": [],
   "source": [
    "import slack1"
   ]
  },
  {
   "cell_type": "code",
   "execution_count": 2,
   "metadata": {},
   "outputs": [
    {
     "ename": "NameError",
     "evalue": "name 'send_msg' is not defined",
     "output_type": "error",
     "traceback": [
      "\u001b[0;31m---------------------------------------------------------------------------\u001b[0m",
      "\u001b[0;31mNameError\u001b[0m                                 Traceback (most recent call last)",
      "Cell \u001b[0;32mIn[2], line 1\u001b[0m\n\u001b[0;32m----> 1\u001b[0m \u001b[43msend_msg\u001b[49m(\u001b[38;5;124m\"\u001b[39m\u001b[38;5;124mhaha\u001b[39m\u001b[38;5;124m\"\u001b[39m)\n",
      "\u001b[0;31mNameError\u001b[0m: name 'send_msg' is not defined"
     ]
    }
   ],
   "source": [
    "send_msg(\"haha\")"
   ]
  },
  {
   "cell_type": "code",
   "execution_count": 9,
   "metadata": {},
   "outputs": [],
   "source": [
    "import pltKorean_mac"
   ]
  },
  {
   "cell_type": "code",
   "execution_count": 10,
   "metadata": {},
   "outputs": [],
   "source": [
    "pltKorean_mac.set_font_manager()"
   ]
  },
  {
   "cell_type": "code",
   "execution_count": null,
   "metadata": {},
   "outputs": [],
   "source": []
  }
 ],
 "metadata": {
  "kernelspec": {
   "display_name": "leo4study",
   "language": "python",
   "name": "python3"
  },
  "language_info": {
   "codemirror_mode": {
    "name": "ipython",
    "version": 3
   },
   "file_extension": ".py",
   "mimetype": "text/x-python",
   "name": "python",
   "nbconvert_exporter": "python",
   "pygments_lexer": "ipython3",
   "version": "3.11.9"
  }
 },
 "nbformat": 4,
 "nbformat_minor": 2
}
