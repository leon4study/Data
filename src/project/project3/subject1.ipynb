{
 "cells": [
  {
   "cell_type": "code",
   "execution_count": 3,
   "metadata": {},
   "outputs": [],
   "source": [
    "import kaggle_link_to\n",
    "import pandas as pd\n",
    "import os\n",
    "import matplotlib.pyplot as plt\n",
    "import numpy as np"
   ]
  },
  {
   "cell_type": "code",
   "execution_count": 4,
   "metadata": {},
   "outputs": [
    {
     "data": {
      "text/plain": [
       "['customers.csv',\n",
       " 'products.csv',\n",
       " 'orders.csv',\n",
       " '.DS_Store',\n",
       " 'capstone_data_cleaned.csv',\n",
       " 'payments.csv',\n",
       " 'order_items.csv',\n",
       " 'Retail_dataset.xlsx']"
      ]
     },
     "execution_count": 4,
     "metadata": {},
     "output_type": "execute_result"
    }
   ],
   "source": [
    "path = \"/Users/jun/GitStudy/Data_4/Data/eCommerce3\"\n",
    "\n",
    "os.chdir(path)\n",
    "list1 = os.listdir()\n",
    "list1"
   ]
  },
  {
   "cell_type": "code",
   "execution_count": 5,
   "metadata": {},
   "outputs": [],
   "source": [
    "customers =  pd.read_csv(os.path.join(path, 'customers.csv'))\n",
    "products =  pd.read_csv(os.path.join(path, 'products.csv'))\n",
    "orders_df =  pd.read_csv(os.path.join(path, 'orders.csv'))\n",
    "payments_df =  pd.read_csv(os.path.join(path, 'payments.csv'))\n",
    "order_items_df =  pd.read_csv(os.path.join(path, 'order_items.csv'))\n",
    "cleaned_df =  pd.read_csv(os.path.join(path, 'capstone_data_cleaned.csv'))"
   ]
  },
  {
   "cell_type": "code",
   "execution_count": 6,
   "metadata": {},
   "outputs": [
    {
     "name": "stdout",
     "output_type": "stream",
     "text": [
      "<class 'pandas.core.frame.DataFrame'>\n",
      "RangeIndex: 119614 entries, 0 to 119613\n",
      "Data columns (total 22 columns):\n",
      " #   Column                         Non-Null Count   Dtype  \n",
      "---  ------                         --------------   -----  \n",
      " 0   order_id                       119614 non-null  object \n",
      " 1   customer_id                    119614 non-null  object \n",
      " 2   order_purchase_timestamp       119614 non-null  object \n",
      " 3   order_approved_at              119614 non-null  object \n",
      " 4   order_delivered_timestamp      119614 non-null  object \n",
      " 5   order_estimated_delivery_date  119614 non-null  object \n",
      " 6   order_item_id                  119614 non-null  int64  \n",
      " 7   product_id                     119614 non-null  object \n",
      " 8   seller_id                      119614 non-null  object \n",
      " 9   price                          119614 non-null  float64\n",
      " 10  shipping_charges               119614 non-null  float64\n",
      " 11  payment_type                   119614 non-null  object \n",
      " 12  payment_installments           119614 non-null  int64  \n",
      " 13  payment_value                  119614 non-null  float64\n",
      " 14  product_category_name          119614 non-null  object \n",
      " 15  product_weight_g               119614 non-null  float64\n",
      " 16  product_length_cm              119614 non-null  float64\n",
      " 17  product_height_cm              119614 non-null  float64\n",
      " 18  product_width_cm               119614 non-null  float64\n",
      " 19  customer_zip_code_prefix       119614 non-null  int64  \n",
      " 20  customer_city                  119614 non-null  object \n",
      " 21  customer_state                 119614 non-null  object \n",
      "dtypes: float64(7), int64(3), object(12)\n",
      "memory usage: 20.1+ MB\n"
     ]
    }
   ],
   "source": [
    "cleaned_df.info()"
   ]
  },
  {
   "cell_type": "code",
   "execution_count": 12,
   "metadata": {},
   "outputs": [
    {
     "name": "stdout",
     "output_type": "stream",
     "text": [
      "<class 'pandas.core.frame.DataFrame'>\n",
      "RangeIndex: 119614 entries, 0 to 119613\n",
      "Data columns (total 22 columns):\n",
      " #   Column                         Non-Null Count   Dtype  \n",
      "---  ------                         --------------   -----  \n",
      " 0   order_id                       119614 non-null  object \n",
      " 1   customer_id                    119614 non-null  object \n",
      " 2   order_purchase_timestamp       119614 non-null  object \n",
      " 3   order_approved_at              119614 non-null  object \n",
      " 4   order_delivered_timestamp      119614 non-null  object \n",
      " 5   order_estimated_delivery_date  119614 non-null  object \n",
      " 6   order_item_id                  119614 non-null  int64  \n",
      " 7   product_id                     119614 non-null  object \n",
      " 8   seller_id                      119614 non-null  object \n",
      " 9   price                          119614 non-null  float64\n",
      " 10  shipping_charges               119614 non-null  float64\n",
      " 11  payment_type                   119614 non-null  object \n",
      " 12  payment_installments           119614 non-null  int64  \n",
      " 13  payment_value                  119614 non-null  float64\n",
      " 14  product_category_name          119614 non-null  object \n",
      " 15  product_weight_g               119614 non-null  float64\n",
      " 16  product_length_cm              119614 non-null  float64\n",
      " 17  product_height_cm              119614 non-null  float64\n",
      " 18  product_width_cm               119614 non-null  float64\n",
      " 19  customer_zip_code_prefix       119614 non-null  int64  \n",
      " 20  customer_city                  119614 non-null  object \n",
      " 21  customer_state                 119614 non-null  object \n",
      "dtypes: float64(7), int64(3), object(12)\n",
      "memory usage: 20.1+ MB\n"
     ]
    }
   ],
   "source": [
    "cleaned_df.info()"
   ]
  },
  {
   "cell_type": "code",
   "execution_count": 32,
   "metadata": {},
   "outputs": [
    {
     "name": "stdout",
     "output_type": "stream",
     "text": [
      "<class 'pandas.core.frame.DataFrame'>\n",
      "RangeIndex: 32951 entries, 0 to 32950\n",
      "Data columns (total 6 columns):\n",
      " #   Column                 Non-Null Count  Dtype  \n",
      "---  ------                 --------------  -----  \n",
      " 0   product_id             32951 non-null  object \n",
      " 1   product_category_name  32781 non-null  object \n",
      " 2   product_weight_g       32949 non-null  float64\n",
      " 3   product_length_cm      32949 non-null  float64\n",
      " 4   product_height_cm      32949 non-null  float64\n",
      " 5   product_width_cm       32949 non-null  float64\n",
      "dtypes: float64(4), object(2)\n",
      "memory usage: 1.5+ MB\n"
     ]
    }
   ],
   "source": [
    "products.info()"
   ]
  },
  {
   "cell_type": "code",
   "execution_count": 33,
   "metadata": {},
   "outputs": [
    {
     "name": "stdout",
     "output_type": "stream",
     "text": [
      "<class 'pandas.core.frame.DataFrame'>\n",
      "RangeIndex: 99441 entries, 0 to 99440\n",
      "Data columns (total 7 columns):\n",
      " #   Column                         Non-Null Count  Dtype \n",
      "---  ------                         --------------  ----- \n",
      " 0   order_id                       99441 non-null  object\n",
      " 1   customer_id                    99441 non-null  object\n",
      " 2   order_status                   99441 non-null  object\n",
      " 3   order_purchase_timestamp       99441 non-null  object\n",
      " 4   order_approved_at              99281 non-null  object\n",
      " 5   order_delivered_timestamp      96476 non-null  object\n",
      " 6   order_estimated_delivery_date  99441 non-null  object\n",
      "dtypes: object(7)\n",
      "memory usage: 5.3+ MB\n"
     ]
    }
   ],
   "source": [
    "orders_df.info()"
   ]
  },
  {
   "cell_type": "code",
   "execution_count": 35,
   "metadata": {},
   "outputs": [
    {
     "name": "stdout",
     "output_type": "stream",
     "text": [
      "<class 'pandas.core.frame.DataFrame'>\n",
      "RangeIndex: 103886 entries, 0 to 103885\n",
      "Data columns (total 5 columns):\n",
      " #   Column                Non-Null Count   Dtype  \n",
      "---  ------                --------------   -----  \n",
      " 0   order_id              103886 non-null  object \n",
      " 1   payment_sequential    103886 non-null  int64  \n",
      " 2   payment_type          103886 non-null  object \n",
      " 3   payment_installments  103886 non-null  int64  \n",
      " 4   payment_value         103886 non-null  float64\n",
      "dtypes: float64(1), int64(2), object(2)\n",
      "memory usage: 4.0+ MB\n"
     ]
    }
   ],
   "source": [
    "payments_df.info()"
   ]
  },
  {
   "cell_type": "code",
   "execution_count": 36,
   "metadata": {},
   "outputs": [
    {
     "name": "stdout",
     "output_type": "stream",
     "text": [
      "<class 'pandas.core.frame.DataFrame'>\n",
      "RangeIndex: 112650 entries, 0 to 112649\n",
      "Data columns (total 6 columns):\n",
      " #   Column            Non-Null Count   Dtype  \n",
      "---  ------            --------------   -----  \n",
      " 0   order_id          112650 non-null  object \n",
      " 1   order_item_id     112650 non-null  int64  \n",
      " 2   product_id        112650 non-null  object \n",
      " 3   seller_id         112650 non-null  object \n",
      " 4   price             112650 non-null  float64\n",
      " 5   shipping_charges  112650 non-null  float64\n",
      "dtypes: float64(2), int64(1), object(3)\n",
      "memory usage: 5.2+ MB\n"
     ]
    }
   ],
   "source": [
    "order_items_df.info()"
   ]
  },
  {
   "cell_type": "code",
   "execution_count": null,
   "metadata": {},
   "outputs": [],
   "source": [
    "# 자연어 처리 x\n",
    "# 아이템 크게 4가지 항목으로 분류, (ID 별 구매한 아이템 조회, 묶어서 타겟 설정.) #2개 이하 구매한 고객은 학습에서 제외\n",
    "# 지역, price\n",
    "# 바이어 id,\n",
    "# 바이어 itemid \n",
    "# 셀러는 itemid, 바이어id\n",
    "# 바이어id , 셀러id\n",
    "# payment_insallments 할부( 할부 금액에 따른 구매 습관, 지역이 다르지 않을까? )\n",
    "# 구매 요일\n",
    "# "
   ]
  },
  {
   "cell_type": "code",
   "execution_count": null,
   "metadata": {},
   "outputs": [],
   "source": [
    "# quantity\n",
    "# "
   ]
  },
  {
   "cell_type": "code",
   "execution_count": null,
   "metadata": {},
   "outputs": [],
   "source": [
    "# 가설 1\n",
    "# - 이상치\n",
    "# 카테고리별 가격 \n",
    "# 중복값\n",
    "# 해외배송 겸 배송시간\n",
    "# 카테고리 비주류\n",
    "# 반품비용 높은 거 원인관리\n"
   ]
  },
  {
   "cell_type": "code",
   "execution_count": null,
   "metadata": {},
   "outputs": [],
   "source": [
    "from sklearn.cluster import KMeans\n",
    "import seaborn as sns"
   ]
  },
  {
   "cell_type": "markdown",
   "metadata": {},
   "source": []
  },
  {
   "cell_type": "code",
   "execution_count": null,
   "metadata": {},
   "outputs": [],
   "source": [
    "# Weighted_Score를 기반으로 KMeans 클러스터링 수행\n",
    "kmeans = KMeans(n_clusters=2, random_state=42)\n",
    "\n",
    "rfm_df['Final_Cluster'] = kmeans.fit_predict(rfm_df[['Weighted_Score']])\n",
    "\n",
    "# 클러스터링 결과 확인\n",
    "print(rfm_df[['고객ID', 'Weighted_Score', 'Final_Cluster']])"
   ]
  },
  {
   "cell_type": "code",
   "execution_count": null,
   "metadata": {},
   "outputs": [],
   "source": []
  }
 ],
 "metadata": {
  "kernelspec": {
   "display_name": "leo4study",
   "language": "python",
   "name": "python3"
  },
  "language_info": {
   "codemirror_mode": {
    "name": "ipython",
    "version": 3
   },
   "file_extension": ".py",
   "mimetype": "text/x-python",
   "name": "python",
   "nbconvert_exporter": "python",
   "pygments_lexer": "ipython3",
   "version": "3.11.9"
  }
 },
 "nbformat": 4,
 "nbformat_minor": 2
}
