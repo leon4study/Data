{
 "cells": [
  {
   "cell_type": "markdown",
   "id": "3d4de99b-b208-4a6e-85df-7a90582c15b7",
   "metadata": {},
   "source": [
    "##### 필요한 라이브러리 불러오기"
   ]
  },
  {
   "cell_type": "code",
   "execution_count": 216,
   "id": "41aeae1b-4533-4664-98df-475ecbf0c5f8",
   "metadata": {},
   "outputs": [],
   "source": [
    "import pandas as pd\n",
    "import numpy as np\n",
    "import matplotlib.pyplot as plt\n",
    "from sklearn.preprocessing import StandardScaler"
   ]
  },
  {
   "cell_type": "markdown",
   "id": "dc7da348-a7e3-497b-9d09-50f23b268aa6",
   "metadata": {},
   "source": [
    "##### csv파일 업로드"
   ]
  },
  {
   "cell_type": "code",
   "execution_count": 134,
   "id": "f4bb9262-52bd-4898-859e-5de592d8c2fc",
   "metadata": {},
   "outputs": [],
   "source": [
    "orders = pd.read_csv('orders.csv')\n",
    "order_items = pd.read_csv('order_items.csv')\n",
    "products = pd.read_csv('products.csv')\n",
    "payments = pd.read_csv('payments.csv')\n",
    "customers = pd.read_csv('customers.csv')\n",
    "capstone_data_cleaned = pd.read_csv('capstone_data_cleaned.csv')"
   ]
  },
  {
   "cell_type": "markdown",
   "id": "44e08d5d-afc7-4306-8ec2-c253aec9880e",
   "metadata": {},
   "source": [
    "#### orders 주문 테이블"
   ]
  },
  {
   "cell_type": "code",
   "execution_count": 135,
   "id": "833bee94-b60c-4cbb-b023-6f82dba88e37",
   "metadata": {},
   "outputs": [
    {
     "data": {
      "text/html": [
       "<div>\n",
       "<style scoped>\n",
       "    .dataframe tbody tr th:only-of-type {\n",
       "        vertical-align: middle;\n",
       "    }\n",
       "\n",
       "    .dataframe tbody tr th {\n",
       "        vertical-align: top;\n",
       "    }\n",
       "\n",
       "    .dataframe thead th {\n",
       "        text-align: right;\n",
       "    }\n",
       "</style>\n",
       "<table border=\"1\" class=\"dataframe\">\n",
       "  <thead>\n",
       "    <tr style=\"text-align: right;\">\n",
       "      <th></th>\n",
       "      <th>order_id</th>\n",
       "      <th>customer_id</th>\n",
       "      <th>order_status</th>\n",
       "      <th>order_purchase_timestamp</th>\n",
       "      <th>order_approved_at</th>\n",
       "      <th>order_delivered_timestamp</th>\n",
       "      <th>order_estimated_delivery_date</th>\n",
       "    </tr>\n",
       "  </thead>\n",
       "  <tbody>\n",
       "    <tr>\n",
       "      <th>0</th>\n",
       "      <td>e481f51cbdc54678b7cc49136f2d6af7</td>\n",
       "      <td>7c396fd4830fd04220f754e42b4e5bff</td>\n",
       "      <td>delivered</td>\n",
       "      <td>10/2/2017 10:56</td>\n",
       "      <td>10/2/2017 11:07</td>\n",
       "      <td>10/10/2017 21:25</td>\n",
       "      <td>10/18/2017 0:00</td>\n",
       "    </tr>\n",
       "    <tr>\n",
       "      <th>1</th>\n",
       "      <td>53cdb2fc8bc7dce0b6741e2150273451</td>\n",
       "      <td>af07308b275d755c9edb36a90c618231</td>\n",
       "      <td>delivered</td>\n",
       "      <td>7/24/2018 20:41</td>\n",
       "      <td>7/26/2018 3:24</td>\n",
       "      <td>8/7/2018 15:27</td>\n",
       "      <td>8/13/2018 0:00</td>\n",
       "    </tr>\n",
       "    <tr>\n",
       "      <th>2</th>\n",
       "      <td>47770eb9100c2d0c44946d9cf07ec65d</td>\n",
       "      <td>3a653a41f6f9fc3d2a113cf8398680e8</td>\n",
       "      <td>delivered</td>\n",
       "      <td>8/8/2018 8:38</td>\n",
       "      <td>8/8/2018 8:55</td>\n",
       "      <td>8/17/2018 18:06</td>\n",
       "      <td>9/4/2018 0:00</td>\n",
       "    </tr>\n",
       "    <tr>\n",
       "      <th>3</th>\n",
       "      <td>949d5b44dbf5de918fe9c16f97b45f8a</td>\n",
       "      <td>7c142cf63193a1473d2e66489a9ae977</td>\n",
       "      <td>delivered</td>\n",
       "      <td>11/18/2017 19:28</td>\n",
       "      <td>11/18/2017 19:45</td>\n",
       "      <td>12/2/2017 0:28</td>\n",
       "      <td>12/15/2017 0:00</td>\n",
       "    </tr>\n",
       "    <tr>\n",
       "      <th>4</th>\n",
       "      <td>ad21c59c0840e6cb83a9ceb5573f8159</td>\n",
       "      <td>72632f0f9dd73dfee390c9b22eb56dd6</td>\n",
       "      <td>delivered</td>\n",
       "      <td>2/13/2018 21:18</td>\n",
       "      <td>2/13/2018 22:20</td>\n",
       "      <td>2/16/2018 18:17</td>\n",
       "      <td>2/26/2018 0:00</td>\n",
       "    </tr>\n",
       "  </tbody>\n",
       "</table>\n",
       "</div>"
      ],
      "text/plain": [
       "                           order_id                       customer_id  \\\n",
       "0  e481f51cbdc54678b7cc49136f2d6af7  7c396fd4830fd04220f754e42b4e5bff   \n",
       "1  53cdb2fc8bc7dce0b6741e2150273451  af07308b275d755c9edb36a90c618231   \n",
       "2  47770eb9100c2d0c44946d9cf07ec65d  3a653a41f6f9fc3d2a113cf8398680e8   \n",
       "3  949d5b44dbf5de918fe9c16f97b45f8a  7c142cf63193a1473d2e66489a9ae977   \n",
       "4  ad21c59c0840e6cb83a9ceb5573f8159  72632f0f9dd73dfee390c9b22eb56dd6   \n",
       "\n",
       "  order_status order_purchase_timestamp order_approved_at  \\\n",
       "0    delivered          10/2/2017 10:56   10/2/2017 11:07   \n",
       "1    delivered          7/24/2018 20:41    7/26/2018 3:24   \n",
       "2    delivered            8/8/2018 8:38     8/8/2018 8:55   \n",
       "3    delivered         11/18/2017 19:28  11/18/2017 19:45   \n",
       "4    delivered          2/13/2018 21:18   2/13/2018 22:20   \n",
       "\n",
       "  order_delivered_timestamp order_estimated_delivery_date  \n",
       "0          10/10/2017 21:25               10/18/2017 0:00  \n",
       "1            8/7/2018 15:27                8/13/2018 0:00  \n",
       "2           8/17/2018 18:06                 9/4/2018 0:00  \n",
       "3            12/2/2017 0:28               12/15/2017 0:00  \n",
       "4           2/16/2018 18:17                2/26/2018 0:00  "
      ]
     },
     "execution_count": 135,
     "metadata": {},
     "output_type": "execute_result"
    }
   ],
   "source": [
    "orders.head()"
   ]
  },
  {
   "cell_type": "code",
   "execution_count": 136,
   "id": "c30bfa6f-b533-4879-aa54-a7713babd3f7",
   "metadata": {},
   "outputs": [
    {
     "name": "stdout",
     "output_type": "stream",
     "text": [
      "<class 'pandas.core.frame.DataFrame'>\n",
      "RangeIndex: 99441 entries, 0 to 99440\n",
      "Data columns (total 7 columns):\n",
      " #   Column                         Non-Null Count  Dtype \n",
      "---  ------                         --------------  ----- \n",
      " 0   order_id                       99441 non-null  object\n",
      " 1   customer_id                    99441 non-null  object\n",
      " 2   order_status                   99441 non-null  object\n",
      " 3   order_purchase_timestamp       99441 non-null  object\n",
      " 4   order_approved_at              99281 non-null  object\n",
      " 5   order_delivered_timestamp      96476 non-null  object\n",
      " 6   order_estimated_delivery_date  99441 non-null  object\n",
      "dtypes: object(7)\n",
      "memory usage: 5.3+ MB\n"
     ]
    }
   ],
   "source": [
    "orders.info()"
   ]
  },
  {
   "cell_type": "code",
   "execution_count": 137,
   "id": "496b9999-f411-40f9-ae0e-b1b07f579973",
   "metadata": {},
   "outputs": [
    {
     "data": {
      "text/plain": [
       "array(['delivered', 'invoiced', 'shipped', 'processing', 'unavailable',\n",
       "       'canceled', 'created', 'approved'], dtype=object)"
      ]
     },
     "execution_count": 137,
     "metadata": {},
     "output_type": "execute_result"
    }
   ],
   "source": [
    "orders['order_status'].unique()"
   ]
  },
  {
   "cell_type": "markdown",
   "id": "9d7d2f0a-8402-4335-9dae-c3f18cf2b997",
   "metadata": {},
   "source": [
    "#### order_status\n",
    "##### delivered, 고객에게 배송완료된 상태\n",
    "##### invoiced, 주문 청구서 생성(배송 전)\n",
    "##### shipped, 배송 출발\n",
    "##### processing, 주문 처리중\n",
    "##### unavailable,주문 이용불가(재고소진?)\n",
    "##### canceled, 주문 취소\n",
    "##### created, 주문 저장 초기 상태\n",
    "##### approved 주문 승인"
   ]
  },
  {
   "cell_type": "code",
   "execution_count": 138,
   "id": "1ffb339a-0f71-489b-b6b9-7be435b80e18",
   "metadata": {},
   "outputs": [
    {
     "data": {
      "text/plain": [
       "order_id                            0\n",
       "customer_id                         0\n",
       "order_status                        0\n",
       "order_purchase_timestamp            0\n",
       "order_approved_at                 160\n",
       "order_delivered_timestamp        2965\n",
       "order_estimated_delivery_date       0\n",
       "dtype: int64"
      ]
     },
     "execution_count": 138,
     "metadata": {},
     "output_type": "execute_result"
    }
   ],
   "source": [
    "# 결측치 확인\n",
    "orders.isna().sum()"
   ]
  },
  {
   "cell_type": "markdown",
   "id": "bfe90ab9-eba8-43c3-bd90-439df6521491",
   "metadata": {},
   "source": [
    "##### order_approved_at          160 판매자 주문 승인 시점 \n",
    "##### order_delivered_timestamp 2965 고객에게 배송된 시점\n",
    "### order_purchase_timestamp  고객이 주문한 시점 테이블이랑 \n",
    "### order_estimated_delivery_date 예상 배송날짜 테이블이 있으니까 두가지 결측치는 제거함"
   ]
  },
  {
   "cell_type": "code",
   "execution_count": 139,
   "id": "895b7540-9cd9-467d-a80d-38b7ed6db316",
   "metadata": {},
   "outputs": [
    {
     "name": "stdout",
     "output_type": "stream",
     "text": [
      "<class 'pandas.core.frame.DataFrame'>\n",
      "RangeIndex: 99441 entries, 0 to 99440\n",
      "Data columns (total 7 columns):\n",
      " #   Column                         Non-Null Count  Dtype \n",
      "---  ------                         --------------  ----- \n",
      " 0   order_id                       99441 non-null  object\n",
      " 1   customer_id                    99441 non-null  object\n",
      " 2   order_status                   99441 non-null  object\n",
      " 3   order_purchase_timestamp       99441 non-null  object\n",
      " 4   order_approved_at              99281 non-null  object\n",
      " 5   order_delivered_timestamp      96476 non-null  object\n",
      " 6   order_estimated_delivery_date  99441 non-null  object\n",
      "dtypes: object(7)\n",
      "memory usage: 5.3+ MB\n"
     ]
    }
   ],
   "source": [
    "# 결측티 제거 전\n",
    "orders.info()"
   ]
  },
  {
   "cell_type": "code",
   "execution_count": 140,
   "id": "e6330d07-da38-45cc-9161-64e20f88c288",
   "metadata": {},
   "outputs": [
    {
     "name": "stdout",
     "output_type": "stream",
     "text": [
      "<class 'pandas.core.frame.DataFrame'>\n",
      "Index: 96462 entries, 0 to 99440\n",
      "Data columns (total 7 columns):\n",
      " #   Column                         Non-Null Count  Dtype \n",
      "---  ------                         --------------  ----- \n",
      " 0   order_id                       96462 non-null  object\n",
      " 1   customer_id                    96462 non-null  object\n",
      " 2   order_status                   96462 non-null  object\n",
      " 3   order_purchase_timestamp       96462 non-null  object\n",
      " 4   order_approved_at              96462 non-null  object\n",
      " 5   order_delivered_timestamp      96462 non-null  object\n",
      " 6   order_estimated_delivery_date  96462 non-null  object\n",
      "dtypes: object(7)\n",
      "memory usage: 5.9+ MB\n"
     ]
    }
   ],
   "source": [
    "# 결측치 제거\n",
    "orders.dropna(subset=['order_approved_at','order_delivered_timestamp'],inplace=True)\n",
    "orders.info()"
   ]
  },
  {
   "cell_type": "code",
   "execution_count": 141,
   "id": "4de0a3ec-f7d9-4a82-8dfd-a60f28aa66d3",
   "metadata": {},
   "outputs": [
    {
     "name": "stdout",
     "output_type": "stream",
     "text": [
      "3125\n",
      "2979\n",
      "146\n",
      "96462\n"
     ]
    }
   ],
   "source": [
    "# 결측치 합\n",
    "print(2965+160)\n",
    "# 결측치 제거 전 후 수 비교\n",
    "print(99441-96462)\n",
    "# 중복된 결측치\n",
    "print(3125-2979)\n",
    "# 전 - 결측치 = 후\n",
    "print(99441-2979)"
   ]
  },
  {
   "cell_type": "code",
   "execution_count": 142,
   "id": "035d58a0-87c2-401a-b041-9d1478b97073",
   "metadata": {},
   "outputs": [
    {
     "data": {
      "text/plain": [
       "array(['delivered', 'canceled'], dtype=object)"
      ]
     },
     "execution_count": 142,
     "metadata": {},
     "output_type": "execute_result"
    }
   ],
   "source": [
    "# 결측치 제거 후 oreder_status는 두가지만 남음\n",
    "orders['order_status'].unique()"
   ]
  },
  {
   "cell_type": "markdown",
   "id": "2063ef11-6cc7-47ed-bd42-42a19f7d5344",
   "metadata": {},
   "source": [
    "#####\n",
    "order_purchase_timestamp 고객이 주문한 시점\n",
    "order_approved_at 판매자 주문 승인 시점  \n",
    "order_delivered_timestamp 고객에게 배송된 시점\n",
    "order_estimated_delivery_date 예상 배송 날짜"
   ]
  },
  {
   "cell_type": "code",
   "execution_count": 143,
   "id": "8a4fb011-e371-4240-bbd7-0bc1047666b7",
   "metadata": {},
   "outputs": [
    {
     "name": "stdout",
     "output_type": "stream",
     "text": [
      "<class 'pandas.core.frame.DataFrame'>\n",
      "Index: 96462 entries, 0 to 99440\n",
      "Data columns (total 7 columns):\n",
      " #   Column                         Non-Null Count  Dtype         \n",
      "---  ------                         --------------  -----         \n",
      " 0   order_id                       96462 non-null  object        \n",
      " 1   customer_id                    96462 non-null  object        \n",
      " 2   order_status                   96462 non-null  object        \n",
      " 3   order_purchase_timestamp       96462 non-null  datetime64[ns]\n",
      " 4   order_approved_at              96462 non-null  datetime64[ns]\n",
      " 5   order_delivered_timestamp      96462 non-null  datetime64[ns]\n",
      " 6   order_estimated_delivery_date  96462 non-null  datetime64[ns]\n",
      "dtypes: datetime64[ns](4), object(3)\n",
      "memory usage: 5.9+ MB\n"
     ]
    }
   ],
   "source": [
    "# 데이터 형식 바꾸기\n",
    "orders['order_purchase_timestamp'] = pd.to_datetime(orders['order_purchase_timestamp'], errors = 'coerce')\n",
    "orders['order_approved_at'] = pd.to_datetime(orders['order_approved_at'], errors = 'coerce')\n",
    "orders['order_delivered_timestamp'] = pd.to_datetime(orders['order_delivered_timestamp'], errors = 'coerce')\n",
    "orders['order_estimated_delivery_date'] = pd.to_datetime(orders['order_estimated_delivery_date'], errors = 'coerce')\n",
    "# orders['order_status'] = orders['order_status'].astype('object')\n",
    "orders.info()"
   ]
  },
  {
   "cell_type": "code",
   "execution_count": 212,
   "id": "455c044e-83f1-4ebf-82d9-5f3c3ecc7c6d",
   "metadata": {},
   "outputs": [
    {
     "data": {
      "text/html": [
       "<div>\n",
       "<style scoped>\n",
       "    .dataframe tbody tr th:only-of-type {\n",
       "        vertical-align: middle;\n",
       "    }\n",
       "\n",
       "    .dataframe tbody tr th {\n",
       "        vertical-align: top;\n",
       "    }\n",
       "\n",
       "    .dataframe thead th {\n",
       "        text-align: right;\n",
       "    }\n",
       "</style>\n",
       "<table border=\"1\" class=\"dataframe\">\n",
       "  <thead>\n",
       "    <tr style=\"text-align: right;\">\n",
       "      <th></th>\n",
       "      <th>order_purchase_timestamp</th>\n",
       "      <th>order_approved_at</th>\n",
       "      <th>order_delivered_timestamp</th>\n",
       "      <th>order_estimated_delivery_date</th>\n",
       "    </tr>\n",
       "  </thead>\n",
       "  <tbody>\n",
       "    <tr>\n",
       "      <th>count</th>\n",
       "      <td>96462</td>\n",
       "      <td>96462</td>\n",
       "      <td>96462</td>\n",
       "      <td>96462</td>\n",
       "    </tr>\n",
       "    <tr>\n",
       "      <th>mean</th>\n",
       "      <td>2018-01-01 23:51:32.335012864</td>\n",
       "      <td>2018-01-02 10:08:14.744044288</td>\n",
       "      <td>2018-01-14 13:15:50.903153408</td>\n",
       "      <td>2018-01-25 17:32:09.091248384</td>\n",
       "    </tr>\n",
       "    <tr>\n",
       "      <th>min</th>\n",
       "      <td>2016-09-15 12:16:00</td>\n",
       "      <td>2016-09-15 12:16:00</td>\n",
       "      <td>2016-10-11 13:46:00</td>\n",
       "      <td>2016-10-04 00:00:00</td>\n",
       "    </tr>\n",
       "    <tr>\n",
       "      <th>25%</th>\n",
       "      <td>2017-09-14 09:29:15</td>\n",
       "      <td>2017-09-14 14:30:00</td>\n",
       "      <td>2017-09-25 22:31:45</td>\n",
       "      <td>2017-10-05 00:00:00</td>\n",
       "    </tr>\n",
       "    <tr>\n",
       "      <th>50%</th>\n",
       "      <td>2018-01-20 19:56:00</td>\n",
       "      <td>2018-01-22 13:48:30</td>\n",
       "      <td>2018-02-02 19:49:00</td>\n",
       "      <td>2018-02-16 00:00:00</td>\n",
       "    </tr>\n",
       "    <tr>\n",
       "      <th>75%</th>\n",
       "      <td>2018-05-05 18:32:30</td>\n",
       "      <td>2018-05-06 10:30:00</td>\n",
       "      <td>2018-05-15 23:06:45</td>\n",
       "      <td>2018-05-28 00:00:00</td>\n",
       "    </tr>\n",
       "    <tr>\n",
       "      <th>max</th>\n",
       "      <td>2018-08-29 15:00:00</td>\n",
       "      <td>2018-08-29 15:10:00</td>\n",
       "      <td>2018-10-17 13:22:00</td>\n",
       "      <td>2018-10-25 00:00:00</td>\n",
       "    </tr>\n",
       "  </tbody>\n",
       "</table>\n",
       "</div>"
      ],
      "text/plain": [
       "            order_purchase_timestamp              order_approved_at  \\\n",
       "count                          96462                          96462   \n",
       "mean   2018-01-01 23:51:32.335012864  2018-01-02 10:08:14.744044288   \n",
       "min              2016-09-15 12:16:00            2016-09-15 12:16:00   \n",
       "25%              2017-09-14 09:29:15            2017-09-14 14:30:00   \n",
       "50%              2018-01-20 19:56:00            2018-01-22 13:48:30   \n",
       "75%              2018-05-05 18:32:30            2018-05-06 10:30:00   \n",
       "max              2018-08-29 15:00:00            2018-08-29 15:10:00   \n",
       "\n",
       "           order_delivered_timestamp  order_estimated_delivery_date  \n",
       "count                          96462                          96462  \n",
       "mean   2018-01-14 13:15:50.903153408  2018-01-25 17:32:09.091248384  \n",
       "min              2016-10-11 13:46:00            2016-10-04 00:00:00  \n",
       "25%              2017-09-25 22:31:45            2017-10-05 00:00:00  \n",
       "50%              2018-02-02 19:49:00            2018-02-16 00:00:00  \n",
       "75%              2018-05-15 23:06:45            2018-05-28 00:00:00  \n",
       "max              2018-10-17 13:22:00            2018-10-25 00:00:00  "
      ]
     },
     "execution_count": 212,
     "metadata": {},
     "output_type": "execute_result"
    }
   ],
   "source": [
    "orders.describe()"
   ]
  },
  {
   "cell_type": "code",
   "execution_count": 144,
   "id": "5352e108-7877-4d30-87b4-31df340a6033",
   "metadata": {},
   "outputs": [
    {
     "name": "stdout",
     "output_type": "stream",
     "text": [
      "61\n"
     ]
    }
   ],
   "source": [
    "# 날짜 데이터 이상치확인\n",
    "# 역방향이면 이상치로 의심\n",
    "Check_date_outliers = orders[\n",
    "    (orders['order_purchase_timestamp'] > orders['order_approved_at']) |\n",
    "    (orders['order_approved_at'] > orders['order_delivered_timestamp']) \n",
    "]\n",
    "print(len(Check_date_outliers))"
   ]
  },
  {
   "cell_type": "code",
   "execution_count": 145,
   "id": "7202c15d-f044-4fff-85ea-1c12681c5cd8",
   "metadata": {},
   "outputs": [
    {
     "data": {
      "text/html": [
       "<div>\n",
       "<style scoped>\n",
       "    .dataframe tbody tr th:only-of-type {\n",
       "        vertical-align: middle;\n",
       "    }\n",
       "\n",
       "    .dataframe tbody tr th {\n",
       "        vertical-align: top;\n",
       "    }\n",
       "\n",
       "    .dataframe thead th {\n",
       "        text-align: right;\n",
       "    }\n",
       "</style>\n",
       "<table border=\"1\" class=\"dataframe\">\n",
       "  <thead>\n",
       "    <tr style=\"text-align: right;\">\n",
       "      <th></th>\n",
       "      <th>199</th>\n",
       "      <th>483</th>\n",
       "      <th>1986</th>\n",
       "      <th>3659</th>\n",
       "      <th>11738</th>\n",
       "    </tr>\n",
       "  </thead>\n",
       "  <tbody>\n",
       "    <tr>\n",
       "      <th>order_id</th>\n",
       "      <td>58d4c4747ee059eeeb865b349b41f53a</td>\n",
       "      <td>4df92d82d79c3b52c7138679fa9b07fc</td>\n",
       "      <td>6e57e23ecac1ae881286657694444267</td>\n",
       "      <td>f222c56f035b47dfa1e069a88235d730</td>\n",
       "      <td>cf72398d0690f841271b695bbfda82d2</td>\n",
       "    </tr>\n",
       "    <tr>\n",
       "      <th>customer_id</th>\n",
       "      <td>a5314ac290a8b141491e987ae37aa7cc</td>\n",
       "      <td>cd2624b9b75d83efb640f7204232511e</td>\n",
       "      <td>71692b73230707ce0f95d8a6091c22b4</td>\n",
       "      <td>398957fce766920db4c4b206d7c9aa85</td>\n",
       "      <td>0a230b3fdaae7f47c5a5c39a4b73a340</td>\n",
       "    </tr>\n",
       "    <tr>\n",
       "      <th>order_status</th>\n",
       "      <td>delivered</td>\n",
       "      <td>delivered</td>\n",
       "      <td>delivered</td>\n",
       "      <td>delivered</td>\n",
       "      <td>delivered</td>\n",
       "    </tr>\n",
       "    <tr>\n",
       "      <th>order_purchase_timestamp</th>\n",
       "      <td>2018-07-21 12:49:00</td>\n",
       "      <td>2018-07-24 11:32:00</td>\n",
       "      <td>2018-08-09 17:36:00</td>\n",
       "      <td>2018-01-30 09:43:00</td>\n",
       "      <td>2017-09-01 18:45:00</td>\n",
       "    </tr>\n",
       "    <tr>\n",
       "      <th>order_approved_at</th>\n",
       "      <td>2018-07-26 23:31:00</td>\n",
       "      <td>2018-07-29 23:30:00</td>\n",
       "      <td>2018-08-20 15:55:00</td>\n",
       "      <td>2018-02-04 23:31:00</td>\n",
       "      <td>2017-09-13 22:04:00</td>\n",
       "    </tr>\n",
       "    <tr>\n",
       "      <th>order_delivered_timestamp</th>\n",
       "      <td>2018-07-25 23:58:00</td>\n",
       "      <td>2018-07-27 18:55:00</td>\n",
       "      <td>2018-08-17 16:45:00</td>\n",
       "      <td>2018-02-01 20:10:00</td>\n",
       "      <td>2017-09-11 14:15:00</td>\n",
       "    </tr>\n",
       "    <tr>\n",
       "      <th>order_estimated_delivery_date</th>\n",
       "      <td>2018-07-31 00:00:00</td>\n",
       "      <td>2018-08-06 00:00:00</td>\n",
       "      <td>2018-09-06 00:00:00</td>\n",
       "      <td>2018-02-15 00:00:00</td>\n",
       "      <td>2017-09-21 00:00:00</td>\n",
       "    </tr>\n",
       "  </tbody>\n",
       "</table>\n",
       "</div>"
      ],
      "text/plain": [
       "                                                          199    \\\n",
       "order_id                       58d4c4747ee059eeeb865b349b41f53a   \n",
       "customer_id                    a5314ac290a8b141491e987ae37aa7cc   \n",
       "order_status                                          delivered   \n",
       "order_purchase_timestamp                    2018-07-21 12:49:00   \n",
       "order_approved_at                           2018-07-26 23:31:00   \n",
       "order_delivered_timestamp                   2018-07-25 23:58:00   \n",
       "order_estimated_delivery_date               2018-07-31 00:00:00   \n",
       "\n",
       "                                                          483    \\\n",
       "order_id                       4df92d82d79c3b52c7138679fa9b07fc   \n",
       "customer_id                    cd2624b9b75d83efb640f7204232511e   \n",
       "order_status                                          delivered   \n",
       "order_purchase_timestamp                    2018-07-24 11:32:00   \n",
       "order_approved_at                           2018-07-29 23:30:00   \n",
       "order_delivered_timestamp                   2018-07-27 18:55:00   \n",
       "order_estimated_delivery_date               2018-08-06 00:00:00   \n",
       "\n",
       "                                                          1986   \\\n",
       "order_id                       6e57e23ecac1ae881286657694444267   \n",
       "customer_id                    71692b73230707ce0f95d8a6091c22b4   \n",
       "order_status                                          delivered   \n",
       "order_purchase_timestamp                    2018-08-09 17:36:00   \n",
       "order_approved_at                           2018-08-20 15:55:00   \n",
       "order_delivered_timestamp                   2018-08-17 16:45:00   \n",
       "order_estimated_delivery_date               2018-09-06 00:00:00   \n",
       "\n",
       "                                                          3659   \\\n",
       "order_id                       f222c56f035b47dfa1e069a88235d730   \n",
       "customer_id                    398957fce766920db4c4b206d7c9aa85   \n",
       "order_status                                          delivered   \n",
       "order_purchase_timestamp                    2018-01-30 09:43:00   \n",
       "order_approved_at                           2018-02-04 23:31:00   \n",
       "order_delivered_timestamp                   2018-02-01 20:10:00   \n",
       "order_estimated_delivery_date               2018-02-15 00:00:00   \n",
       "\n",
       "                                                          11738  \n",
       "order_id                       cf72398d0690f841271b695bbfda82d2  \n",
       "customer_id                    0a230b3fdaae7f47c5a5c39a4b73a340  \n",
       "order_status                                          delivered  \n",
       "order_purchase_timestamp                    2017-09-01 18:45:00  \n",
       "order_approved_at                           2017-09-13 22:04:00  \n",
       "order_delivered_timestamp                   2017-09-11 14:15:00  \n",
       "order_estimated_delivery_date               2017-09-21 00:00:00  "
      ]
     },
     "execution_count": 145,
     "metadata": {},
     "output_type": "execute_result"
    }
   ],
   "source": [
    "# 이상치 의심 데이터 확인\n",
    "Check_date_outliers.head().T"
   ]
  },
  {
   "cell_type": "code",
   "execution_count": 146,
   "id": "0cdef2c9-ba79-471d-9da1-ee6610bd44ce",
   "metadata": {},
   "outputs": [
    {
     "name": "stdout",
     "output_type": "stream",
     "text": [
      "0\n",
      "61\n"
     ]
    }
   ],
   "source": [
    "# 날짜 데이터 이상치 의심 더 쪼개기\n",
    "a =Check_date_outliers[Check_date_outliers['order_purchase_timestamp'] > Check_date_outliers['order_approved_at']]\n",
    "b =Check_date_outliers[Check_date_outliers['order_approved_at'] > Check_date_outliers['order_delivered_timestamp']]\n",
    "# c =Check_date_outliers[Check_date_outliers['order_delivered_timestamp'] < Check_date_outliers['order_estimated_delivery_date']]\n",
    "# c 배송된 시점보다 예상 배송날짜가 빠를 수도 있음으로 이상치의심에 넣지않음\n",
    "print(len(a)) # 고객주문 시점보다 판매자 주문 승인 시점이 빠른 경우\n",
    "print(len(b)) # 판매자 승인 시점보다 배송된 시점이 빠른 경우 \n",
    "# print(len(c)) # 배송된 시점보다 예상 배송 날짜가 빠른 경우"
   ]
  },
  {
   "cell_type": "code",
   "execution_count": 147,
   "id": "c9b2ac65-bcbf-488c-98c7-3b977f1bd30b",
   "metadata": {},
   "outputs": [
    {
     "name": "stdout",
     "output_type": "stream",
     "text": [
      "61\n"
     ]
    }
   ],
   "source": [
    "delivered_b = b[b['order_status'] == 'delivered']\n",
    "print(len(delivered_b))\n",
    "# b 판매자 승인시점보다 배송된 시점이 빨라도 결론적으로 배송완료 상태라서 이상치가 아님"
   ]
  },
  {
   "cell_type": "code",
   "execution_count": 177,
   "id": "297e6941-cbaf-4e86-9887-106f12b7ea0c",
   "metadata": {},
   "outputs": [
    {
     "data": {
      "text/html": [
       "<div>\n",
       "<style scoped>\n",
       "    .dataframe tbody tr th:only-of-type {\n",
       "        vertical-align: middle;\n",
       "    }\n",
       "\n",
       "    .dataframe tbody tr th {\n",
       "        vertical-align: top;\n",
       "    }\n",
       "\n",
       "    .dataframe thead th {\n",
       "        text-align: right;\n",
       "    }\n",
       "</style>\n",
       "<table border=\"1\" class=\"dataframe\">\n",
       "  <thead>\n",
       "    <tr style=\"text-align: right;\">\n",
       "      <th></th>\n",
       "      <th>date_diff_a</th>\n",
       "      <th>date_diff_b</th>\n",
       "      <th>date_diff_c</th>\n",
       "    </tr>\n",
       "  </thead>\n",
       "  <tbody>\n",
       "    <tr>\n",
       "      <th>0</th>\n",
       "      <td>0</td>\n",
       "      <td>8</td>\n",
       "      <td>7</td>\n",
       "    </tr>\n",
       "    <tr>\n",
       "      <th>1</th>\n",
       "      <td>1</td>\n",
       "      <td>12</td>\n",
       "      <td>5</td>\n",
       "    </tr>\n",
       "    <tr>\n",
       "      <th>2</th>\n",
       "      <td>0</td>\n",
       "      <td>9</td>\n",
       "      <td>17</td>\n",
       "    </tr>\n",
       "    <tr>\n",
       "      <th>3</th>\n",
       "      <td>0</td>\n",
       "      <td>13</td>\n",
       "      <td>12</td>\n",
       "    </tr>\n",
       "    <tr>\n",
       "      <th>4</th>\n",
       "      <td>0</td>\n",
       "      <td>2</td>\n",
       "      <td>9</td>\n",
       "    </tr>\n",
       "    <tr>\n",
       "      <th>...</th>\n",
       "      <td>...</td>\n",
       "      <td>...</td>\n",
       "      <td>...</td>\n",
       "    </tr>\n",
       "    <tr>\n",
       "      <th>99436</th>\n",
       "      <td>0</td>\n",
       "      <td>8</td>\n",
       "      <td>10</td>\n",
       "    </tr>\n",
       "    <tr>\n",
       "      <th>99437</th>\n",
       "      <td>0</td>\n",
       "      <td>22</td>\n",
       "      <td>1</td>\n",
       "    </tr>\n",
       "    <tr>\n",
       "      <th>99438</th>\n",
       "      <td>0</td>\n",
       "      <td>24</td>\n",
       "      <td>5</td>\n",
       "    </tr>\n",
       "    <tr>\n",
       "      <th>99439</th>\n",
       "      <td>0</td>\n",
       "      <td>17</td>\n",
       "      <td>20</td>\n",
       "    </tr>\n",
       "    <tr>\n",
       "      <th>99440</th>\n",
       "      <td>0</td>\n",
       "      <td>7</td>\n",
       "      <td>17</td>\n",
       "    </tr>\n",
       "  </tbody>\n",
       "</table>\n",
       "<p>96462 rows × 3 columns</p>\n",
       "</div>"
      ],
      "text/plain": [
       "       date_diff_a  date_diff_b  date_diff_c\n",
       "0                0            8            7\n",
       "1                1           12            5\n",
       "2                0            9           17\n",
       "3                0           13           12\n",
       "4                0            2            9\n",
       "...            ...          ...          ...\n",
       "99436            0            8           10\n",
       "99437            0           22            1\n",
       "99438            0           24            5\n",
       "99439            0           17           20\n",
       "99440            0            7           17\n",
       "\n",
       "[96462 rows x 3 columns]"
      ]
     },
     "execution_count": 177,
     "metadata": {},
     "output_type": "execute_result"
    }
   ],
   "source": [
    "# 멀리 떨어진 날짜 간격 확인\n",
    "date = pd.DataFrame({\n",
    "    'date_diff_a':(orders['order_approved_at']- orders['order_purchase_timestamp']).dt.days,\n",
    "    'date_diff_b': (orders['order_delivered_timestamp']- orders['order_approved_at']).dt.days,\n",
    "    'date_diff_c': (orders['order_estimated_delivery_date']- orders['order_delivered_timestamp']).dt.days\n",
    "})\n",
    "date"
   ]
  },
  {
   "cell_type": "code",
   "execution_count": 179,
   "id": "4f94a012-52a9-4de4-b80e-56cf96ac26ca",
   "metadata": {},
   "outputs": [
    {
     "data": {
      "text/html": [
       "<div>\n",
       "<style scoped>\n",
       "    .dataframe tbody tr th:only-of-type {\n",
       "        vertical-align: middle;\n",
       "    }\n",
       "\n",
       "    .dataframe tbody tr th {\n",
       "        vertical-align: top;\n",
       "    }\n",
       "\n",
       "    .dataframe thead th {\n",
       "        text-align: right;\n",
       "    }\n",
       "</style>\n",
       "<table border=\"1\" class=\"dataframe\">\n",
       "  <thead>\n",
       "    <tr style=\"text-align: right;\">\n",
       "      <th></th>\n",
       "      <th>order_id</th>\n",
       "      <th>customer_id</th>\n",
       "      <th>order_status</th>\n",
       "      <th>order_purchase_timestamp</th>\n",
       "      <th>order_approved_at</th>\n",
       "      <th>order_delivered_timestamp</th>\n",
       "      <th>order_estimated_delivery_date</th>\n",
       "      <th>date_diff_a</th>\n",
       "      <th>date_diff_b</th>\n",
       "      <th>date_diff_c</th>\n",
       "    </tr>\n",
       "  </thead>\n",
       "  <tbody>\n",
       "    <tr>\n",
       "      <th>0</th>\n",
       "      <td>e481f51cbdc54678b7cc49136f2d6af7</td>\n",
       "      <td>7c396fd4830fd04220f754e42b4e5bff</td>\n",
       "      <td>delivered</td>\n",
       "      <td>2017-10-02 10:56:00</td>\n",
       "      <td>2017-10-02 11:07:00</td>\n",
       "      <td>2017-10-10 21:25:00</td>\n",
       "      <td>2017-10-18</td>\n",
       "      <td>0</td>\n",
       "      <td>8</td>\n",
       "      <td>7</td>\n",
       "    </tr>\n",
       "    <tr>\n",
       "      <th>1</th>\n",
       "      <td>53cdb2fc8bc7dce0b6741e2150273451</td>\n",
       "      <td>af07308b275d755c9edb36a90c618231</td>\n",
       "      <td>delivered</td>\n",
       "      <td>2018-07-24 20:41:00</td>\n",
       "      <td>2018-07-26 03:24:00</td>\n",
       "      <td>2018-08-07 15:27:00</td>\n",
       "      <td>2018-08-13</td>\n",
       "      <td>1</td>\n",
       "      <td>12</td>\n",
       "      <td>5</td>\n",
       "    </tr>\n",
       "    <tr>\n",
       "      <th>2</th>\n",
       "      <td>47770eb9100c2d0c44946d9cf07ec65d</td>\n",
       "      <td>3a653a41f6f9fc3d2a113cf8398680e8</td>\n",
       "      <td>delivered</td>\n",
       "      <td>2018-08-08 08:38:00</td>\n",
       "      <td>2018-08-08 08:55:00</td>\n",
       "      <td>2018-08-17 18:06:00</td>\n",
       "      <td>2018-09-04</td>\n",
       "      <td>0</td>\n",
       "      <td>9</td>\n",
       "      <td>17</td>\n",
       "    </tr>\n",
       "    <tr>\n",
       "      <th>3</th>\n",
       "      <td>949d5b44dbf5de918fe9c16f97b45f8a</td>\n",
       "      <td>7c142cf63193a1473d2e66489a9ae977</td>\n",
       "      <td>delivered</td>\n",
       "      <td>2017-11-18 19:28:00</td>\n",
       "      <td>2017-11-18 19:45:00</td>\n",
       "      <td>2017-12-02 00:28:00</td>\n",
       "      <td>2017-12-15</td>\n",
       "      <td>0</td>\n",
       "      <td>13</td>\n",
       "      <td>12</td>\n",
       "    </tr>\n",
       "    <tr>\n",
       "      <th>4</th>\n",
       "      <td>ad21c59c0840e6cb83a9ceb5573f8159</td>\n",
       "      <td>72632f0f9dd73dfee390c9b22eb56dd6</td>\n",
       "      <td>delivered</td>\n",
       "      <td>2018-02-13 21:18:00</td>\n",
       "      <td>2018-02-13 22:20:00</td>\n",
       "      <td>2018-02-16 18:17:00</td>\n",
       "      <td>2018-02-26</td>\n",
       "      <td>0</td>\n",
       "      <td>2</td>\n",
       "      <td>9</td>\n",
       "    </tr>\n",
       "    <tr>\n",
       "      <th>...</th>\n",
       "      <td>...</td>\n",
       "      <td>...</td>\n",
       "      <td>...</td>\n",
       "      <td>...</td>\n",
       "      <td>...</td>\n",
       "      <td>...</td>\n",
       "      <td>...</td>\n",
       "      <td>...</td>\n",
       "      <td>...</td>\n",
       "      <td>...</td>\n",
       "    </tr>\n",
       "    <tr>\n",
       "      <th>99436</th>\n",
       "      <td>9c5dedf39a927c1b2549525ed64a053c</td>\n",
       "      <td>6359f309b166b0196dbf7ad2ac62bb5a</td>\n",
       "      <td>delivered</td>\n",
       "      <td>2017-03-09 09:54:00</td>\n",
       "      <td>2017-03-09 09:54:00</td>\n",
       "      <td>2017-03-17 15:08:00</td>\n",
       "      <td>2017-03-28</td>\n",
       "      <td>0</td>\n",
       "      <td>8</td>\n",
       "      <td>10</td>\n",
       "    </tr>\n",
       "    <tr>\n",
       "      <th>99437</th>\n",
       "      <td>63943bddc261676b46f01ca7ac2f7bd8</td>\n",
       "      <td>da62f9e57a76d978d02ab5362c509660</td>\n",
       "      <td>delivered</td>\n",
       "      <td>2018-02-06 12:58:00</td>\n",
       "      <td>2018-02-06 13:10:00</td>\n",
       "      <td>2018-02-28 17:37:00</td>\n",
       "      <td>2018-03-02</td>\n",
       "      <td>0</td>\n",
       "      <td>22</td>\n",
       "      <td>1</td>\n",
       "    </tr>\n",
       "    <tr>\n",
       "      <th>99438</th>\n",
       "      <td>83c1379a015df1e13d02aae0204711ab</td>\n",
       "      <td>737520a9aad80b3fbbdad19b66b37b30</td>\n",
       "      <td>delivered</td>\n",
       "      <td>2017-08-27 14:46:00</td>\n",
       "      <td>2017-08-27 15:04:00</td>\n",
       "      <td>2017-09-21 11:24:00</td>\n",
       "      <td>2017-09-27</td>\n",
       "      <td>0</td>\n",
       "      <td>24</td>\n",
       "      <td>5</td>\n",
       "    </tr>\n",
       "    <tr>\n",
       "      <th>99439</th>\n",
       "      <td>11c177c8e97725db2631073c19f07b62</td>\n",
       "      <td>5097a5312c8b157bb7be58ae360ef43c</td>\n",
       "      <td>delivered</td>\n",
       "      <td>2018-01-08 21:28:00</td>\n",
       "      <td>2018-01-08 21:36:00</td>\n",
       "      <td>2018-01-25 23:32:00</td>\n",
       "      <td>2018-02-15</td>\n",
       "      <td>0</td>\n",
       "      <td>17</td>\n",
       "      <td>20</td>\n",
       "    </tr>\n",
       "    <tr>\n",
       "      <th>99440</th>\n",
       "      <td>66dea50a8b16d9b4dee7af250b4be1a5</td>\n",
       "      <td>60350aa974b26ff12caad89e55993bd6</td>\n",
       "      <td>delivered</td>\n",
       "      <td>2018-03-08 20:57:00</td>\n",
       "      <td>2018-03-09 11:20:00</td>\n",
       "      <td>2018-03-16 13:08:00</td>\n",
       "      <td>2018-04-03</td>\n",
       "      <td>0</td>\n",
       "      <td>7</td>\n",
       "      <td>17</td>\n",
       "    </tr>\n",
       "  </tbody>\n",
       "</table>\n",
       "<p>96462 rows × 10 columns</p>\n",
       "</div>"
      ],
      "text/plain": [
       "                               order_id                       customer_id  \\\n",
       "0      e481f51cbdc54678b7cc49136f2d6af7  7c396fd4830fd04220f754e42b4e5bff   \n",
       "1      53cdb2fc8bc7dce0b6741e2150273451  af07308b275d755c9edb36a90c618231   \n",
       "2      47770eb9100c2d0c44946d9cf07ec65d  3a653a41f6f9fc3d2a113cf8398680e8   \n",
       "3      949d5b44dbf5de918fe9c16f97b45f8a  7c142cf63193a1473d2e66489a9ae977   \n",
       "4      ad21c59c0840e6cb83a9ceb5573f8159  72632f0f9dd73dfee390c9b22eb56dd6   \n",
       "...                                 ...                               ...   \n",
       "99436  9c5dedf39a927c1b2549525ed64a053c  6359f309b166b0196dbf7ad2ac62bb5a   \n",
       "99437  63943bddc261676b46f01ca7ac2f7bd8  da62f9e57a76d978d02ab5362c509660   \n",
       "99438  83c1379a015df1e13d02aae0204711ab  737520a9aad80b3fbbdad19b66b37b30   \n",
       "99439  11c177c8e97725db2631073c19f07b62  5097a5312c8b157bb7be58ae360ef43c   \n",
       "99440  66dea50a8b16d9b4dee7af250b4be1a5  60350aa974b26ff12caad89e55993bd6   \n",
       "\n",
       "      order_status order_purchase_timestamp   order_approved_at  \\\n",
       "0        delivered      2017-10-02 10:56:00 2017-10-02 11:07:00   \n",
       "1        delivered      2018-07-24 20:41:00 2018-07-26 03:24:00   \n",
       "2        delivered      2018-08-08 08:38:00 2018-08-08 08:55:00   \n",
       "3        delivered      2017-11-18 19:28:00 2017-11-18 19:45:00   \n",
       "4        delivered      2018-02-13 21:18:00 2018-02-13 22:20:00   \n",
       "...            ...                      ...                 ...   \n",
       "99436    delivered      2017-03-09 09:54:00 2017-03-09 09:54:00   \n",
       "99437    delivered      2018-02-06 12:58:00 2018-02-06 13:10:00   \n",
       "99438    delivered      2017-08-27 14:46:00 2017-08-27 15:04:00   \n",
       "99439    delivered      2018-01-08 21:28:00 2018-01-08 21:36:00   \n",
       "99440    delivered      2018-03-08 20:57:00 2018-03-09 11:20:00   \n",
       "\n",
       "      order_delivered_timestamp order_estimated_delivery_date  date_diff_a  \\\n",
       "0           2017-10-10 21:25:00                    2017-10-18            0   \n",
       "1           2018-08-07 15:27:00                    2018-08-13            1   \n",
       "2           2018-08-17 18:06:00                    2018-09-04            0   \n",
       "3           2017-12-02 00:28:00                    2017-12-15            0   \n",
       "4           2018-02-16 18:17:00                    2018-02-26            0   \n",
       "...                         ...                           ...          ...   \n",
       "99436       2017-03-17 15:08:00                    2017-03-28            0   \n",
       "99437       2018-02-28 17:37:00                    2018-03-02            0   \n",
       "99438       2017-09-21 11:24:00                    2017-09-27            0   \n",
       "99439       2018-01-25 23:32:00                    2018-02-15            0   \n",
       "99440       2018-03-16 13:08:00                    2018-04-03            0   \n",
       "\n",
       "       date_diff_b  date_diff_c  \n",
       "0                8            7  \n",
       "1               12            5  \n",
       "2                9           17  \n",
       "3               13           12  \n",
       "4                2            9  \n",
       "...            ...          ...  \n",
       "99436            8           10  \n",
       "99437           22            1  \n",
       "99438           24            5  \n",
       "99439           17           20  \n",
       "99440            7           17  \n",
       "\n",
       "[96462 rows x 10 columns]"
      ]
     },
     "execution_count": 179,
     "metadata": {},
     "output_type": "execute_result"
    }
   ],
   "source": [
    "orders_date = pd.concat([orders, date], axis=1)\n",
    "orders_date"
   ]
  },
  {
   "cell_type": "code",
   "execution_count": 196,
   "id": "6309b2c3-ebc7-47bc-9f32-9830ba31cbe9",
   "metadata": {},
   "outputs": [
    {
     "data": {
      "text/html": [
       "<div>\n",
       "<style scoped>\n",
       "    .dataframe tbody tr th:only-of-type {\n",
       "        vertical-align: middle;\n",
       "    }\n",
       "\n",
       "    .dataframe tbody tr th {\n",
       "        vertical-align: top;\n",
       "    }\n",
       "\n",
       "    .dataframe thead th {\n",
       "        text-align: right;\n",
       "    }\n",
       "</style>\n",
       "<table border=\"1\" class=\"dataframe\">\n",
       "  <thead>\n",
       "    <tr style=\"text-align: right;\">\n",
       "      <th></th>\n",
       "      <th>date_diff_a</th>\n",
       "      <th>order_status</th>\n",
       "    </tr>\n",
       "  </thead>\n",
       "  <tbody>\n",
       "  </tbody>\n",
       "</table>\n",
       "</div>"
      ],
      "text/plain": [
       "Empty DataFrame\n",
       "Columns: [date_diff_a, order_status]\n",
       "Index: []"
      ]
     },
     "execution_count": 196,
     "metadata": {},
     "output_type": "execute_result"
    }
   ],
   "source": [
    "orders_date[(orders_date['date_diff_a'] < 0) & (orders_date['order_status'] != 'delivered')][['date_diff_a','order_status']]"
   ]
  },
  {
   "cell_type": "code",
   "execution_count": 278,
   "id": "7bbd64ec-ced4-4fdc-adc4-46442e785c94",
   "metadata": {},
   "outputs": [
    {
     "data": {
      "text/html": [
       "<div>\n",
       "<style scoped>\n",
       "    .dataframe tbody tr th:only-of-type {\n",
       "        vertical-align: middle;\n",
       "    }\n",
       "\n",
       "    .dataframe tbody tr th {\n",
       "        vertical-align: top;\n",
       "    }\n",
       "\n",
       "    .dataframe thead th {\n",
       "        text-align: right;\n",
       "    }\n",
       "</style>\n",
       "<table border=\"1\" class=\"dataframe\">\n",
       "  <thead>\n",
       "    <tr style=\"text-align: right;\">\n",
       "      <th></th>\n",
       "      <th>date_diff_b</th>\n",
       "      <th>order_status</th>\n",
       "      <th>order_approved_at</th>\n",
       "      <th>order_delivered_timestamp</th>\n",
       "    </tr>\n",
       "  </thead>\n",
       "  <tbody>\n",
       "  </tbody>\n",
       "</table>\n",
       "</div>"
      ],
      "text/plain": [
       "Empty DataFrame\n",
       "Columns: [date_diff_b, order_status, order_approved_at, order_delivered_timestamp]\n",
       "Index: []"
      ]
     },
     "execution_count": 278,
     "metadata": {},
     "output_type": "execute_result"
    }
   ],
   "source": [
    "orders_date[(orders_date['date_diff_b'] < 0) & (orders_date['order_status'] != 'delivered')][['date_diff_b','order_status','order_approved_at','order_delivered_timestamp']]"
   ]
  },
  {
   "cell_type": "code",
   "execution_count": 279,
   "id": "9b95a04b-2668-4c01-bed5-4ac0f371da31",
   "metadata": {},
   "outputs": [
    {
     "data": {
      "text/html": [
       "<div>\n",
       "<style scoped>\n",
       "    .dataframe tbody tr th:only-of-type {\n",
       "        vertical-align: middle;\n",
       "    }\n",
       "\n",
       "    .dataframe tbody tr th {\n",
       "        vertical-align: top;\n",
       "    }\n",
       "\n",
       "    .dataframe thead th {\n",
       "        text-align: right;\n",
       "    }\n",
       "</style>\n",
       "<table border=\"1\" class=\"dataframe\">\n",
       "  <thead>\n",
       "    <tr style=\"text-align: right;\">\n",
       "      <th></th>\n",
       "      <th>order_id</th>\n",
       "      <th>date_diff_c</th>\n",
       "      <th>order_status</th>\n",
       "      <th>order_delivered_timestamp</th>\n",
       "      <th>order_estimated_delivery_date</th>\n",
       "    </tr>\n",
       "  </thead>\n",
       "  <tbody>\n",
       "    <tr>\n",
       "      <th>2921</th>\n",
       "      <td>1950d777989f6a877539f53795b4c3c3</td>\n",
       "      <td>-13</td>\n",
       "      <td>canceled</td>\n",
       "      <td>2018-03-21 22:03:00</td>\n",
       "      <td>2018-03-09</td>\n",
       "    </tr>\n",
       "  </tbody>\n",
       "</table>\n",
       "</div>"
      ],
      "text/plain": [
       "                              order_id  date_diff_c order_status  \\\n",
       "2921  1950d777989f6a877539f53795b4c3c3          -13     canceled   \n",
       "\n",
       "     order_delivered_timestamp order_estimated_delivery_date  \n",
       "2921       2018-03-21 22:03:00                    2018-03-09  "
      ]
     },
     "execution_count": 279,
     "metadata": {},
     "output_type": "execute_result"
    }
   ],
   "source": [
    "orders_date[(orders_date['date_diff_c'] < 0) & (orders_date['order_status'] != 'delivered')][['order_id','date_diff_c','order_status','order_delivered_timestamp','order_estimated_delivery_date']]"
   ]
  },
  {
   "cell_type": "code",
   "execution_count": 195,
   "id": "033da74b-3836-493e-a7ff-1bf9dd2fe30f",
   "metadata": {},
   "outputs": [
    {
     "data": {
      "image/png": "[encoded data removed]",
      "text/plain": [
       "<Figure size 640x480 with 1 Axes>"
      ]
     },
     "metadata": {},
     "output_type": "display_data"
    }
   ],
   "source": [
    "# 날짜 시각화\n",
    "data = [orders_date['date_diff_a'].tolist(),\n",
    "        orders_date['date_diff_b'].tolist(),\n",
    "        orders_date['date_diff_c'].tolist(),\n",
    "       ]\n",
    "plt.boxplot(data)\n",
    "plt.xticks([1,2,3],['date_diff_a','date_diff_b','date_diff_c'])\n",
    "plt.ylabel('days')\n",
    "plt.show()"
   ]
  },
  {
   "cell_type": "markdown",
   "id": "39c3ea6f-b641-4530-be76-d4d12cafc659",
   "metadata": {},
   "source": [
    "##### date_diff_c가 음수값이 많지만 2921번 빼고는 다 order_status가 deliverd로 되어있음\n",
    "따라서 이상치로 보지않음"
   ]
  },
  {
   "cell_type": "markdown",
   "id": "a2eb0e4d-c0f1-4b57-ba51-5d80a1222176",
   "metadata": {},
   "source": [
    "### 🚨 날짜 데이터 이상치 없음"
   ]
  },
  {
   "cell_type": "code",
   "execution_count": null,
   "id": "28ca891a-e5e8-4613-96a3-d4b01abc484a",
   "metadata": {},
   "outputs": [],
   "source": []
  }
 ],
 "metadata": {
  "kernelspec": {
   "display_name": "Python 3 (ipykernel)",
   "language": "python",
   "name": "python3"
  },
  "language_info": {
   "codemirror_mode": {
    "name": "ipython",
    "version": 3
   },
   "file_extension": ".py",
   "mimetype": "text/x-python",
   "name": "python",
   "nbconvert_exporter": "python",
   "pygments_lexer": "ipython3",
   "version": "3.12.7"
  }
 },
 "nbformat": 4,
 "nbformat_minor": 5
}
